{
 "cells": [
  {
   "cell_type": "code",
   "execution_count": null,
   "id": "d8493be7",
   "metadata": {},
   "outputs": [
    {
     "ename": "",
     "evalue": "",
     "output_type": "error",
     "traceback": [
      "\u001b[1;31m无法启动 Jupyter。试图定位jupyter时出错：选择一个解释器来启动 Jupyter\n",
      "Run the following command to install 'jupyter 和 notebook' into the Python environment. \n",
      "Command: 'python -m pip install jupyter notebook -U\n",
      "or\n",
      "conda install jupyter notebook -U'\n",
      "Click <a href='https://aka.ms/installJupyterForVSCode'>here</a> for more info."
     ]
    }
   ],
   "source": [
    "import cv2,os\n",
    "import numpy as np\n",
    "from matplotlib import pyplot as plt\n",
    "from tqdm import tqdm\n",
    "from mpl_toolkits.mplot3d import Axes3D\n",
    "from matplotlib import cm\n",
    "from matplotlib.ticker import LinearLocator, FormatStrFormatter"
   ]
  },
  {
   "cell_type": "code",
   "execution_count": null,
   "id": "979157c5",
   "metadata": {},
   "outputs": [
    {
     "ename": "",
     "evalue": "",
     "output_type": "error",
     "traceback": [
      "\u001b[1;31m无法启动 Jupyter。试图定位jupyter时出错：选择一个解释器来启动 Jupyter\n",
      "Run the following command to install 'jupyter 和 notebook' into the Python environment. \n",
      "Command: 'python -m pip install jupyter notebook -U\n",
      "or\n",
      "conda install jupyter notebook -U'\n",
      "Click <a href='https://aka.ms/installJupyterForVSCode'>here</a> for more info."
     ]
    }
   ],
   "source": [
    "%ls"
   ]
  },
  {
   "cell_type": "code",
   "execution_count": null,
   "id": "b89a0393",
   "metadata": {},
   "outputs": [
    {
     "ename": "",
     "evalue": "",
     "output_type": "error",
     "traceback": [
      "\u001b[1;31m无法启动 Jupyter。试图定位jupyter时出错：选择一个解释器来启动 Jupyter\n",
      "Run the following command to install 'jupyter 和 notebook' into the Python environment. \n",
      "Command: 'python -m pip install jupyter notebook -U\n",
      "or\n",
      "conda install jupyter notebook -U'\n",
      "Click <a href='https://aka.ms/installJupyterForVSCode'>here</a> for more info."
     ]
    }
   ],
   "source": [
    "%ls NDAcquisition-01x40/ "
   ]
  },
  {
   "cell_type": "code",
   "execution_count": null,
   "id": "05192014",
   "metadata": {
    "scrolled": false
   },
   "outputs": [
    {
     "ename": "",
     "evalue": "",
     "output_type": "error",
     "traceback": [
      "\u001b[1;31m无法启动 Jupyter。试图定位jupyter时出错：选择一个解释器来启动 Jupyter\n",
      "Run the following command to install 'jupyter 和 notebook' into the Python environment. \n",
      "Command: 'python -m pip install jupyter notebook -U\n",
      "or\n",
      "conda install jupyter notebook -U'\n",
      "Click <a href='https://aka.ms/installJupyterForVSCode'>here</a> for more info."
     ]
    }
   ],
   "source": [
    "# NDAcquisition-01/\n",
    "path = [\"./NDAcquisition-01/NDAcquisition-01_XY00\",\n",
    "\"./NDAcquisition-02Nami_x20/NDAcquisition-02Nami_x20_XY00\",\n",
    "\"./NDAcquisition-01x40/NDAcquisition-01x40_XY000\",\n",
    "\"./NDAcquisition-02Nami_x40/NDAcquisition-02Nami_x40_XY00\"]\n",
    "\n",
    "\n",
    "fig, ax = plt.subplots(4,6, figsize = (40,40))\n",
    "subnum=0\n",
    "for n in range(4):\n",
    "    for i in range(1,7):\n",
    "        img = cv2.imread(path[n]+str(i)+\".ome.tif\")\n",
    "        plt.subplot(4,6,subnum+1)\n",
    "        plt.imshow(cv2.cvtColor(img, cv2.COLOR_BGR2RGB))\n",
    "        subnum+=1"
   ]
  },
  {
   "cell_type": "code",
   "execution_count": null,
   "id": "a1c03356",
   "metadata": {},
   "outputs": [
    {
     "ename": "",
     "evalue": "",
     "output_type": "error",
     "traceback": [
      "\u001b[1;31m无法启动 Jupyter。试图定位jupyter时出错：选择一个解释器来启动 Jupyter\n",
      "Run the following command to install 'jupyter 和 notebook' into the Python environment. \n",
      "Command: 'python -m pip install jupyter notebook -U\n",
      "or\n",
      "conda install jupyter notebook -U'\n",
      "Click <a href='https://aka.ms/installJupyterForVSCode'>here</a> for more info."
     ]
    }
   ],
   "source": [
    "def channel(img):\n",
    "    R,G,B=cv2.split(img)\n",
    "    return R"
   ]
  },
  {
   "cell_type": "code",
   "execution_count": null,
   "id": "9e92fe2f",
   "metadata": {},
   "outputs": [
    {
     "ename": "",
     "evalue": "",
     "output_type": "error",
     "traceback": [
      "\u001b[1;31m无法启动 Jupyter。试图定位jupyter时出错：选择一个解释器来启动 Jupyter\n",
      "Run the following command to install 'jupyter 和 notebook' into the Python environment. \n",
      "Command: 'python -m pip install jupyter notebook -U\n",
      "or\n",
      "conda install jupyter notebook -U'\n",
      "Click <a href='https://aka.ms/installJupyterForVSCode'>here</a> for more info."
     ]
    }
   ],
   "source": [
    "path1 = \"./NDAcquisition-01/NDAcquisition-01_XY001.ome.tif\"\n",
    "path2 = \"./NDAcquisition-01/NDAcquisition-01_XY002.ome.tif\"\n",
    "path3 = \"./NDAcquisition-01/NDAcquisition-01_XY003.ome.tif\"\n",
    "path4 = \"./NDAcquisition-01/NDAcquisition-01_XY004.ome.tif\"\n",
    "path5 = \"./NDAcquisition-01/NDAcquisition-01_XY005.ome.tif\"\n",
    "\n",
    "stack = cv2.merge([channel(cv2.imread(path1)),channel(cv2.imread(path2)),channel(cv2.imread(path3))])\n",
    "plt.figure(figsize=(10,10))\n",
    "plt.imshow(stack)\n",
    "plt.show()"
   ]
  },
  {
   "cell_type": "code",
   "execution_count": null,
   "id": "fa72ee83",
   "metadata": {},
   "outputs": [
    {
     "ename": "",
     "evalue": "",
     "output_type": "error",
     "traceback": [
      "\u001b[1;31m无法启动 Jupyter。试图定位jupyter时出错：选择一个解释器来启动 Jupyter\n",
      "Run the following command to install 'jupyter 和 notebook' into the Python environment. \n",
      "Command: 'python -m pip install jupyter notebook -U\n",
      "or\n",
      "conda install jupyter notebook -U'\n",
      "Click <a href='https://aka.ms/installJupyterForVSCode'>here</a> for more info."
     ]
    }
   ],
   "source": []
  }
 ],
 "metadata": {
  "kernelspec": {
   "display_name": "Python 3",
   "language": "python",
   "name": "python3"
  },
  "language_info": {
   "codemirror_mode": {
    "name": "ipython",
    "version": 3
   },
   "file_extension": ".py",
   "mimetype": "text/x-python",
   "name": "python",
   "nbconvert_exporter": "python",
   "pygments_lexer": "ipython3",
   "version": "2.7.5"
  }
 },
 "nbformat": 4,
 "nbformat_minor": 5
}
