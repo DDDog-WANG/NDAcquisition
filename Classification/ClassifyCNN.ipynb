{
 "cells": [
  {
   "cell_type": "markdown",
   "metadata": {},
   "source": [
    "# データの分布\n",
    "\n",
    "## >> Cells With Mask\n",
    "* NDAcquisition-01：45,723\n",
    "* NDAcquisition-01x40：130,092\n",
    "* NDAcquisition-02Nami_x20：9,096\n",
    "* NDAcquisition-02Nami_x40：4,236\n",
    "\n",
    "## >> Cells No Mask\n",
    "* NDAcquisition-01：45,870\n",
    "* NDAcquisition-01x40：130,147\n",
    "* NDAcquisition-02Nami_x20：9,321\n",
    "* NDAcquisition-02Nami_x40：4,236"
   ]
  },
  {
   "cell_type": "markdown",
   "metadata": {},
   "source": [
    "# Max_shape_0 , Max_shape_1\n",
    "\n",
    "\n",
    "### >> Cells \n",
    "\n",
    "    * 01x20\n",
    "        * Max_shape_0:  234\n",
    "        * Max_shape_1:  214\n",
    "\n",
    "    * 02Namix20\n",
    "        * Max_shape_0:  254\n",
    "        * Max_shape_1:  234\n",
    "\n",
    "    * 01x40\n",
    "        * Max_shape_0:  464\n",
    "        * Max_shape_1:  499\n",
    "\n",
    "    * 02Namix40\n",
    "        * Max_shape_0:  354\n",
    "        * Max_shape_1:  274"
   ]
  },
  {
   "cell_type": "code",
   "execution_count": 1,
   "metadata": {},
   "outputs": [],
   "source": [
    "import cv2,os\n",
    "import numpy as np\n",
    "from matplotlib import pyplot as plt"
   ]
  },
  {
   "cell_type": "markdown",
   "metadata": {
    "id": "aJjxv_T_DNKk"
   },
   "source": [
    "# データの読み込み"
   ]
  },
  {
   "cell_type": "code",
   "execution_count": 2,
   "metadata": {},
   "outputs": [
    {
     "name": "stdout",
     "output_type": "stream",
     "text": [
      "Data_01.shape: (11990,)\n",
      "Data_02Nami.shape: (1738,)\n"
     ]
    }
   ],
   "source": [
    "Data_02Nami=np.load(\"data/imread_02Namix40.npy\",allow_pickle=True)\n",
    "Data_01=np.load(\"data/imread_01x40.npy\",allow_pickle=True)\n",
    "print(\"Data_01.shape:\", Data_01.shape)\n",
    "print(\"Data_02Nami.shape:\", Data_02Nami.shape)"
   ]
  },
  {
   "cell_type": "code",
   "execution_count": 3,
   "metadata": {},
   "outputs": [
    {
     "name": "stdout",
     "output_type": "stream",
     "text": [
      "Data_01.shape: (11990,)\n",
      "Data_02Nami.shape: (1738,)\n"
     ]
    }
   ],
   "source": [
    "Data_01=Data_01\n",
    "Data_02Nami=Data_02Nami\n",
    "\n",
    "print(\"Data_01.shape:\", Data_01.shape)\n",
    "print(\"Data_02Nami.shape:\", Data_02Nami.shape)"
   ]
  },
  {
   "cell_type": "markdown",
   "metadata": {},
   "source": [
    "# データ処理"
   ]
  },
  {
   "cell_type": "markdown",
   "metadata": {},
   "source": [
    "## 1. Padding Unify the size"
   ]
  },
  {
   "cell_type": "code",
   "execution_count": 4,
   "metadata": {},
   "outputs": [],
   "source": [
    "Max_shape_0 = 100\n",
    "Max_shape_1 = 100"
   ]
  },
  {
   "cell_type": "code",
   "execution_count": 5,
   "metadata": {},
   "outputs": [
    {
     "name": "stdout",
     "output_type": "stream",
     "text": [
      "DataPad_01:  11990\n",
      "DataPad_02Nami:  1738\n"
     ]
    }
   ],
   "source": [
    "#　同じサイズにする \n",
    "def datapadding(data):\n",
    "    DataPad=[]\n",
    "    for img in data:\n",
    "        imgSize = img.shape\n",
    "        top_size,bottom_size = (Max_shape_0-imgSize[0])//2,(Max_shape_0-imgSize[0])//2\n",
    "        left_size,right_size = (Max_shape_1-imgSize[1])//2,(Max_shape_1-imgSize[1])//2\n",
    "        if (imgSize[0] % 2) != 0:\n",
    "            top_size,bottom_size = (Max_shape_0-imgSize[0])//2,(Max_shape_0-imgSize[0])//2+1\n",
    "        if (imgSize[1] % 2) != 0:     \n",
    "            left_size,right_size = (Max_shape_1-imgSize[1])//2,(Max_shape_1-imgSize[1])//2+1\n",
    "        img_pad = cv2.copyMakeBorder(img,top_size,bottom_size,left_size,right_size,cv2.BORDER_CONSTANT,value=(0,0,0))\n",
    "        DataPad.append(img_pad)\n",
    "    return DataPad\n",
    "\n",
    "DataPad_01 = datapadding(Data_01)\n",
    "DataPad_02Nami = datapadding(Data_02Nami)\n",
    "print(\"DataPad_01: \",len(DataPad_01))\n",
    "print(\"DataPad_02Nami: \",len(DataPad_02Nami))"
   ]
  },
  {
   "cell_type": "markdown",
   "metadata": {},
   "source": [
    "## 2. Resize by using Bin_ndarray"
   ]
  },
  {
   "cell_type": "code",
   "execution_count": 6,
   "metadata": {},
   "outputs": [],
   "source": [
    "# DataBinResize = []\n",
    "# def bin_ndarray(ndarray, new_shape, operation):\n",
    "#     operation = operation.lower()\n",
    "#     if not operation in ['sum', 'mean']:\n",
    "#         raise ValueError(\"Operation not supported.\")\n",
    "#     if ndarray.ndim != len(new_shape):\n",
    "#         raise ValueError(\"Shape mismatch: {} -> {}\".format(ndarray.shape,\n",
    "#                                                            new_shape))\n",
    "#     compression_pairs = [(d, c//d) for d,c in zip(new_shape,\n",
    "#                                                   ndarray.shape)]\n",
    "#     flattened = [l for p in compression_pairs for l in p]\n",
    "#     ndarray = ndarray.reshape(flattened)\n",
    "#     for i in range(len(new_shape)):\n",
    "#         op = getattr(ndarray, operation)\n",
    "#         ndarray = op(-1*(i+1))\n",
    "#     return ndarray\n",
    "\n",
    "# for img in DataResize:\n",
    "#     imgresize = bin_ndarray(img, new_shape=(512,512,3), operation='mean')\n",
    "#     DataBinResize.append(imgresize)"
   ]
  },
  {
   "cell_type": "code",
   "execution_count": 7,
   "metadata": {},
   "outputs": [],
   "source": [
    "# DataBinResize = np.array(DataBinResize)\n",
    "# print(\"DataBinResize: \", DataBinResize.shape)\n",
    "\n",
    "# img = cv2.imread(DataPath[1])\n",
    "# print(\"DataPath[1].shape: \", img.shape)\n",
    "# plt.imshow(img)\n",
    "# plt.show()\n",
    "\n",
    "# print(\"DataResize[1].shape: \", DataResize[1].shape)\n",
    "# plt.imshow(DataResize[1])\n",
    "# plt.show()\n",
    "\n",
    "# print(\"DataBinResize[1].shape: \", DataBinResize[1].shape)\n",
    "# plt.imshow(DataBinResize[1]/255)\n",
    "# plt.show()"
   ]
  },
  {
   "cell_type": "markdown",
   "metadata": {},
   "source": [
    "## 3. Split Train and Test"
   ]
  },
  {
   "cell_type": "code",
   "execution_count": 8,
   "metadata": {},
   "outputs": [],
   "source": [
    "DataPad_01 = DataPad_01\n",
    "DataLabel_01 = np.zeros(len(DataPad_01), dtype=np.int32)\n",
    "\n",
    "DataPad_02Nami = DataPad_02Nami\n",
    "DataLabel_02Nami = np.ones(len(DataPad_02Nami), dtype=np.int32)"
   ]
  },
  {
   "cell_type": "code",
   "execution_count": 9,
   "metadata": {},
   "outputs": [
    {
     "name": "stdout",
     "output_type": "stream",
     "text": [
      "Total number of train :  9609\n",
      "train_class_0 num :  8393\n",
      "train_class_1 num :  1216\n",
      "\n",
      "Total number of test :  4119\n",
      "test_class_0 num :  3597\n",
      "test_class_1 num :  522\n"
     ]
    }
   ],
   "source": [
    "from sklearn.model_selection import train_test_split\n",
    "\n",
    "X_train_0, X_test_0, y_train_0, y_test_0 = train_test_split(DataPad_01, DataLabel_01,\n",
    "                                                                            test_size=0.3, random_state=42)\n",
    "\n",
    "\n",
    "X_train_1, X_test_1, y_train_1, y_test_1 = train_test_split(DataPad_02Nami, DataLabel_02Nami,\n",
    "                                                                            test_size=0.3, random_state=42)\n",
    "\n",
    "X_train, X_test = np.concatenate((X_train_0, X_train_1), axis = 0), np.concatenate((X_test_0, X_test_1), axis = 0)\n",
    "y_train, y_test = np.concatenate((y_train_0, y_train_1), axis = 0), np.concatenate((y_test_0, y_test_1), axis = 0)\n",
    "\n",
    "print(\"Total number of train : \", len(y_train))\n",
    "print(\"train_class_0 num : \", y_train.tolist().count(0))\n",
    "print(\"train_class_1 num : \", y_train.tolist().count(1))\n",
    "print(\"\")\n",
    "\n",
    "print(\"Total number of test : \", len(y_test))\n",
    "print(\"test_class_0 num : \", y_test.tolist().count(0))\n",
    "print(\"test_class_1 num : \", y_test.tolist().count(1))"
   ]
  },
  {
   "cell_type": "markdown",
   "metadata": {
    "id": "qyvCoE-HDNKm"
   },
   "source": [
    "# データ前処理"
   ]
  },
  {
   "cell_type": "code",
   "execution_count": 10,
   "metadata": {
    "executionInfo": {
     "elapsed": 4277,
     "status": "ok",
     "timestamp": 1627022925074,
     "user": {
      "displayName": "Yicheng Wang",
      "photoUrl": "https://lh3.googleusercontent.com/a-/AOh14GgziKLn_im8Zl7A_SAzLLRm66nioH7fG0xuCYpJYg=s64",
      "userId": "10487961361854797289"
     },
     "user_tz": -540
    },
    "id": "gijcrKa5DNKm"
   },
   "outputs": [
    {
     "data": {
      "text/plain": [
       "'1.11.0+cu102'"
      ]
     },
     "execution_count": 10,
     "metadata": {},
     "output_type": "execute_result"
    }
   ],
   "source": [
    "import torch\n",
    "from torchvision import transforms\n",
    "from tqdm import tqdm_notebook as tqdm\n",
    "from PIL import Image\n",
    "from sklearn.model_selection import train_test_split\n",
    "torch.__version__"
   ]
  },
  {
   "cell_type": "code",
   "execution_count": 11,
   "metadata": {
    "executionInfo": {
     "elapsed": 290,
     "status": "ok",
     "timestamp": 1627023529885,
     "user": {
      "displayName": "Yicheng Wang",
      "photoUrl": "https://lh3.googleusercontent.com/a-/AOh14GgziKLn_im8Zl7A_SAzLLRm66nioH7fG0xuCYpJYg=s64",
      "userId": "10487961361854797289"
     },
     "user_tz": -540
    },
    "id": "Fh058iRlDNKm"
   },
   "outputs": [],
   "source": [
    "class train_dataset(torch.utils.data.Dataset):\n",
    "    def __init__(self, x_train, y_train):\n",
    "        data = x_train.astype('float32')\n",
    "        self.x_train = []\n",
    "        for i in range(data.shape[0]):\n",
    "            self.x_train.append(Image.fromarray(np.uint8(data[i])))\n",
    "        self.y_train = y_train\n",
    "        self.transform = transforms.ToTensor()\n",
    "\n",
    "    def __len__(self):\n",
    "        return len(self.x_train)\n",
    "\n",
    "    def __getitem__(self, idx):\n",
    "        return self.transform(self.x_train[idx]), torch.tensor(y_train[idx], dtype=torch.long)\n",
    "\n",
    "    \n",
    "class test_dataset(torch.utils.data.Dataset):\n",
    "    def __init__(self, x_test, y_test):\n",
    "        data = x_test.astype('float32')\n",
    "        self.x_test = []\n",
    "        for i in range(data.shape[0]):\n",
    "            self.x_test.append(Image.fromarray(np.uint8(data[i])))\n",
    "        self.y_test = y_test\n",
    "        self.transform = transforms.ToTensor()\n",
    "\n",
    "    def __len__(self):\n",
    "        return len(self.x_test)\n",
    "\n",
    "    def __getitem__(self, idx):\n",
    "        return self.transform(self.x_test[idx]), torch.tensor(y_test[idx], dtype=torch.long)\n",
    "\n",
    "trainval_data = train_dataset(X_train, y_train)\n",
    "test_data = test_dataset(X_test, y_test)"
   ]
  },
  {
   "cell_type": "code",
   "execution_count": 12,
   "metadata": {
    "executionInfo": {
     "elapsed": 325,
     "status": "ok",
     "timestamp": 1627023533467,
     "user": {
      "displayName": "Yicheng Wang",
      "photoUrl": "https://lh3.googleusercontent.com/a-/AOh14GgziKLn_im8Zl7A_SAzLLRm66nioH7fG0xuCYpJYg=s64",
      "userId": "10487961361854797289"
     },
     "user_tz": -540
    },
    "id": "xK5exWXUDNKn"
   },
   "outputs": [
    {
     "name": "stdout",
     "output_type": "stream",
     "text": [
      "train_size:  7688\n",
      "val_size:  1921\n",
      "test_size:  4119\n"
     ]
    }
   ],
   "source": [
    "batch_size = 128\n",
    "\n",
    "val_size = int(len(trainval_data)*0.2)\n",
    "train_size = len(trainval_data) - val_size\n",
    "print(\"train_size: \",train_size)\n",
    "print(\"val_size: \",val_size)\n",
    "print(\"test_size: \",len(y_test))\n",
    "\n",
    "train_data, val_data = torch.utils.data.random_split(trainval_data, [train_size, val_size])\n",
    "\n",
    "dataloader_train = torch.utils.data.DataLoader(\n",
    "    train_data,\n",
    "    batch_size=batch_size,\n",
    "    shuffle=True\n",
    ")\n",
    "\n",
    "dataloader_valid = torch.utils.data.DataLoader(\n",
    "    val_data,\n",
    "    batch_size=batch_size,\n",
    "    shuffle=True\n",
    ")\n",
    "\n",
    "dataloader_test = torch.utils.data.DataLoader(\n",
    "    test_data,\n",
    "    batch_size=batch_size,\n",
    "    shuffle=True\n",
    ")"
   ]
  },
  {
   "cell_type": "markdown",
   "metadata": {
    "id": "-KBoEbEMDNKo"
   },
   "source": [
    "# ResNet遷移学習"
   ]
  },
  {
   "cell_type": "code",
   "execution_count": 13,
   "metadata": {
    "id": "VIwIc2BXDNKp",
    "scrolled": true
   },
   "outputs": [],
   "source": [
    "import torch\n",
    "import torchvision.models as models\n",
    "import torch.nn as nn"
   ]
  },
  {
   "cell_type": "code",
   "execution_count": 16,
   "metadata": {
    "id": "xs6IXgvsDNKp",
    "scrolled": true
   },
   "outputs": [],
   "source": [
    "# model = models.resnet18(pretrained=True)\n",
    "# num_fcs = model.fc.in_features\n",
    "# FC層のクラス数を変更\n",
    "# model.fc = nn.Sequential(\n",
    "#     nn.Linear(num_fcs, 512),\n",
    "#     # nn.Dropout(p=0.5),\n",
    "#     nn.ReLU(inplace=True),\n",
    "#     nn.Linear(512, 256),\n",
    "#     nn.ReLU(inplace=True),\n",
    "#     nn.Linear(256, 2)\n",
    "# )\n",
    "\n",
    "model = torch.load(\"SelfResnet18_300.pkl\")\n",
    "model.fc = nn.Sequential(\n",
    "    nn.Linear(512, 512),\n",
    "    # nn.Dropout(p=0.5),\n",
    "    nn.ReLU(inplace=True),\n",
    "    nn.Linear(512, 256),\n",
    "    nn.ReLU(inplace=True),\n",
    "    nn.Linear(256, 2)\n",
    ")\n",
    "\n",
    "#Freeze model weights\n",
    "for param in model.parameters():\n",
    "    param.requires_grad = False\n",
    "for param in model.fc.parameters():\n",
    "    param.requires_grad = True\n",
    "    \n",
    "model.avgpool = nn.AdaptiveAvgPool2d(1)\n",
    "loss_func = nn.NLLLoss()\n",
    "model = model.cuda()"
   ]
  },
  {
   "cell_type": "code",
   "execution_count": 17,
   "metadata": {
    "scrolled": true
   },
   "outputs": [
    {
     "name": "stdout",
     "output_type": "stream",
     "text": [
      "EPOCH: 0, Train [Loss: 0.173, Accuracy: 0.957], Valid [Loss: 0.180, Accuracy: 0.969]\n",
      "EPOCH: 1, Train [Loss: 0.152, Accuracy: 0.964], Valid [Loss: 0.114, Accuracy: 0.967]\n",
      "EPOCH: 2, Train [Loss: 0.131, Accuracy: 0.962], Valid [Loss: 0.111, Accuracy: 0.965]\n",
      "EPOCH: 3, Train [Loss: 0.124, Accuracy: 0.964], Valid [Loss: 0.101, Accuracy: 0.969]\n",
      "EPOCH: 4, Train [Loss: 0.136, Accuracy: 0.967], Valid [Loss: 0.097, Accuracy: 0.971]\n",
      "EPOCH: 5, Train [Loss: 0.135, Accuracy: 0.953], Valid [Loss: 0.102, Accuracy: 0.976]\n",
      "EPOCH: 6, Train [Loss: 0.128, Accuracy: 0.966], Valid [Loss: 0.108, Accuracy: 0.968]\n",
      "EPOCH: 7, Train [Loss: 0.128, Accuracy: 0.968], Valid [Loss: 0.110, Accuracy: 0.967]\n",
      "EPOCH: 8, Train [Loss: 0.122, Accuracy: 0.965], Valid [Loss: 0.133, Accuracy: 0.974]\n",
      "EPOCH: 9, Train [Loss: 0.122, Accuracy: 0.964], Valid [Loss: 0.109, Accuracy: 0.969]\n",
      "EPOCH: 10, Train [Loss: 0.128, Accuracy: 0.966], Valid [Loss: 0.095, Accuracy: 0.971]\n",
      "EPOCH: 11, Train [Loss: 0.125, Accuracy: 0.963], Valid [Loss: 0.109, Accuracy: 0.966]\n",
      "EPOCH: 12, Train [Loss: 0.119, Accuracy: 0.965], Valid [Loss: 0.133, Accuracy: 0.950]\n",
      "EPOCH: 13, Train [Loss: 0.122, Accuracy: 0.965], Valid [Loss: 0.108, Accuracy: 0.968]\n",
      "EPOCH: 14, Train [Loss: 0.127, Accuracy: 0.965], Valid [Loss: 0.103, Accuracy: 0.972]\n",
      "EPOCH: 15, Train [Loss: 0.173, Accuracy: 0.968], Valid [Loss: 0.164, Accuracy: 0.970]\n",
      "EPOCH: 16, Train [Loss: 0.144, Accuracy: 0.963], Valid [Loss: 0.105, Accuracy: 0.968]\n",
      "EPOCH: 17, Train [Loss: 0.125, Accuracy: 0.965], Valid [Loss: 0.119, Accuracy: 0.964]\n",
      "EPOCH: 18, Train [Loss: 0.123, Accuracy: 0.961], Valid [Loss: 0.114, Accuracy: 0.970]\n",
      "EPOCH: 19, Train [Loss: 0.130, Accuracy: 0.963], Valid [Loss: 0.101, Accuracy: 0.966]\n",
      "EPOCH: 20, Train [Loss: 0.133, Accuracy: 0.960], Valid [Loss: 0.101, Accuracy: 0.969]\n",
      "EPOCH: 21, Train [Loss: 0.127, Accuracy: 0.968], Valid [Loss: 0.121, Accuracy: 0.968]\n",
      "EPOCH: 22, Train [Loss: 0.120, Accuracy: 0.964], Valid [Loss: 0.110, Accuracy: 0.967]\n",
      "EPOCH: 23, Train [Loss: 0.122, Accuracy: 0.965], Valid [Loss: 0.103, Accuracy: 0.969]\n",
      "EPOCH: 24, Train [Loss: 0.128, Accuracy: 0.965], Valid [Loss: 0.104, Accuracy: 0.971]\n",
      "EPOCH: 25, Train [Loss: 0.140, Accuracy: 0.968], Valid [Loss: 0.295, Accuracy: 0.970]\n",
      "EPOCH: 26, Train [Loss: 0.121, Accuracy: 0.968], Valid [Loss: 0.140, Accuracy: 0.968]\n",
      "EPOCH: 27, Train [Loss: 0.117, Accuracy: 0.966], Valid [Loss: 0.100, Accuracy: 0.973]\n",
      "EPOCH: 28, Train [Loss: 0.116, Accuracy: 0.970], Valid [Loss: 0.102, Accuracy: 0.976]\n",
      "EPOCH: 29, Train [Loss: 0.119, Accuracy: 0.971], Valid [Loss: 0.104, Accuracy: 0.969]\n",
      "EPOCH: 30, Train [Loss: 0.120, Accuracy: 0.965], Valid [Loss: 0.108, Accuracy: 0.965]\n",
      "EPOCH: 31, Train [Loss: 0.135, Accuracy: 0.965], Valid [Loss: 0.106, Accuracy: 0.968]\n",
      "EPOCH: 32, Train [Loss: 0.139, Accuracy: 0.968], Valid [Loss: 0.103, Accuracy: 0.967]\n",
      "EPOCH: 33, Train [Loss: 0.122, Accuracy: 0.960], Valid [Loss: 0.104, Accuracy: 0.972]\n",
      "EPOCH: 34, Train [Loss: 0.116, Accuracy: 0.969], Valid [Loss: 0.099, Accuracy: 0.967]\n",
      "EPOCH: 35, Train [Loss: 0.115, Accuracy: 0.968], Valid [Loss: 0.113, Accuracy: 0.962]\n",
      "EPOCH: 36, Train [Loss: 0.116, Accuracy: 0.964], Valid [Loss: 0.103, Accuracy: 0.967]\n",
      "EPOCH: 37, Train [Loss: 0.120, Accuracy: 0.963], Valid [Loss: 0.101, Accuracy: 0.968]\n",
      "EPOCH: 38, Train [Loss: 0.119, Accuracy: 0.961], Valid [Loss: 0.107, Accuracy: 0.973]\n",
      "EPOCH: 39, Train [Loss: 0.111, Accuracy: 0.969], Valid [Loss: 0.111, Accuracy: 0.968]\n",
      "EPOCH: 40, Train [Loss: 0.111, Accuracy: 0.964], Valid [Loss: 0.107, Accuracy: 0.967]\n",
      "EPOCH: 41, Train [Loss: 0.124, Accuracy: 0.963], Valid [Loss: 0.102, Accuracy: 0.967]\n",
      "EPOCH: 42, Train [Loss: 0.130, Accuracy: 0.967], Valid [Loss: 0.104, Accuracy: 0.968]\n",
      "EPOCH: 43, Train [Loss: 0.113, Accuracy: 0.965], Valid [Loss: 0.121, Accuracy: 0.956]\n",
      "EPOCH: 44, Train [Loss: 0.114, Accuracy: 0.967], Valid [Loss: 0.107, Accuracy: 0.967]\n",
      "EPOCH: 45, Train [Loss: 0.118, Accuracy: 0.964], Valid [Loss: 0.101, Accuracy: 0.973]\n",
      "EPOCH: 46, Train [Loss: 0.118, Accuracy: 0.963], Valid [Loss: 0.142, Accuracy: 0.967]\n",
      "EPOCH: 47, Train [Loss: 0.108, Accuracy: 0.968], Valid [Loss: 0.116, Accuracy: 0.970]\n",
      "EPOCH: 48, Train [Loss: 0.121, Accuracy: 0.970], Valid [Loss: 0.115, Accuracy: 0.964]\n",
      "EPOCH: 49, Train [Loss: 0.137, Accuracy: 0.964], Valid [Loss: 0.114, Accuracy: 0.968]\n",
      "EPOCH: 50, Train [Loss: 0.118, Accuracy: 0.966], Valid [Loss: 0.099, Accuracy: 0.970]\n",
      "EPOCH: 51, Train [Loss: 0.119, Accuracy: 0.966], Valid [Loss: 0.102, Accuracy: 0.973]\n",
      "EPOCH: 52, Train [Loss: 0.118, Accuracy: 0.957], Valid [Loss: 0.109, Accuracy: 0.962]\n",
      "EPOCH: 53, Train [Loss: 0.118, Accuracy: 0.961], Valid [Loss: 0.108, Accuracy: 0.967]\n",
      "EPOCH: 54, Train [Loss: 1.933, Accuracy: 0.965], Valid [Loss: 0.100, Accuracy: 0.967]\n",
      "EPOCH: 55, Train [Loss: 0.118, Accuracy: 0.959], Valid [Loss: 0.119, Accuracy: 0.964]\n",
      "EPOCH: 56, Train [Loss: 0.117, Accuracy: 0.963], Valid [Loss: 0.102, Accuracy: 0.967]\n",
      "EPOCH: 57, Train [Loss: 0.116, Accuracy: 0.965], Valid [Loss: 0.154, Accuracy: 0.966]\n",
      "EPOCH: 58, Train [Loss: 0.110, Accuracy: 0.956], Valid [Loss: 0.109, Accuracy: 0.964]\n",
      "EPOCH: 59, Train [Loss: 0.109, Accuracy: 0.963], Valid [Loss: 0.109, Accuracy: 0.968]\n",
      "EPOCH: 60, Train [Loss: 0.143, Accuracy: 0.966], Valid [Loss: 0.112, Accuracy: 0.966]\n",
      "EPOCH: 61, Train [Loss: 0.137, Accuracy: 0.961], Valid [Loss: 0.105, Accuracy: 0.969]\n",
      "EPOCH: 62, Train [Loss: 0.118, Accuracy: 0.961], Valid [Loss: 0.116, Accuracy: 0.959]\n",
      "EPOCH: 63, Train [Loss: 0.117, Accuracy: 0.962], Valid [Loss: 0.105, Accuracy: 0.969]\n",
      "EPOCH: 64, Train [Loss: 0.109, Accuracy: 0.959], Valid [Loss: 0.107, Accuracy: 0.964]\n",
      "EPOCH: 65, Train [Loss: 0.109, Accuracy: 0.964], Valid [Loss: 0.103, Accuracy: 0.966]\n",
      "EPOCH: 66, Train [Loss: 0.108, Accuracy: 0.964], Valid [Loss: 0.115, Accuracy: 0.960]\n",
      "EPOCH: 67, Train [Loss: 0.119, Accuracy: 0.963], Valid [Loss: 0.109, Accuracy: 0.967]\n",
      "EPOCH: 68, Train [Loss: 0.114, Accuracy: 0.962], Valid [Loss: 0.105, Accuracy: 0.966]\n",
      "EPOCH: 69, Train [Loss: 0.113, Accuracy: 0.957], Valid [Loss: 0.113, Accuracy: 0.965]\n",
      "EPOCH: 70, Train [Loss: 0.112, Accuracy: 0.962], Valid [Loss: 0.517, Accuracy: 0.969]\n",
      "EPOCH: 71, Train [Loss: 0.109, Accuracy: 0.961], Valid [Loss: 0.106, Accuracy: 0.971]\n",
      "EPOCH: 72, Train [Loss: 0.113, Accuracy: 0.964], Valid [Loss: 0.113, Accuracy: 0.967]\n",
      "EPOCH: 73, Train [Loss: 0.111, Accuracy: 0.966], Valid [Loss: 0.105, Accuracy: 0.967]\n",
      "EPOCH: 74, Train [Loss: 0.112, Accuracy: 0.964], Valid [Loss: 0.109, Accuracy: 0.966]\n",
      "EPOCH: 75, Train [Loss: 0.115, Accuracy: 0.966], Valid [Loss: 0.111, Accuracy: 0.971]\n",
      "EPOCH: 76, Train [Loss: 0.107, Accuracy: 0.967], Valid [Loss: 0.120, Accuracy: 0.969]\n",
      "EPOCH: 77, Train [Loss: 0.110, Accuracy: 0.967], Valid [Loss: 0.114, Accuracy: 0.966]\n",
      "EPOCH: 78, Train [Loss: 0.128, Accuracy: 0.965], Valid [Loss: 0.127, Accuracy: 0.966]\n",
      "EPOCH: 79, Train [Loss: 0.126, Accuracy: 0.965], Valid [Loss: 0.111, Accuracy: 0.968]\n",
      "EPOCH: 80, Train [Loss: 0.114, Accuracy: 0.963], Valid [Loss: 0.109, Accuracy: 0.965]\n",
      "EPOCH: 81, Train [Loss: 0.107, Accuracy: 0.966], Valid [Loss: 0.105, Accuracy: 0.969]\n",
      "EPOCH: 82, Train [Loss: 0.135, Accuracy: 0.965], Valid [Loss: 0.109, Accuracy: 0.972]\n",
      "EPOCH: 83, Train [Loss: 0.132, Accuracy: 0.963], Valid [Loss: 0.115, Accuracy: 0.974]\n",
      "EPOCH: 84, Train [Loss: 0.131, Accuracy: 0.966], Valid [Loss: 0.119, Accuracy: 0.969]\n",
      "EPOCH: 85, Train [Loss: 0.124, Accuracy: 0.965], Valid [Loss: 0.110, Accuracy: 0.968]\n",
      "EPOCH: 86, Train [Loss: 0.115, Accuracy: 0.967], Valid [Loss: 0.120, Accuracy: 0.972]\n",
      "EPOCH: 87, Train [Loss: 0.123, Accuracy: 0.967], Valid [Loss: 0.110, Accuracy: 0.970]\n",
      "EPOCH: 88, Train [Loss: 0.111, Accuracy: 0.967], Valid [Loss: 0.115, Accuracy: 0.968]\n",
      "EPOCH: 89, Train [Loss: 0.118, Accuracy: 0.965], Valid [Loss: 0.116, Accuracy: 0.968]\n",
      "EPOCH: 90, Train [Loss: 0.111, Accuracy: 0.966], Valid [Loss: 0.292, Accuracy: 0.968]\n",
      "EPOCH: 91, Train [Loss: 0.119, Accuracy: 0.965], Valid [Loss: 0.112, Accuracy: 0.968]\n",
      "EPOCH: 92, Train [Loss: 0.116, Accuracy: 0.963], Valid [Loss: 0.118, Accuracy: 0.967]\n",
      "EPOCH: 93, Train [Loss: 0.115, Accuracy: 0.964], Valid [Loss: 0.123, Accuracy: 0.970]\n",
      "EPOCH: 94, Train [Loss: 0.117, Accuracy: 0.964], Valid [Loss: 0.121, Accuracy: 0.967]\n",
      "EPOCH: 95, Train [Loss: 0.115, Accuracy: 0.963], Valid [Loss: 0.110, Accuracy: 0.968]\n"
     ]
    },
    {
     "name": "stdout",
     "output_type": "stream",
     "text": [
      "EPOCH: 96, Train [Loss: 0.113, Accuracy: 0.963], Valid [Loss: 0.117, Accuracy: 0.970]\n",
      "EPOCH: 97, Train [Loss: 0.113, Accuracy: 0.966], Valid [Loss: 0.113, Accuracy: 0.971]\n",
      "EPOCH: 98, Train [Loss: 0.118, Accuracy: 0.961], Valid [Loss: 0.121, Accuracy: 0.966]\n",
      "EPOCH: 99, Train [Loss: 0.114, Accuracy: 0.964], Valid [Loss: 0.117, Accuracy: 0.973]\n"
     ]
    }
   ],
   "source": [
    "n_epochs = 100\n",
    "\n",
    "# negative : ラベル0の数\n",
    "# positive : ラベル1の数\n",
    "# weight_for_0 : 1. / negative * (negative + positive)\n",
    "# weight_for_1 : 1. / positive * (negative + positive)\n",
    "# class_weight = {0 : weight_for_0, 1 : weight_for_1}\n",
    "weights = torch.tensor([(len(DataPad_01)+len(DataPad_02Nami))/len(DataPad_01), \n",
    "                        (len(DataPad_01)+len(DataPad_02Nami))/len(DataPad_02Nami)]).cuda()\n",
    "loss_function = nn.CrossEntropyLoss(weight=weights)\n",
    "\n",
    "optimizer = torch.optim.Adam(model.parameters(), lr=0.01)  # 定义优化器\n",
    "scheduler = torch.optim.lr_scheduler.ExponentialLR(optimizer, gamma=0.99) # 定义衰减策略\n",
    "\n",
    "device = \"cuda\"\n",
    "# device = torch.device(\"cuda:0\" if torch.cuda.is_available() else \"cpu\")\n",
    "# if torch.cuda.device_count() > 1:\n",
    "#     model = nn.DataParallel(model)\n",
    "# model.to(device)\n",
    "\n",
    "losstrain=[]\n",
    "lossvalid=[]\n",
    "Accuracytrain=[]\n",
    "Accuracyvalid=[]\n",
    "\n",
    "for epoch in range(n_epochs):\n",
    "    losses_train = []\n",
    "    losses_valid = []\n",
    "    # Train\n",
    "    optimizer.step()\n",
    "    model.train()\n",
    "    n_train = 0\n",
    "    acc_train = 0\n",
    "    for x, t in dataloader_train:\n",
    "        n_train += t.size()[0]\n",
    "        model.zero_grad()  # 勾配の初期化\n",
    "        x = x.to(device)  # テンソルをGPUに移動\n",
    "        t = t.to(device)\n",
    "        y = model.forward(x)  # 順伝播\n",
    "        loss = loss_function(y, t)  # 誤差(クロスエントロピー誤差関数)の計算\n",
    "        loss.backward()  # 誤差の逆伝播\n",
    "        optimizer.step()  # パラメータの更新\n",
    "        pred = y.argmax(1)  # 最大値を取るラベルを予測ラベルとする\n",
    "        acc_train += (pred == t).float().sum().item()\n",
    "        losses_train.append(loss.tolist())\n",
    "    # Evaluate\n",
    "    model.eval()\n",
    "    n_val = 0\n",
    "    acc_val = 0\n",
    "    for x, t in dataloader_valid:\n",
    "        n_val += t.size()[0]\n",
    "        x = x.to(device)  # テンソルをGPUに移動\n",
    "        t = t.to(device)\n",
    "        y = model.forward(x)  # 順伝播\n",
    "        loss = loss_function(y, t)  # 誤差(クロスエントロピー誤差関数)の計算\n",
    "        pred = y.argmax(1)  # 最大値を取るラベルを予測ラベルとする\n",
    "        acc_val += (pred == t).float().sum().item()\n",
    "        losses_valid.append(loss.tolist())\n",
    "    scheduler.step()\n",
    "    # Visualize loss & accuracy    \n",
    "    losstrain.append(np.mean(losses_train))   \n",
    "    Accuracytrain.append(acc_train/n_train)\n",
    "    lossvalid.append(np.mean(losses_train))\n",
    "    Accuracyvalid.append(acc_val/n_val)\n",
    "    print('EPOCH: {}, Train [Loss: {:.3f}, Accuracy: {:.3f}], Valid [Loss: {:.3f}, Accuracy: {:.3f}]'.format(epoch,np.mean(losses_train),acc_train/n_train,np.mean(losses_valid),acc_val/n_val))"
   ]
  },
  {
   "cell_type": "code",
   "execution_count": 18,
   "metadata": {},
   "outputs": [
    {
     "data": {
      "image/png": "[encoded data removed]",
      "text/plain": [
       "<Figure size 432x288 with 1 Axes>"
      ]
     },
     "metadata": {
      "needs_background": "light"
     },
     "output_type": "display_data"
    },
    {
     "data": {
      "text/plain": [
       "<Figure size 432x288 with 0 Axes>"
      ]
     },
     "metadata": {},
     "output_type": "display_data"
    }
   ],
   "source": [
    "# train processing plot\n",
    "epochs=range(1,n_epochs+1)\n",
    "plt.ylim(0,1.0)\n",
    "plt.plot(epochs,Accuracytrain,'b',label='Training accuracy')  \n",
    "plt.plot(epochs, Accuracyvalid,'r',label='Validation accuracy')\n",
    "plt.title('Training and Validation accuracy')\n",
    "plt.legend()\n",
    "plt.figure()\n",
    "plt.show()"
   ]
  },
  {
   "cell_type": "code",
   "execution_count": 19,
   "metadata": {},
   "outputs": [],
   "source": [
    "for param in model.parameters():\n",
    "    param.requires_grad = True\n",
    "torch.save(model,\"SelfResnet18_400.pkl\")"
   ]
  },
  {
   "cell_type": "code",
   "execution_count": 27,
   "metadata": {},
   "outputs": [
    {
     "name": "stdout",
     "output_type": "stream",
     "text": [
      "acc_test:  3803.0\n",
      "n_test:  4119\n",
      "Loss: 7.747, Accuracy: 0.923\n"
     ]
    }
   ],
   "source": [
    "# Test\n",
    "losses_test = []\n",
    "n_test = 0\n",
    "acc_test = 0\n",
    "model.eval()\n",
    "\n",
    "for x, t in dataloader_test:\n",
    "    n_test += t.size()[0]\n",
    "    x = x.to(device)  # テンソルをGPUに移動\n",
    "    t = t.to(device)\n",
    "    y = model.forward(x)  # 順伝播\n",
    "    loss = loss_function(y, t)  # 誤差(クロスエントロピー誤差関数)の計算\n",
    "    pred = y.argmax(1)  # 最大値を取るラベルを予測ラベルとする\n",
    "    acc_test += (pred == t).float().sum().item()\n",
    "    losses_test.append(loss.tolist())\n",
    "\n",
    "# Visualize loss & accuracy \n",
    "print(\"acc_test: \", acc_test) \n",
    "print(\"n_test: \", n_test)\n",
    "print('Loss: {:.3f}, Accuracy: {:.3f}'.format(np.mean(losses_test),acc_test/n_test))"
   ]
  },
  {
   "cell_type": "code",
   "execution_count": null,
   "metadata": {},
   "outputs": [],
   "source": []
  },
  {
   "cell_type": "code",
   "execution_count": null,
   "metadata": {},
   "outputs": [],
   "source": []
  },
  {
   "cell_type": "code",
   "execution_count": null,
   "metadata": {},
   "outputs": [],
   "source": []
  },
  {
   "cell_type": "markdown",
   "metadata": {},
   "source": [
    "# Debug"
   ]
  },
  {
   "cell_type": "code",
   "execution_count": 46,
   "metadata": {},
   "outputs": [],
   "source": [
    "model = torch.load(\"SelfResnet18_300.pkl\")\n",
    "# model.fc = nn.Sequential(\n",
    "#     nn.Linear(512, 2)\n",
    "# )\n",
    "\n",
    "#Freeze model weights\n",
    "for param in model.parameters():\n",
    "    param.requires_grad = False\n",
    "for param in model.fc.parameters():\n",
    "    param.requires_grad = True\n",
    "    \n",
    "model.avgpool = nn.AdaptiveAvgPool2d(1)\n",
    "loss_func = nn.NLLLoss()\n",
    "model = model.cuda()"
   ]
  },
  {
   "cell_type": "code",
   "execution_count": 47,
   "metadata": {},
   "outputs": [
    {
     "name": "stdout",
     "output_type": "stream",
     "text": [
      "EPOCH: 0, Train [Loss: 0.148, Accuracy: 0.960], Valid [Loss: 0.100, Accuracy: 0.963]\n",
      "EPOCH: 1, Train [Loss: 0.127, Accuracy: 0.955], Valid [Loss: 0.110, Accuracy: 0.963]\n",
      "EPOCH: 2, Train [Loss: 0.127, Accuracy: 0.958], Valid [Loss: 0.489, Accuracy: 0.954]\n",
      "EPOCH: 3, Train [Loss: 0.140, Accuracy: 0.955], Valid [Loss: 0.101, Accuracy: 0.971]\n",
      "EPOCH: 4, Train [Loss: 0.127, Accuracy: 0.955], Valid [Loss: 0.101, Accuracy: 0.959]\n",
      "EPOCH: 5, Train [Loss: 0.128, Accuracy: 0.959], Valid [Loss: 0.101, Accuracy: 0.963]\n",
      "EPOCH: 6, Train [Loss: 0.121, Accuracy: 0.962], Valid [Loss: 0.099, Accuracy: 0.964]\n",
      "EPOCH: 7, Train [Loss: 0.124, Accuracy: 0.961], Valid [Loss: 0.098, Accuracy: 0.965]\n",
      "EPOCH: 8, Train [Loss: 0.126, Accuracy: 0.957], Valid [Loss: 0.097, Accuracy: 0.969]\n",
      "EPOCH: 9, Train [Loss: 0.120, Accuracy: 0.960], Valid [Loss: 0.099, Accuracy: 0.964]\n"
     ]
    }
   ],
   "source": [
    "n_epochs = 10\n",
    "\n",
    "# negative : ラベル0の数\n",
    "# positive : ラベル1の数\n",
    "# weight_for_0 : 1. / negative * (negative + positive)\n",
    "# weight_for_1 : 1. / positive * (negative + positive)\n",
    "# class_weight = {0 : weight_for_0, 1 : weight_for_1}\n",
    "weights = torch.tensor([(len(DataPad_01)+len(DataPad_02Nami))/len(DataPad_01), \n",
    "                        (len(DataPad_01)+len(DataPad_02Nami))/len(DataPad_02Nami)]).cuda()\n",
    "loss_function = nn.CrossEntropyLoss(weight=weights)\n",
    "\n",
    "optimizer = torch.optim.Adam(model.parameters(), lr=0.01)  # 定义优化器\n",
    "scheduler = torch.optim.lr_scheduler.ExponentialLR(optimizer, gamma=0.99) # 定义衰减策略\n",
    "\n",
    "device = \"cuda\"\n",
    "# device = torch.device(\"cuda:0\" if torch.cuda.is_available() else \"cpu\")\n",
    "# if torch.cuda.device_count() > 1:\n",
    "#     model = nn.DataParallel(model)\n",
    "# model.to(device)\n",
    "\n",
    "losstrain=[]\n",
    "lossvalid=[]\n",
    "Accuracytrain=[]\n",
    "Accuracyvalid=[]\n",
    "\n",
    "for epoch in range(n_epochs):\n",
    "    losses_train = []\n",
    "    losses_valid = []\n",
    "    # Train\n",
    "    optimizer.step()\n",
    "    model.train()\n",
    "    n_train = 0\n",
    "    acc_train = 0\n",
    "    for x, t in dataloader_train:\n",
    "        n_train += t.size()[0]\n",
    "        model.zero_grad()  # 勾配の初期化\n",
    "        x = x.to(device)  # テンソルをGPUに移動\n",
    "        t = t.to(device)\n",
    "        y = model.forward(x)  # 順伝播\n",
    "        loss = loss_function(y, t)  # 誤差(クロスエントロピー誤差関数)の計算\n",
    "        loss.backward()  # 誤差の逆伝播\n",
    "        optimizer.step()  # パラメータの更新\n",
    "        pred = y.argmax(1)  # 最大値を取るラベルを予測ラベルとする\n",
    "        acc_train += (pred == t).float().sum().item()\n",
    "        losses_train.append(loss.tolist())\n",
    "    # Evaluate\n",
    "    model.eval()\n",
    "    n_val = 0\n",
    "    acc_val = 0\n",
    "    for x, t in dataloader_valid:\n",
    "        n_val += t.size()[0]\n",
    "        x = x.to(device)  # テンソルをGPUに移動\n",
    "        t = t.to(device)\n",
    "        y = model.forward(x)  # 順伝播\n",
    "        loss = loss_function(y, t)  # 誤差(クロスエントロピー誤差関数)の計算\n",
    "        pred = y.argmax(1)  # 最大値を取るラベルを予測ラベルとする\n",
    "        acc_val += (pred == t).float().sum().item()\n",
    "        losses_valid.append(loss.tolist())\n",
    "    scheduler.step()\n",
    "    # Visualize loss & accuracy    \n",
    "    losstrain.append(np.mean(losses_train))   \n",
    "    Accuracytrain.append(acc_train/n_train)\n",
    "    lossvalid.append(np.mean(losses_train))\n",
    "    Accuracyvalid.append(acc_val/n_val)\n",
    "    print('EPOCH: {}, Train [Loss: {:.3f}, Accuracy: {:.3f}], Valid [Loss: {:.3f}, Accuracy: {:.3f}]'.format(epoch,np.mean(losses_train),acc_train/n_train,np.mean(losses_valid),acc_val/n_val))"
   ]
  },
  {
   "cell_type": "code",
   "execution_count": 48,
   "metadata": {},
   "outputs": [
    {
     "name": "stdout",
     "output_type": "stream",
     "text": [
      "acc_test:  3790.0\n",
      "n_test:  4119\n",
      "Loss: 0.499, Accuracy: 0.920\n"
     ]
    }
   ],
   "source": [
    "# Test\n",
    "losses_test = []\n",
    "n_test = 0\n",
    "acc_test = 0\n",
    "model.eval()\n",
    "\n",
    "for x, t in dataloader_test:\n",
    "    n_test += t.size()[0]\n",
    "    x = x.to(device)  # テンソルをGPUに移動\n",
    "    t = t.to(device)\n",
    "    y = model.forward(x)  # 順伝播\n",
    "    loss = loss_function(y, t)  # 誤差(クロスエントロピー誤差関数)の計算\n",
    "    pred = y.argmax(1)  # 最大値を取るラベルを予測ラベルとする\n",
    "    acc_test += (pred == t).float().sum().item()\n",
    "    losses_test.append(loss.tolist())\n",
    "\n",
    "# Visualize loss & accuracy \n",
    "print(\"acc_test: \", acc_test) \n",
    "print(\"n_test: \", n_test)\n",
    "print('Loss: {:.3f}, Accuracy: {:.3f}'.format(np.mean(losses_test),acc_test/n_test))"
   ]
  },
  {
   "cell_type": "code",
   "execution_count": 49,
   "metadata": {},
   "outputs": [],
   "source": [
    "for param in model.parameters():\n",
    "    param.requires_grad = True\n",
    "torch.save(model,\"SelfResnet18_310.pkl\")"
   ]
  },
  {
   "cell_type": "code",
   "execution_count": null,
   "metadata": {},
   "outputs": [],
   "source": []
  }
 ],
 "metadata": {
  "accelerator": "GPU",
  "colab": {
   "collapsed_sections": [],
   "name": "KIMIA_CNN.ipynb",
   "provenance": []
  },
  "kernelspec": {
   "display_name": "Python 3 (ipykernel)",
   "language": "python",
   "name": "python3"
  },
  "language_info": {
   "codemirror_mode": {
    "name": "ipython",
    "version": 3
   },
   "file_extension": ".py",
   "mimetype": "text/x-python",
   "name": "python",
   "nbconvert_exporter": "python",
   "pygments_lexer": "ipython3",
   "version": "3.10.4"
  },
  "toc": {
   "base_numbering": 1,
   "nav_menu": {},
   "number_sections": true,
   "sideBar": true,
   "skip_h1_title": false,
   "title_cell": "Table of Contents",
   "title_sidebar": "Contents",
   "toc_cell": false,
   "toc_position": {},
   "toc_section_display": true,
   "toc_window_display": false
  }
 },
 "nbformat": 4,
 "nbformat_minor": 1
}
