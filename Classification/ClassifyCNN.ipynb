{
 "cells": [
  {
   "cell_type": "code",
   "execution_count": 27,
   "metadata": {},
   "outputs": [],
   "source": [
    "import cv2,os\n",
    "from PIL import Image\n",
    "import numpy as np\n",
    "from matplotlib import pyplot as plt\n",
    "from tqdm import tqdm_notebook as tqdm\n",
    "\n",
    "from sklearn.model_selection import train_test_split\n",
    "from sklearn.metrics import roc_auc_score,precision_score,accuracy_score,roc_curve\n",
    "import torch\n",
    "import torch.nn as nn\n",
    "from torchvision import transforms\n",
    "import torchvision.models as models"
   ]
  },
  {
   "cell_type": "code",
   "execution_count": 2,
   "metadata": {},
   "outputs": [
    {
     "name": "stdout",
     "output_type": "stream",
     "text": [
      "torch.device(cuda)\n",
      "torch.cuda.device_count():  1\n",
      "Tesla V100-SXM2-16GB\n",
      "torch.cuda.current_device() 0\n"
     ]
    }
   ],
   "source": [
    "if torch.cuda.is_available():\n",
    "    device = torch.device(\"cuda\")\n",
    "    print(\"torch.device(cuda)\")\n",
    "    print(\"torch.cuda.device_count(): \", torch.cuda.device_count())\n",
    "    for i in range(torch.cuda.device_count()):\n",
    "        print(torch.cuda.get_device_name())\n",
    "    print(\"torch.cuda.current_device()\", torch.cuda.current_device())\n",
    "else:\n",
    "    device = torch.device(\"cpu\")\n",
    "    print(\"torch.device(cpu)\")"
   ]
  },
  {
   "cell_type": "markdown",
   "metadata": {
    "id": "aJjxv_T_DNKk"
   },
   "source": [
    "# データの読み込み"
   ]
  },
  {
   "cell_type": "code",
   "execution_count": 3,
   "metadata": {},
   "outputs": [
    {
     "name": "stdout",
     "output_type": "stream",
     "text": [
      "Data_01.shape: (65969, 100, 100, 3)\n",
      "Data_02Nami.shape: (3219, 100, 100, 3)\n"
     ]
    }
   ],
   "source": [
    "Data_01=np.load(\"results2022/01x40_padded.npy\",allow_pickle=True)\n",
    "Data_02Nami=np.load(\"results2022/02x40_padded.npy\",allow_pickle=True)\n",
    "\n",
    "print(\"Data_01.shape:\", Data_01.shape)\n",
    "print(\"Data_02Nami.shape:\", Data_02Nami.shape)"
   ]
  },
  {
   "cell_type": "code",
   "execution_count": 4,
   "metadata": {},
   "outputs": [
    {
     "name": "stdout",
     "output_type": "stream",
     "text": [
      "Data_01.shape: (3219, 100, 100, 3)\n",
      "Data_02Nami.shape: (3219, 100, 100, 3)\n"
     ]
    }
   ],
   "source": [
    "DataPad_01=Data_01\n",
    "DataPad_02Nami=Data_02Nami\n",
    "DataPad_01=Data_01[:len(Data_02Nami)]\n",
    "\n",
    "print(\"Data_01.shape:\", DataPad_01.shape)\n",
    "print(\"Data_02Nami.shape:\", DataPad_02Nami.shape)"
   ]
  },
  {
   "cell_type": "markdown",
   "metadata": {},
   "source": [
    "# データ処理"
   ]
  },
  {
   "cell_type": "markdown",
   "metadata": {},
   "source": [
    "## 1. Padding Unify the size"
   ]
  },
  {
   "cell_type": "code",
   "execution_count": 5,
   "metadata": {},
   "outputs": [],
   "source": [
    "# Max_shape_0 = 100\n",
    "# Max_shape_1 = 100"
   ]
  },
  {
   "cell_type": "code",
   "execution_count": 6,
   "metadata": {},
   "outputs": [],
   "source": [
    "# #　同じサイズにする \n",
    "# def datapadding(data):\n",
    "#     DataPad=[]\n",
    "#     for img in data:\n",
    "#         imgSize = img.shape\n",
    "#         top_size,bottom_size = (Max_shape_0-imgSize[0])//2,(Max_shape_0-imgSize[0])//2\n",
    "#         left_size,right_size = (Max_shape_1-imgSize[1])//2,(Max_shape_1-imgSize[1])//2\n",
    "#         if (imgSize[0] % 2) != 0:\n",
    "#             top_size,bottom_size = (Max_shape_0-imgSize[0])//2,(Max_shape_0-imgSize[0])//2+1\n",
    "#         if (imgSize[1] % 2) != 0:     \n",
    "#             left_size,right_size = (Max_shape_1-imgSize[1])//2,(Max_shape_1-imgSize[1])//2+1\n",
    "#         img_pad = cv2.copyMakeBorder(img,top_size,bottom_size,left_size,right_size,cv2.BORDER_CONSTANT,value=(0,0,0))\n",
    "#         DataPad.append(img_pad)\n",
    "#     return DataPad\n",
    "\n",
    "# DataPad_01 = datapadding(Data_01)\n",
    "# DataPad_02Nami = datapadding(Data_02Nami)\n",
    "# print(\"DataPad_01: \",len(DataPad_01))\n",
    "# print(\"DataPad_02Nami: \",len(DataPad_02Nami))"
   ]
  },
  {
   "cell_type": "markdown",
   "metadata": {},
   "source": [
    "## 2. Resize by using Bin_ndarray"
   ]
  },
  {
   "cell_type": "code",
   "execution_count": 7,
   "metadata": {},
   "outputs": [],
   "source": [
    "# DataBinResize = []\n",
    "# def bin_ndarray(ndarray, new_shape, operation):\n",
    "#     operation = operation.lower()\n",
    "#     if not operation in ['sum', 'mean']:\n",
    "#         raise ValueError(\"Operation not supported.\")\n",
    "#     if ndarray.ndim != len(new_shape):\n",
    "#         raise ValueError(\"Shape mismatch: {} -> {}\".format(ndarray.shape,\n",
    "#                                                            new_shape))\n",
    "#     compression_pairs = [(d, c//d) for d,c in zip(new_shape,\n",
    "#                                                   ndarray.shape)]\n",
    "#     flattened = [l for p in compression_pairs for l in p]\n",
    "#     ndarray = ndarray.reshape(flattened)\n",
    "#     for i in range(len(new_shape)):\n",
    "#         op = getattr(ndarray, operation)\n",
    "#         ndarray = op(-1*(i+1))\n",
    "#     return ndarray\n",
    "\n",
    "# for img in DataResize:\n",
    "#     imgresize = bin_ndarray(img, new_shape=(512,512,3), operation='mean')\n",
    "#     DataBinResize.append(imgresize)"
   ]
  },
  {
   "cell_type": "code",
   "execution_count": 8,
   "metadata": {},
   "outputs": [],
   "source": [
    "# DataBinResize = np.array(DataBinResize)\n",
    "# print(\"DataBinResize: \", DataBinResize.shape)\n",
    "\n",
    "# img = cv2.imread(DataPath[1])\n",
    "# print(\"DataPath[1].shape: \", img.shape)\n",
    "# plt.imshow(img)\n",
    "# plt.show()\n",
    "\n",
    "# print(\"DataResize[1].shape: \", DataResize[1].shape)\n",
    "# plt.imshow(DataResize[1])\n",
    "# plt.show()\n",
    "\n",
    "# print(\"DataBinResize[1].shape: \", DataBinResize[1].shape)\n",
    "# plt.imshow(DataBinResize[1]/255)\n",
    "# plt.show()"
   ]
  },
  {
   "cell_type": "markdown",
   "metadata": {},
   "source": [
    "## 3. Split Train and Test"
   ]
  },
  {
   "cell_type": "code",
   "execution_count": 9,
   "metadata": {},
   "outputs": [],
   "source": [
    "DataPad_01 = DataPad_01\n",
    "DataLabel_01 = np.zeros(len(DataPad_01), dtype=np.int32)\n",
    "\n",
    "DataPad_02Nami = DataPad_02Nami\n",
    "DataLabel_02Nami = np.ones(len(DataPad_02Nami), dtype=np.int32)"
   ]
  },
  {
   "cell_type": "code",
   "execution_count": 10,
   "metadata": {},
   "outputs": [],
   "source": [
    "X_train_0, X_test_0, y_train_0, y_test_0 = train_test_split(DataPad_01, DataLabel_01, test_size=0.1, random_state=42)\n",
    "X_train_1, X_test_1, y_train_1, y_test_1 = train_test_split(DataPad_02Nami, DataLabel_02Nami, test_size=0.1, random_state=42)\n",
    "\n",
    "X_train, X_test = np.concatenate((X_train_0, X_train_1), axis = 0), np.concatenate((X_test_0, X_test_1), axis = 0)\n",
    "y_train, y_test = np.concatenate((y_train_0, y_train_1), axis = 0), np.concatenate((y_test_0, y_test_1), axis = 0)"
   ]
  },
  {
   "cell_type": "markdown",
   "metadata": {
    "id": "qyvCoE-HDNKm"
   },
   "source": [
    "# データ前処理"
   ]
  },
  {
   "cell_type": "code",
   "execution_count": 11,
   "metadata": {
    "executionInfo": {
     "elapsed": 290,
     "status": "ok",
     "timestamp": 1627023529885,
     "user": {
      "displayName": "Yicheng Wang",
      "photoUrl": "https://lh3.googleusercontent.com/a-/AOh14GgziKLn_im8Zl7A_SAzLLRm66nioH7fG0xuCYpJYg=s64",
      "userId": "10487961361854797289"
     },
     "user_tz": -540
    },
    "id": "Fh058iRlDNKm"
   },
   "outputs": [],
   "source": [
    "class cell_dataset(torch.utils.data.Dataset):\n",
    "    def __init__(self, x, y):\n",
    "        self.x = x\n",
    "        self.y = y\n",
    "        self.transform = transforms.ToTensor()\n",
    "    def __len__(self):\n",
    "        return len(self.x)\n",
    "    def __getitem__(self, idx):\n",
    "        return self.transform(self.x[idx]), torch.tensor(self.y[idx], dtype=torch.long)\n",
    "\n",
    "trainval_data = cell_dataset(X_train, y_train)"
   ]
  },
  {
   "cell_type": "code",
   "execution_count": 12,
   "metadata": {
    "executionInfo": {
     "elapsed": 325,
     "status": "ok",
     "timestamp": 1627023533467,
     "user": {
      "displayName": "Yicheng Wang",
      "photoUrl": "https://lh3.googleusercontent.com/a-/AOh14GgziKLn_im8Zl7A_SAzLLRm66nioH7fG0xuCYpJYg=s64",
      "userId": "10487961361854797289"
     },
     "user_tz": -540
    },
    "id": "xK5exWXUDNKn"
   },
   "outputs": [],
   "source": [
    "batch_size = 128\n",
    "\n",
    "val_size = int(len(trainval_data)*0.2)\n",
    "train_size = len(trainval_data) - val_size\n",
    "\n",
    "train_data, val_data = torch.utils.data.random_split(trainval_data, [train_size, val_size])\n",
    "dataloader_train = torch.utils.data.DataLoader(train_data, batch_size=batch_size, shuffle=True)\n",
    "dataloader_valid = torch.utils.data.DataLoader(val_data, batch_size=batch_size, shuffle=True)"
   ]
  },
  {
   "cell_type": "code",
   "execution_count": 13,
   "metadata": {},
   "outputs": [
    {
     "name": "stdout",
     "output_type": "stream",
     "text": [
      "Total number of train :  4636\n",
      "train_class_0:  2315\n",
      "train_class_1:  2321\n",
      "\n",
      "Total number of val :  1158\n",
      "val_class_0:  582\n",
      "val_class_1:  576\n",
      "\n",
      "Total number of test :  644\n",
      "test_class_0 num :  322\n",
      "test_class_1 num :  322\n"
     ]
    }
   ],
   "source": [
    "train_data_01 = 0\n",
    "for i in range(train_size):\n",
    "    train_data_01+=train_data[i][1].item()\n",
    "print(\"Total number of train : \", train_size)\n",
    "print(\"train_class_0: \", train_size-train_data_01)\n",
    "print(\"train_class_1: \", train_data_01)\n",
    "\n",
    "val_data_01 = 0\n",
    "for i in range(val_size):\n",
    "    val_data_01+=val_data[i][1].item()\n",
    "print(\"\\nTotal number of val : \", val_size)\n",
    "print(\"val_class_0: \", val_size-val_data_01)\n",
    "print(\"val_class_1: \", val_data_01)\n",
    "\n",
    "print(\"\\nTotal number of test : \", len(y_test))\n",
    "print(\"test_class_0 num : \", y_test.tolist().count(0))\n",
    "print(\"test_class_1 num : \", y_test.tolist().count(1))"
   ]
  },
  {
   "cell_type": "markdown",
   "metadata": {
    "id": "-KBoEbEMDNKo"
   },
   "source": [
    "# ResNet遷移学習"
   ]
  },
  {
   "cell_type": "code",
   "execution_count": 24,
   "metadata": {
    "id": "VIwIc2BXDNKp",
    "scrolled": false
   },
   "outputs": [],
   "source": [
    "model = torch.load(\"SelfResnet18_L2F1_200.pkl\")"
   ]
  },
  {
   "cell_type": "code",
   "execution_count": 19,
   "metadata": {
    "id": "xs6IXgvsDNKp",
    "scrolled": false
   },
   "outputs": [],
   "source": [
    "# model = models.resnet101(pretrained=True)\n",
    "\n",
    "# # model.layer3 = nn.Sequential()\n",
    "# # model.layer4 = nn.Sequential()\n",
    "\n",
    "# model.fc = nn.Sequential(\n",
    "#     nn.Linear(2048, 2),\n",
    "# #     nn.Softmax(dim=1)\n",
    "# )\n",
    "\n",
    "# model.fc = nn.Sequential(\n",
    "#     nn.Linear(512, 512),\n",
    "#     # nn.Dropout(p=0.5),\n",
    "#     nn.ReLU(inplace=True),\n",
    "#     nn.Linear(512, 256),\n",
    "#     nn.ReLU(inplace=True),\n",
    "#     nn.Linear(256, 2)\n",
    "# )\n",
    "\n",
    "#Freeze model weights\n",
    "for param in model.parameters():\n",
    "    param.requires_grad = True\n",
    "for param in model.fc.parameters():\n",
    "    param.requires_grad = True"
   ]
  },
  {
   "cell_type": "code",
   "execution_count": 20,
   "metadata": {},
   "outputs": [],
   "source": [
    "model.avgpool = nn.AdaptiveAvgPool2d(1)\n",
    "loss_func = nn.NLLLoss()\n",
    "\n",
    "# negative : ラベル0の数\n",
    "# positive : ラベル1の数\n",
    "# weight_for_0 : 1. / negative * (negative + positive)\n",
    "# weight_for_1 : 1. / positive * (negative + positive)\n",
    "# class_weight = {0 : weight_for_0, 1 : weight_for_1}\n",
    "weights = torch.tensor([(len(DataPad_01)+len(DataPad_02Nami))/len(DataPad_01), \n",
    "                        (len(DataPad_01)+len(DataPad_02Nami))/len(DataPad_02Nami)]).cuda()\n",
    "loss_function = nn.CrossEntropyLoss(weight=weights)\n",
    "\n",
    "optimizer = torch.optim.Adam(model.parameters(), lr=0.1)  # 定义优化器\n",
    "scheduler = torch.optim.lr_scheduler.ExponentialLR(optimizer, gamma=0.99) # 定义衰减策略\n",
    "\n",
    "\n",
    "# model = model.cuda()\n",
    "model.to(device)\n",
    "if torch.cuda.device_count() > 1:\n",
    "    model = nn.DataParallel(model)"
   ]
  },
  {
   "cell_type": "code",
   "execution_count": 21,
   "metadata": {},
   "outputs": [],
   "source": [
    "losstrain=[]\n",
    "lossvalid=[]\n",
    "Accuracytrain=[]\n",
    "Accuracyvalid=[]"
   ]
  },
  {
   "cell_type": "code",
   "execution_count": 23,
   "metadata": {
    "scrolled": true
   },
   "outputs": [
    {
     "name": "stdout",
     "output_type": "stream",
     "text": [
      "EPOCH: 0, Train [Loss: 0.390, Accuracy: 0.923], Valid [Loss: 0.379, Accuracy: 0.927]\n",
      "EPOCH: 1, Train [Loss: 0.399, Accuracy: 0.915], Valid [Loss: 0.389, Accuracy: 0.914]\n",
      "EPOCH: 2, Train [Loss: 0.392, Accuracy: 0.919], Valid [Loss: 0.376, Accuracy: 0.928]\n",
      "EPOCH: 3, Train [Loss: 0.398, Accuracy: 0.911], Valid [Loss: 0.407, Accuracy: 0.923]\n",
      "EPOCH: 4, Train [Loss: 0.394, Accuracy: 0.915], Valid [Loss: 0.381, Accuracy: 0.933]\n",
      "EPOCH: 5, Train [Loss: 0.395, Accuracy: 0.916], Valid [Loss: 0.412, Accuracy: 0.904]\n",
      "EPOCH: 6, Train [Loss: 0.394, Accuracy: 0.917], Valid [Loss: 0.397, Accuracy: 0.925]\n",
      "EPOCH: 7, Train [Loss: 0.386, Accuracy: 0.924], Valid [Loss: 0.393, Accuracy: 0.910]\n",
      "EPOCH: 8, Train [Loss: 0.401, Accuracy: 0.914], Valid [Loss: 0.381, Accuracy: 0.923]\n",
      "EPOCH: 9, Train [Loss: 0.392, Accuracy: 0.918], Valid [Loss: 0.376, Accuracy: 0.929]\n",
      "EPOCH: 10, Train [Loss: 0.399, Accuracy: 0.911], Valid [Loss: 0.374, Accuracy: 0.931]\n",
      "EPOCH: 11, Train [Loss: 0.402, Accuracy: 0.911], Valid [Loss: 0.395, Accuracy: 0.925]\n",
      "EPOCH: 12, Train [Loss: 0.400, Accuracy: 0.910], Valid [Loss: 0.374, Accuracy: 0.932]\n",
      "EPOCH: 13, Train [Loss: 0.393, Accuracy: 0.919], Valid [Loss: 0.379, Accuracy: 0.933]\n",
      "EPOCH: 14, Train [Loss: 0.396, Accuracy: 0.916], Valid [Loss: 0.407, Accuracy: 0.930]\n",
      "EPOCH: 15, Train [Loss: 0.395, Accuracy: 0.919], Valid [Loss: 0.404, Accuracy: 0.914]\n",
      "EPOCH: 16, Train [Loss: 0.390, Accuracy: 0.920], Valid [Loss: 0.376, Accuracy: 0.929]\n",
      "EPOCH: 17, Train [Loss: 0.386, Accuracy: 0.925], Valid [Loss: 0.380, Accuracy: 0.923]\n",
      "EPOCH: 18, Train [Loss: 0.396, Accuracy: 0.918], Valid [Loss: 0.376, Accuracy: 0.927]\n",
      "EPOCH: 19, Train [Loss: 0.387, Accuracy: 0.924], Valid [Loss: 0.375, Accuracy: 0.932]\n",
      "EPOCH: 20, Train [Loss: 0.395, Accuracy: 0.919], Valid [Loss: 0.372, Accuracy: 0.933]\n",
      "EPOCH: 21, Train [Loss: 0.389, Accuracy: 0.923], Valid [Loss: 0.374, Accuracy: 0.931]\n",
      "EPOCH: 22, Train [Loss: 0.387, Accuracy: 0.926], Valid [Loss: 0.368, Accuracy: 0.938]\n",
      "EPOCH: 23, Train [Loss: 0.393, Accuracy: 0.919], Valid [Loss: 0.373, Accuracy: 0.934]\n",
      "EPOCH: 24, Train [Loss: 0.388, Accuracy: 0.923], Valid [Loss: 0.368, Accuracy: 0.938]\n",
      "EPOCH: 25, Train [Loss: 0.389, Accuracy: 0.924], Valid [Loss: 0.388, Accuracy: 0.930]\n",
      "EPOCH: 26, Train [Loss: 0.386, Accuracy: 0.925], Valid [Loss: 0.368, Accuracy: 0.936]\n",
      "EPOCH: 27, Train [Loss: 0.388, Accuracy: 0.924], Valid [Loss: 0.369, Accuracy: 0.937]\n",
      "EPOCH: 28, Train [Loss: 0.391, Accuracy: 0.920], Valid [Loss: 0.389, Accuracy: 0.915]\n",
      "EPOCH: 29, Train [Loss: 0.392, Accuracy: 0.921], Valid [Loss: 0.374, Accuracy: 0.930]\n",
      "EPOCH: 30, Train [Loss: 0.391, Accuracy: 0.918], Valid [Loss: 0.389, Accuracy: 0.934]\n",
      "EPOCH: 31, Train [Loss: 0.384, Accuracy: 0.928], Valid [Loss: 0.374, Accuracy: 0.930]\n",
      "EPOCH: 32, Train [Loss: 0.389, Accuracy: 0.922], Valid [Loss: 0.371, Accuracy: 0.933]\n",
      "EPOCH: 33, Train [Loss: 0.387, Accuracy: 0.926], Valid [Loss: 0.370, Accuracy: 0.938]\n",
      "EPOCH: 34, Train [Loss: 0.388, Accuracy: 0.923], Valid [Loss: 0.370, Accuracy: 0.936]\n",
      "EPOCH: 35, Train [Loss: 0.384, Accuracy: 0.927], Valid [Loss: 0.381, Accuracy: 0.925]\n",
      "EPOCH: 36, Train [Loss: 0.391, Accuracy: 0.920], Valid [Loss: 0.399, Accuracy: 0.926]\n",
      "EPOCH: 37, Train [Loss: 0.384, Accuracy: 0.926], Valid [Loss: 0.404, Accuracy: 0.924]\n",
      "EPOCH: 38, Train [Loss: 0.387, Accuracy: 0.921], Valid [Loss: 0.376, Accuracy: 0.930]\n",
      "EPOCH: 39, Train [Loss: 0.391, Accuracy: 0.921], Valid [Loss: 0.374, Accuracy: 0.933]\n"
     ]
    }
   ],
   "source": [
    "n_epoches = 40\n",
    "for epoch in range(n_epoches):\n",
    "    losses_train = []\n",
    "    losses_valid = []\n",
    "    # Train\n",
    "    optimizer.step()\n",
    "    model.train()\n",
    "    n_train = 0\n",
    "    acc_train = 0\n",
    "    for x, y in dataloader_train:\n",
    "        n_train += y.size()[0]\n",
    "        model.zero_grad()  # 勾配の初期化\n",
    "        x = x.to(device)  # テンソルをGPUに移動\n",
    "        y = y.to(device)\n",
    "        output = model.forward(x)  # 順伝播\n",
    "        loss = loss_function(output, y)  # 誤差(クロスエントロピー誤差関数)の計算\n",
    "        loss.backward()  # 誤差の逆伝播\n",
    "        optimizer.step()  # パラメータの更新\n",
    "        pred = output.argmax(1)  # 最大値を取るラベルを予測ラベルとする\n",
    "        acc_train += (pred == y).float().sum().item()\n",
    "        losses_train.append(loss.tolist())\n",
    "    # Evaluate\n",
    "    model.eval()\n",
    "    n_val = 0\n",
    "    acc_val = 0\n",
    "    for x, y in dataloader_valid:\n",
    "        n_val += y.size()[0]\n",
    "        x = x.to(device)  # テンソルをGPUに移動\n",
    "        y = y.to(device)\n",
    "        output = model.forward(x)  # 順伝播\n",
    "        loss = loss_function(output, y)  # 誤差(クロスエントロピー誤差関数)の計算\n",
    "        pred = output.argmax(1)  # 最大値を取るラベルを予測ラベルとする\n",
    "        acc_val += (pred == y).float().sum().item()\n",
    "        losses_valid.append(loss.tolist())\n",
    "    scheduler.step()\n",
    "    # Visualize loss & accuracy    \n",
    "    losstrain.append(np.mean(losses_train))\n",
    "    Accuracytrain.append(acc_train/n_train)\n",
    "    lossvalid.append(np.mean(losses_train))\n",
    "    Accuracyvalid.append(acc_val/n_val)\n",
    "    print('EPOCH: {}, Train [Loss: {:.3f}, Accuracy: {:.3f}], Valid [Loss: {:.3f}, Accuracy: {:.3f}]'\n",
    "          .format(epoch,np.mean(losses_train),acc_train/n_train,np.mean(losses_valid),acc_val/n_val))"
   ]
  },
  {
   "cell_type": "code",
   "execution_count": 33,
   "metadata": {},
   "outputs": [
    {
     "data": {
      "image/png": "[encoded data removed]",
      "text/plain": [
       "<Figure size 432x288 with 1 Axes>"
      ]
     },
     "metadata": {
      "needs_background": "light"
     },
     "output_type": "display_data"
    },
    {
     "data": {
      "text/plain": [
       "<Figure size 432x288 with 0 Axes>"
      ]
     },
     "metadata": {},
     "output_type": "display_data"
    }
   ],
   "source": [
    "# train processing plot\n",
    "n_epoches = 200\n",
    "epochs=range(1,n_epoches+1)\n",
    "plt.ylim(0,1.0)\n",
    "plt.plot(epochs,Accuracytrain,'b',label='Training accuracy')  \n",
    "plt.plot(epochs, Accuracyvalid,'r',label='Validation accuracy')\n",
    "plt.title('Training and Validation accuracy')\n",
    "plt.legend()\n",
    "plt.figure()\n",
    "plt.show()"
   ]
  },
  {
   "cell_type": "markdown",
   "metadata": {},
   "source": [
    "# test with testdata"
   ]
  },
  {
   "cell_type": "code",
   "execution_count": 36,
   "metadata": {},
   "outputs": [
    {
     "name": "stdout",
     "output_type": "stream",
     "text": [
      "total_test: 644\n",
      "accuracy_score: 0.924\n",
      "precision_score: 1.000\n",
      "roc_auc_score: 0.994\n"
     ]
    },
    {
     "data": {
      "image/png": "[encoded data removed]",
      "text/plain": [
       "<Figure size 432x288 with 1 Axes>"
      ]
     },
     "metadata": {
      "needs_background": "light"
     },
     "output_type": "display_data"
    }
   ],
   "source": [
    "# Test\n",
    "X = X_test\n",
    "y = y_test\n",
    "y_pred = []\n",
    "out_pred = []\n",
    "total = X.shape[0]\n",
    "\n",
    "model.eval()\n",
    "for n in range(total):\n",
    "    img = X[n]\n",
    "    label = y[n]\n",
    "    transform = transforms.Compose([transforms.ToTensor()])\n",
    "    input_tensor = transform(img).unsqueeze(0).to(device)\n",
    "    output = model(input_tensor)\n",
    "    pred = output.argmax(1).cpu().item()\n",
    "    out_pred.append(output[0][1].item())\n",
    "    y_pred.append(pred)\n",
    "\n",
    "y_pred = np.array(y_pred)\n",
    "out_pred = np.array(out_pred)\n",
    "print(\"total_test: {:}\" .format(total))\n",
    "print('accuracy_score: {:.3f}'.format(accuracy_score(y,y_pred)))\n",
    "print('precision_score: {:.3f}'.format(precision_score(y,y_pred)))\n",
    "print('roc_auc_score: {:.3f}'.format(roc_auc_score(y, out_pred)))\n",
    "\n",
    "fpr, tpr, thresholds = roc_curve(y, out_pred,drop_intermediate=True)\n",
    "plt.plot(fpr, tpr, marker='.')\n",
    "plt.xlabel('FPR: False positive rate')\n",
    "plt.ylabel('TPR: True positive rate')\n",
    "plt.grid()"
   ]
  },
  {
   "cell_type": "code",
   "execution_count": null,
   "metadata": {},
   "outputs": [],
   "source": []
  },
  {
   "cell_type": "markdown",
   "metadata": {},
   "source": [
    "## test by category"
   ]
  },
  {
   "cell_type": "code",
   "execution_count": 212,
   "metadata": {},
   "outputs": [],
   "source": [
    "def predict(model,input_tensor,true_y):\n",
    "    model.eval()\n",
    "    output = model(input_tensor)\n",
    "    pre_y = output.argmax(1).cpu().item()\n",
    "    return pre_y==true_y, pre_y"
   ]
  },
  {
   "cell_type": "code",
   "execution_count": 213,
   "metadata": {},
   "outputs": [
    {
     "name": "stderr",
     "output_type": "stream",
     "text": [
      "/tmp/10323609.1.gpu/ipykernel_222014/2976431380.py:5: TqdmDeprecationWarning: This function will be removed in tqdm==5.0.0\n",
      "Please use `tqdm.notebook.tqdm` instead of `tqdm.tqdm_notebook`\n",
      "  for n in tqdm(range(total)):\n"
     ]
    },
    {
     "data": {
      "application/vnd.jupyter.widget-view+json": {
       "model_id": "4db1cadaf99b44ccb4365ebf8f975286",
       "version_major": 2,
       "version_minor": 0
      },
      "text/plain": [
       "  0%|          | 0/65969 [00:00<?, ?it/s]"
      ]
     },
     "metadata": {},
     "output_type": "display_data"
    },
    {
     "name": "stdout",
     "output_type": "stream",
     "text": [
      "00 accuracy is  0.9692128120784005\n",
      "count/total is  63938 65969\n"
     ]
    }
   ],
   "source": [
    "total = Data_01.shape[0]\n",
    "count = 0\n",
    "true_y = 0\n",
    "# fig, ax = plt.subplots(5,5, figsize = (40,40))\n",
    "for n in tqdm(range(total)):\n",
    "    img = Data_01[n]\n",
    "    transform = transforms.Compose([transforms.ToTensor()])\n",
    "    input_tensor = transform(img).unsqueeze(0).to(device)\n",
    "    tf,pred = predict(model,input_tensor,true_y)\n",
    "    if tf == True:\n",
    "        count+=1\n",
    "print(\"00 accuracy is \", count/total)\n",
    "print(\"count/total is \", count,total)"
   ]
  },
  {
   "cell_type": "code",
   "execution_count": 214,
   "metadata": {},
   "outputs": [
    {
     "name": "stderr",
     "output_type": "stream",
     "text": [
      "/tmp/10323609.1.gpu/ipykernel_222014/1204296283.py:5: TqdmDeprecationWarning: This function will be removed in tqdm==5.0.0\n",
      "Please use `tqdm.notebook.tqdm` instead of `tqdm.tqdm_notebook`\n",
      "  for n in tqdm(range(total)):\n"
     ]
    },
    {
     "data": {
      "application/vnd.jupyter.widget-view+json": {
       "model_id": "319a16c0f4424601abd7aaaeea5753e9",
       "version_major": 2,
       "version_minor": 0
      },
      "text/plain": [
       "  0%|          | 0/3219 [00:00<?, ?it/s]"
      ]
     },
     "metadata": {},
     "output_type": "display_data"
    },
    {
     "name": "stdout",
     "output_type": "stream",
     "text": [
      "01 accuracy is  0.9906803355079217\n",
      "count/total is  3189 3219\n"
     ]
    }
   ],
   "source": [
    "total = Data_02Nami.shape[0]\n",
    "count = 0\n",
    "true_y = 1\n",
    "# fig, ax = plt.subplots(5,5, figsize = (40,40))\n",
    "for n in tqdm(range(total)):\n",
    "    img = Data_02Nami[n]\n",
    "    transform = transforms.Compose([transforms.ToTensor()])\n",
    "    input_tensor = transform(img).unsqueeze(0).to(device)\n",
    "    tf,pred = predict(model,input_tensor,true_y)\n",
    "    if tf == True:\n",
    "        count+=1\n",
    "print(\"01 accuracy is \", count/total)\n",
    "print(\"count/total is \", count,total)"
   ]
  },
  {
   "cell_type": "markdown",
   "metadata": {},
   "source": [
    "# save model"
   ]
  },
  {
   "cell_type": "code",
   "execution_count": 35,
   "metadata": {},
   "outputs": [],
   "source": [
    "for param in model.parameters():\n",
    "    param.requires_grad = True\n",
    "torch.save(model,\"SelfResnet18_L2F1_250.pkl\")"
   ]
  },
  {
   "cell_type": "code",
   "execution_count": null,
   "metadata": {},
   "outputs": [],
   "source": []
  },
  {
   "cell_type": "code",
   "execution_count": null,
   "metadata": {},
   "outputs": [],
   "source": []
  }
 ],
 "metadata": {
  "accelerator": "GPU",
  "colab": {
   "collapsed_sections": [],
   "name": "KIMIA_CNN.ipynb",
   "provenance": []
  },
  "kernelspec": {
   "display_name": "Python 3 (ipykernel)",
   "language": "python",
   "name": "python3"
  },
  "language_info": {
   "codemirror_mode": {
    "name": "ipython",
    "version": 3
   },
   "file_extension": ".py",
   "mimetype": "text/x-python",
   "name": "python",
   "nbconvert_exporter": "python",
   "pygments_lexer": "ipython3",
   "version": "3.10.4"
  },
  "toc": {
   "base_numbering": 1,
   "nav_menu": {},
   "number_sections": true,
   "sideBar": true,
   "skip_h1_title": false,
   "title_cell": "Table of Contents",
   "title_sidebar": "Contents",
   "toc_cell": false,
   "toc_position": {},
   "toc_section_display": true,
   "toc_window_display": false
  }
 },
 "nbformat": 4,
 "nbformat_minor": 1
}
