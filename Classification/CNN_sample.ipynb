{
 "cells": [
  {
   "cell_type": "code",
   "execution_count": 1,
   "id": "e3e51c74",
   "metadata": {},
   "outputs": [],
   "source": [
    "import cv2,os\n",
    "import numpy as np\n",
    "from matplotlib import pyplot as plt"
   ]
  },
  {
   "cell_type": "code",
   "execution_count": 2,
   "id": "7bb85a4e",
   "metadata": {},
   "outputs": [
    {
     "name": "stdout",
     "output_type": "stream",
     "text": [
      "Data_01.shape: (45870,)\n",
      "Data_02Nami.shape: (9321,)\n"
     ]
    }
   ],
   "source": [
    "mask = False\n",
    "lens = \"20\"\n",
    "\n",
    "if mask == True:\n",
    "    Data_02Nami=np.load(\"imread_02Namix\"+str(lens)+\"_mask.npy\",allow_pickle=True)\n",
    "    Data_01=np.load(\"imread_01x\"+str(lens)+\"_mask.npy\",allow_pickle=True)\n",
    "else:\n",
    "    Data_02Nami=np.load(\"imread_02Namix\"+str(lens)+\"_nomask.npy\",allow_pickle=True)\n",
    "    Data_01=np.load(\"imread_01x\"+str(lens)+\"_nomask.npy\",allow_pickle=True)\n",
    "\n",
    "\n",
    "print(\"Data_01.shape:\", Data_01.shape)\n",
    "print(\"Data_02Nami.shape:\", Data_02Nami.shape)"
   ]
  },
  {
   "cell_type": "markdown",
   "id": "06ee8bdd",
   "metadata": {},
   "source": [
    "# Padding"
   ]
  },
  {
   "cell_type": "code",
   "execution_count": 3,
   "id": "7d8c62b4",
   "metadata": {},
   "outputs": [],
   "source": [
    "if int(lens) == 40:\n",
    "    Max_shape_0 = 512\n",
    "    Max_shape_1 = 512\n",
    "elif int(lens) == 20:\n",
    "    Max_shape_0 = 256\n",
    "    Max_shape_1 = 256"
   ]
  },
  {
   "cell_type": "code",
   "execution_count": 4,
   "id": "eaea964a",
   "metadata": {},
   "outputs": [
    {
     "name": "stdout",
     "output_type": "stream",
     "text": [
      "DataPad_01:  45870\n"
     ]
    }
   ],
   "source": [
    "#　同じサイズにする\n",
    "DataPad_01=[]\n",
    "\n",
    "for img in Data_01:\n",
    "    imgSize = img.shape\n",
    "    \n",
    "    top_size,bottom_size = (Max_shape_0-imgSize[0])//2,(Max_shape_0-imgSize[0])//2\n",
    "    left_size,right_size = (Max_shape_1-imgSize[1])//2,(Max_shape_1-imgSize[1])//2\n",
    "    \n",
    "    if (imgSize[0] % 2) != 0:\n",
    "        top_size,bottom_size = (Max_shape_0-imgSize[0])//2,(Max_shape_0-imgSize[0])//2+1\n",
    "        \n",
    "    if (imgSize[1] % 2) != 0:     \n",
    "        left_size,right_size = (Max_shape_1-imgSize[1])//2,(Max_shape_1-imgSize[1])//2+1\n",
    "    \n",
    "    img_pad = cv2.copyMakeBorder(img,top_size,bottom_size,left_size,right_size,cv2.BORDER_CONSTANT,value=(0,0,0))\n",
    "  \n",
    "    DataPad_01.append(img_pad)\n",
    "\n",
    "print(\"DataPad_01: \",len(DataPad_01))"
   ]
  },
  {
   "cell_type": "code",
   "execution_count": 5,
   "id": "381bdbd6",
   "metadata": {},
   "outputs": [
    {
     "name": "stdout",
     "output_type": "stream",
     "text": [
      "DataPad_02Nami:  9321\n"
     ]
    }
   ],
   "source": [
    "#　同じサイズにする\n",
    "DataPad_02Nami=[]\n",
    "\n",
    "for img in Data_02Nami:\n",
    "    imgSize = img.shape\n",
    "    \n",
    "    top_size,bottom_size = (Max_shape_0-imgSize[0])//2,(Max_shape_0-imgSize[0])//2\n",
    "    left_size,right_size = (Max_shape_1-imgSize[1])//2,(Max_shape_1-imgSize[1])//2\n",
    "    \n",
    "    if (imgSize[0] % 2) != 0:\n",
    "        top_size,bottom_size = (Max_shape_0-imgSize[0])//2,(Max_shape_0-imgSize[0])//2+1\n",
    "        \n",
    "    if (imgSize[1] % 2) != 0:     \n",
    "        left_size,right_size = (Max_shape_1-imgSize[1])//2,(Max_shape_1-imgSize[1])//2+1\n",
    "    \n",
    "    img_pad = cv2.copyMakeBorder(img,top_size,bottom_size,left_size,right_size,cv2.BORDER_CONSTANT,value=(0,0,0))\n",
    "  \n",
    "    DataPad_02Nami.append(img_pad)\n",
    "\n",
    "print(\"DataPad_02Nami: \",len(DataPad_02Nami))"
   ]
  },
  {
   "cell_type": "markdown",
   "id": "61f38e42",
   "metadata": {},
   "source": [
    "# Split"
   ]
  },
  {
   "cell_type": "code",
   "execution_count": 6,
   "id": "99813d12",
   "metadata": {},
   "outputs": [],
   "source": [
    "DataPad_01 = DataPad_01\n",
    "DataLabel_01 = np.zeros(len(DataPad_01), dtype=np.int)\n",
    "\n",
    "DataPad_02Nami = DataPad_02Nami\n",
    "DataLabel_02Nami = np.ones(len(DataPad_02Nami), dtype=np.int)"
   ]
  },
  {
   "cell_type": "code",
   "execution_count": 7,
   "id": "022d4112",
   "metadata": {},
   "outputs": [
    {
     "name": "stdout",
     "output_type": "stream",
     "text": [
      "Total number of train :  38633\n",
      "train_class_0 num :  32109\n",
      "train_class_1 num :  6524\n",
      "\n",
      "Total number of test :  16558\n",
      "test_class_0 num :  13761\n",
      "test_class_1 num :  2797\n"
     ]
    }
   ],
   "source": [
    "from sklearn.model_selection import train_test_split\n",
    "\n",
    "X_train_0, X_test_0, y_train_0, y_test_0 = train_test_split(DataPad_01, DataLabel_01,\n",
    "                                                                            test_size=0.3, random_state=42)\n",
    "\n",
    "\n",
    "X_train_1, X_test_1, y_train_1, y_test_1 = train_test_split(DataPad_02Nami, DataLabel_02Nami,\n",
    "                                                                            test_size=0.3, random_state=42)\n",
    "\n",
    "X_train, X_test = np.concatenate((X_train_0, X_train_1), axis = 0), np.concatenate((X_test_0, X_test_1), axis = 0)\n",
    "y_train, y_test = np.concatenate((y_train_0, y_train_1), axis = 0), np.concatenate((y_test_0, y_test_1), axis = 0)\n",
    "\n",
    "\n",
    "print(\"Total number of train : \", len(y_train))\n",
    "print(\"train_class_0 num : \", y_train.tolist().count(0))\n",
    "print(\"train_class_1 num : \", y_train.tolist().count(1))\n",
    "print(\"\")\n",
    "\n",
    "print(\"Total number of test : \", len(y_test))\n",
    "print(\"test_class_0 num : \", y_test.tolist().count(0))\n",
    "print(\"test_class_1 num : \", y_test.tolist().count(1))"
   ]
  },
  {
   "cell_type": "markdown",
   "id": "ef872283",
   "metadata": {},
   "source": [
    "# データ前処理"
   ]
  },
  {
   "cell_type": "code",
   "execution_count": 8,
   "id": "06f3fa3d",
   "metadata": {},
   "outputs": [
    {
     "data": {
      "text/plain": [
       "'1.9.0+cu102'"
      ]
     },
     "execution_count": 8,
     "metadata": {},
     "output_type": "execute_result"
    }
   ],
   "source": [
    "import torch\n",
    "from torchvision import transforms\n",
    "from tqdm import tqdm_notebook as tqdm\n",
    "from PIL import Image\n",
    "from sklearn.model_selection import train_test_split\n",
    "torch.__version__"
   ]
  },
  {
   "cell_type": "code",
   "execution_count": 9,
   "id": "303bf176",
   "metadata": {},
   "outputs": [],
   "source": [
    "class train_dataset(torch.utils.data.Dataset):\n",
    "    def __init__(self, x_train, y_train):\n",
    "        data = x_train.astype('float32')\n",
    "        self.x_train = []\n",
    "        for i in range(data.shape[0]):\n",
    "            self.x_train.append(Image.fromarray(np.uint8(data[i])))\n",
    "        self.y_train = y_train\n",
    "        self.transform = transforms.ToTensor()\n",
    "\n",
    "    def __len__(self):\n",
    "        return len(self.x_train)\n",
    "\n",
    "    def __getitem__(self, idx):\n",
    "        return self.transform(self.x_train[idx]), torch.tensor(y_train[idx], dtype=torch.long)\n",
    "\n",
    "    \n",
    "class test_dataset(torch.utils.data.Dataset):\n",
    "    def __init__(self, x_test, y_test):\n",
    "        data = x_test.astype('float32')\n",
    "        self.x_test = []\n",
    "        for i in range(data.shape[0]):\n",
    "            self.x_test.append(Image.fromarray(np.uint8(data[i])))\n",
    "        self.y_test = y_test\n",
    "        self.transform = transforms.ToTensor()\n",
    "\n",
    "    def __len__(self):\n",
    "        return len(self.x_test)\n",
    "\n",
    "    def __getitem__(self, idx):\n",
    "        return self.transform(self.x_test[idx]), torch.tensor(y_test[idx], dtype=torch.long)\n",
    "\n",
    "trainval_data = train_dataset(X_train, y_train)\n",
    "test_data = test_dataset(X_test, y_test)"
   ]
  },
  {
   "cell_type": "code",
   "execution_count": 10,
   "id": "1f0d80ae",
   "metadata": {},
   "outputs": [
    {
     "name": "stdout",
     "output_type": "stream",
     "text": [
      "train_size:  30907\n",
      "val_size:  7726\n",
      "test_size:  16558\n"
     ]
    }
   ],
   "source": [
    "batch_size = 32\n",
    "\n",
    "val_size = int(len(trainval_data)*0.2)\n",
    "train_size = len(trainval_data) - val_size\n",
    "print(\"train_size: \",train_size)\n",
    "print(\"val_size: \",val_size)\n",
    "print(\"test_size: \",len(y_test))\n",
    "\n",
    "train_data, val_data = torch.utils.data.random_split(trainval_data, [train_size, val_size])\n",
    "\n",
    "dataloader_train = torch.utils.data.DataLoader(\n",
    "    train_data,\n",
    "    batch_size=batch_size,\n",
    "    shuffle=True\n",
    ")\n",
    "\n",
    "dataloader_valid = torch.utils.data.DataLoader(\n",
    "    val_data,\n",
    "    batch_size=batch_size,\n",
    "    shuffle=True\n",
    ")\n",
    "\n",
    "dataloader_test = torch.utils.data.DataLoader(\n",
    "    test_data,\n",
    "    batch_size=batch_size,\n",
    "    shuffle=True\n",
    ")"
   ]
  },
  {
   "cell_type": "markdown",
   "id": "874001a4",
   "metadata": {},
   "source": [
    "# ResNet遷移学習"
   ]
  },
  {
   "cell_type": "code",
   "execution_count": 11,
   "id": "ffdbaf41",
   "metadata": {},
   "outputs": [],
   "source": [
    "import torch\n",
    "import torchvision.models as models\n",
    "import torch.nn as nn"
   ]
  },
  {
   "cell_type": "code",
   "execution_count": 12,
   "id": "cdff05e2",
   "metadata": {},
   "outputs": [],
   "source": [
    "# FC層のクラス数を変更\n",
    "\n",
    "model = models.resnet101(pretrained=True)\n",
    "num_fcs = model.fc.in_features\n",
    "\n",
    "# Freeze model weights\n",
    "for param in model.parameters():\n",
    "    param.requires_grad = False\n",
    "    \n",
    "model.fc = nn.Sequential(\n",
    "    nn.Linear(num_fcs, 256),\n",
    "    nn.Dropout(p=0.5),\n",
    "    nn.ReLU(inplace=True),\n",
    "    nn.Linear(256, 2)\n",
    ")\n",
    "\n",
    "for param in model.fc.parameters():\n",
    "    param.requires_grad = True\n",
    "    \n",
    "model.avgpool = nn.AdaptiveAvgPool2d(1)\n",
    "model = model.cuda()"
   ]
  },
  {
   "cell_type": "code",
   "execution_count": 13,
   "id": "0d4b6fb3",
   "metadata": {},
   "outputs": [
    {
     "name": "stderr",
     "output_type": "stream",
     "text": [
      "/home/acd13264yb/jupyter_env/lib/python3.6/site-packages/torch/nn/functional.py:718: UserWarning: Named tensors and all their associated APIs are an experimental feature and subject to change. Please do not use them for anything important until they are released as stable. (Triggered internally at  /pytorch/c10/core/TensorImpl.h:1156.)\n",
      "  return torch.max_pool2d(input, kernel_size, stride, padding, dilation, ceil_mode)\n"
     ]
    },
    {
     "name": "stdout",
     "output_type": "stream",
     "text": [
      "EPOCH: 0, Train [Loss: 0.226, Accuracy: 0.918], Valid [Loss: 0.107, Accuracy: 0.963]\n",
      "EPOCH: 1, Train [Loss: 0.241, Accuracy: 0.885], Valid [Loss: 0.163, Accuracy: 0.963]\n",
      "EPOCH: 2, Train [Loss: 0.231, Accuracy: 0.887], Valid [Loss: 0.108, Accuracy: 0.966]\n",
      "EPOCH: 3, Train [Loss: 0.224, Accuracy: 0.887], Valid [Loss: 0.127, Accuracy: 0.941]\n",
      "EPOCH: 4, Train [Loss: 0.227, Accuracy: 0.886], Valid [Loss: 0.110, Accuracy: 0.960]\n",
      "EPOCH: 5, Train [Loss: 0.227, Accuracy: 0.888], Valid [Loss: 0.184, Accuracy: 0.832]\n",
      "EPOCH: 6, Train [Loss: 0.263, Accuracy: 0.848], Valid [Loss: 0.159, Accuracy: 0.968]\n",
      "EPOCH: 7, Train [Loss: 0.257, Accuracy: 0.856], Valid [Loss: 0.142, Accuracy: 0.960]\n",
      "EPOCH: 8, Train [Loss: 0.256, Accuracy: 0.854], Valid [Loss: 0.154, Accuracy: 0.962]\n",
      "EPOCH: 9, Train [Loss: 0.264, Accuracy: 0.844], Valid [Loss: 0.158, Accuracy: 0.966]\n"
     ]
    }
   ],
   "source": [
    "n_epochs = 10\n",
    "lr = 0.01\n",
    "\n",
    "# negative : ラベル0の数\n",
    "# positive : ラベル1の数\n",
    "# weight_for_0 : 1. / negative * (negative + positive)\n",
    "# weight_for_1 : 1. / positive * (negative + positive)\n",
    "# class_weight = {0 : weight_for_0, 1 : weight_for_1}\n",
    "# weights = torch.tensor([(45870+9321)/45870, (45870+9321)/9321]).cuda()\n",
    "loss_function = nn.CrossEntropyLoss()\n",
    "optimizer = torch.optim.Adam(model.parameters(), lr=lr) \n",
    "device = 'cuda'\n",
    "\n",
    "losstrain=[]\n",
    "lossvalid=[]\n",
    "Accuracytrain=[]\n",
    "Accuracyvalid=[]\n",
    "\n",
    "for epoch in range(n_epochs):\n",
    "    losses_train = []\n",
    "    losses_valid = []\n",
    "    # Train\n",
    "    model.train()\n",
    "    n_train = 0\n",
    "    acc_train = 0\n",
    "    for x, t in dataloader_train:\n",
    "        n_train += t.size()[0]\n",
    "        model.zero_grad()  # 勾配の初期化\n",
    "        x = x.to(device)  # テンソルをGPUに移動\n",
    "        t = t.to(device)\n",
    "        y = model.forward(x)  # 順伝播\n",
    "        loss = loss_function(y, t)  # 誤差(クロスエントロピー誤差関数)の計算\n",
    "        loss.backward()  # 誤差の逆伝播\n",
    "        optimizer.step()  # パラメータの更新\n",
    "        pred = y.argmax(1)  # 最大値を取るラベルを予測ラベルとする\n",
    "        acc_train += (pred == t).float().sum().item()\n",
    "        losses_train.append(loss.tolist())\n",
    "    # Evaluate\n",
    "    model.eval()\n",
    "    n_val = 0\n",
    "    acc_val = 0\n",
    "    for x, t in dataloader_valid:\n",
    "        n_val += t.size()[0]\n",
    "        x = x.to(device)  # テンソルをGPUに移動\n",
    "        t = t.to(device)\n",
    "        y = model.forward(x)  # 順伝播\n",
    "        loss = loss_function(y, t)  # 誤差(クロスエントロピー誤差関数)の計算\n",
    "        pred = y.argmax(1)  # 最大値を取るラベルを予測ラベルとする\n",
    "        acc_val += (pred == t).float().sum().item()\n",
    "        losses_valid.append(loss.tolist())\n",
    "    # Visualize loss & accuracy    \n",
    "    losstrain.append(np.mean(losses_train))   \n",
    "    Accuracytrain.append(acc_train/n_train)\n",
    "    lossvalid.append(np.mean(losses_train))\n",
    "    Accuracyvalid.append(acc_val/n_val)\n",
    "    print('EPOCH: {}, Train [Loss: {:.3f}, Accuracy: {:.3f}], Valid [Loss: {:.3f}, Accuracy: {:.3f}]'.format(epoch,np.mean(losses_train),acc_train/n_train,np.mean(losses_valid),acc_val/n_val))"
   ]
  },
  {
   "cell_type": "code",
   "execution_count": 14,
   "id": "8f2937f4",
   "metadata": {},
   "outputs": [
    {
     "data": {
      "image/png": "[encoded data removed]",
      "text/plain": [
       "<Figure size 432x288 with 1 Axes>"
      ]
     },
     "metadata": {
      "needs_background": "light"
     },
     "output_type": "display_data"
    },
    {
     "data": {
      "text/plain": [
       "<Figure size 432x288 with 0 Axes>"
      ]
     },
     "metadata": {},
     "output_type": "display_data"
    }
   ],
   "source": [
    "# train processing plot\n",
    "epochs=range(1,n_epochs+1)\n",
    "\n",
    "plt.plot(epochs,Accuracytrain,'b',label='Training accuracy')  \n",
    "plt.plot(epochs, Accuracyvalid,'r',label='Validation accuracy')\n",
    "plt.title('Training and Validation accuracy')\n",
    "plt.legend()\n",
    "plt.figure()\n",
    "plt.show()"
   ]
  },
  {
   "cell_type": "code",
   "execution_count": 15,
   "id": "4ef7a7ba",
   "metadata": {},
   "outputs": [
    {
     "name": "stdout",
     "output_type": "stream",
     "text": [
      "acc_test:  16020.0\n",
      "n_test:  16558\n",
      "Loss: 0.159, Accuracy: 0.968\n"
     ]
    }
   ],
   "source": [
    "losses_test = []\n",
    "n_test = 0\n",
    "acc_test = 0\n",
    "model.eval()\n",
    "\n",
    "for x, t in dataloader_test:\n",
    "        n_test += t.size()[0]\n",
    "        x = x.to(device)  # テンソルをGPUに移動\n",
    "        t = t.to(device)\n",
    "        y = model.forward(x)  # 順伝播\n",
    "        loss = loss_function(y, t)  # 誤差(クロスエントロピー誤差関数)の計算\n",
    "        pred = y.argmax(1)  # 最大値を取るラベルを予測ラベルとする\n",
    "        acc_test += (pred == t).float().sum().item()\n",
    "        losses_test.append(loss.tolist())\n",
    "\n",
    "# Visualize loss & accuracy \n",
    "print(\"acc_test: \", acc_test) \n",
    "print(\"n_test: \", n_test)\n",
    "print('Loss: {:.3f}, Accuracy: {:.3f}'.format(np.mean(losses_test),acc_test/n_test))"
   ]
  },
  {
   "cell_type": "code",
   "execution_count": null,
   "id": "0878a36d",
   "metadata": {},
   "outputs": [],
   "source": []
  }
 ],
 "metadata": {
  "kernelspec": {
   "display_name": "Python 3",
   "language": "python",
   "name": "python3"
  },
  "language_info": {
   "codemirror_mode": {
    "name": "ipython",
    "version": 3
   },
   "file_extension": ".py",
   "mimetype": "text/x-python",
   "name": "python",
   "nbconvert_exporter": "python",
   "pygments_lexer": "ipython3",
   "version": "3.6.12"
  }
 },
 "nbformat": 4,
 "nbformat_minor": 5
}
