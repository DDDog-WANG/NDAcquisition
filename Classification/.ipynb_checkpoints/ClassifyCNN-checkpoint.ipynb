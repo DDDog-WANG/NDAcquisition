{
 "cells": [
  {
   "cell_type": "code",
   "execution_count": 2,
   "metadata": {},
   "outputs": [],
   "source": [
    "import cv2,os\n",
    "from PIL import Image\n",
    "import numpy as np\n",
    "from matplotlib import pyplot as plt\n",
    "from tqdm import tqdm_notebook as tqdm\n",
    "\n",
    "from sklearn.model_selection import train_test_split\n",
    "from sklearn.metrics import roc_auc_score,precision_score,accuracy_score,roc_curve\n",
    "import torch\n",
    "import torch.nn as nn\n",
    "from torchvision import transforms\n",
    "import torchvision.models as models"
   ]
  },
  {
   "cell_type": "code",
   "execution_count": 3,
   "metadata": {},
   "outputs": [
    {
     "name": "stdout",
     "output_type": "stream",
     "text": [
      "torch.device(cuda)\n",
      "torch.cuda.device_count():  1\n",
      "Tesla V100-SXM2-16GB\n",
      "torch.cuda.current_device() 0\n"
     ]
    }
   ],
   "source": [
    "if torch.cuda.is_available():\n",
    "    device = torch.device(\"cuda\")\n",
    "    print(\"torch.device(cuda)\")\n",
    "    print(\"torch.cuda.device_count(): \", torch.cuda.device_count())\n",
    "    for i in range(torch.cuda.device_count()):\n",
    "        print(torch.cuda.get_device_name())\n",
    "    print(\"torch.cuda.current_device()\", torch.cuda.current_device())\n",
    "else:\n",
    "    device = torch.device(\"cpu\")\n",
    "    print(\"torch.device(cpu)\")"
   ]
  },
  {
   "cell_type": "markdown",
   "metadata": {
    "id": "aJjxv_T_DNKk"
   },
   "source": [
    "# データの読み込み"
   ]
  },
  {
   "cell_type": "code",
   "execution_count": 88,
   "metadata": {},
   "outputs": [
    {
     "name": "stdout",
     "output_type": "stream",
     "text": [
      "untreaded_train.shape: (10000, 100, 100, 3)\n",
      "VPAtreaded_train.shape: (3000, 100, 100, 3)\n",
      "untreaded_test.shape: (210, 100, 100, 3)\n",
      "VPAtreaded_test.shape: (210, 100, 100, 3)\n"
     ]
    }
   ],
   "source": [
    "# Data(x)\n",
    "# untreaded_train=np.load(\"results2022/untreaded_train.npy\",allow_pickle=True)\n",
    "untreaded_train=np.load(\"results2022/untreaded_train_all.npy\",allow_pickle=True)[:10000]\n",
    "VPAtreaded_train=np.load(\"results2022/VPAtreaded_train.npy\",allow_pickle=True)\n",
    "untreaded_test=np.load(\"results2022/untreaded_test.npy\",allow_pickle=True)\n",
    "VPAtreaded_test=np.load(\"results2022/VPAtreaded_test.npy\",allow_pickle=True)\n",
    "\n",
    "print(\"untreaded_train.shape:\", untreaded_train.shape)\n",
    "print(\"VPAtreaded_train.shape:\", VPAtreaded_train.shape)\n",
    "print(\"untreaded_test.shape:\", untreaded_test.shape)\n",
    "print(\"VPAtreaded_test.shape:\", VPAtreaded_test.shape)"
   ]
  },
  {
   "cell_type": "code",
   "execution_count": 89,
   "metadata": {},
   "outputs": [],
   "source": [
    "# Label(y)\n",
    "y_untreaded_train = np.zeros(len(untreaded_train), dtype=np.int32)\n",
    "y_VPAtreaded_train = np.ones(len(VPAtreaded_train), dtype=np.int32)\n",
    "\n",
    "y_untreaded_test = np.zeros(len(untreaded_test), dtype=np.int32)\n",
    "y_VPAtreaded_test = np.ones(len(VPAtreaded_test), dtype=np.int32)"
   ]
  },
  {
   "cell_type": "code",
   "execution_count": 90,
   "metadata": {},
   "outputs": [],
   "source": [
    "# concatenate x and y\n",
    "X_train, X_test = np.concatenate((untreaded_train, VPAtreaded_train), axis = 0), np.concatenate((untreaded_test, VPAtreaded_test), axis = 0)\n",
    "y_train, y_test = np.concatenate((y_untreaded_train, y_VPAtreaded_train), axis = 0), np.concatenate((y_untreaded_test, y_VPAtreaded_test), axis = 0)"
   ]
  },
  {
   "cell_type": "markdown",
   "metadata": {
    "id": "qyvCoE-HDNKm"
   },
   "source": [
    "# データ前処理"
   ]
  },
  {
   "cell_type": "code",
   "execution_count": 129,
   "metadata": {
    "executionInfo": {
     "elapsed": 290,
     "status": "ok",
     "timestamp": 1627023529885,
     "user": {
      "displayName": "Yicheng Wang",
      "photoUrl": "https://lh3.googleusercontent.com/a-/AOh14GgziKLn_im8Zl7A_SAzLLRm66nioH7fG0xuCYpJYg=s64",
      "userId": "10487961361854797289"
     },
     "user_tz": -540
    },
    "id": "Fh058iRlDNKm"
   },
   "outputs": [],
   "source": [
    "class cell_dataset(torch.utils.data.Dataset):\n",
    "    def __init__(self, x, y):\n",
    "        self.x = x\n",
    "        self.y = y\n",
    "        self.transform = transforms.ToTensor()\n",
    "    def __len__(self):\n",
    "        return len(self.x)\n",
    "    def __getitem__(self, idx):\n",
    "        return self.transform(self.x[idx]), torch.tensor(self.y[idx], dtype=torch.long)\n",
    "\n",
    "# trainval_data = cell_dataset(X_train, y_train)\n",
    "train_data = cell_dataset(X_train, y_train)\n",
    "val_data = cell_dataset(X_test, y_test)"
   ]
  },
  {
   "cell_type": "code",
   "execution_count": 130,
   "metadata": {
    "executionInfo": {
     "elapsed": 325,
     "status": "ok",
     "timestamp": 1627023533467,
     "user": {
      "displayName": "Yicheng Wang",
      "photoUrl": "https://lh3.googleusercontent.com/a-/AOh14GgziKLn_im8Zl7A_SAzLLRm66nioH7fG0xuCYpJYg=s64",
      "userId": "10487961361854797289"
     },
     "user_tz": -540
    },
    "id": "xK5exWXUDNKn"
   },
   "outputs": [],
   "source": [
    "batch_size = 128\n",
    "\n",
    "# val_size = int(len(trainval_data)*0.2)\n",
    "# train_size = len(trainval_data) - val_size\n",
    "\n",
    "# train_data, val_data = torch.utils.data.random_split(trainval_data, [train_size, val_size])\n",
    "dataloader_train = torch.utils.data.DataLoader(train_data, batch_size=batch_size, shuffle=True)\n",
    "dataloader_valid = torch.utils.data.DataLoader(val_data, batch_size=batch_size, shuffle=True)"
   ]
  },
  {
   "cell_type": "code",
   "execution_count": 132,
   "metadata": {},
   "outputs": [
    {
     "name": "stdout",
     "output_type": "stream",
     "text": [
      "Total number of train :  13000\n",
      "train_class_0:  10000\n",
      "train_class_1:  3000\n",
      "\n",
      "Total number of val :  420\n",
      "val_class_0:  210\n",
      "val_class_1:  210\n",
      "\n",
      "Total number of test :  420\n",
      "test_class_0 num :  210\n",
      "test_class_1 num :  210\n"
     ]
    }
   ],
   "source": [
    "train_data_01 = 0\n",
    "train_size = len(train_data)\n",
    "for i in range(train_size):\n",
    "    train_data_01+=train_data[i][1].item()\n",
    "print(\"Total number of train : \", train_size)\n",
    "print(\"train_class_0: \", train_size-train_data_01)\n",
    "print(\"train_class_1: \", train_data_01)\n",
    "\n",
    "val_data_01 = 0\n",
    "val_size = len(val_data)\n",
    "for i in range(val_size):\n",
    "    val_data_01+=val_data[i][1].item()\n",
    "print(\"\\nTotal number of val : \", val_size)\n",
    "print(\"val_class_0: \", val_size-val_data_01)\n",
    "print(\"val_class_1: \", val_data_01)\n",
    "\n",
    "test_00 = y_test.tolist().count(0)\n",
    "test_01 = y_test.tolist().count(1)\n",
    "print(\"\\nTotal number of test : \", len(y_test))\n",
    "print(\"test_class_0 num : \", test_00)\n",
    "print(\"test_class_1 num : \", test_01)"
   ]
  },
  {
   "cell_type": "markdown",
   "metadata": {
    "id": "-KBoEbEMDNKo"
   },
   "source": [
    "# ResNet転移学習"
   ]
  },
  {
   "cell_type": "code",
   "execution_count": 134,
   "metadata": {
    "id": "xs6IXgvsDNKp",
    "scrolled": false
   },
   "outputs": [],
   "source": [
    "model = models.resnet18(pretrained=True)\n",
    "\n",
    "model.layer3 = nn.Sequential()\n",
    "model.layer4 = nn.Sequential()\n",
    "\n",
    "model.fc = nn.Sequential(\n",
    "    nn.Linear(128, 2),\n",
    "#     nn.Softmax(dim=1)\n",
    ")"
   ]
  },
  {
   "cell_type": "code",
   "execution_count": 103,
   "metadata": {},
   "outputs": [],
   "source": [
    "# model.fc = nn.Sequential(\n",
    "#     nn.Linear(128, 512),\n",
    "#     nn.Dropout(p=0.5),\n",
    "#     nn.ReLU(inplace=True),\n",
    "#     nn.Linear(512, 256),\n",
    "#     nn.ReLU(inplace=True),\n",
    "#     nn.Linear(256, 2)\n",
    "# )\n",
    "\n",
    "# #Freeze model weights\n",
    "# for param in model.parameters():\n",
    "#     param.requires_grad = True\n",
    "# for param in model.fc.parameters():\n",
    "#     param.requires_grad = True"
   ]
  },
  {
   "cell_type": "code",
   "execution_count": 135,
   "metadata": {},
   "outputs": [],
   "source": [
    "# model = model.cuda()\n",
    "model.to(device)\n",
    "if torch.cuda.device_count() > 1:\n",
    "    model = nn.DataParallel(model)"
   ]
  },
  {
   "cell_type": "code",
   "execution_count": 136,
   "metadata": {},
   "outputs": [
    {
     "name": "stdout",
     "output_type": "stream",
     "text": [
      "torch.Size([1, 2])\n"
     ]
    }
   ],
   "source": [
    "image_size = 100\n",
    "test_input = torch.ones(1,3,image_size,image_size).to(device)\n",
    "print(model(test_input).size())"
   ]
  },
  {
   "cell_type": "code",
   "execution_count": 137,
   "metadata": {
    "scrolled": false
   },
   "outputs": [
    {
     "data": {
      "text/plain": [
       "ResNet(\n",
       "  (conv1): Conv2d(3, 64, kernel_size=(7, 7), stride=(2, 2), padding=(3, 3), bias=False)\n",
       "  (bn1): BatchNorm2d(64, eps=1e-05, momentum=0.1, affine=True, track_running_stats=True)\n",
       "  (relu): ReLU(inplace=True)\n",
       "  (maxpool): MaxPool2d(kernel_size=3, stride=2, padding=1, dilation=1, ceil_mode=False)\n",
       "  (layer1): Sequential(\n",
       "    (0): BasicBlock(\n",
       "      (conv1): Conv2d(64, 64, kernel_size=(3, 3), stride=(1, 1), padding=(1, 1), bias=False)\n",
       "      (bn1): BatchNorm2d(64, eps=1e-05, momentum=0.1, affine=True, track_running_stats=True)\n",
       "      (relu): ReLU(inplace=True)\n",
       "      (conv2): Conv2d(64, 64, kernel_size=(3, 3), stride=(1, 1), padding=(1, 1), bias=False)\n",
       "      (bn2): BatchNorm2d(64, eps=1e-05, momentum=0.1, affine=True, track_running_stats=True)\n",
       "    )\n",
       "    (1): BasicBlock(\n",
       "      (conv1): Conv2d(64, 64, kernel_size=(3, 3), stride=(1, 1), padding=(1, 1), bias=False)\n",
       "      (bn1): BatchNorm2d(64, eps=1e-05, momentum=0.1, affine=True, track_running_stats=True)\n",
       "      (relu): ReLU(inplace=True)\n",
       "      (conv2): Conv2d(64, 64, kernel_size=(3, 3), stride=(1, 1), padding=(1, 1), bias=False)\n",
       "      (bn2): BatchNorm2d(64, eps=1e-05, momentum=0.1, affine=True, track_running_stats=True)\n",
       "    )\n",
       "  )\n",
       "  (layer2): Sequential(\n",
       "    (0): BasicBlock(\n",
       "      (conv1): Conv2d(64, 128, kernel_size=(3, 3), stride=(2, 2), padding=(1, 1), bias=False)\n",
       "      (bn1): BatchNorm2d(128, eps=1e-05, momentum=0.1, affine=True, track_running_stats=True)\n",
       "      (relu): ReLU(inplace=True)\n",
       "      (conv2): Conv2d(128, 128, kernel_size=(3, 3), stride=(1, 1), padding=(1, 1), bias=False)\n",
       "      (bn2): BatchNorm2d(128, eps=1e-05, momentum=0.1, affine=True, track_running_stats=True)\n",
       "      (downsample): Sequential(\n",
       "        (0): Conv2d(64, 128, kernel_size=(1, 1), stride=(2, 2), bias=False)\n",
       "        (1): BatchNorm2d(128, eps=1e-05, momentum=0.1, affine=True, track_running_stats=True)\n",
       "      )\n",
       "    )\n",
       "    (1): BasicBlock(\n",
       "      (conv1): Conv2d(128, 128, kernel_size=(3, 3), stride=(1, 1), padding=(1, 1), bias=False)\n",
       "      (bn1): BatchNorm2d(128, eps=1e-05, momentum=0.1, affine=True, track_running_stats=True)\n",
       "      (relu): ReLU(inplace=True)\n",
       "      (conv2): Conv2d(128, 128, kernel_size=(3, 3), stride=(1, 1), padding=(1, 1), bias=False)\n",
       "      (bn2): BatchNorm2d(128, eps=1e-05, momentum=0.1, affine=True, track_running_stats=True)\n",
       "    )\n",
       "  )\n",
       "  (layer3): Sequential()\n",
       "  (layer4): Sequential()\n",
       "  (avgpool): AdaptiveAvgPool2d(output_size=(1, 1))\n",
       "  (fc): Sequential(\n",
       "    (0): Linear(in_features=128, out_features=2, bias=True)\n",
       "  )\n",
       ")"
      ]
     },
     "execution_count": 137,
     "metadata": {},
     "output_type": "execute_result"
    }
   ],
   "source": [
    "model"
   ]
  },
  {
   "cell_type": "code",
   "execution_count": 138,
   "metadata": {},
   "outputs": [],
   "source": [
    "model.avgpool = nn.AdaptiveAvgPool2d(1)\n",
    "\n",
    "# weight_for_0 : 1. / negative * (negative + positive)\n",
    "# weight_for_1 : 1. / positive * (negative + positive)\n",
    "# class_weight = {0 : weight_for_0, 1 : weight_for_1}\n",
    "weights = torch.tensor([(len(untreaded_train)+len(VPAtreaded_train))/len(untreaded_train), \n",
    "                        (len(untreaded_train)+len(VPAtreaded_train))/len(VPAtreaded_train)]).cuda()\n",
    "loss_function = nn.CrossEntropyLoss(weight=weights)\n",
    "\n",
    "optimizer = torch.optim.Adam(model.parameters(), lr=0.1)  # 定义优化器\n",
    "scheduler = torch.optim.lr_scheduler.ExponentialLR(optimizer, gamma=0.99) # 定义衰减策略"
   ]
  },
  {
   "cell_type": "code",
   "execution_count": 139,
   "metadata": {},
   "outputs": [],
   "source": [
    "losstrain=[]\n",
    "lossvalid=[]\n",
    "Accuracytrain=[]\n",
    "Accuracyvalid=[]"
   ]
  },
  {
   "cell_type": "code",
   "execution_count": 140,
   "metadata": {
    "scrolled": true
   },
   "outputs": [
    {
     "name": "stdout",
     "output_type": "stream",
     "text": [
      "EPOCH: 0, Train [Loss: 0.592, Accuracy: 0.707], Valid [Loss: 0.484, Accuracy: 0.505]\n",
      "EPOCH: 1, Train [Loss: 0.516, Accuracy: 0.761], Valid [Loss: 0.851, Accuracy: 0.612]\n",
      "EPOCH: 2, Train [Loss: 0.508, Accuracy: 0.760], Valid [Loss: 0.808, Accuracy: 0.526]\n",
      "EPOCH: 3, Train [Loss: 0.492, Accuracy: 0.768], Valid [Loss: 0.486, Accuracy: 0.545]\n",
      "EPOCH: 4, Train [Loss: 0.487, Accuracy: 0.774], Valid [Loss: 0.994, Accuracy: 0.502]\n",
      "EPOCH: 5, Train [Loss: 0.492, Accuracy: 0.772], Valid [Loss: 0.482, Accuracy: 0.786]\n",
      "EPOCH: 6, Train [Loss: 0.473, Accuracy: 0.792], Valid [Loss: 0.616, Accuracy: 0.674]\n",
      "EPOCH: 7, Train [Loss: 0.451, Accuracy: 0.807], Valid [Loss: 4.865, Accuracy: 0.500]\n",
      "EPOCH: 8, Train [Loss: 0.441, Accuracy: 0.814], Valid [Loss: 0.447, Accuracy: 0.836]\n",
      "EPOCH: 9, Train [Loss: 0.432, Accuracy: 0.819], Valid [Loss: 0.485, Accuracy: 0.824]\n",
      "EPOCH: 10, Train [Loss: 0.405, Accuracy: 0.839], Valid [Loss: 0.990, Accuracy: 0.550]\n",
      "EPOCH: 11, Train [Loss: 0.407, Accuracy: 0.836], Valid [Loss: 6.241, Accuracy: 0.502]\n",
      "EPOCH: 12, Train [Loss: 0.406, Accuracy: 0.832], Valid [Loss: 0.402, Accuracy: 0.690]\n",
      "EPOCH: 13, Train [Loss: 0.400, Accuracy: 0.831], Valid [Loss: 1.949, Accuracy: 0.617]\n",
      "EPOCH: 14, Train [Loss: 0.394, Accuracy: 0.841], Valid [Loss: 0.908, Accuracy: 0.590]\n",
      "EPOCH: 15, Train [Loss: 0.393, Accuracy: 0.835], Valid [Loss: 2.851, Accuracy: 0.543]\n",
      "EPOCH: 16, Train [Loss: 0.380, Accuracy: 0.846], Valid [Loss: 2.226, Accuracy: 0.526]\n",
      "EPOCH: 17, Train [Loss: 0.396, Accuracy: 0.837], Valid [Loss: 3.716, Accuracy: 0.502]\n",
      "EPOCH: 18, Train [Loss: 0.384, Accuracy: 0.838], Valid [Loss: 0.467, Accuracy: 0.829]\n",
      "EPOCH: 19, Train [Loss: 0.376, Accuracy: 0.842], Valid [Loss: 1.017, Accuracy: 0.752]\n",
      "EPOCH: 20, Train [Loss: 0.371, Accuracy: 0.850], Valid [Loss: 0.758, Accuracy: 0.752]\n",
      "EPOCH: 21, Train [Loss: 0.367, Accuracy: 0.843], Valid [Loss: 3.551, Accuracy: 0.502]\n",
      "EPOCH: 22, Train [Loss: 0.378, Accuracy: 0.845], Valid [Loss: 0.350, Accuracy: 0.790]\n",
      "EPOCH: 23, Train [Loss: 0.367, Accuracy: 0.846], Valid [Loss: 3.923, Accuracy: 0.510]\n",
      "EPOCH: 24, Train [Loss: 0.367, Accuracy: 0.850], Valid [Loss: 0.863, Accuracy: 0.593]\n",
      "EPOCH: 25, Train [Loss: 0.355, Accuracy: 0.852], Valid [Loss: 7.947, Accuracy: 0.536]\n",
      "EPOCH: 26, Train [Loss: 0.365, Accuracy: 0.845], Valid [Loss: 4.105, Accuracy: 0.502]\n",
      "EPOCH: 27, Train [Loss: 0.354, Accuracy: 0.850], Valid [Loss: 1.933, Accuracy: 0.648]\n",
      "EPOCH: 28, Train [Loss: 0.353, Accuracy: 0.847], Valid [Loss: 1.040, Accuracy: 0.605]\n",
      "EPOCH: 29, Train [Loss: 0.352, Accuracy: 0.855], Valid [Loss: 0.447, Accuracy: 0.695]\n",
      "EPOCH: 30, Train [Loss: 0.348, Accuracy: 0.854], Valid [Loss: 24.946, Accuracy: 0.500]\n",
      "EPOCH: 31, Train [Loss: 0.345, Accuracy: 0.854], Valid [Loss: 0.428, Accuracy: 0.686]\n",
      "EPOCH: 32, Train [Loss: 0.343, Accuracy: 0.855], Valid [Loss: 0.517, Accuracy: 0.662]\n",
      "EPOCH: 33, Train [Loss: 0.339, Accuracy: 0.860], Valid [Loss: 6.631, Accuracy: 0.536]\n",
      "EPOCH: 34, Train [Loss: 0.325, Accuracy: 0.860], Valid [Loss: 0.355, Accuracy: 0.755]\n",
      "EPOCH: 35, Train [Loss: 0.331, Accuracy: 0.858], Valid [Loss: 1.064, Accuracy: 0.712]\n",
      "EPOCH: 36, Train [Loss: 0.326, Accuracy: 0.858], Valid [Loss: 0.401, Accuracy: 0.717]\n",
      "EPOCH: 37, Train [Loss: 0.316, Accuracy: 0.866], Valid [Loss: 0.399, Accuracy: 0.776]\n",
      "EPOCH: 38, Train [Loss: 0.318, Accuracy: 0.863], Valid [Loss: 0.672, Accuracy: 0.802]\n",
      "EPOCH: 39, Train [Loss: 0.304, Accuracy: 0.871], Valid [Loss: 1.965, Accuracy: 0.688]\n",
      "EPOCH: 40, Train [Loss: 0.298, Accuracy: 0.870], Valid [Loss: 0.426, Accuracy: 0.857]\n",
      "EPOCH: 41, Train [Loss: 0.295, Accuracy: 0.870], Valid [Loss: 0.628, Accuracy: 0.786]\n",
      "EPOCH: 42, Train [Loss: 0.293, Accuracy: 0.875], Valid [Loss: 0.329, Accuracy: 0.843]\n",
      "EPOCH: 43, Train [Loss: 0.285, Accuracy: 0.878], Valid [Loss: 0.393, Accuracy: 0.776]\n",
      "EPOCH: 44, Train [Loss: 0.286, Accuracy: 0.877], Valid [Loss: 0.244, Accuracy: 0.850]\n",
      "EPOCH: 45, Train [Loss: 0.282, Accuracy: 0.880], Valid [Loss: 0.399, Accuracy: 0.748]\n",
      "EPOCH: 46, Train [Loss: 0.271, Accuracy: 0.884], Valid [Loss: 0.236, Accuracy: 0.852]\n",
      "EPOCH: 47, Train [Loss: 0.264, Accuracy: 0.888], Valid [Loss: 0.393, Accuracy: 0.852]\n",
      "EPOCH: 48, Train [Loss: 0.252, Accuracy: 0.893], Valid [Loss: 0.420, Accuracy: 0.812]\n",
      "EPOCH: 49, Train [Loss: 0.242, Accuracy: 0.899], Valid [Loss: 0.323, Accuracy: 0.895]\n",
      "EPOCH: 50, Train [Loss: 0.237, Accuracy: 0.898], Valid [Loss: 0.618, Accuracy: 0.802]\n",
      "EPOCH: 51, Train [Loss: 0.245, Accuracy: 0.899], Valid [Loss: 0.434, Accuracy: 0.724]\n",
      "EPOCH: 52, Train [Loss: 0.243, Accuracy: 0.898], Valid [Loss: 1.210, Accuracy: 0.845]\n",
      "EPOCH: 53, Train [Loss: 0.225, Accuracy: 0.904], Valid [Loss: 2.771, Accuracy: 0.755]\n",
      "EPOCH: 54, Train [Loss: 0.212, Accuracy: 0.909], Valid [Loss: 0.852, Accuracy: 0.850]\n",
      "EPOCH: 55, Train [Loss: 0.218, Accuracy: 0.911], Valid [Loss: 5.580, Accuracy: 0.674]\n",
      "EPOCH: 56, Train [Loss: 0.214, Accuracy: 0.909], Valid [Loss: 22.689, Accuracy: 0.521]\n",
      "EPOCH: 57, Train [Loss: 0.229, Accuracy: 0.906], Valid [Loss: 0.318, Accuracy: 0.774]\n",
      "EPOCH: 58, Train [Loss: 0.202, Accuracy: 0.916], Valid [Loss: 0.574, Accuracy: 0.821]\n",
      "EPOCH: 59, Train [Loss: 0.191, Accuracy: 0.920], Valid [Loss: 0.358, Accuracy: 0.895]\n",
      "EPOCH: 60, Train [Loss: 0.192, Accuracy: 0.921], Valid [Loss: 1.026, Accuracy: 0.838]\n",
      "EPOCH: 61, Train [Loss: 0.172, Accuracy: 0.929], Valid [Loss: 0.376, Accuracy: 0.798]\n",
      "EPOCH: 62, Train [Loss: 0.171, Accuracy: 0.930], Valid [Loss: 0.313, Accuracy: 0.862]\n",
      "EPOCH: 63, Train [Loss: 0.161, Accuracy: 0.935], Valid [Loss: 0.395, Accuracy: 0.867]\n",
      "EPOCH: 64, Train [Loss: 0.161, Accuracy: 0.934], Valid [Loss: 0.254, Accuracy: 0.850]\n",
      "EPOCH: 65, Train [Loss: 0.167, Accuracy: 0.932], Valid [Loss: 0.314, Accuracy: 0.807]\n",
      "EPOCH: 66, Train [Loss: 0.150, Accuracy: 0.938], Valid [Loss: 0.338, Accuracy: 0.902]\n",
      "EPOCH: 67, Train [Loss: 0.141, Accuracy: 0.945], Valid [Loss: 0.486, Accuracy: 0.881]\n",
      "EPOCH: 68, Train [Loss: 0.141, Accuracy: 0.941], Valid [Loss: 0.342, Accuracy: 0.879]\n",
      "EPOCH: 69, Train [Loss: 0.148, Accuracy: 0.940], Valid [Loss: 0.260, Accuracy: 0.862]\n",
      "EPOCH: 70, Train [Loss: 0.129, Accuracy: 0.949], Valid [Loss: 0.186, Accuracy: 0.921]\n",
      "EPOCH: 71, Train [Loss: 0.127, Accuracy: 0.948], Valid [Loss: 9.053, Accuracy: 0.650]\n",
      "EPOCH: 72, Train [Loss: 0.128, Accuracy: 0.947], Valid [Loss: 0.503, Accuracy: 0.871]\n",
      "EPOCH: 73, Train [Loss: 0.129, Accuracy: 0.948], Valid [Loss: 0.206, Accuracy: 0.907]\n",
      "EPOCH: 74, Train [Loss: 0.115, Accuracy: 0.954], Valid [Loss: 0.224, Accuracy: 0.921]\n",
      "EPOCH: 75, Train [Loss: 0.106, Accuracy: 0.958], Valid [Loss: 0.523, Accuracy: 0.879]\n",
      "EPOCH: 76, Train [Loss: 0.131, Accuracy: 0.949], Valid [Loss: 0.278, Accuracy: 0.890]\n",
      "EPOCH: 77, Train [Loss: 0.106, Accuracy: 0.958], Valid [Loss: 9.245, Accuracy: 0.593]\n",
      "EPOCH: 78, Train [Loss: 0.114, Accuracy: 0.955], Valid [Loss: 1.132, Accuracy: 0.874]\n",
      "EPOCH: 79, Train [Loss: 0.094, Accuracy: 0.963], Valid [Loss: 0.207, Accuracy: 0.917]\n",
      "EPOCH: 80, Train [Loss: 0.091, Accuracy: 0.963], Valid [Loss: 0.415, Accuracy: 0.888]\n",
      "EPOCH: 81, Train [Loss: 0.102, Accuracy: 0.960], Valid [Loss: 0.282, Accuracy: 0.907]\n",
      "EPOCH: 82, Train [Loss: 0.084, Accuracy: 0.968], Valid [Loss: 0.307, Accuracy: 0.902]\n",
      "EPOCH: 83, Train [Loss: 0.099, Accuracy: 0.962], Valid [Loss: 0.521, Accuracy: 0.879]\n",
      "EPOCH: 84, Train [Loss: 0.117, Accuracy: 0.954], Valid [Loss: 0.475, Accuracy: 0.871]\n",
      "EPOCH: 85, Train [Loss: 0.083, Accuracy: 0.969], Valid [Loss: 1.458, Accuracy: 0.814]\n",
      "EPOCH: 86, Train [Loss: 0.071, Accuracy: 0.972], Valid [Loss: 0.342, Accuracy: 0.917]\n",
      "EPOCH: 87, Train [Loss: 0.076, Accuracy: 0.970], Valid [Loss: 0.838, Accuracy: 0.871]\n",
      "EPOCH: 88, Train [Loss: 0.065, Accuracy: 0.976], Valid [Loss: 0.336, Accuracy: 0.914]\n",
      "EPOCH: 89, Train [Loss: 0.072, Accuracy: 0.970], Valid [Loss: 0.280, Accuracy: 0.926]\n",
      "EPOCH: 90, Train [Loss: 0.085, Accuracy: 0.968], Valid [Loss: 7.277, Accuracy: 0.667]\n",
      "EPOCH: 91, Train [Loss: 0.079, Accuracy: 0.970], Valid [Loss: 0.404, Accuracy: 0.898]\n",
      "EPOCH: 92, Train [Loss: 0.063, Accuracy: 0.975], Valid [Loss: 0.281, Accuracy: 0.900]\n",
      "EPOCH: 93, Train [Loss: 0.065, Accuracy: 0.976], Valid [Loss: 0.680, Accuracy: 0.879]\n",
      "EPOCH: 94, Train [Loss: 0.053, Accuracy: 0.979], Valid [Loss: 0.755, Accuracy: 0.867]\n",
      "EPOCH: 95, Train [Loss: 0.057, Accuracy: 0.979], Valid [Loss: 0.789, Accuracy: 0.888]\n"
     ]
    },
    {
     "name": "stdout",
     "output_type": "stream",
     "text": [
      "EPOCH: 96, Train [Loss: 0.089, Accuracy: 0.966], Valid [Loss: 0.447, Accuracy: 0.888]\n",
      "EPOCH: 97, Train [Loss: 0.061, Accuracy: 0.977], Valid [Loss: 0.348, Accuracy: 0.929]\n",
      "EPOCH: 98, Train [Loss: 0.056, Accuracy: 0.979], Valid [Loss: 0.299, Accuracy: 0.914]\n",
      "EPOCH: 99, Train [Loss: 0.038, Accuracy: 0.986], Valid [Loss: 3.295, Accuracy: 0.793]\n",
      "EPOCH: 100, Train [Loss: 0.050, Accuracy: 0.980], Valid [Loss: 1.871, Accuracy: 0.826]\n",
      "EPOCH: 101, Train [Loss: 0.055, Accuracy: 0.978], Valid [Loss: 0.225, Accuracy: 0.929]\n",
      "EPOCH: 102, Train [Loss: 0.064, Accuracy: 0.975], Valid [Loss: 0.378, Accuracy: 0.912]\n",
      "EPOCH: 103, Train [Loss: 0.054, Accuracy: 0.980], Valid [Loss: 0.350, Accuracy: 0.929]\n",
      "EPOCH: 104, Train [Loss: 0.051, Accuracy: 0.981], Valid [Loss: 2.228, Accuracy: 0.821]\n",
      "EPOCH: 105, Train [Loss: 0.051, Accuracy: 0.980], Valid [Loss: 0.316, Accuracy: 0.914]\n",
      "EPOCH: 106, Train [Loss: 0.041, Accuracy: 0.984], Valid [Loss: 0.918, Accuracy: 0.893]\n",
      "EPOCH: 107, Train [Loss: 0.041, Accuracy: 0.985], Valid [Loss: 4.652, Accuracy: 0.755]\n",
      "EPOCH: 108, Train [Loss: 0.043, Accuracy: 0.983], Valid [Loss: 0.279, Accuracy: 0.931]\n",
      "EPOCH: 109, Train [Loss: 0.057, Accuracy: 0.979], Valid [Loss: 3.436, Accuracy: 0.764]\n",
      "EPOCH: 110, Train [Loss: 0.037, Accuracy: 0.986], Valid [Loss: 0.482, Accuracy: 0.914]\n",
      "EPOCH: 111, Train [Loss: 0.035, Accuracy: 0.987], Valid [Loss: 0.435, Accuracy: 0.900]\n",
      "EPOCH: 112, Train [Loss: 0.037, Accuracy: 0.986], Valid [Loss: 0.438, Accuracy: 0.919]\n",
      "EPOCH: 113, Train [Loss: 0.059, Accuracy: 0.977], Valid [Loss: 0.876, Accuracy: 0.862]\n",
      "EPOCH: 114, Train [Loss: 0.044, Accuracy: 0.983], Valid [Loss: 1.610, Accuracy: 0.819]\n",
      "EPOCH: 115, Train [Loss: 0.039, Accuracy: 0.984], Valid [Loss: 0.866, Accuracy: 0.855]\n",
      "EPOCH: 116, Train [Loss: 0.037, Accuracy: 0.986], Valid [Loss: 0.464, Accuracy: 0.902]\n",
      "EPOCH: 117, Train [Loss: 0.031, Accuracy: 0.988], Valid [Loss: 0.820, Accuracy: 0.883]\n",
      "EPOCH: 118, Train [Loss: 0.020, Accuracy: 0.993], Valid [Loss: 0.759, Accuracy: 0.881]\n",
      "EPOCH: 119, Train [Loss: 0.040, Accuracy: 0.986], Valid [Loss: 0.550, Accuracy: 0.840]\n",
      "EPOCH: 120, Train [Loss: 0.038, Accuracy: 0.985], Valid [Loss: 0.656, Accuracy: 0.888]\n",
      "EPOCH: 121, Train [Loss: 0.023, Accuracy: 0.991], Valid [Loss: 0.685, Accuracy: 0.886]\n",
      "EPOCH: 122, Train [Loss: 0.033, Accuracy: 0.987], Valid [Loss: 0.251, Accuracy: 0.940]\n",
      "EPOCH: 123, Train [Loss: 0.034, Accuracy: 0.987], Valid [Loss: 1.261, Accuracy: 0.869]\n",
      "EPOCH: 124, Train [Loss: 0.024, Accuracy: 0.992], Valid [Loss: 0.346, Accuracy: 0.929]\n",
      "EPOCH: 125, Train [Loss: 0.042, Accuracy: 0.984], Valid [Loss: 1.671, Accuracy: 0.821]\n",
      "EPOCH: 126, Train [Loss: 0.041, Accuracy: 0.984], Valid [Loss: 1.011, Accuracy: 0.879]\n",
      "EPOCH: 127, Train [Loss: 0.028, Accuracy: 0.988], Valid [Loss: 0.755, Accuracy: 0.888]\n",
      "EPOCH: 128, Train [Loss: 0.019, Accuracy: 0.993], Valid [Loss: 0.413, Accuracy: 0.921]\n",
      "EPOCH: 129, Train [Loss: 0.021, Accuracy: 0.993], Valid [Loss: 0.317, Accuracy: 0.921]\n",
      "EPOCH: 130, Train [Loss: 0.056, Accuracy: 0.977], Valid [Loss: 0.649, Accuracy: 0.917]\n",
      "EPOCH: 131, Train [Loss: 0.020, Accuracy: 0.992], Valid [Loss: 0.748, Accuracy: 0.881]\n",
      "EPOCH: 132, Train [Loss: 0.023, Accuracy: 0.991], Valid [Loss: 0.517, Accuracy: 0.910]\n",
      "EPOCH: 133, Train [Loss: 0.023, Accuracy: 0.991], Valid [Loss: 0.270, Accuracy: 0.933]\n",
      "EPOCH: 134, Train [Loss: 0.025, Accuracy: 0.990], Valid [Loss: 4.861, Accuracy: 0.779]\n",
      "EPOCH: 135, Train [Loss: 0.032, Accuracy: 0.989], Valid [Loss: 0.364, Accuracy: 0.926]\n",
      "EPOCH: 136, Train [Loss: 0.022, Accuracy: 0.993], Valid [Loss: 0.485, Accuracy: 0.879]\n",
      "EPOCH: 137, Train [Loss: 0.091, Accuracy: 0.970], Valid [Loss: 0.307, Accuracy: 0.924]\n",
      "EPOCH: 138, Train [Loss: 0.023, Accuracy: 0.992], Valid [Loss: 0.481, Accuracy: 0.893]\n",
      "EPOCH: 139, Train [Loss: 0.019, Accuracy: 0.994], Valid [Loss: 0.352, Accuracy: 0.929]\n",
      "EPOCH: 140, Train [Loss: 0.016, Accuracy: 0.994], Valid [Loss: 0.451, Accuracy: 0.933]\n",
      "EPOCH: 141, Train [Loss: 0.011, Accuracy: 0.997], Valid [Loss: 1.418, Accuracy: 0.860]\n",
      "EPOCH: 142, Train [Loss: 0.012, Accuracy: 0.996], Valid [Loss: 0.323, Accuracy: 0.943]\n",
      "EPOCH: 143, Train [Loss: 0.018, Accuracy: 0.993], Valid [Loss: 0.341, Accuracy: 0.931]\n",
      "EPOCH: 144, Train [Loss: 0.019, Accuracy: 0.994], Valid [Loss: 0.397, Accuracy: 0.938]\n",
      "EPOCH: 145, Train [Loss: 0.021, Accuracy: 0.992], Valid [Loss: 0.870, Accuracy: 0.864]\n",
      "EPOCH: 146, Train [Loss: 0.021, Accuracy: 0.993], Valid [Loss: 0.350, Accuracy: 0.924]\n",
      "EPOCH: 147, Train [Loss: 0.021, Accuracy: 0.992], Valid [Loss: 1.866, Accuracy: 0.857]\n",
      "EPOCH: 148, Train [Loss: 0.015, Accuracy: 0.994], Valid [Loss: 0.376, Accuracy: 0.936]\n",
      "EPOCH: 149, Train [Loss: 0.023, Accuracy: 0.992], Valid [Loss: 0.333, Accuracy: 0.933]\n",
      "EPOCH: 150, Train [Loss: 0.010, Accuracy: 0.996], Valid [Loss: 2.838, Accuracy: 0.855]\n",
      "EPOCH: 151, Train [Loss: 0.012, Accuracy: 0.996], Valid [Loss: 0.558, Accuracy: 0.907]\n",
      "EPOCH: 152, Train [Loss: 0.009, Accuracy: 0.997], Valid [Loss: 0.398, Accuracy: 0.940]\n",
      "EPOCH: 153, Train [Loss: 0.018, Accuracy: 0.993], Valid [Loss: 1.441, Accuracy: 0.852]\n",
      "EPOCH: 154, Train [Loss: 0.010, Accuracy: 0.997], Valid [Loss: 0.321, Accuracy: 0.931]\n",
      "EPOCH: 155, Train [Loss: 0.008, Accuracy: 0.997], Valid [Loss: 0.626, Accuracy: 0.929]\n",
      "EPOCH: 156, Train [Loss: 0.009, Accuracy: 0.996], Valid [Loss: 0.736, Accuracy: 0.879]\n",
      "EPOCH: 157, Train [Loss: 0.017, Accuracy: 0.993], Valid [Loss: 2.211, Accuracy: 0.798]\n",
      "EPOCH: 158, Train [Loss: 0.020, Accuracy: 0.993], Valid [Loss: 2.503, Accuracy: 0.814]\n",
      "EPOCH: 159, Train [Loss: 0.021, Accuracy: 0.992], Valid [Loss: 1.211, Accuracy: 0.845]\n",
      "EPOCH: 160, Train [Loss: 0.016, Accuracy: 0.995], Valid [Loss: 0.402, Accuracy: 0.936]\n",
      "EPOCH: 161, Train [Loss: 0.014, Accuracy: 0.994], Valid [Loss: 0.593, Accuracy: 0.907]\n",
      "EPOCH: 162, Train [Loss: 0.016, Accuracy: 0.993], Valid [Loss: 0.395, Accuracy: 0.933]\n",
      "EPOCH: 163, Train [Loss: 0.014, Accuracy: 0.995], Valid [Loss: 1.925, Accuracy: 0.817]\n",
      "EPOCH: 164, Train [Loss: 0.015, Accuracy: 0.996], Valid [Loss: 2.720, Accuracy: 0.807]\n",
      "EPOCH: 165, Train [Loss: 0.030, Accuracy: 0.989], Valid [Loss: 1.225, Accuracy: 0.857]\n",
      "EPOCH: 166, Train [Loss: 0.010, Accuracy: 0.996], Valid [Loss: 0.635, Accuracy: 0.895]\n",
      "EPOCH: 167, Train [Loss: 0.009, Accuracy: 0.997], Valid [Loss: 0.603, Accuracy: 0.883]\n",
      "EPOCH: 168, Train [Loss: 0.014, Accuracy: 0.996], Valid [Loss: 2.033, Accuracy: 0.843]\n",
      "EPOCH: 169, Train [Loss: 0.015, Accuracy: 0.994], Valid [Loss: 0.715, Accuracy: 0.883]\n",
      "EPOCH: 170, Train [Loss: 0.006, Accuracy: 0.998], Valid [Loss: 0.489, Accuracy: 0.940]\n",
      "EPOCH: 171, Train [Loss: 0.008, Accuracy: 0.997], Valid [Loss: 0.361, Accuracy: 0.931]\n",
      "EPOCH: 172, Train [Loss: 0.021, Accuracy: 0.992], Valid [Loss: 0.431, Accuracy: 0.926]\n",
      "EPOCH: 173, Train [Loss: 0.007, Accuracy: 0.998], Valid [Loss: 0.517, Accuracy: 0.929]\n",
      "EPOCH: 174, Train [Loss: 0.005, Accuracy: 0.998], Valid [Loss: 0.400, Accuracy: 0.943]\n",
      "EPOCH: 175, Train [Loss: 0.008, Accuracy: 0.997], Valid [Loss: 0.580, Accuracy: 0.912]\n",
      "EPOCH: 176, Train [Loss: 0.013, Accuracy: 0.996], Valid [Loss: 0.795, Accuracy: 0.919]\n",
      "EPOCH: 177, Train [Loss: 0.012, Accuracy: 0.996], Valid [Loss: 0.560, Accuracy: 0.900]\n",
      "EPOCH: 178, Train [Loss: 0.011, Accuracy: 0.996], Valid [Loss: 0.835, Accuracy: 0.895]\n",
      "EPOCH: 179, Train [Loss: 0.006, Accuracy: 0.998], Valid [Loss: 0.552, Accuracy: 0.921]\n",
      "EPOCH: 180, Train [Loss: 0.014, Accuracy: 0.995], Valid [Loss: 0.470, Accuracy: 0.917]\n",
      "EPOCH: 181, Train [Loss: 0.016, Accuracy: 0.994], Valid [Loss: 0.358, Accuracy: 0.926]\n",
      "EPOCH: 182, Train [Loss: 0.015, Accuracy: 0.994], Valid [Loss: 1.047, Accuracy: 0.886]\n",
      "EPOCH: 183, Train [Loss: 0.017, Accuracy: 0.995], Valid [Loss: 0.518, Accuracy: 0.921]\n",
      "EPOCH: 184, Train [Loss: 0.006, Accuracy: 0.997], Valid [Loss: 1.167, Accuracy: 0.883]\n",
      "EPOCH: 185, Train [Loss: 0.007, Accuracy: 0.998], Valid [Loss: 0.384, Accuracy: 0.931]\n",
      "EPOCH: 186, Train [Loss: 0.011, Accuracy: 0.996], Valid [Loss: 0.639, Accuracy: 0.893]\n",
      "EPOCH: 187, Train [Loss: 0.011, Accuracy: 0.997], Valid [Loss: 0.536, Accuracy: 0.914]\n",
      "EPOCH: 188, Train [Loss: 0.005, Accuracy: 0.999], Valid [Loss: 0.535, Accuracy: 0.924]\n",
      "EPOCH: 189, Train [Loss: 0.004, Accuracy: 0.999], Valid [Loss: 0.521, Accuracy: 0.931]\n",
      "EPOCH: 190, Train [Loss: 0.005, Accuracy: 0.998], Valid [Loss: 0.524, Accuracy: 0.929]\n"
     ]
    },
    {
     "name": "stdout",
     "output_type": "stream",
     "text": [
      "EPOCH: 191, Train [Loss: 0.004, Accuracy: 0.999], Valid [Loss: 0.917, Accuracy: 0.888]\n",
      "EPOCH: 192, Train [Loss: 0.003, Accuracy: 0.999], Valid [Loss: 0.413, Accuracy: 0.940]\n",
      "EPOCH: 193, Train [Loss: 0.003, Accuracy: 0.999], Valid [Loss: 0.443, Accuracy: 0.940]\n",
      "EPOCH: 194, Train [Loss: 0.006, Accuracy: 0.998], Valid [Loss: 0.451, Accuracy: 0.936]\n",
      "EPOCH: 195, Train [Loss: 0.012, Accuracy: 0.997], Valid [Loss: 2.414, Accuracy: 0.838]\n",
      "EPOCH: 196, Train [Loss: 0.033, Accuracy: 0.988], Valid [Loss: 0.370, Accuracy: 0.933]\n",
      "EPOCH: 197, Train [Loss: 0.009, Accuracy: 0.997], Valid [Loss: 0.456, Accuracy: 0.933]\n",
      "EPOCH: 198, Train [Loss: 0.007, Accuracy: 0.997], Valid [Loss: 0.511, Accuracy: 0.938]\n",
      "EPOCH: 199, Train [Loss: 0.012, Accuracy: 0.996], Valid [Loss: 0.547, Accuracy: 0.905]\n",
      "EPOCH: 200, Train [Loss: 0.004, Accuracy: 0.999], Valid [Loss: 0.574, Accuracy: 0.905]\n",
      "EPOCH: 201, Train [Loss: 0.005, Accuracy: 0.999], Valid [Loss: 0.696, Accuracy: 0.888]\n",
      "EPOCH: 202, Train [Loss: 0.004, Accuracy: 0.999], Valid [Loss: 0.566, Accuracy: 0.912]\n",
      "EPOCH: 203, Train [Loss: 0.002, Accuracy: 1.000], Valid [Loss: 0.574, Accuracy: 0.921]\n",
      "EPOCH: 204, Train [Loss: 0.005, Accuracy: 0.998], Valid [Loss: 0.647, Accuracy: 0.907]\n",
      "EPOCH: 205, Train [Loss: 0.002, Accuracy: 0.999], Valid [Loss: 0.501, Accuracy: 0.914]\n",
      "EPOCH: 206, Train [Loss: 0.004, Accuracy: 0.999], Valid [Loss: 0.505, Accuracy: 0.917]\n",
      "EPOCH: 207, Train [Loss: 0.003, Accuracy: 0.999], Valid [Loss: 0.373, Accuracy: 0.940]\n",
      "EPOCH: 208, Train [Loss: 0.005, Accuracy: 0.998], Valid [Loss: 0.535, Accuracy: 0.924]\n",
      "EPOCH: 209, Train [Loss: 0.019, Accuracy: 0.994], Valid [Loss: 0.304, Accuracy: 0.948]\n",
      "EPOCH: 210, Train [Loss: 0.007, Accuracy: 0.997], Valid [Loss: 1.278, Accuracy: 0.900]\n",
      "EPOCH: 211, Train [Loss: 0.008, Accuracy: 0.997], Valid [Loss: 0.517, Accuracy: 0.914]\n",
      "EPOCH: 212, Train [Loss: 0.004, Accuracy: 0.999], Valid [Loss: 0.469, Accuracy: 0.931]\n",
      "EPOCH: 213, Train [Loss: 0.003, Accuracy: 0.999], Valid [Loss: 0.534, Accuracy: 0.919]\n",
      "EPOCH: 214, Train [Loss: 0.003, Accuracy: 0.999], Valid [Loss: 0.504, Accuracy: 0.933]\n",
      "EPOCH: 215, Train [Loss: 0.001, Accuracy: 1.000], Valid [Loss: 0.453, Accuracy: 0.940]\n",
      "EPOCH: 216, Train [Loss: 0.002, Accuracy: 1.000], Valid [Loss: 0.578, Accuracy: 0.926]\n",
      "EPOCH: 217, Train [Loss: 0.004, Accuracy: 0.999], Valid [Loss: 0.399, Accuracy: 0.936]\n",
      "EPOCH: 218, Train [Loss: 0.009, Accuracy: 0.997], Valid [Loss: 0.540, Accuracy: 0.910]\n",
      "EPOCH: 219, Train [Loss: 0.010, Accuracy: 0.997], Valid [Loss: 0.987, Accuracy: 0.876]\n",
      "EPOCH: 220, Train [Loss: 0.005, Accuracy: 0.998], Valid [Loss: 0.481, Accuracy: 0.924]\n",
      "EPOCH: 221, Train [Loss: 0.003, Accuracy: 0.999], Valid [Loss: 0.359, Accuracy: 0.945]\n",
      "EPOCH: 222, Train [Loss: 0.006, Accuracy: 0.998], Valid [Loss: 0.390, Accuracy: 0.926]\n",
      "EPOCH: 223, Train [Loss: 0.014, Accuracy: 0.996], Valid [Loss: 0.977, Accuracy: 0.893]\n",
      "EPOCH: 224, Train [Loss: 0.011, Accuracy: 0.996], Valid [Loss: 0.679, Accuracy: 0.926]\n",
      "EPOCH: 225, Train [Loss: 0.003, Accuracy: 0.999], Valid [Loss: 0.502, Accuracy: 0.933]\n",
      "EPOCH: 226, Train [Loss: 0.004, Accuracy: 0.998], Valid [Loss: 0.526, Accuracy: 0.921]\n",
      "EPOCH: 227, Train [Loss: 0.002, Accuracy: 0.999], Valid [Loss: 0.541, Accuracy: 0.924]\n",
      "EPOCH: 228, Train [Loss: 0.004, Accuracy: 0.999], Valid [Loss: 0.502, Accuracy: 0.929]\n",
      "EPOCH: 229, Train [Loss: 0.004, Accuracy: 0.998], Valid [Loss: 0.554, Accuracy: 0.929]\n",
      "EPOCH: 230, Train [Loss: 0.005, Accuracy: 0.998], Valid [Loss: 0.860, Accuracy: 0.914]\n",
      "EPOCH: 231, Train [Loss: 0.004, Accuracy: 0.998], Valid [Loss: 0.610, Accuracy: 0.919]\n",
      "EPOCH: 232, Train [Loss: 0.003, Accuracy: 0.999], Valid [Loss: 0.683, Accuracy: 0.890]\n",
      "EPOCH: 233, Train [Loss: 0.002, Accuracy: 1.000], Valid [Loss: 0.399, Accuracy: 0.933]\n",
      "EPOCH: 234, Train [Loss: 0.001, Accuracy: 1.000], Valid [Loss: 0.477, Accuracy: 0.929]\n",
      "EPOCH: 235, Train [Loss: 0.002, Accuracy: 1.000], Valid [Loss: 0.732, Accuracy: 0.938]\n",
      "EPOCH: 236, Train [Loss: 0.001, Accuracy: 1.000], Valid [Loss: 0.421, Accuracy: 0.936]\n",
      "EPOCH: 237, Train [Loss: 0.008, Accuracy: 0.997], Valid [Loss: 0.554, Accuracy: 0.924]\n",
      "EPOCH: 238, Train [Loss: 0.008, Accuracy: 0.998], Valid [Loss: 0.464, Accuracy: 0.936]\n",
      "EPOCH: 239, Train [Loss: 0.003, Accuracy: 0.999], Valid [Loss: 0.641, Accuracy: 0.919]\n",
      "EPOCH: 240, Train [Loss: 0.002, Accuracy: 0.999], Valid [Loss: 0.874, Accuracy: 0.898]\n",
      "EPOCH: 241, Train [Loss: 0.002, Accuracy: 0.999], Valid [Loss: 0.561, Accuracy: 0.921]\n",
      "EPOCH: 242, Train [Loss: 0.006, Accuracy: 0.998], Valid [Loss: 0.554, Accuracy: 0.924]\n",
      "EPOCH: 243, Train [Loss: 0.003, Accuracy: 0.999], Valid [Loss: 0.411, Accuracy: 0.948]\n",
      "EPOCH: 244, Train [Loss: 0.003, Accuracy: 0.999], Valid [Loss: 0.582, Accuracy: 0.948]\n",
      "EPOCH: 245, Train [Loss: 0.029, Accuracy: 0.990], Valid [Loss: 0.431, Accuracy: 0.931]\n",
      "EPOCH: 246, Train [Loss: 0.015, Accuracy: 0.996], Valid [Loss: 0.878, Accuracy: 0.890]\n",
      "EPOCH: 247, Train [Loss: 0.011, Accuracy: 0.995], Valid [Loss: 0.416, Accuracy: 0.940]\n",
      "EPOCH: 248, Train [Loss: 0.005, Accuracy: 0.998], Valid [Loss: 0.571, Accuracy: 0.914]\n",
      "EPOCH: 249, Train [Loss: 0.004, Accuracy: 0.999], Valid [Loss: 0.422, Accuracy: 0.921]\n",
      "EPOCH: 250, Train [Loss: 0.003, Accuracy: 0.999], Valid [Loss: 0.376, Accuracy: 0.943]\n",
      "EPOCH: 251, Train [Loss: 0.001, Accuracy: 1.000], Valid [Loss: 0.498, Accuracy: 0.921]\n",
      "EPOCH: 252, Train [Loss: 0.001, Accuracy: 1.000], Valid [Loss: 0.550, Accuracy: 0.938]\n",
      "EPOCH: 253, Train [Loss: 0.001, Accuracy: 1.000], Valid [Loss: 0.502, Accuracy: 0.929]\n",
      "EPOCH: 254, Train [Loss: 0.001, Accuracy: 1.000], Valid [Loss: 0.406, Accuracy: 0.940]\n",
      "EPOCH: 255, Train [Loss: 0.003, Accuracy: 0.999], Valid [Loss: 0.624, Accuracy: 0.912]\n",
      "EPOCH: 256, Train [Loss: 0.002, Accuracy: 1.000], Valid [Loss: 0.484, Accuracy: 0.917]\n",
      "EPOCH: 257, Train [Loss: 0.002, Accuracy: 1.000], Valid [Loss: 0.556, Accuracy: 0.933]\n",
      "EPOCH: 258, Train [Loss: 0.002, Accuracy: 1.000], Valid [Loss: 0.758, Accuracy: 0.921]\n",
      "EPOCH: 259, Train [Loss: 0.002, Accuracy: 1.000], Valid [Loss: 0.692, Accuracy: 0.931]\n",
      "EPOCH: 260, Train [Loss: 0.002, Accuracy: 0.999], Valid [Loss: 0.581, Accuracy: 0.921]\n",
      "EPOCH: 261, Train [Loss: 0.002, Accuracy: 1.000], Valid [Loss: 0.411, Accuracy: 0.940]\n",
      "EPOCH: 262, Train [Loss: 0.003, Accuracy: 0.999], Valid [Loss: 0.639, Accuracy: 0.917]\n",
      "EPOCH: 263, Train [Loss: 0.001, Accuracy: 1.000], Valid [Loss: 0.585, Accuracy: 0.914]\n",
      "EPOCH: 264, Train [Loss: 0.002, Accuracy: 1.000], Valid [Loss: 0.566, Accuracy: 0.926]\n",
      "EPOCH: 265, Train [Loss: 0.001, Accuracy: 1.000], Valid [Loss: 0.508, Accuracy: 0.931]\n",
      "EPOCH: 266, Train [Loss: 0.002, Accuracy: 1.000], Valid [Loss: 0.479, Accuracy: 0.931]\n",
      "EPOCH: 267, Train [Loss: 0.002, Accuracy: 1.000], Valid [Loss: 0.516, Accuracy: 0.926]\n",
      "EPOCH: 268, Train [Loss: 0.001, Accuracy: 1.000], Valid [Loss: 0.521, Accuracy: 0.926]\n",
      "EPOCH: 269, Train [Loss: 0.001, Accuracy: 1.000], Valid [Loss: 0.429, Accuracy: 0.938]\n",
      "EPOCH: 270, Train [Loss: 0.003, Accuracy: 0.999], Valid [Loss: 0.456, Accuracy: 0.924]\n",
      "EPOCH: 271, Train [Loss: 0.001, Accuracy: 1.000], Valid [Loss: 0.463, Accuracy: 0.936]\n",
      "EPOCH: 272, Train [Loss: 0.002, Accuracy: 0.999], Valid [Loss: 0.701, Accuracy: 0.919]\n",
      "EPOCH: 273, Train [Loss: 0.001, Accuracy: 1.000], Valid [Loss: 0.614, Accuracy: 0.938]\n",
      "EPOCH: 274, Train [Loss: 0.001, Accuracy: 1.000], Valid [Loss: 0.444, Accuracy: 0.933]\n",
      "EPOCH: 275, Train [Loss: 0.001, Accuracy: 1.000], Valid [Loss: 0.452, Accuracy: 0.929]\n",
      "EPOCH: 276, Train [Loss: 0.001, Accuracy: 1.000], Valid [Loss: 0.551, Accuracy: 0.938]\n",
      "EPOCH: 277, Train [Loss: 0.006, Accuracy: 0.998], Valid [Loss: 0.544, Accuracy: 0.929]\n",
      "EPOCH: 278, Train [Loss: 0.005, Accuracy: 0.998], Valid [Loss: 0.667, Accuracy: 0.900]\n",
      "EPOCH: 279, Train [Loss: 0.004, Accuracy: 0.999], Valid [Loss: 0.566, Accuracy: 0.900]\n",
      "EPOCH: 280, Train [Loss: 0.004, Accuracy: 0.998], Valid [Loss: 0.418, Accuracy: 0.940]\n",
      "EPOCH: 281, Train [Loss: 0.001, Accuracy: 1.000], Valid [Loss: 0.606, Accuracy: 0.940]\n",
      "EPOCH: 282, Train [Loss: 0.002, Accuracy: 1.000], Valid [Loss: 0.638, Accuracy: 0.924]\n",
      "EPOCH: 283, Train [Loss: 0.002, Accuracy: 1.000], Valid [Loss: 0.372, Accuracy: 0.940]\n",
      "EPOCH: 284, Train [Loss: 0.002, Accuracy: 0.999], Valid [Loss: 0.402, Accuracy: 0.933]\n",
      "EPOCH: 285, Train [Loss: 0.003, Accuracy: 0.999], Valid [Loss: 0.620, Accuracy: 0.921]\n"
     ]
    },
    {
     "name": "stdout",
     "output_type": "stream",
     "text": [
      "EPOCH: 286, Train [Loss: 0.003, Accuracy: 0.999], Valid [Loss: 0.496, Accuracy: 0.924]\n",
      "EPOCH: 287, Train [Loss: 0.002, Accuracy: 0.999], Valid [Loss: 0.692, Accuracy: 0.919]\n",
      "EPOCH: 288, Train [Loss: 0.002, Accuracy: 0.999], Valid [Loss: 0.526, Accuracy: 0.940]\n",
      "EPOCH: 289, Train [Loss: 0.001, Accuracy: 1.000], Valid [Loss: 0.605, Accuracy: 0.921]\n",
      "EPOCH: 290, Train [Loss: 0.002, Accuracy: 1.000], Valid [Loss: 0.506, Accuracy: 0.938]\n",
      "EPOCH: 291, Train [Loss: 0.001, Accuracy: 1.000], Valid [Loss: 0.538, Accuracy: 0.926]\n",
      "EPOCH: 292, Train [Loss: 0.001, Accuracy: 1.000], Valid [Loss: 0.406, Accuracy: 0.943]\n",
      "EPOCH: 293, Train [Loss: 0.001, Accuracy: 1.000], Valid [Loss: 0.425, Accuracy: 0.943]\n",
      "EPOCH: 294, Train [Loss: 0.002, Accuracy: 0.999], Valid [Loss: 0.637, Accuracy: 0.917]\n",
      "EPOCH: 295, Train [Loss: 0.006, Accuracy: 0.998], Valid [Loss: 0.535, Accuracy: 0.924]\n",
      "EPOCH: 296, Train [Loss: 0.002, Accuracy: 1.000], Valid [Loss: 0.651, Accuracy: 0.931]\n",
      "EPOCH: 297, Train [Loss: 0.002, Accuracy: 0.999], Valid [Loss: 0.428, Accuracy: 0.938]\n",
      "EPOCH: 298, Train [Loss: 0.001, Accuracy: 0.999], Valid [Loss: 0.521, Accuracy: 0.926]\n",
      "EPOCH: 299, Train [Loss: 0.002, Accuracy: 0.999], Valid [Loss: 0.468, Accuracy: 0.940]\n"
     ]
    }
   ],
   "source": [
    "n_epochs = 300\n",
    "for epoch in range(n_epochs):\n",
    "    losses_train = []\n",
    "    losses_valid = []\n",
    "    # Train\n",
    "    optimizer.step()\n",
    "    model.train()\n",
    "    n_train = 0\n",
    "    acc_train = 0\n",
    "    for x, y in dataloader_train:\n",
    "        n_train += y.size()[0]\n",
    "        model.zero_grad()  # 勾配の初期化\n",
    "        x = x.to(device)  # テンソルをGPUに移動\n",
    "        y = y.to(device)\n",
    "        output = model.forward(x)  # 順伝播\n",
    "        loss = loss_function(output, y)  # 誤差(クロスエントロピー誤差関数)の計算\n",
    "        loss.backward()  # 誤差の逆伝播\n",
    "        optimizer.step()  # パラメータの更新\n",
    "        pred = output.argmax(1)  # 最大値を取るラベルを予測ラベルとする\n",
    "        acc_train += (pred == y).float().sum().item()\n",
    "        losses_train.append(loss.tolist())\n",
    "    # Evaluate\n",
    "    model.eval()\n",
    "    n_val = 0\n",
    "    acc_val = 0\n",
    "    for x, y in dataloader_valid:\n",
    "        n_val += y.size()[0]\n",
    "        x = x.to(device)  # テンソルをGPUに移動\n",
    "        y = y.to(device)\n",
    "        output = model.forward(x)  # 順伝播\n",
    "        loss = loss_function(output, y)  # 誤差(クロスエントロピー誤差関数)の計算\n",
    "        pred = output.argmax(1)  # 最大値を取るラベルを予測ラベルとする\n",
    "        acc_val += (pred == y).float().sum().item()\n",
    "        losses_valid.append(loss.tolist())\n",
    "    scheduler.step()\n",
    "    # Visualize loss & accuracy    \n",
    "    losstrain.append(np.mean(losses_train))\n",
    "    Accuracytrain.append(acc_train/n_train)\n",
    "    lossvalid.append(np.mean(losses_valid))\n",
    "    Accuracyvalid.append(acc_val/n_val)\n",
    "    print('EPOCH: {}, Train [Loss: {:.3f}, Accuracy: {:.3f}], Valid [Loss: {:.3f}, Accuracy: {:.3f}]'\n",
    "          .format(epoch,np.mean(losses_train),acc_train/n_train,np.mean(losses_valid),acc_val/n_val))"
   ]
  },
  {
   "cell_type": "code",
   "execution_count": 142,
   "metadata": {},
   "outputs": [
    {
     "data": {
      "image/png": "[encoded data removed]",
      "text/plain": [
       "<Figure size 432x288 with 1 Axes>"
      ]
     },
     "metadata": {
      "needs_background": "light"
     },
     "output_type": "display_data"
    },
    {
     "data": {
      "text/plain": [
       "<Figure size 432x288 with 0 Axes>"
      ]
     },
     "metadata": {},
     "output_type": "display_data"
    }
   ],
   "source": [
    "# train processing plot\n",
    "n_epochs = 300\n",
    "epochs=range(1,n_epochs+1)\n",
    "plt.ylim(0,1.0)\n",
    "plt.plot(epochs,Accuracytrain,'b',label='Training accuracy')  \n",
    "plt.plot(epochs, Accuracyvalid,'r',label='Validation accuracy')\n",
    "plt.title('Training and Validation accuracy')\n",
    "plt.legend()\n",
    "plt.figure()\n",
    "plt.show()"
   ]
  },
  {
   "cell_type": "markdown",
   "metadata": {},
   "source": [
    "# test with testdata"
   ]
  },
  {
   "cell_type": "code",
   "execution_count": 126,
   "metadata": {},
   "outputs": [],
   "source": [
    "# model = torch.load(\"model/SelfResnet18_L2F1_200.pkl\")"
   ]
  },
  {
   "cell_type": "code",
   "execution_count": 143,
   "metadata": {},
   "outputs": [
    {
     "name": "stdout",
     "output_type": "stream",
     "text": [
      "total_test: 420\n",
      "pred_untreaded: 200 / 210, pred_VPAtreaded: 195 / 210 \n",
      "accuracy_score: 0.940\n",
      "precision_score: 0.951\n",
      "roc_auc_score: 0.980\n"
     ]
    },
    {
     "data": {
      "image/png": "[encoded data removed]",
      "text/plain": [
       "<Figure size 432x288 with 1 Axes>"
      ]
     },
     "metadata": {
      "needs_background": "light"
     },
     "output_type": "display_data"
    }
   ],
   "source": [
    "# Test\n",
    "X = X_test\n",
    "y = y_test\n",
    "pred_untreaded = 0\n",
    "pred_VPAtreaded = 0\n",
    "y_pred = []\n",
    "out_pred = []\n",
    "total = X.shape[0]\n",
    "\n",
    "model.eval()\n",
    "for n in range(total):\n",
    "    img = X[n]\n",
    "    label = y[n]\n",
    "    transform = transforms.Compose([transforms.ToTensor()])\n",
    "    input_tensor = transform(img).unsqueeze(0).to(device)\n",
    "    output = model(input_tensor)\n",
    "    pred = output.argmax(1).cpu().item()\n",
    "    if pred==label==0:\n",
    "        pred_untreaded+=1\n",
    "    elif pred==label==1:\n",
    "        pred_VPAtreaded+=1\n",
    "    out_pred.append(output[0][1].item())\n",
    "    y_pred.append(pred)\n",
    "\n",
    "y_pred = np.array(y_pred)\n",
    "out_pred = np.array(out_pred)\n",
    "print(\"total_test: {:}\" .format(total))\n",
    "print(\"pred_untreaded: {:} / {:}, pred_VPAtreaded: {:} / {:} \".format(pred_untreaded,test_00,pred_VPAtreaded,test_01))\n",
    "print('accuracy_score: {:.3f}'.format(accuracy_score(y,y_pred)))\n",
    "print('precision_score: {:.3f}'.format(precision_score(y,y_pred)))\n",
    "print('roc_auc_score: {:.3f}'.format(roc_auc_score(y, out_pred)))\n",
    "\n",
    "fpr, tpr, thresholds = roc_curve(y, out_pred,drop_intermediate=True)\n",
    "plt.plot(fpr, tpr, marker='.')\n",
    "plt.xlabel('FPR: False positive rate')\n",
    "plt.ylabel('TPR: True positive rate')\n",
    "plt.grid()"
   ]
  },
  {
   "cell_type": "code",
   "execution_count": null,
   "metadata": {},
   "outputs": [],
   "source": []
  },
  {
   "cell_type": "code",
   "execution_count": null,
   "metadata": {},
   "outputs": [],
   "source": []
  },
  {
   "cell_type": "code",
   "execution_count": null,
   "metadata": {},
   "outputs": [],
   "source": []
  },
  {
   "cell_type": "markdown",
   "metadata": {},
   "source": [
    "# save model"
   ]
  },
  {
   "cell_type": "code",
   "execution_count": null,
   "metadata": {},
   "outputs": [],
   "source": [
    "for param in model.parameters():\n",
    "    param.requires_grad = True\n",
    "torch.save(model,\"model/SelfResnet9C1F_220920.pkl\")"
   ]
  },
  {
   "cell_type": "code",
   "execution_count": null,
   "metadata": {},
   "outputs": [],
   "source": []
  }
 ],
 "metadata": {
  "accelerator": "GPU",
  "colab": {
   "collapsed_sections": [],
   "name": "KIMIA_CNN.ipynb",
   "provenance": []
  },
  "kernelspec": {
   "display_name": "Python 3 (ipykernel)",
   "language": "python",
   "name": "python3"
  },
  "language_info": {
   "codemirror_mode": {
    "name": "ipython",
    "version": 3
   },
   "file_extension": ".py",
   "mimetype": "text/x-python",
   "name": "python",
   "nbconvert_exporter": "python",
   "pygments_lexer": "ipython3",
   "version": "3.7.13"
  },
  "toc": {
   "base_numbering": 1,
   "nav_menu": {},
   "number_sections": true,
   "sideBar": true,
   "skip_h1_title": false,
   "title_cell": "Table of Contents",
   "title_sidebar": "Contents",
   "toc_cell": false,
   "toc_position": {},
   "toc_section_display": true,
   "toc_window_display": false
  }
 },
 "nbformat": 4,
 "nbformat_minor": 1
}
