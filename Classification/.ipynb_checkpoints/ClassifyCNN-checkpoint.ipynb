{
 "cells": [
  {
   "cell_type": "markdown",
   "metadata": {},
   "source": [
    "# データの分布\n",
    "\n",
    "## >> Cells With Mask\n",
    "* NDAcquisition-01：45,723\n",
    "* NDAcquisition-01x40：130,092\n",
    "* NDAcquisition-02Nami_x20：9,096\n",
    "* NDAcquisition-02Nami_x40：4,236\n",
    "\n",
    "## >> Cells No Mask\n",
    "* NDAcquisition-01：45,870\n",
    "* NDAcquisition-01x40：130,147\n",
    "* NDAcquisition-02Nami_x20：9,321\n",
    "* NDAcquisition-02Nami_x40：4,236"
   ]
  },
  {
   "cell_type": "markdown",
   "metadata": {},
   "source": [
    "# Max_shape_0 , Max_shape_1\n",
    "\n",
    "\n",
    "### >> Cells \n",
    "\n",
    "    * 01x20\n",
    "        * Max_shape_0:  234\n",
    "        * Max_shape_1:  214\n",
    "\n",
    "    * 02Namix20\n",
    "        * Max_shape_0:  254\n",
    "        * Max_shape_1:  234\n",
    "\n",
    "    * 01x40\n",
    "        * Max_shape_0:  464\n",
    "        * Max_shape_1:  499\n",
    "\n",
    "    * 02Namix40\n",
    "        * Max_shape_0:  354\n",
    "        * Max_shape_1:  274"
   ]
  },
  {
   "cell_type": "code",
   "execution_count": 11,
   "metadata": {},
   "outputs": [],
   "source": [
    "import cv2,os\n",
    "import numpy as np\n",
    "from matplotlib import pyplot as plt"
   ]
  },
  {
   "cell_type": "markdown",
   "metadata": {
    "id": "aJjxv_T_DNKk"
   },
   "source": [
    "# データの読み込み"
   ]
  },
  {
   "cell_type": "code",
   "execution_count": 14,
   "metadata": {},
   "outputs": [
    {
     "name": "stdout",
     "output_type": "stream",
     "text": [
      "Data_01.shape: (11990,)\n",
      "Data_02Nami.shape: (1738,)\n"
     ]
    }
   ],
   "source": [
    "Data_02Nami=np.load(\"data/imread_02Namix40.npy\",allow_pickle=True)\n",
    "Data_01=np.load(\"data/imread_01x40.npy\",allow_pickle=True)\n",
    "print(\"Data_01.shape:\", Data_01.shape)\n",
    "print(\"Data_02Nami.shape:\", Data_02Nami.shape)"
   ]
  },
  {
   "cell_type": "code",
   "execution_count": 15,
   "metadata": {},
   "outputs": [
    {
     "name": "stdout",
     "output_type": "stream",
     "text": [
      "Data_01.shape: (11990,)\n",
      "Data_02Nami.shape: (1738,)\n"
     ]
    }
   ],
   "source": [
    "Data_01=Data_01\n",
    "Data_02Nami=Data_02Nami\n",
    "\n",
    "print(\"Data_01.shape:\", Data_01.shape)\n",
    "print(\"Data_02Nami.shape:\", Data_02Nami.shape)"
   ]
  },
  {
   "cell_type": "markdown",
   "metadata": {},
   "source": [
    "# データ処理"
   ]
  },
  {
   "cell_type": "markdown",
   "metadata": {},
   "source": [
    "## 1. Padding Unify the size"
   ]
  },
  {
   "cell_type": "code",
   "execution_count": 16,
   "metadata": {},
   "outputs": [],
   "source": [
    "Max_shape_0 = 100\n",
    "Max_shape_1 = 100"
   ]
  },
  {
   "cell_type": "code",
   "execution_count": 17,
   "metadata": {},
   "outputs": [
    {
     "name": "stdout",
     "output_type": "stream",
     "text": [
      "DataPad_01:  11990\n",
      "DataPad_02Nami:  1738\n"
     ]
    }
   ],
   "source": [
    "#　同じサイズにする \n",
    "def datapadding(data):\n",
    "    DataPad=[]\n",
    "    for img in data:\n",
    "        imgSize = img.shape\n",
    "        top_size,bottom_size = (Max_shape_0-imgSize[0])//2,(Max_shape_0-imgSize[0])//2\n",
    "        left_size,right_size = (Max_shape_1-imgSize[1])//2,(Max_shape_1-imgSize[1])//2\n",
    "        if (imgSize[0] % 2) != 0:\n",
    "            top_size,bottom_size = (Max_shape_0-imgSize[0])//2,(Max_shape_0-imgSize[0])//2+1\n",
    "        if (imgSize[1] % 2) != 0:     \n",
    "            left_size,right_size = (Max_shape_1-imgSize[1])//2,(Max_shape_1-imgSize[1])//2+1\n",
    "        img_pad = cv2.copyMakeBorder(img,top_size,bottom_size,left_size,right_size,cv2.BORDER_CONSTANT,value=(0,0,0))\n",
    "        DataPad.append(img_pad)\n",
    "    return DataPad\n",
    "\n",
    "DataPad_01 = datapadding(Data_01)\n",
    "DataPad_02Nami = datapadding(Data_02Nami)\n",
    "print(\"DataPad_01: \",len(DataPad_01))\n",
    "print(\"DataPad_02Nami: \",len(DataPad_02Nami))"
   ]
  },
  {
   "cell_type": "markdown",
   "metadata": {},
   "source": [
    "## 2. Resize by using Bin_ndarray"
   ]
  },
  {
   "cell_type": "code",
   "execution_count": 18,
   "metadata": {},
   "outputs": [],
   "source": [
    "# DataBinResize = []\n",
    "# def bin_ndarray(ndarray, new_shape, operation):\n",
    "#     operation = operation.lower()\n",
    "#     if not operation in ['sum', 'mean']:\n",
    "#         raise ValueError(\"Operation not supported.\")\n",
    "#     if ndarray.ndim != len(new_shape):\n",
    "#         raise ValueError(\"Shape mismatch: {} -> {}\".format(ndarray.shape,\n",
    "#                                                            new_shape))\n",
    "#     compression_pairs = [(d, c//d) for d,c in zip(new_shape,\n",
    "#                                                   ndarray.shape)]\n",
    "#     flattened = [l for p in compression_pairs for l in p]\n",
    "#     ndarray = ndarray.reshape(flattened)\n",
    "#     for i in range(len(new_shape)):\n",
    "#         op = getattr(ndarray, operation)\n",
    "#         ndarray = op(-1*(i+1))\n",
    "#     return ndarray\n",
    "\n",
    "# for img in DataResize:\n",
    "#     imgresize = bin_ndarray(img, new_shape=(512,512,3), operation='mean')\n",
    "#     DataBinResize.append(imgresize)"
   ]
  },
  {
   "cell_type": "code",
   "execution_count": 19,
   "metadata": {},
   "outputs": [],
   "source": [
    "# DataBinResize = np.array(DataBinResize)\n",
    "# print(\"DataBinResize: \", DataBinResize.shape)\n",
    "\n",
    "# img = cv2.imread(DataPath[1])\n",
    "# print(\"DataPath[1].shape: \", img.shape)\n",
    "# plt.imshow(img)\n",
    "# plt.show()\n",
    "\n",
    "# print(\"DataResize[1].shape: \", DataResize[1].shape)\n",
    "# plt.imshow(DataResize[1])\n",
    "# plt.show()\n",
    "\n",
    "# print(\"DataBinResize[1].shape: \", DataBinResize[1].shape)\n",
    "# plt.imshow(DataBinResize[1]/255)\n",
    "# plt.show()"
   ]
  },
  {
   "cell_type": "markdown",
   "metadata": {},
   "source": [
    "## 3. Split Train and Test"
   ]
  },
  {
   "cell_type": "code",
   "execution_count": 20,
   "metadata": {},
   "outputs": [
    {
     "name": "stderr",
     "output_type": "stream",
     "text": [
      "/tmp/9883330.1.gpu/ipykernel_42699/4249520203.py:2: DeprecationWarning: `np.int` is a deprecated alias for the builtin `int`. To silence this warning, use `int` by itself. Doing this will not modify any behavior and is safe. When replacing `np.int`, you may wish to use e.g. `np.int64` or `np.int32` to specify the precision. If you wish to review your current use, check the release note link for additional information.\n",
      "Deprecated in NumPy 1.20; for more details and guidance: https://numpy.org/devdocs/release/1.20.0-notes.html#deprecations\n",
      "  DataLabel_01 = np.zeros(len(DataPad_01), dtype=np.int)\n",
      "/tmp/9883330.1.gpu/ipykernel_42699/4249520203.py:5: DeprecationWarning: `np.int` is a deprecated alias for the builtin `int`. To silence this warning, use `int` by itself. Doing this will not modify any behavior and is safe. When replacing `np.int`, you may wish to use e.g. `np.int64` or `np.int32` to specify the precision. If you wish to review your current use, check the release note link for additional information.\n",
      "Deprecated in NumPy 1.20; for more details and guidance: https://numpy.org/devdocs/release/1.20.0-notes.html#deprecations\n",
      "  DataLabel_02Nami = np.ones(len(DataPad_02Nami), dtype=np.int)\n"
     ]
    }
   ],
   "source": [
    "DataPad_01 = DataPad_01\n",
    "DataLabel_01 = np.zeros(len(DataPad_01), dtype=np.int)\n",
    "\n",
    "DataPad_02Nami = DataPad_02Nami\n",
    "DataLabel_02Nami = np.ones(len(DataPad_02Nami), dtype=np.int)"
   ]
  },
  {
   "cell_type": "code",
   "execution_count": 21,
   "metadata": {},
   "outputs": [
    {
     "name": "stdout",
     "output_type": "stream",
     "text": [
      "Total number of train :  9609\n",
      "train_class_0 num :  8393\n",
      "train_class_1 num :  1216\n",
      "\n",
      "Total number of test :  4119\n",
      "test_class_0 num :  3597\n",
      "test_class_1 num :  522\n"
     ]
    }
   ],
   "source": [
    "from sklearn.model_selection import train_test_split\n",
    "\n",
    "X_train_0, X_test_0, y_train_0, y_test_0 = train_test_split(DataPad_01, DataLabel_01,\n",
    "                                                                            test_size=0.3, random_state=42)\n",
    "\n",
    "\n",
    "X_train_1, X_test_1, y_train_1, y_test_1 = train_test_split(DataPad_02Nami, DataLabel_02Nami,\n",
    "                                                                            test_size=0.3, random_state=42)\n",
    "\n",
    "X_train, X_test = np.concatenate((X_train_0, X_train_1), axis = 0), np.concatenate((X_test_0, X_test_1), axis = 0)\n",
    "y_train, y_test = np.concatenate((y_train_0, y_train_1), axis = 0), np.concatenate((y_test_0, y_test_1), axis = 0)\n",
    "\n",
    "print(\"Total number of train : \", len(y_train))\n",
    "print(\"train_class_0 num : \", y_train.tolist().count(0))\n",
    "print(\"train_class_1 num : \", y_train.tolist().count(1))\n",
    "print(\"\")\n",
    "\n",
    "print(\"Total number of test : \", len(y_test))\n",
    "print(\"test_class_0 num : \", y_test.tolist().count(0))\n",
    "print(\"test_class_1 num : \", y_test.tolist().count(1))"
   ]
  },
  {
   "cell_type": "markdown",
   "metadata": {
    "id": "qyvCoE-HDNKm"
   },
   "source": [
    "# データ前処理"
   ]
  },
  {
   "cell_type": "code",
   "execution_count": 22,
   "metadata": {
    "executionInfo": {
     "elapsed": 4277,
     "status": "ok",
     "timestamp": 1627022925074,
     "user": {
      "displayName": "Yicheng Wang",
      "photoUrl": "https://lh3.googleusercontent.com/a-/AOh14GgziKLn_im8Zl7A_SAzLLRm66nioH7fG0xuCYpJYg=s64",
      "userId": "10487961361854797289"
     },
     "user_tz": -540
    },
    "id": "gijcrKa5DNKm"
   },
   "outputs": [
    {
     "data": {
      "text/plain": [
       "'1.11.0+cu102'"
      ]
     },
     "execution_count": 22,
     "metadata": {},
     "output_type": "execute_result"
    }
   ],
   "source": [
    "import torch\n",
    "from torchvision import transforms\n",
    "from tqdm import tqdm_notebook as tqdm\n",
    "from PIL import Image\n",
    "from sklearn.model_selection import train_test_split\n",
    "torch.__version__"
   ]
  },
  {
   "cell_type": "code",
   "execution_count": 23,
   "metadata": {
    "executionInfo": {
     "elapsed": 290,
     "status": "ok",
     "timestamp": 1627023529885,
     "user": {
      "displayName": "Yicheng Wang",
      "photoUrl": "https://lh3.googleusercontent.com/a-/AOh14GgziKLn_im8Zl7A_SAzLLRm66nioH7fG0xuCYpJYg=s64",
      "userId": "10487961361854797289"
     },
     "user_tz": -540
    },
    "id": "Fh058iRlDNKm"
   },
   "outputs": [],
   "source": [
    "class train_dataset(torch.utils.data.Dataset):\n",
    "    def __init__(self, x_train, y_train):\n",
    "        data = x_train.astype('float32')\n",
    "        self.x_train = []\n",
    "        for i in range(data.shape[0]):\n",
    "            self.x_train.append(Image.fromarray(np.uint8(data[i])))\n",
    "        self.y_train = y_train\n",
    "        self.transform = transforms.ToTensor()\n",
    "\n",
    "    def __len__(self):\n",
    "        return len(self.x_train)\n",
    "\n",
    "    def __getitem__(self, idx):\n",
    "        return self.transform(self.x_train[idx]), torch.tensor(y_train[idx], dtype=torch.long)\n",
    "\n",
    "    \n",
    "class test_dataset(torch.utils.data.Dataset):\n",
    "    def __init__(self, x_test, y_test):\n",
    "        data = x_test.astype('float32')\n",
    "        self.x_test = []\n",
    "        for i in range(data.shape[0]):\n",
    "            self.x_test.append(Image.fromarray(np.uint8(data[i])))\n",
    "        self.y_test = y_test\n",
    "        self.transform = transforms.ToTensor()\n",
    "\n",
    "    def __len__(self):\n",
    "        return len(self.x_test)\n",
    "\n",
    "    def __getitem__(self, idx):\n",
    "        return self.transform(self.x_test[idx]), torch.tensor(y_test[idx], dtype=torch.long)\n",
    "\n",
    "trainval_data = train_dataset(X_train, y_train)\n",
    "test_data = test_dataset(X_test, y_test)"
   ]
  },
  {
   "cell_type": "code",
   "execution_count": 24,
   "metadata": {
    "executionInfo": {
     "elapsed": 325,
     "status": "ok",
     "timestamp": 1627023533467,
     "user": {
      "displayName": "Yicheng Wang",
      "photoUrl": "https://lh3.googleusercontent.com/a-/AOh14GgziKLn_im8Zl7A_SAzLLRm66nioH7fG0xuCYpJYg=s64",
      "userId": "10487961361854797289"
     },
     "user_tz": -540
    },
    "id": "xK5exWXUDNKn"
   },
   "outputs": [
    {
     "name": "stdout",
     "output_type": "stream",
     "text": [
      "train_size:  7688\n",
      "val_size:  1921\n",
      "test_size:  4119\n"
     ]
    }
   ],
   "source": [
    "batch_size = 128\n",
    "\n",
    "val_size = int(len(trainval_data)*0.2)\n",
    "train_size = len(trainval_data) - val_size\n",
    "print(\"train_size: \",train_size)\n",
    "print(\"val_size: \",val_size)\n",
    "print(\"test_size: \",len(y_test))\n",
    "\n",
    "train_data, val_data = torch.utils.data.random_split(trainval_data, [train_size, val_size])\n",
    "\n",
    "dataloader_train = torch.utils.data.DataLoader(\n",
    "    train_data,\n",
    "    batch_size=batch_size,\n",
    "    shuffle=True\n",
    ")\n",
    "\n",
    "dataloader_valid = torch.utils.data.DataLoader(\n",
    "    val_data,\n",
    "    batch_size=batch_size,\n",
    "    shuffle=True\n",
    ")\n",
    "\n",
    "dataloader_test = torch.utils.data.DataLoader(\n",
    "    test_data,\n",
    "    batch_size=batch_size,\n",
    "    shuffle=True\n",
    ")"
   ]
  },
  {
   "cell_type": "markdown",
   "metadata": {
    "id": "-KBoEbEMDNKo"
   },
   "source": [
    "# ResNet遷移学習"
   ]
  },
  {
   "cell_type": "code",
   "execution_count": 25,
   "metadata": {
    "id": "VIwIc2BXDNKp",
    "scrolled": true
   },
   "outputs": [],
   "source": [
    "import torch\n",
    "import torchvision.models as models\n",
    "import torch.nn as nn"
   ]
  },
  {
   "cell_type": "code",
   "execution_count": 26,
   "metadata": {
    "id": "xs6IXgvsDNKp",
    "scrolled": true
   },
   "outputs": [],
   "source": [
    "model = models.resnet18(pretrained=True)\n",
    "num_fcs = model.fc.in_features\n",
    "# FC層のクラス数を変更\n",
    "model.fc = nn.Sequential(\n",
    "    nn.Linear(num_fcs, 512),\n",
    "    # nn.Dropout(p=0.5),\n",
    "    nn.ReLU(inplace=True),\n",
    "    nn.Linear(512, 256),\n",
    "    nn.ReLU(inplace=True),\n",
    "    nn.Linear(256, 2)\n",
    ")\n",
    "\n",
    "#Freeze model weights\n",
    "for param in model.parameters():\n",
    "    param.requires_grad = True\n",
    "for param in model.fc.parameters():\n",
    "    param.requires_grad = True\n",
    "    \n",
    "model.avgpool = nn.AdaptiveAvgPool2d(1)\n",
    "loss_func = nn.NLLLoss()\n",
    "model = model.cuda()"
   ]
  },
  {
   "cell_type": "code",
   "execution_count": 27,
   "metadata": {
    "scrolled": true
   },
   "outputs": [
    {
     "name": "stdout",
     "output_type": "stream",
     "text": [
      "EPOCH: 0, Train [Loss: 0.900, Accuracy: 0.392], Valid [Loss: 0.651, Accuracy: 0.307]\n",
      "EPOCH: 1, Train [Loss: 0.597, Accuracy: 0.639], Valid [Loss: 0.601, Accuracy: 0.544]\n",
      "EPOCH: 2, Train [Loss: 3.313, Accuracy: 0.775], Valid [Loss: 0.579, Accuracy: 0.638]\n",
      "EPOCH: 3, Train [Loss: 0.495, Accuracy: 0.763], Valid [Loss: 0.405, Accuracy: 0.858]\n",
      "EPOCH: 4, Train [Loss: 0.429, Accuracy: 0.823], Valid [Loss: 0.563, Accuracy: 0.560]\n",
      "EPOCH: 5, Train [Loss: 0.455, Accuracy: 0.807], Valid [Loss: 0.417, Accuracy: 0.859]\n",
      "EPOCH: 6, Train [Loss: 0.420, Accuracy: 0.819], Valid [Loss: 0.486, Accuracy: 0.673]\n",
      "EPOCH: 7, Train [Loss: 0.406, Accuracy: 0.828], Valid [Loss: 3.154, Accuracy: 0.219]\n",
      "EPOCH: 8, Train [Loss: 0.454, Accuracy: 0.776], Valid [Loss: 0.774, Accuracy: 0.912]\n",
      "EPOCH: 9, Train [Loss: 0.418, Accuracy: 0.821], Valid [Loss: 0.428, Accuracy: 0.741]\n",
      "EPOCH: 10, Train [Loss: 0.406, Accuracy: 0.819], Valid [Loss: 0.444, Accuracy: 0.686]\n",
      "EPOCH: 11, Train [Loss: 0.405, Accuracy: 0.820], Valid [Loss: 0.388, Accuracy: 0.823]\n",
      "EPOCH: 12, Train [Loss: 0.389, Accuracy: 0.811], Valid [Loss: 0.449, Accuracy: 0.827]\n",
      "EPOCH: 13, Train [Loss: 0.411, Accuracy: 0.836], Valid [Loss: 0.926, Accuracy: 0.336]\n",
      "EPOCH: 14, Train [Loss: 0.376, Accuracy: 0.814], Valid [Loss: 0.527, Accuracy: 0.906]\n",
      "EPOCH: 15, Train [Loss: 0.379, Accuracy: 0.835], Valid [Loss: 0.396, Accuracy: 0.779]\n",
      "EPOCH: 16, Train [Loss: 0.356, Accuracy: 0.840], Valid [Loss: 0.498, Accuracy: 0.887]\n",
      "EPOCH: 17, Train [Loss: 0.373, Accuracy: 0.833], Valid [Loss: 0.497, Accuracy: 0.817]\n",
      "EPOCH: 18, Train [Loss: 0.339, Accuracy: 0.830], Valid [Loss: 0.373, Accuracy: 0.821]\n",
      "EPOCH: 19, Train [Loss: 0.360, Accuracy: 0.845], Valid [Loss: 0.388, Accuracy: 0.740]\n",
      "EPOCH: 20, Train [Loss: 0.447, Accuracy: 0.782], Valid [Loss: 0.830, Accuracy: 0.912]\n",
      "EPOCH: 21, Train [Loss: 0.694, Accuracy: 0.250], Valid [Loss: 0.690, Accuracy: 0.883]\n",
      "EPOCH: 22, Train [Loss: 0.695, Accuracy: 0.871], Valid [Loss: 0.691, Accuracy: 0.883]\n",
      "EPOCH: 23, Train [Loss: 0.694, Accuracy: 0.871], Valid [Loss: 0.691, Accuracy: 0.883]\n",
      "EPOCH: 24, Train [Loss: 0.639, Accuracy: 0.459], Valid [Loss: 0.521, Accuracy: 0.850]\n",
      "EPOCH: 25, Train [Loss: 0.484, Accuracy: 0.787], Valid [Loss: 0.472, Accuracy: 0.858]\n",
      "EPOCH: 26, Train [Loss: 0.481, Accuracy: 0.804], Valid [Loss: 0.463, Accuracy: 0.757]\n",
      "EPOCH: 27, Train [Loss: 0.466, Accuracy: 0.778], Valid [Loss: 0.447, Accuracy: 0.849]\n",
      "EPOCH: 28, Train [Loss: 0.434, Accuracy: 0.820], Valid [Loss: 0.761, Accuracy: 0.486]\n",
      "EPOCH: 29, Train [Loss: 0.425, Accuracy: 0.818], Valid [Loss: 0.417, Accuracy: 0.757]\n",
      "EPOCH: 30, Train [Loss: 0.419, Accuracy: 0.821], Valid [Loss: 0.488, Accuracy: 0.706]\n",
      "EPOCH: 31, Train [Loss: 0.452, Accuracy: 0.773], Valid [Loss: 0.412, Accuracy: 0.769]\n",
      "EPOCH: 32, Train [Loss: 0.418, Accuracy: 0.825], Valid [Loss: 0.405, Accuracy: 0.797]\n",
      "EPOCH: 33, Train [Loss: 0.414, Accuracy: 0.824], Valid [Loss: 0.391, Accuracy: 0.872]\n",
      "EPOCH: 34, Train [Loss: 0.412, Accuracy: 0.838], Valid [Loss: 0.388, Accuracy: 0.851]\n",
      "EPOCH: 35, Train [Loss: 0.427, Accuracy: 0.790], Valid [Loss: 0.401, Accuracy: 0.755]\n",
      "EPOCH: 36, Train [Loss: 0.385, Accuracy: 0.820], Valid [Loss: 0.442, Accuracy: 0.893]\n",
      "EPOCH: 37, Train [Loss: 0.361, Accuracy: 0.844], Valid [Loss: 0.414, Accuracy: 0.735]\n",
      "EPOCH: 38, Train [Loss: 0.359, Accuracy: 0.835], Valid [Loss: 0.521, Accuracy: 0.881]\n",
      "EPOCH: 39, Train [Loss: 0.344, Accuracy: 0.840], Valid [Loss: 0.384, Accuracy: 0.870]\n",
      "EPOCH: 40, Train [Loss: 0.351, Accuracy: 0.826], Valid [Loss: 0.376, Accuracy: 0.868]\n",
      "EPOCH: 41, Train [Loss: 0.332, Accuracy: 0.856], Valid [Loss: 0.420, Accuracy: 0.819]\n",
      "EPOCH: 42, Train [Loss: 0.327, Accuracy: 0.855], Valid [Loss: 0.467, Accuracy: 0.731]\n",
      "EPOCH: 43, Train [Loss: 0.315, Accuracy: 0.853], Valid [Loss: 0.509, Accuracy: 0.848]\n",
      "EPOCH: 44, Train [Loss: 0.322, Accuracy: 0.852], Valid [Loss: 0.352, Accuracy: 0.805]\n",
      "EPOCH: 45, Train [Loss: 0.307, Accuracy: 0.855], Valid [Loss: 0.414, Accuracy: 0.885]\n",
      "EPOCH: 46, Train [Loss: 0.287, Accuracy: 0.860], Valid [Loss: 0.498, Accuracy: 0.897]\n",
      "EPOCH: 47, Train [Loss: 0.366, Accuracy: 0.818], Valid [Loss: 0.450, Accuracy: 0.619]\n",
      "EPOCH: 48, Train [Loss: 0.531, Accuracy: 0.834], Valid [Loss: 0.531, Accuracy: 0.723]\n",
      "EPOCH: 49, Train [Loss: 0.384, Accuracy: 0.814], Valid [Loss: 0.443, Accuracy: 0.618]\n",
      "EPOCH: 50, Train [Loss: 0.353, Accuracy: 0.839], Valid [Loss: 0.382, Accuracy: 0.865]\n",
      "EPOCH: 51, Train [Loss: 0.341, Accuracy: 0.832], Valid [Loss: 0.395, Accuracy: 0.872]\n",
      "EPOCH: 52, Train [Loss: 0.377, Accuracy: 0.805], Valid [Loss: 0.388, Accuracy: 0.851]\n",
      "EPOCH: 53, Train [Loss: 0.342, Accuracy: 0.835], Valid [Loss: 0.352, Accuracy: 0.816]\n",
      "EPOCH: 54, Train [Loss: 0.304, Accuracy: 0.841], Valid [Loss: 0.356, Accuracy: 0.807]\n",
      "EPOCH: 55, Train [Loss: 0.292, Accuracy: 0.857], Valid [Loss: 0.407, Accuracy: 0.761]\n",
      "EPOCH: 56, Train [Loss: 0.298, Accuracy: 0.860], Valid [Loss: 0.423, Accuracy: 0.845]\n",
      "EPOCH: 57, Train [Loss: 0.393, Accuracy: 0.786], Valid [Loss: 0.396, Accuracy: 0.853]\n",
      "EPOCH: 58, Train [Loss: 0.314, Accuracy: 0.834], Valid [Loss: 0.352, Accuracy: 0.823]\n",
      "EPOCH: 59, Train [Loss: 0.292, Accuracy: 0.852], Valid [Loss: 0.544, Accuracy: 0.680]\n",
      "EPOCH: 60, Train [Loss: 0.275, Accuracy: 0.861], Valid [Loss: 0.349, Accuracy: 0.832]\n",
      "EPOCH: 61, Train [Loss: 0.294, Accuracy: 0.855], Valid [Loss: 0.377, Accuracy: 0.877]\n",
      "EPOCH: 62, Train [Loss: 0.262, Accuracy: 0.875], Valid [Loss: 0.456, Accuracy: 0.898]\n",
      "EPOCH: 63, Train [Loss: 0.278, Accuracy: 0.859], Valid [Loss: 0.393, Accuracy: 0.888]\n",
      "EPOCH: 64, Train [Loss: 0.332, Accuracy: 0.886], Valid [Loss: 0.406, Accuracy: 0.865]\n",
      "EPOCH: 65, Train [Loss: 0.451, Accuracy: 0.783], Valid [Loss: 0.564, Accuracy: 0.870]\n",
      "EPOCH: 66, Train [Loss: 0.413, Accuracy: 0.820], Valid [Loss: 0.414, Accuracy: 0.796]\n",
      "EPOCH: 67, Train [Loss: 0.374, Accuracy: 0.832], Valid [Loss: 0.394, Accuracy: 0.835]\n",
      "EPOCH: 68, Train [Loss: 0.362, Accuracy: 0.835], Valid [Loss: 0.377, Accuracy: 0.820]\n",
      "EPOCH: 69, Train [Loss: 0.339, Accuracy: 0.838], Valid [Loss: 0.381, Accuracy: 0.879]\n",
      "EPOCH: 70, Train [Loss: 0.322, Accuracy: 0.850], Valid [Loss: 0.422, Accuracy: 0.888]\n",
      "EPOCH: 71, Train [Loss: 0.362, Accuracy: 0.825], Valid [Loss: 0.541, Accuracy: 0.632]\n",
      "EPOCH: 72, Train [Loss: 0.366, Accuracy: 0.812], Valid [Loss: 0.371, Accuracy: 0.868]\n",
      "EPOCH: 73, Train [Loss: 0.312, Accuracy: 0.855], Valid [Loss: 0.457, Accuracy: 0.894]\n",
      "EPOCH: 74, Train [Loss: 0.323, Accuracy: 0.849], Valid [Loss: 0.352, Accuracy: 0.859]\n",
      "EPOCH: 75, Train [Loss: 0.287, Accuracy: 0.866], Valid [Loss: 0.347, Accuracy: 0.869]\n",
      "EPOCH: 76, Train [Loss: 0.286, Accuracy: 0.870], Valid [Loss: 0.394, Accuracy: 0.837]\n",
      "EPOCH: 77, Train [Loss: 0.280, Accuracy: 0.872], Valid [Loss: 0.375, Accuracy: 0.822]\n",
      "EPOCH: 78, Train [Loss: 0.257, Accuracy: 0.877], Valid [Loss: 0.432, Accuracy: 0.887]\n",
      "EPOCH: 79, Train [Loss: 0.252, Accuracy: 0.877], Valid [Loss: 0.403, Accuracy: 0.882]\n",
      "EPOCH: 80, Train [Loss: 0.250, Accuracy: 0.879], Valid [Loss: 0.409, Accuracy: 0.898]\n",
      "EPOCH: 81, Train [Loss: 0.261, Accuracy: 0.863], Valid [Loss: 0.372, Accuracy: 0.868]\n",
      "EPOCH: 82, Train [Loss: 0.239, Accuracy: 0.885], Valid [Loss: 0.439, Accuracy: 0.890]\n",
      "EPOCH: 83, Train [Loss: 0.221, Accuracy: 0.893], Valid [Loss: 0.442, Accuracy: 0.893]\n",
      "EPOCH: 84, Train [Loss: 0.214, Accuracy: 0.892], Valid [Loss: 0.391, Accuracy: 0.868]\n",
      "EPOCH: 85, Train [Loss: 0.226, Accuracy: 0.896], Valid [Loss: 0.534, Accuracy: 0.900]\n",
      "EPOCH: 86, Train [Loss: 0.354, Accuracy: 0.809], Valid [Loss: 0.463, Accuracy: 0.686]\n",
      "EPOCH: 87, Train [Loss: 0.284, Accuracy: 0.854], Valid [Loss: 0.387, Accuracy: 0.858]\n",
      "EPOCH: 88, Train [Loss: 0.247, Accuracy: 0.879], Valid [Loss: 0.360, Accuracy: 0.879]\n",
      "EPOCH: 89, Train [Loss: 0.225, Accuracy: 0.888], Valid [Loss: 0.459, Accuracy: 0.784]\n",
      "EPOCH: 90, Train [Loss: 0.234, Accuracy: 0.880], Valid [Loss: 0.349, Accuracy: 0.847]\n",
      "EPOCH: 91, Train [Loss: 0.208, Accuracy: 0.896], Valid [Loss: 0.357, Accuracy: 0.859]\n",
      "EPOCH: 92, Train [Loss: 0.206, Accuracy: 0.897], Valid [Loss: 0.411, Accuracy: 0.881]\n",
      "EPOCH: 93, Train [Loss: 0.210, Accuracy: 0.905], Valid [Loss: 0.449, Accuracy: 0.864]\n",
      "EPOCH: 94, Train [Loss: 0.178, Accuracy: 0.911], Valid [Loss: 0.426, Accuracy: 0.889]\n",
      "EPOCH: 95, Train [Loss: 0.168, Accuracy: 0.914], Valid [Loss: 0.425, Accuracy: 0.896]\n"
     ]
    },
    {
     "name": "stdout",
     "output_type": "stream",
     "text": [
      "EPOCH: 96, Train [Loss: 0.175, Accuracy: 0.912], Valid [Loss: 0.422, Accuracy: 0.894]\n",
      "EPOCH: 97, Train [Loss: 0.154, Accuracy: 0.924], Valid [Loss: 0.493, Accuracy: 0.911]\n",
      "EPOCH: 98, Train [Loss: 0.184, Accuracy: 0.922], Valid [Loss: 0.450, Accuracy: 0.907]\n",
      "EPOCH: 99, Train [Loss: 0.316, Accuracy: 0.839], Valid [Loss: 0.346, Accuracy: 0.798]\n"
     ]
    }
   ],
   "source": [
    "n_epochs = 100\n",
    "\n",
    "# negative : ラベル0の数\n",
    "# positive : ラベル1の数\n",
    "# weight_for_0 : 1. / negative * (negative + positive)\n",
    "# weight_for_1 : 1. / positive * (negative + positive)\n",
    "# class_weight = {0 : weight_for_0, 1 : weight_for_1}\n",
    "weights = torch.tensor([(len(DataPad_01)+len(DataPad_02Nami))/len(DataPad_01), \n",
    "                        (len(DataPad_01)+len(DataPad_02Nami))/len(DataPad_02Nami)]).cuda()\n",
    "loss_function = nn.CrossEntropyLoss(weight=weights)\n",
    "\n",
    "optimizer = torch.optim.Adam(model.parameters(), lr=0.01)  # 定义优化器\n",
    "scheduler = torch.optim.lr_scheduler.ExponentialLR(optimizer, gamma=0.99) # 定义衰减策略\n",
    "\n",
    "device = \"cuda\"\n",
    "# device = torch.device(\"cuda:0\" if torch.cuda.is_available() else \"cpu\")\n",
    "# if torch.cuda.device_count() > 1:\n",
    "#     model = nn.DataParallel(model)\n",
    "# model.to(device)\n",
    "\n",
    "losstrain=[]\n",
    "lossvalid=[]\n",
    "Accuracytrain=[]\n",
    "Accuracyvalid=[]\n",
    "\n",
    "for epoch in range(n_epochs):\n",
    "    losses_train = []\n",
    "    losses_valid = []\n",
    "    # Train\n",
    "    optimizer.step()\n",
    "    model.train()\n",
    "    n_train = 0\n",
    "    acc_train = 0\n",
    "    for x, t in dataloader_train:\n",
    "        n_train += t.size()[0]\n",
    "        model.zero_grad()  # 勾配の初期化\n",
    "        x = x.to(device)  # テンソルをGPUに移動\n",
    "        t = t.to(device)\n",
    "        y = model.forward(x)  # 順伝播\n",
    "        loss = loss_function(y, t)  # 誤差(クロスエントロピー誤差関数)の計算\n",
    "        loss.backward()  # 誤差の逆伝播\n",
    "        optimizer.step()  # パラメータの更新\n",
    "        pred = y.argmax(1)  # 最大値を取るラベルを予測ラベルとする\n",
    "        acc_train += (pred == t).float().sum().item()\n",
    "        losses_train.append(loss.tolist())\n",
    "    # Evaluate\n",
    "    model.eval()\n",
    "    n_val = 0\n",
    "    acc_val = 0\n",
    "    for x, t in dataloader_valid:\n",
    "        n_val += t.size()[0]\n",
    "        x = x.to(device)  # テンソルをGPUに移動\n",
    "        t = t.to(device)\n",
    "        y = model.forward(x)  # 順伝播\n",
    "        loss = loss_function(y, t)  # 誤差(クロスエントロピー誤差関数)の計算\n",
    "        pred = y.argmax(1)  # 最大値を取るラベルを予測ラベルとする\n",
    "        acc_val += (pred == t).float().sum().item()\n",
    "        losses_valid.append(loss.tolist())\n",
    "    scheduler.step()\n",
    "    # Visualize loss & accuracy    \n",
    "    losstrain.append(np.mean(losses_train))   \n",
    "    Accuracytrain.append(acc_train/n_train)\n",
    "    lossvalid.append(np.mean(losses_train))\n",
    "    Accuracyvalid.append(acc_val/n_val)\n",
    "    print('EPOCH: {}, Train [Loss: {:.3f}, Accuracy: {:.3f}], Valid [Loss: {:.3f}, Accuracy: {:.3f}]'.format(epoch,np.mean(losses_train),acc_train/n_train,np.mean(losses_valid),acc_val/n_val))"
   ]
  },
  {
   "cell_type": "code",
   "execution_count": 28,
   "metadata": {},
   "outputs": [
    {
     "data": {
      "image/png": "[encoded data removed]",
      "text/plain": [
       "<Figure size 432x288 with 1 Axes>"
      ]
     },
     "metadata": {
      "needs_background": "light"
     },
     "output_type": "display_data"
    },
    {
     "data": {
      "text/plain": [
       "<Figure size 432x288 with 0 Axes>"
      ]
     },
     "metadata": {},
     "output_type": "display_data"
    }
   ],
   "source": [
    "# train processing plot\n",
    "epochs=range(1,n_epochs+1)\n",
    "plt.ylim(0,1.0)\n",
    "plt.plot(epochs,Accuracytrain,'b',label='Training accuracy')  \n",
    "plt.plot(epochs, Accuracyvalid,'r',label='Validation accuracy')\n",
    "plt.title('Training and Validation accuracy')\n",
    "plt.legend()\n",
    "plt.figure()\n",
    "plt.show()"
   ]
  },
  {
   "cell_type": "code",
   "execution_count": 29,
   "metadata": {},
   "outputs": [],
   "source": [
    "torch.save(model,\"SelfResnet18.pkl\")"
   ]
  },
  {
   "cell_type": "code",
   "execution_count": 31,
   "metadata": {},
   "outputs": [
    {
     "name": "stdout",
     "output_type": "stream",
     "text": [
      "acc_test:  3327.0\n",
      "n_test:  4119\n",
      "Loss: 0.354, Accuracy: 0.808\n"
     ]
    }
   ],
   "source": [
    "# Test\n",
    "losses_test = []\n",
    "n_test = 0\n",
    "acc_test = 0\n",
    "model.eval()\n",
    "\n",
    "for x, t in dataloader_test:\n",
    "    n_test += t.size()[0]\n",
    "    x = x.to(device)  # テンソルをGPUに移動\n",
    "    t = t.to(device)\n",
    "    y = model.forward(x)  # 順伝播\n",
    "    loss = loss_function(y, t)  # 誤差(クロスエントロピー誤差関数)の計算\n",
    "    pred = y.argmax(1)  # 最大値を取るラベルを予測ラベルとする\n",
    "    acc_test += (pred == t).float().sum().item()\n",
    "    losses_test.append(loss.tolist())\n",
    "\n",
    "# Visualize loss & accuracy \n",
    "print(\"acc_test: \", acc_test) \n",
    "print(\"n_test: \", n_test)\n",
    "print('Loss: {:.3f}, Accuracy: {:.3f}'.format(np.mean(losses_test),acc_test/n_test))"
   ]
  },
  {
   "cell_type": "code",
   "execution_count": null,
   "metadata": {},
   "outputs": [],
   "source": []
  }
 ],
 "metadata": {
  "accelerator": "GPU",
  "colab": {
   "collapsed_sections": [],
   "name": "KIMIA_CNN.ipynb",
   "provenance": []
  },
  "kernelspec": {
   "display_name": "Python 3 (ipykernel)",
   "language": "python",
   "name": "python3"
  },
  "language_info": {
   "codemirror_mode": {
    "name": "ipython",
    "version": 3
   },
   "file_extension": ".py",
   "mimetype": "text/x-python",
   "name": "python",
   "nbconvert_exporter": "python",
   "pygments_lexer": "ipython3",
   "version": "3.10.4"
  },
  "toc": {
   "base_numbering": 1,
   "nav_menu": {},
   "number_sections": true,
   "sideBar": true,
   "skip_h1_title": false,
   "title_cell": "Table of Contents",
   "title_sidebar": "Contents",
   "toc_cell": false,
   "toc_position": {},
   "toc_section_display": true,
   "toc_window_display": false
  }
 },
 "nbformat": 4,
 "nbformat_minor": 1
}
