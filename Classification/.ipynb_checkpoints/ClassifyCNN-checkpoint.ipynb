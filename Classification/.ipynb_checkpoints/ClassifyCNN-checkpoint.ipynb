{
 "cells": [
  {
   "cell_type": "code",
   "execution_count": 1,
   "metadata": {},
   "outputs": [],
   "source": [
    "import cv2,os\n",
    "from PIL import Image\n",
    "import numpy as np\n",
    "from matplotlib import pyplot as plt\n",
    "from tqdm import tqdm_notebook as tqdm\n",
    "\n",
    "from sklearn.model_selection import train_test_split\n",
    "from sklearn.metrics import roc_auc_score,precision_score,accuracy_score,roc_curve\n",
    "import torch\n",
    "import torch.nn as nn\n",
    "from torchvision import transforms\n",
    "import torchvision.models as models"
   ]
  },
  {
   "cell_type": "code",
   "execution_count": 2,
   "metadata": {},
   "outputs": [
    {
     "name": "stdout",
     "output_type": "stream",
     "text": [
      "torch.device(cuda)\n",
      "torch.cuda.device_count():  4\n",
      "Tesla V100-SXM2-16GB\n",
      "Tesla V100-SXM2-16GB\n",
      "Tesla V100-SXM2-16GB\n",
      "Tesla V100-SXM2-16GB\n",
      "torch.cuda.current_device() 0\n"
     ]
    }
   ],
   "source": [
    "if torch.cuda.is_available():\n",
    "    device = torch.device(\"cuda\")\n",
    "    print(\"torch.device(cuda)\")\n",
    "    print(\"torch.cuda.device_count(): \", torch.cuda.device_count())\n",
    "    for i in range(torch.cuda.device_count()):\n",
    "        print(torch.cuda.get_device_name())\n",
    "    print(\"torch.cuda.current_device()\", torch.cuda.current_device())\n",
    "else:\n",
    "    device = torch.device(\"cpu\")\n",
    "    print(\"torch.device(cpu)\")"
   ]
  },
  {
   "cell_type": "markdown",
   "metadata": {
    "id": "aJjxv_T_DNKk"
   },
   "source": [
    "# 1. Read data"
   ]
  },
  {
   "cell_type": "code",
   "execution_count": 5,
   "metadata": {},
   "outputs": [
    {
     "name": "stdout",
     "output_type": "stream",
     "text": [
      "untreaded_train.shape: (3000, 100, 100, 3)\n",
      "VPAtreaded_train.shape: (3000, 100, 100, 3)\n",
      "untreaded_test.shape: (210, 100, 100, 3)\n",
      "VPAtreaded_test.shape: (210, 100, 100, 3)\n"
     ]
    }
   ],
   "source": [
    "# Data(x)\n",
    "untreaded_train=np.load(\"results2022/untreaded_train.npy\",allow_pickle=True)\n",
    "# untreaded_train=np.load(\"results2022/untreaded_train_all.npy\",allow_pickle=True)[:10000]\n",
    "VPAtreaded_train=np.load(\"results2022/VPAtreaded_train.npy\",allow_pickle=True)\n",
    "untreaded_test=np.load(\"results2022/untreaded_test.npy\",allow_pickle=True)\n",
    "VPAtreaded_test=np.load(\"results2022/VPAtreaded_test.npy\",allow_pickle=True)\n",
    "\n",
    "print(\"untreaded_train.shape:\", untreaded_train.shape)\n",
    "print(\"VPAtreaded_train.shape:\", VPAtreaded_train.shape)\n",
    "print(\"untreaded_test.shape:\", untreaded_test.shape)\n",
    "print(\"VPAtreaded_test.shape:\", VPAtreaded_test.shape)"
   ]
  },
  {
   "cell_type": "code",
   "execution_count": 6,
   "metadata": {},
   "outputs": [],
   "source": [
    "# Label(y)\n",
    "y_untreaded_train = np.zeros(len(untreaded_train), dtype=np.int32)\n",
    "y_VPAtreaded_train = np.ones(len(VPAtreaded_train), dtype=np.int32)\n",
    "\n",
    "y_untreaded_test = np.zeros(len(untreaded_test), dtype=np.int32)\n",
    "y_VPAtreaded_test = np.ones(len(VPAtreaded_test), dtype=np.int32)"
   ]
  },
  {
   "cell_type": "code",
   "execution_count": 7,
   "metadata": {},
   "outputs": [],
   "source": [
    "# concatenate x and y\n",
    "X_train, X_test = np.concatenate((untreaded_train, VPAtreaded_train), axis = 0), np.concatenate((untreaded_test, VPAtreaded_test), axis = 0)\n",
    "y_train, y_test = np.concatenate((y_untreaded_train, y_VPAtreaded_train), axis = 0), np.concatenate((y_untreaded_test, y_VPAtreaded_test), axis = 0)"
   ]
  },
  {
   "cell_type": "markdown",
   "metadata": {
    "id": "qyvCoE-HDNKm"
   },
   "source": [
    "# 2. Data processing"
   ]
  },
  {
   "cell_type": "code",
   "execution_count": 8,
   "metadata": {
    "executionInfo": {
     "elapsed": 290,
     "status": "ok",
     "timestamp": 1627023529885,
     "user": {
      "displayName": "Yicheng Wang",
      "photoUrl": "https://lh3.googleusercontent.com/a-/AOh14GgziKLn_im8Zl7A_SAzLLRm66nioH7fG0xuCYpJYg=s64",
      "userId": "10487961361854797289"
     },
     "user_tz": -540
    },
    "id": "Fh058iRlDNKm"
   },
   "outputs": [],
   "source": [
    "class cell_dataset(torch.utils.data.Dataset):\n",
    "    def __init__(self, x, y):\n",
    "        self.x = x\n",
    "        self.y = y\n",
    "        self.transform = transforms.ToTensor()\n",
    "    def __len__(self):\n",
    "        return len(self.x)\n",
    "    def __getitem__(self, idx):\n",
    "        return self.transform(self.x[idx]), torch.tensor(self.y[idx], dtype=torch.long)\n",
    "\n",
    "# trainval_data = cell_dataset(X_train, y_train)\n",
    "train_data = cell_dataset(X_train, y_train)\n",
    "val_data = cell_dataset(X_test, y_test)"
   ]
  },
  {
   "cell_type": "code",
   "execution_count": 9,
   "metadata": {
    "executionInfo": {
     "elapsed": 325,
     "status": "ok",
     "timestamp": 1627023533467,
     "user": {
      "displayName": "Yicheng Wang",
      "photoUrl": "https://lh3.googleusercontent.com/a-/AOh14GgziKLn_im8Zl7A_SAzLLRm66nioH7fG0xuCYpJYg=s64",
      "userId": "10487961361854797289"
     },
     "user_tz": -540
    },
    "id": "xK5exWXUDNKn"
   },
   "outputs": [],
   "source": [
    "batch_size = 128\n",
    "\n",
    "# val_size = int(len(trainval_data)*0.2)\n",
    "# train_size = len(trainval_data) - val_size\n",
    "\n",
    "# train_data, val_data = torch.utils.data.random_split(trainval_data, [train_size, val_size])\n",
    "dataloader_train = torch.utils.data.DataLoader(train_data, batch_size=batch_size, shuffle=True)\n",
    "dataloader_valid = torch.utils.data.DataLoader(val_data, batch_size=batch_size, shuffle=True)"
   ]
  },
  {
   "cell_type": "code",
   "execution_count": 10,
   "metadata": {},
   "outputs": [
    {
     "name": "stdout",
     "output_type": "stream",
     "text": [
      "Total number of train :  6000\n",
      "train_class_0:  3000\n",
      "train_class_1:  3000\n",
      "\n",
      "Total number of val :  420\n",
      "val_class_0:  210\n",
      "val_class_1:  210\n",
      "\n",
      "Total number of test :  420\n",
      "test_class_0 num :  210\n",
      "test_class_1 num :  210\n"
     ]
    }
   ],
   "source": [
    "train_data_01 = 0\n",
    "train_size = len(train_data)\n",
    "for i in range(train_size):\n",
    "    train_data_01+=train_data[i][1].item()\n",
    "print(\"Total number of train : \", train_size)\n",
    "print(\"train_class_0: \", train_size-train_data_01)\n",
    "print(\"train_class_1: \", train_data_01)\n",
    "\n",
    "val_data_01 = 0\n",
    "val_size = len(val_data)\n",
    "for i in range(val_size):\n",
    "    val_data_01+=val_data[i][1].item()\n",
    "print(\"\\nTotal number of val : \", val_size)\n",
    "print(\"val_class_0: \", val_size-val_data_01)\n",
    "print(\"val_class_1: \", val_data_01)\n",
    "\n",
    "test_00 = y_test.tolist().count(0)\n",
    "test_01 = y_test.tolist().count(1)\n",
    "print(\"\\nTotal number of test : \", len(y_test))\n",
    "print(\"test_class_0 num : \", test_00)\n",
    "print(\"test_class_1 num : \", test_01)"
   ]
  },
  {
   "cell_type": "markdown",
   "metadata": {
    "id": "-KBoEbEMDNKo"
   },
   "source": [
    "# 3. ResNet model"
   ]
  },
  {
   "cell_type": "code",
   "execution_count": 23,
   "metadata": {},
   "outputs": [],
   "source": [
    "model = torch.load(\"model/SelfResnet9C1F_220920.pkl\")"
   ]
  },
  {
   "cell_type": "code",
   "execution_count": 134,
   "metadata": {
    "id": "xs6IXgvsDNKp",
    "scrolled": false
   },
   "outputs": [],
   "source": [
    "model = models.resnet18(pretrained=True)\n",
    "\n",
    "model.layer3 = nn.Sequential()\n",
    "model.layer4 = nn.Sequential()\n",
    "\n",
    "model.fc = nn.Sequential(\n",
    "    nn.Linear(128, 2),\n",
    "#     nn.Softmax(dim=1)\n",
    ")"
   ]
  },
  {
   "cell_type": "code",
   "execution_count": 103,
   "metadata": {},
   "outputs": [],
   "source": [
    "# model.fc = nn.Sequential(\n",
    "#     nn.Linear(128, 512),\n",
    "#     nn.Dropout(p=0.5),\n",
    "#     nn.ReLU(inplace=True),\n",
    "#     nn.Linear(512, 256),\n",
    "#     nn.ReLU(inplace=True),\n",
    "#     nn.Linear(256, 2)\n",
    "# )\n",
    "\n",
    "# #Freeze model weights\n",
    "# for param in model.parameters():\n",
    "#     param.requires_grad = True\n",
    "# for param in model.fc.parameters():\n",
    "#     param.requires_grad = True"
   ]
  },
  {
   "cell_type": "code",
   "execution_count": 12,
   "metadata": {},
   "outputs": [],
   "source": [
    "# model = model.cuda()\n",
    "model.to(device)\n",
    "if torch.cuda.device_count() > 1:\n",
    "    model = nn.DataParallel(model)"
   ]
  },
  {
   "cell_type": "code",
   "execution_count": 13,
   "metadata": {},
   "outputs": [
    {
     "name": "stdout",
     "output_type": "stream",
     "text": [
      "torch.Size([1, 2])\n"
     ]
    }
   ],
   "source": [
    "image_size = 100\n",
    "test_input = torch.ones(1,3,image_size,image_size).to(device)\n",
    "print(model(test_input).size())"
   ]
  },
  {
   "cell_type": "code",
   "execution_count": 14,
   "metadata": {
    "scrolled": true
   },
   "outputs": [
    {
     "data": {
      "text/plain": [
       "DataParallel(\n",
       "  (module): ResNet(\n",
       "    (conv1): Conv2d(3, 64, kernel_size=(7, 7), stride=(2, 2), padding=(3, 3), bias=False)\n",
       "    (bn1): BatchNorm2d(64, eps=1e-05, momentum=0.1, affine=True, track_running_stats=True)\n",
       "    (relu): ReLU(inplace=True)\n",
       "    (maxpool): MaxPool2d(kernel_size=3, stride=2, padding=1, dilation=1, ceil_mode=False)\n",
       "    (layer1): Sequential(\n",
       "      (0): BasicBlock(\n",
       "        (conv1): Conv2d(64, 64, kernel_size=(3, 3), stride=(1, 1), padding=(1, 1), bias=False)\n",
       "        (bn1): BatchNorm2d(64, eps=1e-05, momentum=0.1, affine=True, track_running_stats=True)\n",
       "        (relu): ReLU(inplace=True)\n",
       "        (conv2): Conv2d(64, 64, kernel_size=(3, 3), stride=(1, 1), padding=(1, 1), bias=False)\n",
       "        (bn2): BatchNorm2d(64, eps=1e-05, momentum=0.1, affine=True, track_running_stats=True)\n",
       "      )\n",
       "      (1): BasicBlock(\n",
       "        (conv1): Conv2d(64, 64, kernel_size=(3, 3), stride=(1, 1), padding=(1, 1), bias=False)\n",
       "        (bn1): BatchNorm2d(64, eps=1e-05, momentum=0.1, affine=True, track_running_stats=True)\n",
       "        (relu): ReLU(inplace=True)\n",
       "        (conv2): Conv2d(64, 64, kernel_size=(3, 3), stride=(1, 1), padding=(1, 1), bias=False)\n",
       "        (bn2): BatchNorm2d(64, eps=1e-05, momentum=0.1, affine=True, track_running_stats=True)\n",
       "      )\n",
       "    )\n",
       "    (layer2): Sequential(\n",
       "      (0): BasicBlock(\n",
       "        (conv1): Conv2d(64, 128, kernel_size=(3, 3), stride=(2, 2), padding=(1, 1), bias=False)\n",
       "        (bn1): BatchNorm2d(128, eps=1e-05, momentum=0.1, affine=True, track_running_stats=True)\n",
       "        (relu): ReLU(inplace=True)\n",
       "        (conv2): Conv2d(128, 128, kernel_size=(3, 3), stride=(1, 1), padding=(1, 1), bias=False)\n",
       "        (bn2): BatchNorm2d(128, eps=1e-05, momentum=0.1, affine=True, track_running_stats=True)\n",
       "        (downsample): Sequential(\n",
       "          (0): Conv2d(64, 128, kernel_size=(1, 1), stride=(2, 2), bias=False)\n",
       "          (1): BatchNorm2d(128, eps=1e-05, momentum=0.1, affine=True, track_running_stats=True)\n",
       "        )\n",
       "      )\n",
       "      (1): BasicBlock(\n",
       "        (conv1): Conv2d(128, 128, kernel_size=(3, 3), stride=(1, 1), padding=(1, 1), bias=False)\n",
       "        (bn1): BatchNorm2d(128, eps=1e-05, momentum=0.1, affine=True, track_running_stats=True)\n",
       "        (relu): ReLU(inplace=True)\n",
       "        (conv2): Conv2d(128, 128, kernel_size=(3, 3), stride=(1, 1), padding=(1, 1), bias=False)\n",
       "        (bn2): BatchNorm2d(128, eps=1e-05, momentum=0.1, affine=True, track_running_stats=True)\n",
       "      )\n",
       "    )\n",
       "    (layer3): Sequential()\n",
       "    (layer4): Sequential()\n",
       "    (avgpool): AdaptiveAvgPool2d(output_size=1)\n",
       "    (fc): Sequential(\n",
       "      (0): Linear(in_features=128, out_features=2, bias=True)\n",
       "    )\n",
       "  )\n",
       ")"
      ]
     },
     "execution_count": 14,
     "metadata": {},
     "output_type": "execute_result"
    }
   ],
   "source": [
    "model"
   ]
  },
  {
   "cell_type": "code",
   "execution_count": 15,
   "metadata": {},
   "outputs": [],
   "source": [
    "model.avgpool = nn.AdaptiveAvgPool2d(1)\n",
    "\n",
    "# weight_for_0 : 1. / negative * (negative + positive)\n",
    "# weight_for_1 : 1. / positive * (negative + positive)\n",
    "# class_weight = {0 : weight_for_0, 1 : weight_for_1}\n",
    "weights = torch.tensor([(len(untreaded_train)+len(VPAtreaded_train))/len(untreaded_train), \n",
    "                        (len(untreaded_train)+len(VPAtreaded_train))/len(VPAtreaded_train)]).cuda()\n",
    "loss_function = nn.CrossEntropyLoss(weight=weights)\n",
    "\n",
    "optimizer = torch.optim.Adam(model.parameters(), lr=0.1)  # 定义优化器\n",
    "scheduler = torch.optim.lr_scheduler.ExponentialLR(optimizer, gamma=0.99) # 定义衰减策略"
   ]
  },
  {
   "cell_type": "code",
   "execution_count": 16,
   "metadata": {},
   "outputs": [],
   "source": [
    "losstrain=[]\n",
    "lossvalid=[]\n",
    "Accuracytrain=[]\n",
    "Accuracyvalid=[]"
   ]
  },
  {
   "cell_type": "code",
   "execution_count": 19,
   "metadata": {
    "scrolled": true
   },
   "outputs": [
    {
     "name": "stdout",
     "output_type": "stream",
     "text": [
      "EPOCH: 0, Train [Loss: 0.005, Accuracy: 0.999], Valid [Loss: 0.273, Accuracy: 0.929]\n",
      "EPOCH: 1, Train [Loss: 0.005, Accuracy: 0.998], Valid [Loss: 0.334, Accuracy: 0.936]\n",
      "EPOCH: 2, Train [Loss: 0.008, Accuracy: 0.997], Valid [Loss: 0.477, Accuracy: 0.917]\n",
      "EPOCH: 3, Train [Loss: 0.002, Accuracy: 1.000], Valid [Loss: 0.303, Accuracy: 0.945]\n",
      "EPOCH: 4, Train [Loss: 0.002, Accuracy: 0.999], Valid [Loss: 0.444, Accuracy: 0.943]\n",
      "EPOCH: 5, Train [Loss: 0.002, Accuracy: 1.000], Valid [Loss: 0.523, Accuracy: 0.936]\n",
      "EPOCH: 6, Train [Loss: 0.002, Accuracy: 1.000], Valid [Loss: 0.263, Accuracy: 0.950]\n",
      "EPOCH: 7, Train [Loss: 0.003, Accuracy: 1.000], Valid [Loss: 0.321, Accuracy: 0.940]\n",
      "EPOCH: 8, Train [Loss: 0.001, Accuracy: 1.000], Valid [Loss: 0.306, Accuracy: 0.940]\n",
      "EPOCH: 9, Train [Loss: 0.003, Accuracy: 0.999], Valid [Loss: 0.454, Accuracy: 0.933]\n",
      "EPOCH: 10, Train [Loss: 0.002, Accuracy: 1.000], Valid [Loss: 0.518, Accuracy: 0.945]\n",
      "EPOCH: 11, Train [Loss: 0.003, Accuracy: 0.999], Valid [Loss: 0.409, Accuracy: 0.938]\n",
      "EPOCH: 12, Train [Loss: 0.003, Accuracy: 0.999], Valid [Loss: 0.412, Accuracy: 0.933]\n",
      "EPOCH: 13, Train [Loss: 0.004, Accuracy: 0.999], Valid [Loss: 0.598, Accuracy: 0.933]\n",
      "EPOCH: 14, Train [Loss: 0.004, Accuracy: 0.999], Valid [Loss: 0.339, Accuracy: 0.943]\n",
      "EPOCH: 15, Train [Loss: 0.001, Accuracy: 1.000], Valid [Loss: 0.387, Accuracy: 0.936]\n",
      "EPOCH: 16, Train [Loss: 0.003, Accuracy: 1.000], Valid [Loss: 0.459, Accuracy: 0.938]\n",
      "EPOCH: 17, Train [Loss: 0.007, Accuracy: 0.998], Valid [Loss: 0.427, Accuracy: 0.933]\n",
      "EPOCH: 18, Train [Loss: 0.004, Accuracy: 0.999], Valid [Loss: 0.428, Accuracy: 0.936]\n",
      "EPOCH: 19, Train [Loss: 0.005, Accuracy: 0.998], Valid [Loss: 0.461, Accuracy: 0.931]\n",
      "EPOCH: 20, Train [Loss: 0.008, Accuracy: 0.998], Valid [Loss: 0.622, Accuracy: 0.910]\n",
      "EPOCH: 21, Train [Loss: 0.004, Accuracy: 0.999], Valid [Loss: 0.584, Accuracy: 0.926]\n",
      "EPOCH: 22, Train [Loss: 0.003, Accuracy: 0.999], Valid [Loss: 0.336, Accuracy: 0.931]\n",
      "EPOCH: 23, Train [Loss: 0.005, Accuracy: 0.998], Valid [Loss: 0.450, Accuracy: 0.919]\n",
      "EPOCH: 24, Train [Loss: 0.002, Accuracy: 0.999], Valid [Loss: 0.469, Accuracy: 0.936]\n",
      "EPOCH: 25, Train [Loss: 0.001, Accuracy: 1.000], Valid [Loss: 0.358, Accuracy: 0.938]\n",
      "EPOCH: 26, Train [Loss: 0.004, Accuracy: 0.999], Valid [Loss: 0.434, Accuracy: 0.936]\n",
      "EPOCH: 27, Train [Loss: 0.011, Accuracy: 0.996], Valid [Loss: 0.571, Accuracy: 0.929]\n",
      "EPOCH: 28, Train [Loss: 0.005, Accuracy: 0.998], Valid [Loss: 0.377, Accuracy: 0.924]\n",
      "EPOCH: 29, Train [Loss: 0.003, Accuracy: 0.999], Valid [Loss: 0.596, Accuracy: 0.926]\n",
      "EPOCH: 30, Train [Loss: 0.010, Accuracy: 0.998], Valid [Loss: 0.634, Accuracy: 0.886]\n",
      "EPOCH: 31, Train [Loss: 0.008, Accuracy: 0.998], Valid [Loss: 0.360, Accuracy: 0.931]\n",
      "EPOCH: 32, Train [Loss: 0.005, Accuracy: 0.998], Valid [Loss: 0.389, Accuracy: 0.921]\n",
      "EPOCH: 33, Train [Loss: 0.003, Accuracy: 0.999], Valid [Loss: 0.303, Accuracy: 0.931]\n",
      "EPOCH: 34, Train [Loss: 0.003, Accuracy: 1.000], Valid [Loss: 0.478, Accuracy: 0.929]\n",
      "EPOCH: 35, Train [Loss: 0.001, Accuracy: 1.000], Valid [Loss: 0.359, Accuracy: 0.940]\n",
      "EPOCH: 36, Train [Loss: 0.002, Accuracy: 1.000], Valid [Loss: 0.483, Accuracy: 0.940]\n",
      "EPOCH: 37, Train [Loss: 0.002, Accuracy: 0.999], Valid [Loss: 0.334, Accuracy: 0.945]\n",
      "EPOCH: 38, Train [Loss: 0.005, Accuracy: 0.998], Valid [Loss: 0.312, Accuracy: 0.938]\n",
      "EPOCH: 39, Train [Loss: 0.004, Accuracy: 0.998], Valid [Loss: 0.552, Accuracy: 0.917]\n",
      "EPOCH: 40, Train [Loss: 0.004, Accuracy: 0.999], Valid [Loss: 0.328, Accuracy: 0.924]\n",
      "EPOCH: 41, Train [Loss: 0.004, Accuracy: 0.999], Valid [Loss: 0.387, Accuracy: 0.924]\n",
      "EPOCH: 42, Train [Loss: 0.002, Accuracy: 0.999], Valid [Loss: 0.555, Accuracy: 0.931]\n",
      "EPOCH: 43, Train [Loss: 0.004, Accuracy: 0.999], Valid [Loss: 0.336, Accuracy: 0.931]\n",
      "EPOCH: 44, Train [Loss: 0.003, Accuracy: 0.999], Valid [Loss: 0.327, Accuracy: 0.938]\n",
      "EPOCH: 45, Train [Loss: 0.004, Accuracy: 0.999], Valid [Loss: 0.341, Accuracy: 0.921]\n",
      "EPOCH: 46, Train [Loss: 0.003, Accuracy: 0.999], Valid [Loss: 0.608, Accuracy: 0.917]\n",
      "EPOCH: 47, Train [Loss: 0.004, Accuracy: 0.999], Valid [Loss: 0.326, Accuracy: 0.929]\n",
      "EPOCH: 48, Train [Loss: 0.003, Accuracy: 0.999], Valid [Loss: 0.334, Accuracy: 0.924]\n",
      "EPOCH: 49, Train [Loss: 0.001, Accuracy: 1.000], Valid [Loss: 0.428, Accuracy: 0.938]\n",
      "EPOCH: 50, Train [Loss: 0.003, Accuracy: 0.999], Valid [Loss: 0.386, Accuracy: 0.924]\n",
      "EPOCH: 51, Train [Loss: 0.002, Accuracy: 1.000], Valid [Loss: 0.479, Accuracy: 0.940]\n",
      "EPOCH: 52, Train [Loss: 0.003, Accuracy: 0.999], Valid [Loss: 0.341, Accuracy: 0.933]\n",
      "EPOCH: 53, Train [Loss: 0.003, Accuracy: 0.999], Valid [Loss: 0.511, Accuracy: 0.929]\n",
      "EPOCH: 54, Train [Loss: 0.007, Accuracy: 0.998], Valid [Loss: 0.353, Accuracy: 0.933]\n",
      "EPOCH: 55, Train [Loss: 0.005, Accuracy: 0.999], Valid [Loss: 0.331, Accuracy: 0.938]\n",
      "EPOCH: 56, Train [Loss: 0.006, Accuracy: 0.998], Valid [Loss: 0.483, Accuracy: 0.931]\n",
      "EPOCH: 57, Train [Loss: 0.002, Accuracy: 0.999], Valid [Loss: 0.382, Accuracy: 0.924]\n",
      "EPOCH: 58, Train [Loss: 0.002, Accuracy: 0.999], Valid [Loss: 0.405, Accuracy: 0.926]\n",
      "EPOCH: 59, Train [Loss: 0.003, Accuracy: 0.999], Valid [Loss: 0.436, Accuracy: 0.931]\n",
      "EPOCH: 60, Train [Loss: 0.002, Accuracy: 0.999], Valid [Loss: 0.396, Accuracy: 0.938]\n",
      "EPOCH: 61, Train [Loss: 0.005, Accuracy: 0.998], Valid [Loss: 0.537, Accuracy: 0.933]\n",
      "EPOCH: 62, Train [Loss: 0.002, Accuracy: 1.000], Valid [Loss: 0.519, Accuracy: 0.950]\n",
      "EPOCH: 63, Train [Loss: 0.001, Accuracy: 1.000], Valid [Loss: 0.330, Accuracy: 0.943]\n",
      "EPOCH: 64, Train [Loss: 0.005, Accuracy: 0.999], Valid [Loss: 0.403, Accuracy: 0.938]\n",
      "EPOCH: 65, Train [Loss: 0.001, Accuracy: 1.000], Valid [Loss: 0.427, Accuracy: 0.933]\n",
      "EPOCH: 66, Train [Loss: 0.003, Accuracy: 0.999], Valid [Loss: 0.438, Accuracy: 0.933]\n",
      "EPOCH: 67, Train [Loss: 0.002, Accuracy: 1.000], Valid [Loss: 0.341, Accuracy: 0.936]\n",
      "EPOCH: 68, Train [Loss: 0.001, Accuracy: 1.000], Valid [Loss: 0.504, Accuracy: 0.924]\n",
      "EPOCH: 69, Train [Loss: 0.004, Accuracy: 0.998], Valid [Loss: 0.543, Accuracy: 0.929]\n",
      "EPOCH: 70, Train [Loss: 0.002, Accuracy: 0.999], Valid [Loss: 0.363, Accuracy: 0.950]\n",
      "EPOCH: 71, Train [Loss: 0.002, Accuracy: 1.000], Valid [Loss: 0.443, Accuracy: 0.945]\n",
      "EPOCH: 72, Train [Loss: 0.001, Accuracy: 1.000], Valid [Loss: 0.319, Accuracy: 0.943]\n",
      "EPOCH: 73, Train [Loss: 0.001, Accuracy: 1.000], Valid [Loss: 0.290, Accuracy: 0.943]\n",
      "EPOCH: 74, Train [Loss: 0.002, Accuracy: 1.000], Valid [Loss: 0.578, Accuracy: 0.936]\n",
      "EPOCH: 75, Train [Loss: 0.004, Accuracy: 0.999], Valid [Loss: 0.313, Accuracy: 0.945]\n",
      "EPOCH: 76, Train [Loss: 0.001, Accuracy: 1.000], Valid [Loss: 0.466, Accuracy: 0.948]\n",
      "EPOCH: 77, Train [Loss: 0.002, Accuracy: 0.999], Valid [Loss: 0.412, Accuracy: 0.926]\n",
      "EPOCH: 78, Train [Loss: 0.002, Accuracy: 0.999], Valid [Loss: 0.467, Accuracy: 0.929]\n",
      "EPOCH: 79, Train [Loss: 0.001, Accuracy: 1.000], Valid [Loss: 0.441, Accuracy: 0.938]\n",
      "EPOCH: 80, Train [Loss: 0.001, Accuracy: 1.000], Valid [Loss: 0.465, Accuracy: 0.938]\n",
      "EPOCH: 81, Train [Loss: 0.003, Accuracy: 0.999], Valid [Loss: 0.471, Accuracy: 0.929]\n",
      "EPOCH: 82, Train [Loss: 0.003, Accuracy: 0.999], Valid [Loss: 0.367, Accuracy: 0.917]\n",
      "EPOCH: 83, Train [Loss: 0.002, Accuracy: 1.000], Valid [Loss: 0.493, Accuracy: 0.919]\n",
      "EPOCH: 84, Train [Loss: 0.001, Accuracy: 0.999], Valid [Loss: 0.355, Accuracy: 0.921]\n",
      "EPOCH: 85, Train [Loss: 0.002, Accuracy: 0.999], Valid [Loss: 0.572, Accuracy: 0.926]\n",
      "EPOCH: 86, Train [Loss: 0.001, Accuracy: 1.000], Valid [Loss: 0.310, Accuracy: 0.931]\n",
      "EPOCH: 87, Train [Loss: 0.002, Accuracy: 1.000], Valid [Loss: 0.442, Accuracy: 0.929]\n",
      "EPOCH: 88, Train [Loss: 0.001, Accuracy: 1.000], Valid [Loss: 0.389, Accuracy: 0.931]\n",
      "EPOCH: 89, Train [Loss: 0.002, Accuracy: 1.000], Valid [Loss: 0.469, Accuracy: 0.917]\n",
      "EPOCH: 90, Train [Loss: 0.002, Accuracy: 0.999], Valid [Loss: 0.378, Accuracy: 0.912]\n",
      "EPOCH: 91, Train [Loss: 0.001, Accuracy: 0.999], Valid [Loss: 0.389, Accuracy: 0.931]\n",
      "EPOCH: 92, Train [Loss: 0.001, Accuracy: 1.000], Valid [Loss: 0.383, Accuracy: 0.921]\n",
      "EPOCH: 93, Train [Loss: 0.002, Accuracy: 1.000], Valid [Loss: 0.418, Accuracy: 0.926]\n",
      "EPOCH: 94, Train [Loss: 0.002, Accuracy: 0.999], Valid [Loss: 0.456, Accuracy: 0.929]\n",
      "EPOCH: 95, Train [Loss: 0.002, Accuracy: 0.999], Valid [Loss: 0.497, Accuracy: 0.924]\n"
     ]
    },
    {
     "name": "stdout",
     "output_type": "stream",
     "text": [
      "EPOCH: 96, Train [Loss: 0.002, Accuracy: 1.000], Valid [Loss: 0.458, Accuracy: 0.931]\n",
      "EPOCH: 97, Train [Loss: 0.001, Accuracy: 1.000], Valid [Loss: 0.344, Accuracy: 0.938]\n",
      "EPOCH: 98, Train [Loss: 0.001, Accuracy: 1.000], Valid [Loss: 0.369, Accuracy: 0.929]\n",
      "EPOCH: 99, Train [Loss: 0.003, Accuracy: 0.999], Valid [Loss: 0.414, Accuracy: 0.929]\n"
     ]
    }
   ],
   "source": [
    "n_epochs = 100\n",
    "for epoch in range(n_epochs):\n",
    "    losses_train = []\n",
    "    losses_valid = []\n",
    "    # Train\n",
    "    optimizer.step()\n",
    "    model.train()\n",
    "    n_train = 0\n",
    "    acc_train = 0\n",
    "    for x, y in dataloader_train:\n",
    "        n_train += y.size()[0]\n",
    "        model.zero_grad()  # 勾配の初期化\n",
    "        x = x.to(device)  # テンソルをGPUに移動\n",
    "        y = y.to(device)\n",
    "        output = model.forward(x)  # 順伝播\n",
    "        loss = loss_function(output, y)  # 誤差(クロスエントロピー誤差関数)の計算\n",
    "        loss.backward()  # 誤差の逆伝播\n",
    "        optimizer.step()  # パラメータの更新\n",
    "        pred = output.argmax(1)  # 最大値を取るラベルを予測ラベルとする\n",
    "        acc_train += (pred == y).float().sum().item()\n",
    "        losses_train.append(loss.tolist())\n",
    "    # Evaluate\n",
    "    model.eval()\n",
    "    n_val = 0\n",
    "    acc_val = 0\n",
    "    for x, y in dataloader_valid:\n",
    "        n_val += y.size()[0]\n",
    "        x = x.to(device)  # テンソルをGPUに移動\n",
    "        y = y.to(device)\n",
    "        output = model.forward(x)  # 順伝播\n",
    "        loss = loss_function(output, y)  # 誤差(クロスエントロピー誤差関数)の計算\n",
    "        pred = output.argmax(1)  # 最大値を取るラベルを予測ラベルとする\n",
    "        acc_val += (pred == y).float().sum().item()\n",
    "        losses_valid.append(loss.tolist())\n",
    "    scheduler.step()\n",
    "    # Visualize loss & accuracy    \n",
    "    losstrain.append(np.mean(losses_train))\n",
    "    Accuracytrain.append(acc_train/n_train)\n",
    "    lossvalid.append(np.mean(losses_valid))\n",
    "    Accuracyvalid.append(acc_val/n_val)\n",
    "    print('EPOCH: {}, Train [Loss: {:.3f}, Accuracy: {:.3f}], Valid [Loss: {:.3f}, Accuracy: {:.3f}]'\n",
    "          .format(epoch,np.mean(losses_train),acc_train/n_train,np.mean(losses_valid),acc_val/n_val))"
   ]
  },
  {
   "cell_type": "code",
   "execution_count": 20,
   "metadata": {},
   "outputs": [
    {
     "data": {
      "image/png": "[encoded data removed]",
      "text/plain": [
       "<Figure size 432x288 with 1 Axes>"
      ]
     },
     "metadata": {
      "needs_background": "light"
     },
     "output_type": "display_data"
    },
    {
     "data": {
      "text/plain": [
       "<Figure size 432x288 with 0 Axes>"
      ]
     },
     "metadata": {},
     "output_type": "display_data"
    }
   ],
   "source": [
    "# train processing plot\n",
    "n_epochs = 300\n",
    "epochs=range(1,n_epochs+1)\n",
    "plt.ylim(0,1.0)\n",
    "plt.plot(epochs,Accuracytrain,'b',label='Training accuracy')  \n",
    "plt.plot(epochs, Accuracyvalid,'r',label='Validation accuracy')\n",
    "plt.title('Training and Validation accuracy')\n",
    "plt.legend()\n",
    "plt.figure()\n",
    "plt.show()"
   ]
  },
  {
   "cell_type": "markdown",
   "metadata": {},
   "source": [
    "# 4. Test data"
   ]
  },
  {
   "cell_type": "code",
   "execution_count": 126,
   "metadata": {},
   "outputs": [],
   "source": [
    "model = torch.load(\"model/SelfResnet18_L2F1_200.pkl\")"
   ]
  },
  {
   "cell_type": "code",
   "execution_count": 24,
   "metadata": {},
   "outputs": [
    {
     "name": "stdout",
     "output_type": "stream",
     "text": [
      "total_test: 420\n",
      "pred_untreaded: 200 / 210, pred_VPAtreaded: 195 / 210 \n",
      "accuracy_score: 0.940\n",
      "precision_score: 0.951\n",
      "roc_auc_score: 0.980\n"
     ]
    },
    {
     "data": {
      "image/png": "[encoded data removed]",
      "text/plain": [
       "<Figure size 432x288 with 1 Axes>"
      ]
     },
     "metadata": {
      "needs_background": "light"
     },
     "output_type": "display_data"
    }
   ],
   "source": [
    "# Test\n",
    "X = X_test\n",
    "y = y_test\n",
    "pred_untreaded = 0\n",
    "pred_VPAtreaded = 0\n",
    "y_pred = []\n",
    "out_pred = []\n",
    "total = X.shape[0]\n",
    "\n",
    "model.eval()\n",
    "for n in range(total):\n",
    "    img = X[n]\n",
    "    label = y[n]\n",
    "    transform = transforms.Compose([transforms.ToTensor()])\n",
    "    input_tensor = transform(img).unsqueeze(0).to(device)\n",
    "    output = model(input_tensor)\n",
    "    pred = output.argmax(1).cpu().item()\n",
    "    if pred==label==0:\n",
    "        pred_untreaded+=1\n",
    "    elif pred==label==1:\n",
    "        pred_VPAtreaded+=1\n",
    "    out_pred.append(output[0][1].item())\n",
    "    y_pred.append(pred)\n",
    "\n",
    "y_pred = np.array(y_pred)\n",
    "out_pred = np.array(out_pred)\n",
    "print(\"total_test: {:}\" .format(total))\n",
    "print(\"pred_untreaded: {:} / {:}, pred_VPAtreaded: {:} / {:} \".format(pred_untreaded,test_00,pred_VPAtreaded,test_01))\n",
    "print('accuracy_score: {:.3f}'.format(accuracy_score(y,y_pred)))\n",
    "print('precision_score: {:.3f}'.format(precision_score(y,y_pred)))\n",
    "print('roc_auc_score: {:.3f}'.format(roc_auc_score(y, out_pred)))\n",
    "\n",
    "fpr, tpr, thresholds = roc_curve(y, out_pred,drop_intermediate=True)\n",
    "plt.plot(fpr, tpr, marker='.')\n",
    "plt.xlabel('FPR: False positive rate')\n",
    "plt.ylabel('TPR: True positive rate')\n",
    "plt.grid()"
   ]
  },
  {
   "cell_type": "code",
   "execution_count": null,
   "metadata": {},
   "outputs": [],
   "source": []
  },
  {
   "cell_type": "code",
   "execution_count": null,
   "metadata": {},
   "outputs": [],
   "source": []
  },
  {
   "cell_type": "code",
   "execution_count": null,
   "metadata": {},
   "outputs": [],
   "source": []
  },
  {
   "cell_type": "markdown",
   "metadata": {},
   "source": [
    "# 99. Save model"
   ]
  },
  {
   "cell_type": "code",
   "execution_count": 22,
   "metadata": {},
   "outputs": [],
   "source": [
    "for param in model.parameters():\n",
    "    param.requires_grad = True\n",
    "torch.save(model,\"model/SelfResnet9C1F_221108.pkl\")"
   ]
  },
  {
   "cell_type": "code",
   "execution_count": null,
   "metadata": {},
   "outputs": [],
   "source": []
  }
 ],
 "metadata": {
  "accelerator": "GPU",
  "colab": {
   "collapsed_sections": [],
   "name": "KIMIA_CNN.ipynb",
   "provenance": []
  },
  "kernelspec": {
   "display_name": "Python 3 (ipykernel)",
   "language": "python",
   "name": "python3"
  },
  "language_info": {
   "codemirror_mode": {
    "name": "ipython",
    "version": 3
   },
   "file_extension": ".py",
   "mimetype": "text/x-python",
   "name": "python",
   "nbconvert_exporter": "python",
   "pygments_lexer": "ipython3",
   "version": "3.7.13"
  },
  "toc": {
   "base_numbering": 1,
   "nav_menu": {},
   "number_sections": true,
   "sideBar": true,
   "skip_h1_title": false,
   "title_cell": "Table of Contents",
   "title_sidebar": "Contents",
   "toc_cell": false,
   "toc_position": {},
   "toc_section_display": true,
   "toc_window_display": false
  },
  "vscode": {
   "interpreter": {
    "hash": "aee8b7b246df8f9039afb4144a1f6fd8d2ca17a180786b69acc140d282b71a49"
   }
  }
 },
 "nbformat": 4,
 "nbformat_minor": 1
}
