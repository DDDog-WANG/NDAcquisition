{
 "cells": [
  {
   "cell_type": "code",
   "execution_count": 1,
   "metadata": {},
   "outputs": [],
   "source": [
    "import cv2,os\n",
    "from PIL import Image\n",
    "import numpy as np\n",
    "from matplotlib import pyplot as plt\n",
    "from tqdm import tqdm_notebook as tqdm\n",
    "\n",
    "from sklearn.model_selection import train_test_split\n",
    "from sklearn.metrics import roc_auc_score,precision_score,accuracy_score\n",
    "import torch\n",
    "import torch.nn as nn\n",
    "from torchvision import transforms\n",
    "import torchvision.models as models"
   ]
  },
  {
   "cell_type": "code",
   "execution_count": 2,
   "metadata": {},
   "outputs": [
    {
     "name": "stdout",
     "output_type": "stream",
     "text": [
      "torch.device(cuda)\n",
      "torch.cuda.device_count():  1\n",
      "Tesla V100-SXM2-16GB\n",
      "torch.cuda.current_device() 0\n"
     ]
    }
   ],
   "source": [
    "if torch.cuda.is_available():\n",
    "    device = torch.device(\"cuda\")\n",
    "    print(\"torch.device(cuda)\")\n",
    "    print(\"torch.cuda.device_count(): \", torch.cuda.device_count())\n",
    "    for i in range(torch.cuda.device_count()):\n",
    "        print(torch.cuda.get_device_name())\n",
    "    print(\"torch.cuda.current_device()\", torch.cuda.current_device())\n",
    "else:\n",
    "    device = torch.device(\"cpu\")\n",
    "    print(\"torch.device(cpu)\")"
   ]
  },
  {
   "cell_type": "markdown",
   "metadata": {
    "id": "aJjxv_T_DNKk"
   },
   "source": [
    "# データの読み込み"
   ]
  },
  {
   "cell_type": "code",
   "execution_count": 3,
   "metadata": {},
   "outputs": [
    {
     "name": "stdout",
     "output_type": "stream",
     "text": [
      "Data_01.shape: (65969, 100, 100, 3)\n",
      "Data_02Nami.shape: (3219, 100, 100, 3)\n"
     ]
    }
   ],
   "source": [
    "Data_01=np.load(\"results2022/01x40_padded.npy\",allow_pickle=True)\n",
    "Data_02Nami=np.load(\"results2022/02x40_padded.npy\",allow_pickle=True)\n",
    "\n",
    "print(\"Data_01.shape:\", Data_01.shape)\n",
    "print(\"Data_02Nami.shape:\", Data_02Nami.shape)"
   ]
  },
  {
   "cell_type": "code",
   "execution_count": 4,
   "metadata": {},
   "outputs": [
    {
     "name": "stdout",
     "output_type": "stream",
     "text": [
      "Data_01.shape: (65969, 100, 100, 3)\n",
      "Data_02Nami.shape: (3219, 100, 100, 3)\n"
     ]
    }
   ],
   "source": [
    "DataPad_01=Data_01\n",
    "DataPad_02Nami=Data_02Nami\n",
    "# DataPad_01=Data_01[:len(Data_02Nami)]\n",
    "\n",
    "print(\"Data_01.shape:\", DataPad_01.shape)\n",
    "print(\"Data_02Nami.shape:\", DataPad_02Nami.shape)"
   ]
  },
  {
   "cell_type": "markdown",
   "metadata": {},
   "source": [
    "# データ処理"
   ]
  },
  {
   "cell_type": "markdown",
   "metadata": {},
   "source": [
    "## 1. Padding Unify the size"
   ]
  },
  {
   "cell_type": "code",
   "execution_count": 5,
   "metadata": {},
   "outputs": [],
   "source": [
    "# Max_shape_0 = 100\n",
    "# Max_shape_1 = 100"
   ]
  },
  {
   "cell_type": "code",
   "execution_count": 6,
   "metadata": {},
   "outputs": [],
   "source": [
    "# #　同じサイズにする \n",
    "# def datapadding(data):\n",
    "#     DataPad=[]\n",
    "#     for img in data:\n",
    "#         imgSize = img.shape\n",
    "#         top_size,bottom_size = (Max_shape_0-imgSize[0])//2,(Max_shape_0-imgSize[0])//2\n",
    "#         left_size,right_size = (Max_shape_1-imgSize[1])//2,(Max_shape_1-imgSize[1])//2\n",
    "#         if (imgSize[0] % 2) != 0:\n",
    "#             top_size,bottom_size = (Max_shape_0-imgSize[0])//2,(Max_shape_0-imgSize[0])//2+1\n",
    "#         if (imgSize[1] % 2) != 0:     \n",
    "#             left_size,right_size = (Max_shape_1-imgSize[1])//2,(Max_shape_1-imgSize[1])//2+1\n",
    "#         img_pad = cv2.copyMakeBorder(img,top_size,bottom_size,left_size,right_size,cv2.BORDER_CONSTANT,value=(0,0,0))\n",
    "#         DataPad.append(img_pad)\n",
    "#     return DataPad\n",
    "\n",
    "# DataPad_01 = datapadding(Data_01)\n",
    "# DataPad_02Nami = datapadding(Data_02Nami)\n",
    "# print(\"DataPad_01: \",len(DataPad_01))\n",
    "# print(\"DataPad_02Nami: \",len(DataPad_02Nami))"
   ]
  },
  {
   "cell_type": "markdown",
   "metadata": {},
   "source": [
    "## 2. Resize by using Bin_ndarray"
   ]
  },
  {
   "cell_type": "code",
   "execution_count": 7,
   "metadata": {},
   "outputs": [],
   "source": [
    "# DataBinResize = []\n",
    "# def bin_ndarray(ndarray, new_shape, operation):\n",
    "#     operation = operation.lower()\n",
    "#     if not operation in ['sum', 'mean']:\n",
    "#         raise ValueError(\"Operation not supported.\")\n",
    "#     if ndarray.ndim != len(new_shape):\n",
    "#         raise ValueError(\"Shape mismatch: {} -> {}\".format(ndarray.shape,\n",
    "#                                                            new_shape))\n",
    "#     compression_pairs = [(d, c//d) for d,c in zip(new_shape,\n",
    "#                                                   ndarray.shape)]\n",
    "#     flattened = [l for p in compression_pairs for l in p]\n",
    "#     ndarray = ndarray.reshape(flattened)\n",
    "#     for i in range(len(new_shape)):\n",
    "#         op = getattr(ndarray, operation)\n",
    "#         ndarray = op(-1*(i+1))\n",
    "#     return ndarray\n",
    "\n",
    "# for img in DataResize:\n",
    "#     imgresize = bin_ndarray(img, new_shape=(512,512,3), operation='mean')\n",
    "#     DataBinResize.append(imgresize)"
   ]
  },
  {
   "cell_type": "code",
   "execution_count": 8,
   "metadata": {},
   "outputs": [],
   "source": [
    "# DataBinResize = np.array(DataBinResize)\n",
    "# print(\"DataBinResize: \", DataBinResize.shape)\n",
    "\n",
    "# img = cv2.imread(DataPath[1])\n",
    "# print(\"DataPath[1].shape: \", img.shape)\n",
    "# plt.imshow(img)\n",
    "# plt.show()\n",
    "\n",
    "# print(\"DataResize[1].shape: \", DataResize[1].shape)\n",
    "# plt.imshow(DataResize[1])\n",
    "# plt.show()\n",
    "\n",
    "# print(\"DataBinResize[1].shape: \", DataBinResize[1].shape)\n",
    "# plt.imshow(DataBinResize[1]/255)\n",
    "# plt.show()"
   ]
  },
  {
   "cell_type": "markdown",
   "metadata": {},
   "source": [
    "## 3. Split Train and Test"
   ]
  },
  {
   "cell_type": "code",
   "execution_count": 9,
   "metadata": {},
   "outputs": [],
   "source": [
    "DataPad_01 = DataPad_01\n",
    "DataLabel_01 = np.zeros(len(DataPad_01), dtype=np.int32)\n",
    "\n",
    "DataPad_02Nami = DataPad_02Nami\n",
    "DataLabel_02Nami = np.ones(len(DataPad_02Nami), dtype=np.int32)"
   ]
  },
  {
   "cell_type": "code",
   "execution_count": 10,
   "metadata": {},
   "outputs": [],
   "source": [
    "X_train_0, X_test_0, y_train_0, y_test_0 = train_test_split(DataPad_01, DataLabel_01, test_size=0.1, random_state=42)\n",
    "X_train_1, X_test_1, y_train_1, y_test_1 = train_test_split(DataPad_02Nami, DataLabel_02Nami, test_size=0.1, random_state=42)\n",
    "\n",
    "X_train, X_test = np.concatenate((X_train_0, X_train_1), axis = 0), np.concatenate((X_test_0, X_test_1), axis = 0)\n",
    "y_train, y_test = np.concatenate((y_train_0, y_train_1), axis = 0), np.concatenate((y_test_0, y_test_1), axis = 0)"
   ]
  },
  {
   "cell_type": "markdown",
   "metadata": {
    "id": "qyvCoE-HDNKm"
   },
   "source": [
    "# データ前処理"
   ]
  },
  {
   "cell_type": "code",
   "execution_count": 11,
   "metadata": {
    "executionInfo": {
     "elapsed": 290,
     "status": "ok",
     "timestamp": 1627023529885,
     "user": {
      "displayName": "Yicheng Wang",
      "photoUrl": "https://lh3.googleusercontent.com/a-/AOh14GgziKLn_im8Zl7A_SAzLLRm66nioH7fG0xuCYpJYg=s64",
      "userId": "10487961361854797289"
     },
     "user_tz": -540
    },
    "id": "Fh058iRlDNKm"
   },
   "outputs": [],
   "source": [
    "class cell_dataset(torch.utils.data.Dataset):\n",
    "    def __init__(self, x, y):\n",
    "        self.x = x\n",
    "        self.y = y\n",
    "        self.transform = transforms.ToTensor()\n",
    "    def __len__(self):\n",
    "        return len(self.x)\n",
    "    def __getitem__(self, idx):\n",
    "        return self.transform(self.x[idx]), torch.tensor(self.y[idx], dtype=torch.long)\n",
    "\n",
    "trainval_data = cell_dataset(X_train, y_train)"
   ]
  },
  {
   "cell_type": "code",
   "execution_count": 12,
   "metadata": {
    "executionInfo": {
     "elapsed": 325,
     "status": "ok",
     "timestamp": 1627023533467,
     "user": {
      "displayName": "Yicheng Wang",
      "photoUrl": "https://lh3.googleusercontent.com/a-/AOh14GgziKLn_im8Zl7A_SAzLLRm66nioH7fG0xuCYpJYg=s64",
      "userId": "10487961361854797289"
     },
     "user_tz": -540
    },
    "id": "xK5exWXUDNKn"
   },
   "outputs": [],
   "source": [
    "batch_size = 128\n",
    "\n",
    "val_size = int(len(trainval_data)*0.2)\n",
    "train_size = len(trainval_data) - val_size\n",
    "\n",
    "train_data, val_data = torch.utils.data.random_split(trainval_data, [train_size, val_size])\n",
    "dataloader_train = torch.utils.data.DataLoader(train_data, batch_size=batch_size, shuffle=True)\n",
    "dataloader_valid = torch.utils.data.DataLoader(val_data, batch_size=batch_size, shuffle=True)"
   ]
  },
  {
   "cell_type": "code",
   "execution_count": 13,
   "metadata": {},
   "outputs": [
    {
     "name": "stdout",
     "output_type": "stream",
     "text": [
      "Total number of train :  49816\n",
      "train_class_0:  47527\n",
      "train_class_1:  2289\n",
      "\n",
      "Total number of val :  12453\n",
      "val_class_0:  11845\n",
      "val_class_1:  608\n",
      "\n",
      "Total number of test :  6919\n",
      "test_class_0 num :  6597\n",
      "test_class_1 num :  322\n"
     ]
    }
   ],
   "source": [
    "train_data_01 = 0\n",
    "for i in range(train_size):\n",
    "    train_data_01+=train_data[i][1].item()\n",
    "print(\"Total number of train : \", train_size)\n",
    "print(\"train_class_0: \", train_size-train_data_01)\n",
    "print(\"train_class_1: \", train_data_01)\n",
    "\n",
    "val_data_01 = 0\n",
    "for i in range(val_size):\n",
    "    val_data_01+=val_data[i][1].item()\n",
    "print(\"\\nTotal number of val : \", val_size)\n",
    "print(\"val_class_0: \", val_size-val_data_01)\n",
    "print(\"val_class_1: \", val_data_01)\n",
    "\n",
    "print(\"\\nTotal number of test : \", len(y_test))\n",
    "print(\"test_class_0 num : \", y_test.tolist().count(0))\n",
    "print(\"test_class_1 num : \", y_test.tolist().count(1))"
   ]
  },
  {
   "cell_type": "markdown",
   "metadata": {
    "id": "-KBoEbEMDNKo"
   },
   "source": [
    "# ResNet遷移学習"
   ]
  },
  {
   "cell_type": "code",
   "execution_count": 14,
   "metadata": {
    "id": "VIwIc2BXDNKp",
    "scrolled": false
   },
   "outputs": [],
   "source": [
    "# model = torch.load(\"SelfResnet18_L2F3.pkl\")"
   ]
  },
  {
   "cell_type": "code",
   "execution_count": 15,
   "metadata": {
    "id": "xs6IXgvsDNKp",
    "scrolled": false
   },
   "outputs": [],
   "source": [
    "model = models.resnet18(pretrained=True)\n",
    "\n",
    "model.layer3 = nn.Sequential()\n",
    "model.layer4 = nn.Sequential()\n",
    "\n",
    "model.fc = nn.Sequential(\n",
    "    nn.Linear(128, 2),\n",
    "    nn.Softmax(dim=1)\n",
    ")\n",
    "\n",
    "# model.fc = nn.Sequential(\n",
    "#     nn.Linear(512, 512),\n",
    "#     # nn.Dropout(p=0.5),\n",
    "#     nn.ReLU(inplace=True),\n",
    "#     nn.Linear(512, 256),\n",
    "#     nn.ReLU(inplace=True),\n",
    "#     nn.Linear(256, 2)\n",
    "# )\n",
    "\n",
    "#Freeze model weights\n",
    "for param in model.parameters():\n",
    "    param.requires_grad = True\n",
    "for param in model.fc.parameters():\n",
    "    param.requires_grad = True"
   ]
  },
  {
   "cell_type": "code",
   "execution_count": 16,
   "metadata": {},
   "outputs": [],
   "source": [
    "model.avgpool = nn.AdaptiveAvgPool2d(1)\n",
    "loss_func = nn.NLLLoss()\n",
    "\n",
    "\n",
    "n_epoches = 200\n",
    "\n",
    "# negative : ラベル0の数\n",
    "# positive : ラベル1の数\n",
    "# weight_for_0 : 1. / negative * (negative + positive)\n",
    "# weight_for_1 : 1. / positive * (negative + positive)\n",
    "# class_weight = {0 : weight_for_0, 1 : weight_for_1}\n",
    "weights = torch.tensor([(len(DataPad_01)+len(DataPad_02Nami))/len(DataPad_01), \n",
    "                        (len(DataPad_01)+len(DataPad_02Nami))/len(DataPad_02Nami)]).cuda()\n",
    "loss_function = nn.CrossEntropyLoss(weight=weights)\n",
    "\n",
    "optimizer = torch.optim.Adam(model.parameters(), lr=0.01)  # 定义优化器\n",
    "scheduler = torch.optim.lr_scheduler.ExponentialLR(optimizer, gamma=0.99) # 定义衰减策略\n",
    "\n",
    "\n",
    "# model = model.cuda()\n",
    "model.to(device)\n",
    "if torch.cuda.device_count() > 1:\n",
    "    model = nn.DataParallel(model)"
   ]
  },
  {
   "cell_type": "code",
   "execution_count": null,
   "metadata": {
    "scrolled": true
   },
   "outputs": [
    {
     "name": "stdout",
     "output_type": "stream",
     "text": [
      "EPOCH: 0, Train [Loss: 0.541, Accuracy: 0.789], Valid [Loss: 0.705, Accuracy: 0.951]\n",
      "EPOCH: 1, Train [Loss: 0.535, Accuracy: 0.804], Valid [Loss: 0.640, Accuracy: 0.413]\n",
      "EPOCH: 2, Train [Loss: 0.526, Accuracy: 0.806], Valid [Loss: 0.616, Accuracy: 0.426]\n",
      "EPOCH: 3, Train [Loss: 0.525, Accuracy: 0.814], Valid [Loss: 0.585, Accuracy: 0.925]\n",
      "EPOCH: 4, Train [Loss: 0.517, Accuracy: 0.821], Valid [Loss: 0.514, Accuracy: 0.838]\n",
      "EPOCH: 5, Train [Loss: 0.513, Accuracy: 0.829], Valid [Loss: 0.522, Accuracy: 0.803]\n",
      "EPOCH: 6, Train [Loss: 0.531, Accuracy: 0.810], Valid [Loss: 0.525, Accuracy: 0.791]\n",
      "EPOCH: 7, Train [Loss: 0.529, Accuracy: 0.803], Valid [Loss: 0.548, Accuracy: 0.609]\n",
      "EPOCH: 8, Train [Loss: 0.501, Accuracy: 0.836], Valid [Loss: 0.625, Accuracy: 0.948]\n",
      "EPOCH: 9, Train [Loss: 0.500, Accuracy: 0.838], Valid [Loss: 0.509, Accuracy: 0.890]\n",
      "EPOCH: 10, Train [Loss: 0.488, Accuracy: 0.847], Valid [Loss: 0.538, Accuracy: 0.936]\n",
      "EPOCH: 11, Train [Loss: 0.486, Accuracy: 0.846], Valid [Loss: 0.793, Accuracy: 0.105]\n",
      "EPOCH: 12, Train [Loss: 0.484, Accuracy: 0.851], Valid [Loss: 0.795, Accuracy: 0.107]\n",
      "EPOCH: 13, Train [Loss: 0.477, Accuracy: 0.860], Valid [Loss: 0.759, Accuracy: 0.952]\n",
      "EPOCH: 14, Train [Loss: 0.480, Accuracy: 0.858], Valid [Loss: 0.506, Accuracy: 0.735]\n",
      "EPOCH: 15, Train [Loss: 0.476, Accuracy: 0.851], Valid [Loss: 0.749, Accuracy: 0.954]\n",
      "EPOCH: 16, Train [Loss: 0.473, Accuracy: 0.862], Valid [Loss: 0.805, Accuracy: 0.951]\n",
      "EPOCH: 17, Train [Loss: 0.473, Accuracy: 0.864], Valid [Loss: 0.498, Accuracy: 0.937]\n",
      "EPOCH: 18, Train [Loss: 0.473, Accuracy: 0.865], Valid [Loss: 0.806, Accuracy: 0.951]\n",
      "EPOCH: 19, Train [Loss: 0.472, Accuracy: 0.862], Valid [Loss: 0.473, Accuracy: 0.797]\n",
      "EPOCH: 20, Train [Loss: 0.473, Accuracy: 0.861], Valid [Loss: 0.669, Accuracy: 0.350]\n",
      "EPOCH: 21, Train [Loss: 0.464, Accuracy: 0.861], Valid [Loss: 0.805, Accuracy: 0.951]\n",
      "EPOCH: 22, Train [Loss: 0.469, Accuracy: 0.869], Valid [Loss: 0.553, Accuracy: 0.940]\n",
      "EPOCH: 23, Train [Loss: 0.468, Accuracy: 0.866], Valid [Loss: 0.570, Accuracy: 0.555]\n",
      "EPOCH: 24, Train [Loss: 0.463, Accuracy: 0.870], Valid [Loss: 0.541, Accuracy: 0.627]\n",
      "EPOCH: 25, Train [Loss: 0.461, Accuracy: 0.872], Valid [Loss: 0.686, Accuracy: 0.316]\n",
      "EPOCH: 26, Train [Loss: 0.464, Accuracy: 0.867], Valid [Loss: 0.648, Accuracy: 0.387]\n",
      "EPOCH: 27, Train [Loss: 0.465, Accuracy: 0.868], Valid [Loss: 0.608, Accuracy: 0.477]\n",
      "EPOCH: 28, Train [Loss: 0.457, Accuracy: 0.876], Valid [Loss: 0.618, Accuracy: 0.943]\n",
      "EPOCH: 29, Train [Loss: 0.456, Accuracy: 0.876], Valid [Loss: 0.484, Accuracy: 0.764]\n",
      "EPOCH: 30, Train [Loss: 0.461, Accuracy: 0.864], Valid [Loss: 0.489, Accuracy: 0.919]\n",
      "EPOCH: 31, Train [Loss: 0.460, Accuracy: 0.867], Valid [Loss: 0.802, Accuracy: 0.951]\n",
      "EPOCH: 32, Train [Loss: 0.456, Accuracy: 0.874], Valid [Loss: 0.654, Accuracy: 0.954]\n",
      "EPOCH: 33, Train [Loss: 0.453, Accuracy: 0.874], Valid [Loss: 0.576, Accuracy: 0.549]\n",
      "EPOCH: 34, Train [Loss: 0.451, Accuracy: 0.874], Valid [Loss: 0.452, Accuracy: 0.878]\n",
      "EPOCH: 35, Train [Loss: 0.448, Accuracy: 0.882], Valid [Loss: 0.459, Accuracy: 0.852]\n",
      "EPOCH: 36, Train [Loss: 0.448, Accuracy: 0.884], Valid [Loss: 0.578, Accuracy: 0.542]\n",
      "EPOCH: 37, Train [Loss: 0.448, Accuracy: 0.881], Valid [Loss: 0.787, Accuracy: 0.947]\n",
      "EPOCH: 38, Train [Loss: 0.448, Accuracy: 0.882], Valid [Loss: 0.609, Accuracy: 0.460]\n",
      "EPOCH: 39, Train [Loss: 0.445, Accuracy: 0.880], Valid [Loss: 0.466, Accuracy: 0.919]\n",
      "EPOCH: 40, Train [Loss: 0.446, Accuracy: 0.877], Valid [Loss: 0.509, Accuracy: 0.932]\n",
      "EPOCH: 41, Train [Loss: 0.442, Accuracy: 0.880], Valid [Loss: 0.516, Accuracy: 0.663]\n",
      "EPOCH: 42, Train [Loss: 0.443, Accuracy: 0.878], Valid [Loss: 0.710, Accuracy: 0.953]\n",
      "EPOCH: 43, Train [Loss: 0.440, Accuracy: 0.888], Valid [Loss: 0.803, Accuracy: 0.951]\n",
      "EPOCH: 44, Train [Loss: 0.436, Accuracy: 0.883], Valid [Loss: 0.470, Accuracy: 0.807]\n",
      "EPOCH: 45, Train [Loss: 0.433, Accuracy: 0.884], Valid [Loss: 0.534, Accuracy: 0.616]\n",
      "EPOCH: 46, Train [Loss: 0.430, Accuracy: 0.886], Valid [Loss: 0.648, Accuracy: 0.957]\n",
      "EPOCH: 47, Train [Loss: 0.432, Accuracy: 0.896], Valid [Loss: 0.446, Accuracy: 0.888]\n",
      "EPOCH: 48, Train [Loss: 0.425, Accuracy: 0.896], Valid [Loss: 0.530, Accuracy: 0.656]\n",
      "EPOCH: 49, Train [Loss: 0.429, Accuracy: 0.887], Valid [Loss: 0.479, Accuracy: 0.932]\n",
      "EPOCH: 50, Train [Loss: 0.425, Accuracy: 0.895], Valid [Loss: 0.478, Accuracy: 0.932]\n",
      "EPOCH: 51, Train [Loss: 0.419, Accuracy: 0.900], Valid [Loss: 0.673, Accuracy: 0.335]\n",
      "EPOCH: 52, Train [Loss: 0.419, Accuracy: 0.896], Valid [Loss: 0.617, Accuracy: 0.952]\n",
      "EPOCH: 53, Train [Loss: 0.417, Accuracy: 0.897], Valid [Loss: 0.515, Accuracy: 0.665]\n",
      "EPOCH: 54, Train [Loss: 0.415, Accuracy: 0.901], Valid [Loss: 0.593, Accuracy: 0.959]\n",
      "EPOCH: 55, Train [Loss: 0.413, Accuracy: 0.905], Valid [Loss: 0.694, Accuracy: 0.956]\n",
      "EPOCH: 56, Train [Loss: 0.409, Accuracy: 0.907], Valid [Loss: 0.500, Accuracy: 0.730]\n",
      "EPOCH: 57, Train [Loss: 0.416, Accuracy: 0.899], Valid [Loss: 0.708, Accuracy: 0.958]\n",
      "EPOCH: 58, Train [Loss: 0.413, Accuracy: 0.901], Valid [Loss: 0.450, Accuracy: 0.933]\n",
      "EPOCH: 59, Train [Loss: 0.405, Accuracy: 0.911], Valid [Loss: 0.543, Accuracy: 0.633]\n",
      "EPOCH: 60, Train [Loss: 0.407, Accuracy: 0.908], Valid [Loss: 0.438, Accuracy: 0.849]\n",
      "EPOCH: 61, Train [Loss: 0.408, Accuracy: 0.911], Valid [Loss: 0.426, Accuracy: 0.890]\n",
      "EPOCH: 62, Train [Loss: 0.401, Accuracy: 0.914], Valid [Loss: 0.505, Accuracy: 0.707]\n",
      "EPOCH: 63, Train [Loss: 0.400, Accuracy: 0.920], Valid [Loss: 0.439, Accuracy: 0.924]\n",
      "EPOCH: 64, Train [Loss: 0.400, Accuracy: 0.920], Valid [Loss: 0.452, Accuracy: 0.812]\n",
      "EPOCH: 65, Train [Loss: 0.410, Accuracy: 0.901], Valid [Loss: 0.431, Accuracy: 0.911]\n",
      "EPOCH: 66, Train [Loss: 0.401, Accuracy: 0.916], Valid [Loss: 0.785, Accuracy: 0.952]\n",
      "EPOCH: 67, Train [Loss: 0.398, Accuracy: 0.922], Valid [Loss: 0.464, Accuracy: 0.779]\n",
      "EPOCH: 68, Train [Loss: 0.392, Accuracy: 0.924], Valid [Loss: 0.447, Accuracy: 0.929]\n",
      "EPOCH: 69, Train [Loss: 0.394, Accuracy: 0.923], Valid [Loss: 0.496, Accuracy: 0.738]\n",
      "EPOCH: 70, Train [Loss: 0.395, Accuracy: 0.924], Valid [Loss: 0.459, Accuracy: 0.949]\n",
      "EPOCH: 71, Train [Loss: 0.393, Accuracy: 0.924], Valid [Loss: 0.473, Accuracy: 0.790]\n",
      "EPOCH: 72, Train [Loss: 0.391, Accuracy: 0.928], Valid [Loss: 0.532, Accuracy: 0.957]\n",
      "EPOCH: 73, Train [Loss: 0.385, Accuracy: 0.933], Valid [Loss: 0.453, Accuracy: 0.861]\n",
      "EPOCH: 74, Train [Loss: 0.387, Accuracy: 0.934], Valid [Loss: 0.453, Accuracy: 0.818]\n",
      "EPOCH: 75, Train [Loss: 0.383, Accuracy: 0.934], Valid [Loss: 0.439, Accuracy: 0.934]\n",
      "EPOCH: 76, Train [Loss: 0.391, Accuracy: 0.930], Valid [Loss: 0.419, Accuracy: 0.915]\n",
      "EPOCH: 77, Train [Loss: 0.387, Accuracy: 0.932], Valid [Loss: 0.433, Accuracy: 0.853]\n",
      "EPOCH: 78, Train [Loss: 0.386, Accuracy: 0.934], Valid [Loss: 0.441, Accuracy: 0.945]\n",
      "EPOCH: 79, Train [Loss: 0.384, Accuracy: 0.934], Valid [Loss: 0.516, Accuracy: 0.658]\n",
      "EPOCH: 80, Train [Loss: 0.385, Accuracy: 0.936], Valid [Loss: 0.470, Accuracy: 0.761]\n",
      "EPOCH: 81, Train [Loss: 0.381, Accuracy: 0.936], Valid [Loss: 0.586, Accuracy: 0.954]\n",
      "EPOCH: 82, Train [Loss: 0.379, Accuracy: 0.943], Valid [Loss: 0.454, Accuracy: 0.950]\n",
      "EPOCH: 83, Train [Loss: 0.376, Accuracy: 0.946], Valid [Loss: 0.492, Accuracy: 0.761]\n",
      "EPOCH: 84, Train [Loss: 0.382, Accuracy: 0.937], Valid [Loss: 0.418, Accuracy: 0.928]\n",
      "EPOCH: 85, Train [Loss: 0.413, Accuracy: 0.897], Valid [Loss: 0.413, Accuracy: 0.909]\n",
      "EPOCH: 86, Train [Loss: 0.386, Accuracy: 0.930], Valid [Loss: 0.419, Accuracy: 0.927]\n",
      "EPOCH: 87, Train [Loss: 0.378, Accuracy: 0.940], Valid [Loss: 0.554, Accuracy: 0.958]\n",
      "EPOCH: 88, Train [Loss: 0.377, Accuracy: 0.943], Valid [Loss: 0.453, Accuracy: 0.954]\n",
      "EPOCH: 89, Train [Loss: 0.379, Accuracy: 0.937], Valid [Loss: 0.455, Accuracy: 0.846]\n",
      "EPOCH: 90, Train [Loss: 0.373, Accuracy: 0.945], Valid [Loss: 0.413, Accuracy: 0.897]\n",
      "EPOCH: 91, Train [Loss: 0.371, Accuracy: 0.951], Valid [Loss: 0.472, Accuracy: 0.769]\n",
      "EPOCH: 92, Train [Loss: 0.374, Accuracy: 0.943], Valid [Loss: 0.417, Accuracy: 0.936]\n",
      "EPOCH: 93, Train [Loss: 0.372, Accuracy: 0.949], Valid [Loss: 0.408, Accuracy: 0.919]\n",
      "EPOCH: 94, Train [Loss: 0.372, Accuracy: 0.948], Valid [Loss: 0.434, Accuracy: 0.906]\n",
      "EPOCH: 95, Train [Loss: 0.371, Accuracy: 0.947], Valid [Loss: 0.538, Accuracy: 0.960]\n"
     ]
    },
    {
     "name": "stdout",
     "output_type": "stream",
     "text": [
      "EPOCH: 96, Train [Loss: 0.372, Accuracy: 0.946], Valid [Loss: 0.430, Accuracy: 0.902]\n",
      "EPOCH: 97, Train [Loss: 0.370, Accuracy: 0.950], Valid [Loss: 0.455, Accuracy: 0.957]\n",
      "EPOCH: 98, Train [Loss: 0.369, Accuracy: 0.951], Valid [Loss: 0.437, Accuracy: 0.845]\n",
      "EPOCH: 99, Train [Loss: 0.395, Accuracy: 0.915], Valid [Loss: 0.439, Accuracy: 0.947]\n",
      "EPOCH: 100, Train [Loss: 0.387, Accuracy: 0.925], Valid [Loss: 0.430, Accuracy: 0.925]\n",
      "EPOCH: 101, Train [Loss: 0.371, Accuracy: 0.947], Valid [Loss: 0.439, Accuracy: 0.887]\n",
      "EPOCH: 102, Train [Loss: 0.369, Accuracy: 0.949], Valid [Loss: 0.405, Accuracy: 0.917]\n",
      "EPOCH: 103, Train [Loss: 0.366, Accuracy: 0.953], Valid [Loss: 0.463, Accuracy: 0.955]\n",
      "EPOCH: 104, Train [Loss: 0.366, Accuracy: 0.952], Valid [Loss: 0.490, Accuracy: 0.733]\n",
      "EPOCH: 105, Train [Loss: 0.362, Accuracy: 0.958], Valid [Loss: 0.486, Accuracy: 0.961]\n",
      "EPOCH: 106, Train [Loss: 0.363, Accuracy: 0.958], Valid [Loss: 0.529, Accuracy: 0.961]\n",
      "EPOCH: 107, Train [Loss: 0.365, Accuracy: 0.956], Valid [Loss: 0.474, Accuracy: 0.786]\n",
      "EPOCH: 108, Train [Loss: 0.366, Accuracy: 0.954], Valid [Loss: 0.410, Accuracy: 0.920]\n",
      "EPOCH: 109, Train [Loss: 0.363, Accuracy: 0.959], Valid [Loss: 0.434, Accuracy: 0.957]\n",
      "EPOCH: 110, Train [Loss: 0.361, Accuracy: 0.961], Valid [Loss: 0.433, Accuracy: 0.957]\n",
      "EPOCH: 111, Train [Loss: 0.363, Accuracy: 0.958], Valid [Loss: 0.516, Accuracy: 0.959]\n",
      "EPOCH: 112, Train [Loss: 0.362, Accuracy: 0.959], Valid [Loss: 0.448, Accuracy: 0.959]\n",
      "EPOCH: 113, Train [Loss: 0.359, Accuracy: 0.961], Valid [Loss: 0.637, Accuracy: 0.954]\n",
      "EPOCH: 114, Train [Loss: 0.360, Accuracy: 0.960], Valid [Loss: 0.437, Accuracy: 0.955]\n",
      "EPOCH: 115, Train [Loss: 0.362, Accuracy: 0.959], Valid [Loss: 0.487, Accuracy: 0.961]\n",
      "EPOCH: 116, Train [Loss: 0.358, Accuracy: 0.964], Valid [Loss: 0.502, Accuracy: 0.962]\n",
      "EPOCH: 117, Train [Loss: 0.360, Accuracy: 0.961], Valid [Loss: 0.421, Accuracy: 0.952]\n",
      "EPOCH: 118, Train [Loss: 0.359, Accuracy: 0.962], Valid [Loss: 0.418, Accuracy: 0.959]\n",
      "EPOCH: 119, Train [Loss: 0.358, Accuracy: 0.962], Valid [Loss: 0.424, Accuracy: 0.859]\n",
      "EPOCH: 120, Train [Loss: 0.359, Accuracy: 0.963], Valid [Loss: 0.405, Accuracy: 0.941]\n",
      "EPOCH: 121, Train [Loss: 0.358, Accuracy: 0.964], Valid [Loss: 0.430, Accuracy: 0.958]\n",
      "EPOCH: 122, Train [Loss: 0.360, Accuracy: 0.963], Valid [Loss: 0.443, Accuracy: 0.949]\n",
      "EPOCH: 123, Train [Loss: 0.358, Accuracy: 0.964], Valid [Loss: 0.522, Accuracy: 0.955]\n",
      "EPOCH: 124, Train [Loss: 0.358, Accuracy: 0.965], Valid [Loss: 0.466, Accuracy: 0.960]\n",
      "EPOCH: 125, Train [Loss: 0.357, Accuracy: 0.964], Valid [Loss: 0.418, Accuracy: 0.959]\n",
      "EPOCH: 126, Train [Loss: 0.358, Accuracy: 0.962], Valid [Loss: 0.421, Accuracy: 0.959]\n",
      "EPOCH: 127, Train [Loss: 0.355, Accuracy: 0.967], Valid [Loss: 0.412, Accuracy: 0.920]\n",
      "EPOCH: 128, Train [Loss: 0.358, Accuracy: 0.966], Valid [Loss: 0.491, Accuracy: 0.964]\n",
      "EPOCH: 129, Train [Loss: 0.354, Accuracy: 0.969], Valid [Loss: 0.418, Accuracy: 0.958]\n",
      "EPOCH: 130, Train [Loss: 0.356, Accuracy: 0.965], Valid [Loss: 0.413, Accuracy: 0.953]\n",
      "EPOCH: 131, Train [Loss: 0.357, Accuracy: 0.968], Valid [Loss: 0.415, Accuracy: 0.914]\n",
      "EPOCH: 132, Train [Loss: 0.356, Accuracy: 0.967], Valid [Loss: 0.422, Accuracy: 0.959]\n",
      "EPOCH: 133, Train [Loss: 0.354, Accuracy: 0.969], Valid [Loss: 0.424, Accuracy: 0.925]\n",
      "EPOCH: 134, Train [Loss: 0.353, Accuracy: 0.969], Valid [Loss: 0.422, Accuracy: 0.962]\n",
      "EPOCH: 135, Train [Loss: 0.354, Accuracy: 0.970], Valid [Loss: 0.414, Accuracy: 0.960]\n",
      "EPOCH: 136, Train [Loss: 0.353, Accuracy: 0.970], Valid [Loss: 0.471, Accuracy: 0.796]\n",
      "EPOCH: 137, Train [Loss: 0.352, Accuracy: 0.972], Valid [Loss: 0.444, Accuracy: 0.961]\n",
      "EPOCH: 138, Train [Loss: 0.353, Accuracy: 0.969], Valid [Loss: 0.492, Accuracy: 0.964]\n",
      "EPOCH: 139, Train [Loss: 0.353, Accuracy: 0.972], Valid [Loss: 0.404, Accuracy: 0.932]\n"
     ]
    }
   ],
   "source": [
    "losstrain=[]\n",
    "lossvalid=[]\n",
    "Accuracytrain=[]\n",
    "Accuracyvalid=[]\n",
    "\n",
    "for epoch in range(n_epoches):\n",
    "    losses_train = []\n",
    "    losses_valid = []\n",
    "    # Train\n",
    "    optimizer.step()\n",
    "    model.train()\n",
    "    n_train = 0\n",
    "    acc_train = 0\n",
    "    for x, y in dataloader_train:\n",
    "        n_train += y.size()[0]\n",
    "        model.zero_grad()  # 勾配の初期化\n",
    "        x = x.to(device)  # テンソルをGPUに移動\n",
    "        y = y.to(device)\n",
    "        output = model.forward(x)  # 順伝播\n",
    "        loss = loss_function(output, y)  # 誤差(クロスエントロピー誤差関数)の計算\n",
    "        loss.backward()  # 誤差の逆伝播\n",
    "        optimizer.step()  # パラメータの更新\n",
    "        pred = output.argmax(1)  # 最大値を取るラベルを予測ラベルとする\n",
    "        acc_train += (pred == y).float().sum().item()\n",
    "        losses_train.append(loss.tolist())\n",
    "    # Evaluate\n",
    "    model.eval()\n",
    "    n_val = 0\n",
    "    acc_val = 0\n",
    "    for x, y in dataloader_valid:\n",
    "        n_val += y.size()[0]\n",
    "        x = x.to(device)  # テンソルをGPUに移動\n",
    "        y = y.to(device)\n",
    "        output = model.forward(x)  # 順伝播\n",
    "        loss = loss_function(output, y)  # 誤差(クロスエントロピー誤差関数)の計算\n",
    "        pred = output.argmax(1)  # 最大値を取るラベルを予測ラベルとする\n",
    "        acc_val += (pred == y).float().sum().item()\n",
    "        losses_valid.append(loss.tolist())\n",
    "    scheduler.step()\n",
    "    # Visualize loss & accuracy    \n",
    "    losstrain.append(np.mean(losses_train))\n",
    "    Accuracytrain.append(acc_train/n_train)\n",
    "    lossvalid.append(np.mean(losses_train))\n",
    "    Accuracyvalid.append(acc_val/n_val)\n",
    "    print('EPOCH: {}, Train [Loss: {:.3f}, Accuracy: {:.3f}], Valid [Loss: {:.3f}, Accuracy: {:.3f}]'\n",
    "          .format(epoch,np.mean(losses_train),acc_train/n_train,np.mean(losses_valid),acc_val/n_val))"
   ]
  },
  {
   "cell_type": "code",
   "execution_count": 70,
   "metadata": {},
   "outputs": [
    {
     "data": {
      "image/png": "[encoded data removed]",
      "text/plain": [
       "<Figure size 432x288 with 1 Axes>"
      ]
     },
     "metadata": {
      "needs_background": "light"
     },
     "output_type": "display_data"
    },
    {
     "data": {
      "text/plain": [
       "<Figure size 432x288 with 0 Axes>"
      ]
     },
     "metadata": {},
     "output_type": "display_data"
    }
   ],
   "source": [
    "# train processing plot\n",
    "n_epoches = 300\n",
    "epochs=range(1,n_epoches+1)\n",
    "plt.ylim(0,1.0)\n",
    "plt.plot(epochs,Accuracytrain,'b',label='Training accuracy')  \n",
    "plt.plot(epochs, Accuracyvalid,'r',label='Validation accuracy')\n",
    "plt.title('Training and Validation accuracy')\n",
    "plt.legend()\n",
    "plt.figure()\n",
    "plt.show()"
   ]
  },
  {
   "cell_type": "markdown",
   "metadata": {},
   "source": [
    "# test with testdata"
   ]
  },
  {
   "cell_type": "code",
   "execution_count": 71,
   "metadata": {},
   "outputs": [
    {
     "name": "stdout",
     "output_type": "stream",
     "text": [
      "total_test: 644\n",
      "accuracy_score: 0.898\n",
      "precision_score: 0.924\n",
      "roc_auc_score: 0.947\n"
     ]
    }
   ],
   "source": [
    "# Test\n",
    "X = X_test\n",
    "y = y_test\n",
    "y_pred = []\n",
    "out_pred = []\n",
    "total = X.shape[0]\n",
    "\n",
    "model.eval()\n",
    "for n in range(total):\n",
    "    img = X[n]\n",
    "    label = y[n]\n",
    "    transform = transforms.Compose([transforms.ToTensor()])\n",
    "    input_tensor = transform(img).unsqueeze(0).to(device)\n",
    "    output = model(input_tensor)\n",
    "    pred = output.argmax(1).cpu().item()\n",
    "    out_pred.append(output[0][1].item())\n",
    "    y_pred.append(pred)\n",
    "\n",
    "y_pred = np.array(y_pred)\n",
    "out_pred = np.array(out_pred)\n",
    "print(\"total_test: {:}\" .format(total))\n",
    "print('accuracy_score: {:.3f}'.format(accuracy_score(y,y_pred)))\n",
    "print('precision_score: {:.3f}'.format(precision_score(y,y_pred)))\n",
    "print('roc_auc_score: {:.3f}'.format(roc_auc_score(y, out_pred)))"
   ]
  },
  {
   "cell_type": "code",
   "execution_count": null,
   "metadata": {},
   "outputs": [],
   "source": []
  },
  {
   "cell_type": "markdown",
   "metadata": {},
   "source": [
    "## test by category"
   ]
  },
  {
   "cell_type": "code",
   "execution_count": 212,
   "metadata": {},
   "outputs": [],
   "source": [
    "def predict(model,input_tensor,true_y):\n",
    "    model.eval()\n",
    "    output = model(input_tensor)\n",
    "    pre_y = output.argmax(1).cpu().item()\n",
    "    return pre_y==true_y, pre_y"
   ]
  },
  {
   "cell_type": "code",
   "execution_count": 213,
   "metadata": {},
   "outputs": [
    {
     "name": "stderr",
     "output_type": "stream",
     "text": [
      "/tmp/10323609.1.gpu/ipykernel_222014/2976431380.py:5: TqdmDeprecationWarning: This function will be removed in tqdm==5.0.0\n",
      "Please use `tqdm.notebook.tqdm` instead of `tqdm.tqdm_notebook`\n",
      "  for n in tqdm(range(total)):\n"
     ]
    },
    {
     "data": {
      "application/vnd.jupyter.widget-view+json": {
       "model_id": "4db1cadaf99b44ccb4365ebf8f975286",
       "version_major": 2,
       "version_minor": 0
      },
      "text/plain": [
       "  0%|          | 0/65969 [00:00<?, ?it/s]"
      ]
     },
     "metadata": {},
     "output_type": "display_data"
    },
    {
     "name": "stdout",
     "output_type": "stream",
     "text": [
      "00 accuracy is  0.9692128120784005\n",
      "count/total is  63938 65969\n"
     ]
    }
   ],
   "source": [
    "total = Data_01.shape[0]\n",
    "count = 0\n",
    "true_y = 0\n",
    "# fig, ax = plt.subplots(5,5, figsize = (40,40))\n",
    "for n in tqdm(range(total)):\n",
    "    img = Data_01[n]\n",
    "    transform = transforms.Compose([transforms.ToTensor()])\n",
    "    input_tensor = transform(img).unsqueeze(0).to(device)\n",
    "    tf,pred = predict(model,input_tensor,true_y)\n",
    "    if tf == True:\n",
    "        count+=1\n",
    "print(\"00 accuracy is \", count/total)\n",
    "print(\"count/total is \", count,total)"
   ]
  },
  {
   "cell_type": "code",
   "execution_count": 214,
   "metadata": {},
   "outputs": [
    {
     "name": "stderr",
     "output_type": "stream",
     "text": [
      "/tmp/10323609.1.gpu/ipykernel_222014/1204296283.py:5: TqdmDeprecationWarning: This function will be removed in tqdm==5.0.0\n",
      "Please use `tqdm.notebook.tqdm` instead of `tqdm.tqdm_notebook`\n",
      "  for n in tqdm(range(total)):\n"
     ]
    },
    {
     "data": {
      "application/vnd.jupyter.widget-view+json": {
       "model_id": "319a16c0f4424601abd7aaaeea5753e9",
       "version_major": 2,
       "version_minor": 0
      },
      "text/plain": [
       "  0%|          | 0/3219 [00:00<?, ?it/s]"
      ]
     },
     "metadata": {},
     "output_type": "display_data"
    },
    {
     "name": "stdout",
     "output_type": "stream",
     "text": [
      "01 accuracy is  0.9906803355079217\n",
      "count/total is  3189 3219\n"
     ]
    }
   ],
   "source": [
    "total = Data_02Nami.shape[0]\n",
    "count = 0\n",
    "true_y = 1\n",
    "# fig, ax = plt.subplots(5,5, figsize = (40,40))\n",
    "for n in tqdm(range(total)):\n",
    "    img = Data_02Nami[n]\n",
    "    transform = transforms.Compose([transforms.ToTensor()])\n",
    "    input_tensor = transform(img).unsqueeze(0).to(device)\n",
    "    tf,pred = predict(model,input_tensor,true_y)\n",
    "    if tf == True:\n",
    "        count+=1\n",
    "print(\"01 accuracy is \", count/total)\n",
    "print(\"count/total is \", count,total)"
   ]
  },
  {
   "cell_type": "markdown",
   "metadata": {},
   "source": [
    "# save model"
   ]
  },
  {
   "cell_type": "code",
   "execution_count": 41,
   "metadata": {},
   "outputs": [],
   "source": [
    "for param in model.parameters():\n",
    "    param.requires_grad = True\n",
    "torch.save(model,\"SelfResnet18_L2F1_same.pkl\")"
   ]
  },
  {
   "cell_type": "code",
   "execution_count": null,
   "metadata": {},
   "outputs": [],
   "source": []
  },
  {
   "cell_type": "code",
   "execution_count": null,
   "metadata": {},
   "outputs": [],
   "source": []
  }
 ],
 "metadata": {
  "accelerator": "GPU",
  "colab": {
   "collapsed_sections": [],
   "name": "KIMIA_CNN.ipynb",
   "provenance": []
  },
  "kernelspec": {
   "display_name": "Python 3 (ipykernel)",
   "language": "python",
   "name": "python3"
  },
  "language_info": {
   "codemirror_mode": {
    "name": "ipython",
    "version": 3
   },
   "file_extension": ".py",
   "mimetype": "text/x-python",
   "name": "python",
   "nbconvert_exporter": "python",
   "pygments_lexer": "ipython3",
   "version": "3.10.4"
  },
  "toc": {
   "base_numbering": 1,
   "nav_menu": {},
   "number_sections": true,
   "sideBar": true,
   "skip_h1_title": false,
   "title_cell": "Table of Contents",
   "title_sidebar": "Contents",
   "toc_cell": false,
   "toc_position": {},
   "toc_section_display": true,
   "toc_window_display": false
  }
 },
 "nbformat": 4,
 "nbformat_minor": 1
}
