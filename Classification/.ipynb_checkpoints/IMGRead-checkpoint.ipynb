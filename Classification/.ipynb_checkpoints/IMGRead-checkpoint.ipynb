{
 "cells": [
  {
   "cell_type": "code",
   "execution_count": 2,
   "id": "72475bb6",
   "metadata": {},
   "outputs": [],
   "source": [
    "import cv2,os\n",
    "import numpy as np\n",
    "from tqdm import tqdm \n",
    "from matplotlib import pyplot as plt"
   ]
  },
  {
   "cell_type": "markdown",
   "id": "85837501",
   "metadata": {},
   "source": [
    "# Read Path "
   ]
  },
  {
   "cell_type": "code",
   "execution_count": 2,
   "id": "a6ec0ab3",
   "metadata": {},
   "outputs": [],
   "source": [
    "root = \"../../Datasets/211202NDAcquisition/Cells2022/\"\n",
    "classes = [\"NDAcquisition-01\",\"NDAcquisition-01x40\",\"NDAcquisition-02Nami_x20\",\"NDAcquisition-02Nami_x40\"]\n",
    "path01x20 = root+classes[0]\n",
    "path02Namix20 = root+classes[2]\n",
    "path01x40 = root+classes[1]\n",
    "path02Namix40 = root+classes[3]"
   ]
  },
  {
   "cell_type": "code",
   "execution_count": 6,
   "id": "2f7b67c6",
   "metadata": {},
   "outputs": [
    {
     "name": "stdout",
     "output_type": "stream",
     "text": [
      "len(DataPath_01x20): 67910\n",
      "len(DataPath_02Namix20): 13376\n"
     ]
    }
   ],
   "source": [
    "DataPath_01x20=[]\n",
    "\n",
    "for root,dirs,files in os.walk(path01x20):\n",
    "    for file_name in files:\n",
    "        path = os.path.join(root,file_name)\n",
    "        label = os.path.join(file_name)\n",
    "        DataPath_01x20.append(path)\n",
    "        \n",
    "print(\"len(DataPath_01x20):\",len(DataPath_01x20))\n",
    "\n",
    "############################################################\n",
    "\n",
    "DataPath_02Namix20=[]\n",
    "\n",
    "for root,dirs,files in os.walk(path02Namix20):\n",
    "    for file_name in files:\n",
    "        path = os.path.join(root,file_name)\n",
    "        label = os.path.join(file_name)\n",
    "        DataPath_02Namix20.append(path)\n",
    "        \n",
    "print(\"len(DataPath_02Namix20):\",len(DataPath_02Namix20))"
   ]
  },
  {
   "cell_type": "code",
   "execution_count": 7,
   "id": "389164ab",
   "metadata": {},
   "outputs": [
    {
     "name": "stdout",
     "output_type": "stream",
     "text": [
      "len(DataPath_01x40): 95651\n",
      "len(DataPath_02Namix40): 4387\n"
     ]
    }
   ],
   "source": [
    "DataPath_01x40=[]\n",
    "\n",
    "for root,dirs,files in os.walk(path01x40):\n",
    "    for file_name in files:\n",
    "        path = os.path.join(root,file_name)\n",
    "        label = os.path.join(file_name)\n",
    "        DataPath_01x40.append(path)\n",
    "        \n",
    "print(\"len(DataPath_01x40):\",len(DataPath_01x40))\n",
    "\n",
    "############################################################\n",
    "DataPath_02Namix40=[]\n",
    "\n",
    "for root,dirs,files in os.walk(path02Namix40):\n",
    "    for file_name in files:\n",
    "        path = os.path.join(root,file_name)\n",
    "        label = os.path.join(file_name)\n",
    "        DataPath_02Namix40.append(path)\n",
    "        \n",
    "print(\"len(DataPath_02Namix40):\",len(DataPath_02Namix40))"
   ]
  },
  {
   "cell_type": "markdown",
   "id": "95f33734",
   "metadata": {},
   "source": [
    "*********"
   ]
  },
  {
   "cell_type": "markdown",
   "id": "4b0d4f3f",
   "metadata": {},
   "source": [
    "# Read Image"
   ]
  },
  {
   "cell_type": "code",
   "execution_count": 8,
   "id": "17846ac2",
   "metadata": {},
   "outputs": [
    {
     "name": "stderr",
     "output_type": "stream",
     "text": [
      "100%|█████████████████████████████████████████████████████| 67910/67910 [34:33<00:00, 32.75it/s]\n",
      "/tmp/10289883.1.gpu/ipykernel_236256/754911371.py:6: VisibleDeprecationWarning: Creating an ndarray from ragged nested sequences (which is a list-or-tuple of lists-or-tuples-or ndarrays with different lengths or shapes) is deprecated. If you meant to do this, you must specify 'dtype=object' when creating the ndarray.\n",
      "  imread_01x20=np.array(imread_01x20)\n"
     ]
    }
   ],
   "source": [
    "imread_01x20=[]\n",
    "for i in tqdm(range(len(DataPath_01x20))):\n",
    "    img = cv2.imread(DataPath_01x20[i])\n",
    "    imread_01x20.append(img)\n",
    "    \n",
    "imread_01x20=np.array(imread_01x20)\n",
    "np.save(\"results2022/imread_01x20.npy\",imread_01x20,'dtype=object')"
   ]
  },
  {
   "cell_type": "code",
   "execution_count": 9,
   "id": "348a9ae0",
   "metadata": {},
   "outputs": [
    {
     "name": "stderr",
     "output_type": "stream",
     "text": [
      "100%|█████████████████████████████████████████████████████| 13376/13376 [07:25<00:00, 30.02it/s]\n",
      "/tmp/10289883.1.gpu/ipykernel_236256/3642339943.py:7: VisibleDeprecationWarning: Creating an ndarray from ragged nested sequences (which is a list-or-tuple of lists-or-tuples-or ndarrays with different lengths or shapes) is deprecated. If you meant to do this, you must specify 'dtype=object' when creating the ndarray.\n",
      "  imread_02Namix20=np.array(imread_02Namix20)\n"
     ]
    }
   ],
   "source": [
    "imread_02Namix20=[]\n",
    "for i in tqdm(range(len(DataPath_02Namix20))):\n",
    "    img = cv2.imread(DataPath_02Namix20[i])\n",
    "    \n",
    "    imread_02Namix20.append(img)\n",
    "    \n",
    "imread_02Namix20=np.array(imread_02Namix20)\n",
    "np.save(\"results2022/imread_02Namix20.npy\",imread_02Namix20,'dtype=object')"
   ]
  },
  {
   "cell_type": "code",
   "execution_count": 10,
   "id": "6b086995",
   "metadata": {},
   "outputs": [
    {
     "name": "stderr",
     "output_type": "stream",
     "text": [
      "100%|█████████████████████████████████████████████████████| 95651/95651 [58:06<00:00, 27.44it/s]\n",
      "/tmp/10289883.1.gpu/ipykernel_236256/2331728426.py:7: VisibleDeprecationWarning: Creating an ndarray from ragged nested sequences (which is a list-or-tuple of lists-or-tuples-or ndarrays with different lengths or shapes) is deprecated. If you meant to do this, you must specify 'dtype=object' when creating the ndarray.\n",
      "  imread_01x40=np.array(imread_01x40)\n"
     ]
    }
   ],
   "source": [
    "imread_01x40=[]\n",
    "for i in tqdm(range(len(DataPath_01x40))):\n",
    "    img = cv2.imread(DataPath_01x40[i])\n",
    "    if img.shape[0]<=100 and img.shape[1]<=100:\n",
    "        imread_01x40.append(img)\n",
    "    \n",
    "imread_01x40=np.array(imread_01x40)\n",
    "np.save(\"results2022/imread_01x40.npy\",imread_01x40,'dtype=object')"
   ]
  },
  {
   "cell_type": "code",
   "execution_count": 11,
   "id": "2a3cd8f5",
   "metadata": {},
   "outputs": [
    {
     "name": "stderr",
     "output_type": "stream",
     "text": [
      "100%|███████████████████████████████████████████████████████| 4387/4387 [02:41<00:00, 27.17it/s]\n",
      "/tmp/10289883.1.gpu/ipykernel_236256/1434122838.py:7: VisibleDeprecationWarning: Creating an ndarray from ragged nested sequences (which is a list-or-tuple of lists-or-tuples-or ndarrays with different lengths or shapes) is deprecated. If you meant to do this, you must specify 'dtype=object' when creating the ndarray.\n",
      "  imread_02Namix40=np.array(imread_02Namix40)\n"
     ]
    }
   ],
   "source": [
    "imread_02Namix40=[]\n",
    "for i in tqdm(range(len(DataPath_02Namix40))):\n",
    "    img = cv2.imread(DataPath_02Namix40[i])\n",
    "    if img.shape[0]<=100 and img.shape[1]<=100:\n",
    "        imread_02Namix40.append(img)\n",
    "    \n",
    "imread_02Namix40=np.array(imread_02Namix40)\n",
    "np.save(\"results2022/imread_02Namix40.npy\",imread_02Namix40)"
   ]
  },
  {
   "cell_type": "markdown",
   "id": "8b3d5637",
   "metadata": {},
   "source": [
    "*********"
   ]
  },
  {
   "cell_type": "markdown",
   "id": "b065bb70",
   "metadata": {},
   "source": [
    "# Data preprocessing"
   ]
  },
  {
   "cell_type": "code",
   "execution_count": 3,
   "id": "d8d4d97d",
   "metadata": {},
   "outputs": [
    {
     "name": "stdout",
     "output_type": "stream",
     "text": [
      "Data_01.shape: (91916,)\n",
      "Data_02Nami.shape: (4056,)\n"
     ]
    }
   ],
   "source": [
    "Data_02Nami=np.load(\"results2022/imread_02Namix40.npy\",allow_pickle=True)\n",
    "Data_01=np.load(\"results2022/imread_01x40.npy\",allow_pickle=True)\n",
    "print(\"Data_01.shape:\", Data_01.shape)\n",
    "print(\"Data_02Nami.shape:\", Data_02Nami.shape)"
   ]
  },
  {
   "cell_type": "code",
   "execution_count": 7,
   "id": "1a932e79",
   "metadata": {},
   "outputs": [
    {
     "data": {
      "text/plain": [
       "<matplotlib.legend.Legend at 0x2ab39a1ceb00>"
      ]
     },
     "execution_count": 7,
     "metadata": {},
     "output_type": "execute_result"
    },
    {
     "data": {
      "image/png": "[encoded data removed]",
      "text/plain": [
       "<Figure size 432x288 with 1 Axes>"
      ]
     },
     "metadata": {
      "needs_background": "light"
     },
     "output_type": "display_data"
    }
   ],
   "source": [
    "shapeX=[]\n",
    "shapeY=[]\n",
    "for i in range(len(Data_01)):\n",
    "    shapeX.append(Data_01[i].shape[0])\n",
    "    shapeY.append(Data_01[i].shape[1])    \n",
    "fig, ax = plt.subplots()\n",
    "ax.hist([shapeX,shapeY], label=[\"shapeX\", \"shapeY\"], color=[\"r\", \"g\"], ec=\"k\",range=[0,120])\n",
    "ax.legend()"
   ]
  },
  {
   "cell_type": "code",
   "execution_count": 8,
   "id": "657026ee",
   "metadata": {},
   "outputs": [
    {
     "data": {
      "text/plain": [
       "<matplotlib.legend.Legend at 0x2ab398012e30>"
      ]
     },
     "execution_count": 8,
     "metadata": {},
     "output_type": "execute_result"
    },
    {
     "data": {
      "image/png": "[encoded data removed]",
      "text/plain": [
       "<Figure size 432x288 with 1 Axes>"
      ]
     },
     "metadata": {
      "needs_background": "light"
     },
     "output_type": "display_data"
    }
   ],
   "source": [
    "shapeX=[]\n",
    "shapeY=[]\n",
    "for i in range(len(Data_02Nami)):\n",
    "    shapeX.append(Data_02Nami[i].shape[0])\n",
    "    shapeY.append(Data_02Nami[i].shape[1])    \n",
    "fig, ax = plt.subplots()\n",
    "ax.hist([shapeX,shapeY], label=[\"shapeX\", \"shapeY\"], color=[\"r\", \"g\"], ec=\"k\",range=[0,120])\n",
    "ax.legend()"
   ]
  },
  {
   "cell_type": "markdown",
   "id": "bec75299",
   "metadata": {},
   "source": [
    "## padding "
   ]
  },
  {
   "cell_type": "code",
   "execution_count": 4,
   "id": "3820323c",
   "metadata": {},
   "outputs": [],
   "source": [
    "#　同じサイズにする\n",
    "Max_shape_0=100\n",
    "Max_shape_1=100\n",
    "def datapadding(img):\n",
    "    imgSize = img.shape\n",
    "    top_size,bottom_size = (Max_shape_0-imgSize[0])//2,(Max_shape_0-imgSize[0])//2\n",
    "    left_size,right_size = (Max_shape_1-imgSize[1])//2,(Max_shape_1-imgSize[1])//2\n",
    "    if (imgSize[0] % 2) != 0:\n",
    "        top_size,bottom_size = (Max_shape_0-imgSize[0])//2,(Max_shape_0-imgSize[0])//2+1\n",
    "    if (imgSize[1] % 2) != 0:     \n",
    "        left_size,right_size = (Max_shape_1-imgSize[1])//2,(Max_shape_1-imgSize[1])//2+1\n",
    "    img_pad = cv2.copyMakeBorder(img,top_size,bottom_size,left_size,right_size,cv2.BORDER_CONSTANT,value=(0,0,0))\n",
    "    return img_pad"
   ]
  },
  {
   "cell_type": "code",
   "execution_count": 5,
   "id": "b77b7aab",
   "metadata": {},
   "outputs": [
    {
     "name": "stdout",
     "output_type": "stream",
     "text": [
      "(3219, 100, 100, 3)\n"
     ]
    }
   ],
   "source": [
    "num=0\n",
    "final_01=[]\n",
    "for n in range(len(Data_01)):\n",
    "    img = Data_01[n]\n",
    "    if 50<=img.shape[0]<=100 and 50<=img.shape[1]<=100:\n",
    "        num+=1\n",
    "        final_01.append(datapadding(img))\n",
    "final_01=np.array(final_01)\n",
    "np.save(\"results2022/01x40_padded.npy\",final_01)\n",
    "print(final_01.shape)\n",
    "\n",
    "\n",
    "num=0\n",
    "final_02=[]\n",
    "for n in range(len(Data_02Nami)):\n",
    "    img = Data_02Nami[n]\n",
    "    if 50<=img.shape[0]<=100 and 50<=img.shape[1]<=100:\n",
    "        num+=1\n",
    "        final_02.append(datapadding(img))\n",
    "final_02=np.array(final_02)\n",
    "np.save(\"results2022/02x40_padded.npy\",final_02)\n",
    "print(final_02.shape)"
   ]
  },
  {
   "cell_type": "markdown",
   "id": "897dd360",
   "metadata": {},
   "source": [
    "# split train and test"
   ]
  },
  {
   "cell_type": "code",
   "execution_count": 4,
   "id": "49042926",
   "metadata": {},
   "outputs": [
    {
     "name": "stdout",
     "output_type": "stream",
     "text": [
      "Data_01.shape: (65969, 100, 100, 3)\n",
      "Data_02Nami.shape: (3219, 100, 100, 3)\n"
     ]
    }
   ],
   "source": [
    "Data_01=np.load(\"results2022/01x40_padded.npy\",allow_pickle=True)\n",
    "Data_02Nami=np.load(\"results2022/02x40_padded.npy\",allow_pickle=True)\n",
    "\n",
    "print(\"Data_01.shape:\", Data_01.shape)\n",
    "print(\"Data_02Nami.shape:\", Data_02Nami.shape)"
   ]
  },
  {
   "cell_type": "code",
   "execution_count": 8,
   "id": "2105db33",
   "metadata": {},
   "outputs": [
    {
     "name": "stdout",
     "output_type": "stream",
     "text": [
      "untreaded_train.shape: (3000, 100, 100, 3)\n",
      "VPAtreaded_train.shape: (3000, 100, 100, 3)\n",
      "untreaded_train_all.shape: (65000, 100, 100, 3)\n",
      "untreaded_test.shape: (210, 100, 100, 3)\n",
      "VPAtreaded_test.shape: (210, 100, 100, 3)\n"
     ]
    }
   ],
   "source": [
    "# train\n",
    "untreaded_train=Data_01[:3000]\n",
    "untreaded_train_all=Data_01[:65000]\n",
    "VPAtreaded_train=Data_02Nami[:3000]\n",
    "# test\n",
    "untreaded_test=Data_01[-210:]\n",
    "VPAtreaded_test=Data_02Nami[-210:]\n",
    "\n",
    "print(\"untreaded_train.shape:\", untreaded_train.shape)\n",
    "print(\"VPAtreaded_train.shape:\", VPAtreaded_train.shape)\n",
    "print(\"untreaded_train_all.shape:\", untreaded_train_all.shape)\n",
    "print(\"untreaded_test.shape:\", untreaded_test.shape)\n",
    "print(\"VPAtreaded_test.shape:\", VPAtreaded_test.shape)"
   ]
  },
  {
   "cell_type": "code",
   "execution_count": null,
   "id": "c611bedd",
   "metadata": {},
   "outputs": [],
   "source": [
    "np.save(\"results2022/untreaded_train.npy\",untreaded_train)\n",
    "np.save(\"results2022/VPAtreaded_train.npy\",VPAtreaded_train)\n",
    "\n",
    "np.save(\"results2022/untreaded_train_all.npy\",untreaded_train_all)\n",
    "\n",
    "np.save(\"results2022/untreaded_test.npy\",untreaded_test)\n",
    "np.save(\"results2022/VPAtreaded_test.npy\",VPAtreaded_test)"
   ]
  }
 ],
 "metadata": {
  "kernelspec": {
   "display_name": "Python 3 (ipykernel)",
   "language": "python",
   "name": "python3"
  },
  "language_info": {
   "codemirror_mode": {
    "name": "ipython",
    "version": 3
   },
   "file_extension": ".py",
   "mimetype": "text/x-python",
   "name": "python",
   "nbconvert_exporter": "python",
   "pygments_lexer": "ipython3",
   "version": "3.7.13"
  }
 },
 "nbformat": 4,
 "nbformat_minor": 5
}
