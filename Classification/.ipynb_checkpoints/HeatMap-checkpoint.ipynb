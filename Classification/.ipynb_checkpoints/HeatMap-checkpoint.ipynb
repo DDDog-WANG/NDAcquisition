{
 "cells": [
  {
   "cell_type": "code",
   "execution_count": 3,
   "id": "0e7ca460",
   "metadata": {},
   "outputs": [],
   "source": [
    "import cv2,os\n",
    "import numpy as np\n",
    "from matplotlib import pyplot as plt\n",
    "import torch\n",
    "import torchvision.models as models\n",
    "import torch.nn as nn\n",
    "from torchvision import transforms\n",
    "from tqdm import tqdm_notebook as tqdm\n",
    "from PIL import Image\n",
    "from tqdm import tqdm\n",
    "\n",
    "from torch.nn import functional as F\n",
    "from collections import OrderedDict\n",
    "import math\n",
    "\n",
    "Max_shape_0=256\n",
    "Max_shape_1=256\n",
    "device = \"cuda\""
   ]
  },
  {
   "cell_type": "markdown",
   "id": "9b2c492d",
   "metadata": {},
   "source": [
    "# Load Model and Data"
   ]
  },
  {
   "cell_type": "code",
   "execution_count": 14,
   "id": "ea5cf9d5",
   "metadata": {},
   "outputs": [],
   "source": [
    "# load model\n",
    "PATH = \"./qsub220208/Model_Resnet18_nomask.pkl\"\n",
    "model = torch.load(PATH)"
   ]
  },
  {
   "cell_type": "code",
   "execution_count": 4,
   "id": "cf87989e",
   "metadata": {},
   "outputs": [],
   "source": [
    "imgdir0120 = \"../../Datasets/211202NDAcquisition/CellsNoMask/NDAcquisition-01/\"\n",
    "imgdir0220 = \"../../Datasets/211202NDAcquisition/CellsNoMask/NDAcquisition-02Nami_x20/\"\n",
    "imgdir0140 = \"../../Datasets/211202NDAcquisition/CellsNoMask/NDAcquisition-01x40/\"\n",
    "imgdir0240 = \"../../Datasets/211202NDAcquisition/CellsNoMask/NDAcquisition-02Nami_x40/\"\n",
    "\n",
    "imgnamelist = [\"NDAcquisition-01_XY001_1\",\"NDAcquisition-01_XY001_8\",\n",
    "           \"NDAcquisition-01x40_XY0001_1\",\"NDAcquisition-01x40_XY0001_11\",\n",
    "           \"NDAcquisition-02Nami_x20_XY009_1\",\"NDAcquisition-02Nami_x20_XY136_2\",\n",
    "           \"NDAcquisition-02Nami_x40_XY001_2\",\"NDAcquisition-02Nami_x40_XY127_2\"]\n",
    "\n",
    "imgdirlist = [imgdir0120,imgdir0120,imgdir0140,imgdir0140,imgdir0220,imgdir0220,imgdir0240,imgdir0240]"
   ]
  },
  {
   "cell_type": "markdown",
   "id": "3e892473",
   "metadata": {},
   "source": [
    "# GradCAM"
   ]
  },
  {
   "cell_type": "code",
   "execution_count": 15,
   "id": "93075ddf",
   "metadata": {},
   "outputs": [],
   "source": [
    "from torch.nn import functional as F\n",
    "from collections import OrderedDict\n",
    "import math\n",
    "\n",
    "Max_shape_0=256\n",
    "Max_shape_1=256\n",
    "device = \"cuda\"\n",
    "\n",
    "feature_activation = {} # 保存获取的输出\n",
    "def get_activation(name):\n",
    "    def hook(model, input, output):\n",
    "        feature_activation[name] = output.detach()\n",
    "    return hook\n",
    "\n",
    "\n",
    "class GradCAM(nn.Module):\n",
    "    def __init__(self):\n",
    "        super(GradCAM, self).__init__()\n",
    "        # 获取模型的特征提取层\n",
    "        self.feature = nn.Sequential(OrderedDict({\n",
    "                name:layer for name, layer in model.named_children()\n",
    "                if name not in ['avgpool','fc']\n",
    "        }))\n",
    "        # 获取模型最后的平均池化层\n",
    "        self.avgpool = model.module.avgpool\n",
    "        # 获取模型的输出层\n",
    "        self.classifier = nn.Sequential(OrderedDict([\n",
    "            ('fc', model.module.fc),\n",
    "#             ('softmax', model.softmax)\n",
    "        ]))\n",
    "        # 生成梯度占位符\n",
    "        self.gradients = None\n",
    "    \n",
    "    # 获取梯度的钩子函数\n",
    "    def activations_hook(self, grad):\n",
    "        self.gradients = grad\n",
    "    \n",
    "    def forward(self, x):\n",
    "        x = self.feature(x)\n",
    "        # 注册钩子\n",
    "        h = x.register_hook(self.activations_hook)\n",
    "        # 对卷积后的输出使用平均池化\n",
    "        x = self.avgpool(x)\n",
    "        x = x.view((1,-1))\n",
    "        x = self.classifier(x)\n",
    "        return x\n",
    "    \n",
    "    # 获取梯度的方法\n",
    "    def get_activations_gradient(self):\n",
    "        return self.gradients\n",
    "    \n",
    "    # 获取卷积层输出的方法\n",
    "    def get_activations(self, x):\n",
    "        return self.feature(x)"
   ]
  },
  {
   "cell_type": "code",
   "execution_count": 16,
   "id": "7ac2c501",
   "metadata": {},
   "outputs": [],
   "source": [
    "# 获取热力图\n",
    "def get_heatmap(model, img):\n",
    "    model.eval()\n",
    "    img_pre = model(img)\n",
    "    # 获取预测最高的类别\n",
    "    pre_class = torch.argmax(img_pre, dim=-1).item()\n",
    "    # 获取相对于模型参数的输出梯度\n",
    "    img_pre[:, pre_class].backward()\n",
    "    # 获取模型的梯度\n",
    "    gradients = model.get_activations_gradient()\n",
    "    # 计算梯度相应通道的均值\n",
    "    mean_gradients = torch.mean(gradients, dim=[0,2,3])\n",
    "    # 获取图像在相应卷积层输出的卷积特征\n",
    "    activations = model.get_activations(input_img).detach()\n",
    "    # 每个通道乘以相应的梯度均值\n",
    "    for i in range(len(mean_gradients)):\n",
    "        activations[:,i,:,:] *= mean_gradients[i]\n",
    "    # 计算所有通道的均值输出得到热力图\n",
    "    heatmap = torch.mean(activations, dim=1).squeeze()\n",
    "    # 使用Relu函数作用于热力图\n",
    "    heatmap = F.relu(heatmap)\n",
    "    # 对热力图进行标准化\n",
    "    heatmap /= torch.max(heatmap)\n",
    "    heatmap = heatmap.cpu().numpy()\n",
    "\n",
    "    return heatmap\n"
   ]
  },
  {
   "cell_type": "code",
   "execution_count": 17,
   "id": "08609fed",
   "metadata": {},
   "outputs": [],
   "source": [
    "# 合并热力图和原题\n",
    "def merge_heatmap_image(heatmap, image_path):\n",
    "    plt.imshow(heatmap)\n",
    "    plt.show()\n",
    "    img = pad(image_path)\n",
    "    plt.imshow(img)\n",
    "    plt.show()\n",
    "    heatmap = cv2.resize(heatmap, (img.shape[1], img.shape[0]))\n",
    "    plt.imshow(heatmap)\n",
    "    plt.show()\n",
    "    heatmap = np.uint8(255 * heatmap)\n",
    "    plt.imshow(heatmap)\n",
    "    plt.show()\n",
    "    heatmap = cv2.applyColorMap(heatmap, cv2.COLORMAP_JET)\n",
    "    plt.imshow(heatmap)\n",
    "    plt.show()\n",
    "    grad_cam_img = heatmap * 0.4 + img*1.2\n",
    "    plt.imshow(grad_cam_img)\n",
    "    plt.show()\n",
    "    grad_cam_img = grad_cam_img / grad_cam_img.max()\n",
    "    # 可视化图像\n",
    "    b,g,r = cv2.split(grad_cam_img)\n",
    "    grad_cam_img = cv2.merge([r,g,b])\n",
    "    plt.imshow(grad_cam_img)\n",
    "    plt.show()\n",
    "    return grad_cam_img"
   ]
  },
  {
   "cell_type": "code",
   "execution_count": 18,
   "id": "17c1f7ef",
   "metadata": {},
   "outputs": [],
   "source": [
    "def pad(img_path):\n",
    "    img = cv2.imread(img_path)\n",
    "    imgSize = img.shape\n",
    "    top_size,bottom_size = (Max_shape_0-imgSize[0])//2,(Max_shape_0-imgSize[0])//2\n",
    "    left_size,right_size = (Max_shape_1-imgSize[1])//2,(Max_shape_1-imgSize[1])//2\n",
    "    if (imgSize[0] % 2) != 0:\n",
    "        top_size,bottom_size = (Max_shape_0-imgSize[0])//2,(Max_shape_0-imgSize[0])//2+1\n",
    "    if (imgSize[1] % 2) != 0:     \n",
    "        left_size,right_size = (Max_shape_1-imgSize[1])//2,(Max_shape_1-imgSize[1])//2+1\n",
    "    imgpad = cv2.copyMakeBorder(img,top_size,bottom_size,left_size,right_size,cv2.BORDER_CONSTANT,value=(0,0,0))\n",
    "    return imgpad"
   ]
  },
  {
   "cell_type": "code",
   "execution_count": 19,
   "id": "679500e2",
   "metadata": {},
   "outputs": [
    {
     "ename": "RuntimeError",
     "evalue": "Function AddmmBackward returned an invalid gradient at index 2 - got [1, 512] but expected shape compatible with [512, 512]",
     "output_type": "error",
     "traceback": [
      "\u001b[0;31m---------------------------------------------------------------------------\u001b[0m",
      "\u001b[0;31mRuntimeError\u001b[0m                              Traceback (most recent call last)",
      "\u001b[0;32m<ipython-input-19-04638e9a2ede>\u001b[0m in \u001b[0;36m<module>\u001b[0;34m\u001b[0m\n\u001b[1;32m     14\u001b[0m     \u001b[0mcam\u001b[0m \u001b[0;34m=\u001b[0m \u001b[0mGradCAM\u001b[0m\u001b[0;34m(\u001b[0m\u001b[0;34m)\u001b[0m\u001b[0;34m\u001b[0m\u001b[0;34m\u001b[0m\u001b[0m\n\u001b[1;32m     15\u001b[0m     \u001b[0;31m# 获取热力图\u001b[0m\u001b[0;34m\u001b[0m\u001b[0;34m\u001b[0m\u001b[0;34m\u001b[0m\u001b[0m\n\u001b[0;32m---> 16\u001b[0;31m     \u001b[0mheatmap\u001b[0m \u001b[0;34m=\u001b[0m \u001b[0mget_heatmap\u001b[0m\u001b[0;34m(\u001b[0m\u001b[0mcam\u001b[0m\u001b[0;34m,\u001b[0m \u001b[0minput_img\u001b[0m\u001b[0;34m)\u001b[0m\u001b[0;34m\u001b[0m\u001b[0;34m\u001b[0m\u001b[0m\n\u001b[0m\u001b[1;32m     17\u001b[0m \u001b[0;34m\u001b[0m\u001b[0m\n\u001b[1;32m     18\u001b[0m \u001b[0;34m\u001b[0m\u001b[0m\n",
      "\u001b[0;32m<ipython-input-16-22c3f4a4e87a>\u001b[0m in \u001b[0;36mget_heatmap\u001b[0;34m(model, img)\u001b[0m\n\u001b[1;32m      6\u001b[0m     \u001b[0mpre_class\u001b[0m \u001b[0;34m=\u001b[0m \u001b[0mtorch\u001b[0m\u001b[0;34m.\u001b[0m\u001b[0margmax\u001b[0m\u001b[0;34m(\u001b[0m\u001b[0mimg_pre\u001b[0m\u001b[0;34m,\u001b[0m \u001b[0mdim\u001b[0m\u001b[0;34m=\u001b[0m\u001b[0;34m-\u001b[0m\u001b[0;36m1\u001b[0m\u001b[0;34m)\u001b[0m\u001b[0;34m.\u001b[0m\u001b[0mitem\u001b[0m\u001b[0;34m(\u001b[0m\u001b[0;34m)\u001b[0m\u001b[0;34m\u001b[0m\u001b[0;34m\u001b[0m\u001b[0m\n\u001b[1;32m      7\u001b[0m     \u001b[0;31m# 获取相对于模型参数的输出梯度\u001b[0m\u001b[0;34m\u001b[0m\u001b[0;34m\u001b[0m\u001b[0;34m\u001b[0m\u001b[0m\n\u001b[0;32m----> 8\u001b[0;31m     \u001b[0mimg_pre\u001b[0m\u001b[0;34m[\u001b[0m\u001b[0;34m:\u001b[0m\u001b[0;34m,\u001b[0m \u001b[0mpre_class\u001b[0m\u001b[0;34m]\u001b[0m\u001b[0;34m.\u001b[0m\u001b[0mbackward\u001b[0m\u001b[0;34m(\u001b[0m\u001b[0;34m)\u001b[0m\u001b[0;34m\u001b[0m\u001b[0;34m\u001b[0m\u001b[0m\n\u001b[0m\u001b[1;32m      9\u001b[0m     \u001b[0;31m# 获取模型的梯度\u001b[0m\u001b[0;34m\u001b[0m\u001b[0;34m\u001b[0m\u001b[0;34m\u001b[0m\u001b[0m\n\u001b[1;32m     10\u001b[0m     \u001b[0mgradients\u001b[0m \u001b[0;34m=\u001b[0m \u001b[0mmodel\u001b[0m\u001b[0;34m.\u001b[0m\u001b[0mget_activations_gradient\u001b[0m\u001b[0;34m(\u001b[0m\u001b[0;34m)\u001b[0m\u001b[0;34m\u001b[0m\u001b[0;34m\u001b[0m\u001b[0m\n",
      "\u001b[0;32m~/jupyter_env/lib/python3.6/site-packages/torch/_tensor.py\u001b[0m in \u001b[0;36mbackward\u001b[0;34m(self, gradient, retain_graph, create_graph, inputs)\u001b[0m\n\u001b[1;32m    253\u001b[0m                 \u001b[0mcreate_graph\u001b[0m\u001b[0;34m=\u001b[0m\u001b[0mcreate_graph\u001b[0m\u001b[0;34m,\u001b[0m\u001b[0;34m\u001b[0m\u001b[0;34m\u001b[0m\u001b[0m\n\u001b[1;32m    254\u001b[0m                 inputs=inputs)\n\u001b[0;32m--> 255\u001b[0;31m         \u001b[0mtorch\u001b[0m\u001b[0;34m.\u001b[0m\u001b[0mautograd\u001b[0m\u001b[0;34m.\u001b[0m\u001b[0mbackward\u001b[0m\u001b[0;34m(\u001b[0m\u001b[0mself\u001b[0m\u001b[0;34m,\u001b[0m \u001b[0mgradient\u001b[0m\u001b[0;34m,\u001b[0m \u001b[0mretain_graph\u001b[0m\u001b[0;34m,\u001b[0m \u001b[0mcreate_graph\u001b[0m\u001b[0;34m,\u001b[0m \u001b[0minputs\u001b[0m\u001b[0;34m=\u001b[0m\u001b[0minputs\u001b[0m\u001b[0;34m)\u001b[0m\u001b[0;34m\u001b[0m\u001b[0;34m\u001b[0m\u001b[0m\n\u001b[0m\u001b[1;32m    256\u001b[0m \u001b[0;34m\u001b[0m\u001b[0m\n\u001b[1;32m    257\u001b[0m     \u001b[0;32mdef\u001b[0m \u001b[0mregister_hook\u001b[0m\u001b[0;34m(\u001b[0m\u001b[0mself\u001b[0m\u001b[0;34m,\u001b[0m \u001b[0mhook\u001b[0m\u001b[0;34m)\u001b[0m\u001b[0;34m:\u001b[0m\u001b[0;34m\u001b[0m\u001b[0;34m\u001b[0m\u001b[0m\n",
      "\u001b[0;32m~/jupyter_env/lib/python3.6/site-packages/torch/autograd/__init__.py\u001b[0m in \u001b[0;36mbackward\u001b[0;34m(tensors, grad_tensors, retain_graph, create_graph, grad_variables, inputs)\u001b[0m\n\u001b[1;32m    147\u001b[0m     Variable._execution_engine.run_backward(\n\u001b[1;32m    148\u001b[0m         \u001b[0mtensors\u001b[0m\u001b[0;34m,\u001b[0m \u001b[0mgrad_tensors_\u001b[0m\u001b[0;34m,\u001b[0m \u001b[0mretain_graph\u001b[0m\u001b[0;34m,\u001b[0m \u001b[0mcreate_graph\u001b[0m\u001b[0;34m,\u001b[0m \u001b[0minputs\u001b[0m\u001b[0;34m,\u001b[0m\u001b[0;34m\u001b[0m\u001b[0;34m\u001b[0m\u001b[0m\n\u001b[0;32m--> 149\u001b[0;31m         allow_unreachable=True, accumulate_grad=True)  # allow_unreachable flag\n\u001b[0m\u001b[1;32m    150\u001b[0m \u001b[0;34m\u001b[0m\u001b[0m\n\u001b[1;32m    151\u001b[0m \u001b[0;34m\u001b[0m\u001b[0m\n",
      "\u001b[0;31mRuntimeError\u001b[0m: Function AddmmBackward returned an invalid gradient at index 2 - got [1, 512] but expected shape compatible with [512, 512]"
     ]
    },
    {
     "data": {
      "text/plain": [
       "<Figure size 1440x1440 with 0 Axes>"
      ]
     },
     "metadata": {},
     "output_type": "display_data"
    }
   ],
   "source": [
    "plt.figure(figsize=(20,20))\n",
    "for i in range(2,3):\n",
    "    imgdir = imgdirlist[i]\n",
    "    imgname = imgnamelist[i]\n",
    "    img_path = imgdir + imgname + \".tif\"\n",
    "    img = pad(img_path)\n",
    "\n",
    "    # 将图片处理成模型可以预测的形式\n",
    "    transform = transforms.Compose([transforms.ToTensor()])\n",
    "    input_img = transform(img).unsqueeze(0).to(device)\n",
    "#     for name, layer in model.named_modules():\n",
    "#         layer.register_forward_hook(get_activation(name))\n",
    "        \n",
    "    cam = GradCAM()\n",
    "    # 获取热力图\n",
    "    heatmap = get_heatmap(cam, input_img)\n",
    "    \n",
    "\n",
    "    # 并显示结果\n",
    "    plt.subplot(2,4,i+1)\n",
    "    plt.imshow(merge_heatmap_image(heatmap, img_path), cmap='gray')\n",
    "plt.show()"
   ]
  },
  {
   "cell_type": "code",
   "execution_count": null,
   "id": "f2e49109",
   "metadata": {},
   "outputs": [],
   "source": []
  }
 ],
 "metadata": {
  "kernelspec": {
   "display_name": "Python 3",
   "language": "python",
   "name": "python3"
  },
  "language_info": {
   "codemirror_mode": {
    "name": "ipython",
    "version": 3
   },
   "file_extension": ".py",
   "mimetype": "text/x-python",
   "name": "python",
   "nbconvert_exporter": "python",
   "pygments_lexer": "ipython3",
   "version": "3.6.12"
  }
 },
 "nbformat": 4,
 "nbformat_minor": 5
}
