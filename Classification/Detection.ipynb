{
 "cells": [
  {
   "cell_type": "code",
   "execution_count": 7,
   "metadata": {},
   "outputs": [],
   "source": [
    "import cv2,os,math\n",
    "from PIL import Image\n",
    "import numpy as np\n",
    "from matplotlib import pyplot as plt\n",
    "from tqdm import tqdm_notebook as tqdm\n",
    "\n",
    "from sklearn.model_selection import train_test_split\n",
    "from sklearn.metrics import roc_auc_score,precision_score,accuracy_score,roc_curve\n",
    "import torch\n",
    "import torch.nn as nn\n",
    "from torchvision import transforms\n",
    "import torchvision.models as models"
   ]
  },
  {
   "cell_type": "code",
   "execution_count": 8,
   "metadata": {},
   "outputs": [
    {
     "name": "stdout",
     "output_type": "stream",
     "text": [
      "torch.device(cuda)\n",
      "torch.cuda.device_count():  4\n",
      "Tesla V100-SXM2-16GB\n",
      "Tesla V100-SXM2-16GB\n",
      "Tesla V100-SXM2-16GB\n",
      "Tesla V100-SXM2-16GB\n",
      "torch.cuda.current_device() 0\n"
     ]
    }
   ],
   "source": [
    "if torch.cuda.is_available():\n",
    "    device = torch.device(\"cuda\")\n",
    "    print(\"torch.device(cuda)\")\n",
    "    print(\"torch.cuda.device_count(): \", torch.cuda.device_count())\n",
    "    for i in range(torch.cuda.device_count()):\n",
    "        print(torch.cuda.get_device_name())\n",
    "    print(\"torch.cuda.current_device()\", torch.cuda.current_device())\n",
    "else:\n",
    "    device = torch.device(\"cpu\")\n",
    "    print(\"torch.device(cpu)\")"
   ]
  },
  {
   "cell_type": "markdown",
   "metadata": {
    "id": "aJjxv_T_DNKk"
   },
   "source": [
    "# データの読み込み"
   ]
  },
  {
   "cell_type": "code",
   "execution_count": 9,
   "metadata": {},
   "outputs": [
    {
     "name": "stdout",
     "output_type": "stream",
     "text": [
      "Data_01.shape: (3219, 100, 100, 3)\n",
      "Data_02Nami.shape: (3219, 100, 100, 3)\n",
      "Data_01.shape: (3219, 100, 100, 3)\n",
      "Data_02Nami.shape: (3219, 100, 100, 3)\n"
     ]
    }
   ],
   "source": [
    "Data_01=np.load(\"results2022/01x40_padded_3219.npy\",allow_pickle=True)\n",
    "Data_02Nami=np.load(\"results2022/02x40_padded.npy\",allow_pickle=True)\n",
    "print(\"Data_01.shape:\", Data_01.shape)\n",
    "print(\"Data_02Nami.shape:\", Data_02Nami.shape)\n",
    "\n",
    "DataLabel_01 = np.zeros(len(Data_01), dtype=np.int32)\n",
    "DataLabel_02Nami = np.ones(len(Data_02Nami), dtype=np.int32)\n",
    "print(\"Data_01.shape:\", Data_01.shape)\n",
    "print(\"Data_02Nami.shape:\", Data_02Nami.shape)\n",
    "\n",
    "Data = np.concatenate((Data_01, Data_02Nami), axis = 0)\n",
    "Label = np.concatenate((DataLabel_01, DataLabel_02Nami), axis = 0)"
   ]
  },
  {
   "cell_type": "markdown",
   "metadata": {
    "id": "qyvCoE-HDNKm"
   },
   "source": [
    "# データ前処理"
   ]
  },
  {
   "cell_type": "code",
   "execution_count": 10,
   "metadata": {
    "executionInfo": {
     "elapsed": 290,
     "status": "ok",
     "timestamp": 1627023529885,
     "user": {
      "displayName": "Yicheng Wang",
      "photoUrl": "https://lh3.googleusercontent.com/a-/AOh14GgziKLn_im8Zl7A_SAzLLRm66nioH7fG0xuCYpJYg=s64",
      "userId": "10487961361854797289"
     },
     "user_tz": -540
    },
    "id": "Fh058iRlDNKm"
   },
   "outputs": [],
   "source": [
    "class cell_dataset(torch.utils.data.Dataset):\n",
    "    def __init__(self, x, y):\n",
    "        self.x = x\n",
    "        self.y = y\n",
    "        self.transform = transforms.ToTensor()\n",
    "    def __len__(self):\n",
    "        return len(self.x)\n",
    "    def __getitem__(self, idx):\n",
    "        return self.transform(self.x[idx]), torch.tensor(self.y[idx], dtype=torch.long)\n",
    "\n",
    "\n",
    "dataloader = cell_dataset(Data, Label)"
   ]
  },
  {
   "cell_type": "code",
   "execution_count": 11,
   "metadata": {
    "executionInfo": {
     "elapsed": 325,
     "status": "ok",
     "timestamp": 1627023533467,
     "user": {
      "displayName": "Yicheng Wang",
      "photoUrl": "https://lh3.googleusercontent.com/a-/AOh14GgziKLn_im8Zl7A_SAzLLRm66nioH7fG0xuCYpJYg=s64",
      "userId": "10487961361854797289"
     },
     "user_tz": -540
    },
    "id": "xK5exWXUDNKn"
   },
   "outputs": [],
   "source": [
    "batch_size = 128\n",
    "\n",
    "test_size = int(len(dataloader)*0.1)\n",
    "trainval_size = len(dataloader)-test_size\n",
    "train_size = int(0.8*trainval_size)\n",
    "val_size = trainval_size-train_size\n",
    "\n",
    "trainval_data, test_data = torch.utils.data.random_split(dataloader, [trainval_size, test_size])\n",
    "train_data, val_data = torch.utils.data.random_split(trainval_data, [train_size, val_size])\n",
    "dataloader_train = torch.utils.data.DataLoader(train_data, batch_size=batch_size, shuffle=True)\n",
    "dataloader_valid = torch.utils.data.DataLoader(val_data, batch_size=batch_size, shuffle=True)\n",
    "dataloader_test = torch.utils.data.DataLoader(test_data, batch_size=batch_size, shuffle=True)"
   ]
  },
  {
   "cell_type": "code",
   "execution_count": 12,
   "metadata": {},
   "outputs": [
    {
     "name": "stdout",
     "output_type": "stream",
     "text": [
      "Total number of train :  4636\n",
      "train_class_0:  2268\n",
      "train_class_1:  2368\n",
      "\n",
      "Total number of val :  1159\n",
      "val_class_0:  604\n",
      "val_class_1:  555\n",
      "\n",
      "Total number of val :  643\n",
      "test_class_0:  347\n",
      "test_class_1:  296\n"
     ]
    }
   ],
   "source": [
    "train_data_01 = 0\n",
    "for i in range(train_size):\n",
    "    train_data_01+=train_data[i][1].item()\n",
    "print(\"Total number of train : \", train_size)\n",
    "print(\"train_class_0: \", train_size-train_data_01)\n",
    "print(\"train_class_1: \", train_data_01)\n",
    "\n",
    "val_data_01 = 0\n",
    "for i in range(val_size):\n",
    "    val_data_01+=val_data[i][1].item()\n",
    "print(\"\\nTotal number of val : \", val_size)\n",
    "print(\"val_class_0: \", val_size-val_data_01)\n",
    "print(\"val_class_1: \", val_data_01)\n",
    "\n",
    "test_data_01 = 0\n",
    "for i in range(test_size):\n",
    "    test_data_01+=test_data[i][1].item()\n",
    "print(\"\\nTotal number of val : \", test_size)\n",
    "print(\"test_class_0: \", test_size-test_data_01)\n",
    "print(\"test_class_1: \", test_data_01)"
   ]
  },
  {
   "cell_type": "markdown",
   "metadata": {
    "id": "-KBoEbEMDNKo"
   },
   "source": [
    "# Model development"
   ]
  },
  {
   "cell_type": "code",
   "execution_count": 47,
   "metadata": {},
   "outputs": [],
   "source": [
    "class Feactor(nn.Module):\n",
    "    def __init__(self, image_size):\n",
    "        super(Feactor,self).__init__()\n",
    "        self.image_size = image_size\n",
    "        \n",
    "        self.pre_layer = nn.Sequential(\n",
    "            nn.Conv2d(3,64,kernel_size=9,stride=1,padding=4),\n",
    "            nn.ReLU()\n",
    "        )\n",
    "        self.residual_layer = nn.Sequential(\n",
    "            ResidualBlock(64),\n",
    "            ResidualBlock(64),\n",
    "            ResidualBlock(64),\n",
    "#             ResidualBlock(64),\n",
    "        )\n",
    "        self.last_layer = nn.Sequential(\n",
    "            nn.Conv2d(64,16,kernel_size=3,stride=1,padding=1),\n",
    "            nn.BatchNorm2d(16),\n",
    "            nn.ReLU(),\n",
    "            nn.Conv2d(16,1,kernel_size=3,stride=1,padding=1),\n",
    "            nn.BatchNorm2d(1),\n",
    "        )\n",
    "        self.dense_layer=nn.Sequential(\n",
    "#             nn.AdaptiveAvgPool2d((10)),\n",
    "            nn.Flatten(),\n",
    "            nn.Linear(1*100*100, 2),\n",
    "        )\n",
    "\n",
    "    \n",
    "    nn.Linear(5*5*128, 1024),\n",
    "    def forward(self, input_image):\n",
    "        pre = self.pre_layer(input_image)\n",
    "        res = self.residual_layer(pre)\n",
    "        last = self.last_layer(res)\n",
    "        output = self.dense_layer(last)\n",
    "        return output\n",
    "    \n",
    "    \n",
    "class ResidualBlock(nn.Module):\n",
    "    def __init__(self, input_channel):\n",
    "        super(ResidualBlock,self).__init__()\n",
    "        self.residualblock = nn.Sequential(\n",
    "            nn.Conv2d(input_channel,input_channel,kernel_size=3,stride=1,padding=1),\n",
    "            nn.BatchNorm2d(input_channel),\n",
    "            nn.ReLU(),\n",
    "            nn.Conv2d(input_channel,input_channel,kernel_size=3,stride=1,padding=1),\n",
    "            nn.BatchNorm2d(input_channel),\n",
    "            nn.ReLU(),\n",
    "            nn.Conv2d(input_channel,input_channel,kernel_size=3,stride=1,padding=1),\n",
    "            nn.BatchNorm2d(input_channel),\n",
    "        )\n",
    "    def forward(self, x):\n",
    "        residual = self.residualblock(x)\n",
    "        return x + residual"
   ]
  },
  {
   "cell_type": "code",
   "execution_count": 48,
   "metadata": {},
   "outputs": [
    {
     "name": "stdout",
     "output_type": "stream",
     "text": [
      "torch.Size([1, 2])\n"
     ]
    }
   ],
   "source": [
    "image_size = 100\n",
    "ngpu = 4\n",
    "model = Feactor(image_size).to(device)\n",
    "if (device.type == 'cuda') and (ngpu > 1):\n",
    "    model = nn.DataParallel(model, list(range(ngpu)))\n",
    "test_input = torch.ones(1,3,image_size,image_size).to(device)\n",
    "print(model(test_input).size())"
   ]
  },
  {
   "cell_type": "code",
   "execution_count": 49,
   "metadata": {
    "id": "xs6IXgvsDNKp",
    "scrolled": false
   },
   "outputs": [],
   "source": [
    "# model = torch.load(\"Feactor.pkl\")\n",
    "\n",
    "# #Freeze model weights\n",
    "# for param in model.parameters():\n",
    "#     param.requires_grad = True\n",
    "# for param in model.fc.parameters():\n",
    "#     param.requires_grad = True"
   ]
  },
  {
   "cell_type": "code",
   "execution_count": 50,
   "metadata": {},
   "outputs": [],
   "source": [
    "model.avgpool = nn.AdaptiveAvgPool2d(1)\n",
    "loss_func = nn.NLLLoss()\n",
    "\n",
    "weights = torch.tensor([(len(Data_01)+len(Data_02Nami))/len(Data_01), \n",
    "                        (len(Data_01)+len(Data_02Nami))/len(Data_02Nami)]).cuda()\n",
    "loss_function = nn.CrossEntropyLoss(weight=weights)\n",
    "\n",
    "optimizer = torch.optim.Adam(model.parameters(), lr=0.1)  # 定义优化器\n",
    "scheduler = torch.optim.lr_scheduler.ExponentialLR(optimizer, gamma=0.99) # 定义衰减策略"
   ]
  },
  {
   "cell_type": "code",
   "execution_count": 51,
   "metadata": {},
   "outputs": [],
   "source": [
    "losstrain=[]\n",
    "lossvalid=[]\n",
    "Accuracytrain=[]\n",
    "Accuracyvalid=[]"
   ]
  },
  {
   "cell_type": "code",
   "execution_count": 53,
   "metadata": {
    "scrolled": true
   },
   "outputs": [
    {
     "name": "stdout",
     "output_type": "stream",
     "text": [
      "EPOCH: 0, Train [Loss: 0.568, Accuracy: 0.741], Valid [Loss: 0.768, Accuracy: 0.517]\n",
      "EPOCH: 1, Train [Loss: 0.564, Accuracy: 0.725], Valid [Loss: 0.518, Accuracy: 0.746]\n",
      "EPOCH: 2, Train [Loss: 0.525, Accuracy: 0.748], Valid [Loss: 0.506, Accuracy: 0.728]\n",
      "EPOCH: 3, Train [Loss: 0.567, Accuracy: 0.738], Valid [Loss: 0.667, Accuracy: 0.593]\n",
      "EPOCH: 4, Train [Loss: 1.822, Accuracy: 0.635], Valid [Loss: 2.274, Accuracy: 0.521]\n",
      "EPOCH: 5, Train [Loss: 1.310, Accuracy: 0.638], Valid [Loss: 1.122, Accuracy: 0.531]\n",
      "EPOCH: 6, Train [Loss: 0.674, Accuracy: 0.684], Valid [Loss: 0.607, Accuracy: 0.772]\n",
      "EPOCH: 7, Train [Loss: 0.542, Accuracy: 0.749], Valid [Loss: 0.595, Accuracy: 0.723]\n",
      "EPOCH: 8, Train [Loss: 0.564, Accuracy: 0.728], Valid [Loss: 0.577, Accuracy: 0.727]\n",
      "EPOCH: 9, Train [Loss: 0.516, Accuracy: 0.753], Valid [Loss: 0.516, Accuracy: 0.756]\n",
      "EPOCH: 10, Train [Loss: 0.722, Accuracy: 0.642], Valid [Loss: 0.769, Accuracy: 0.763]\n",
      "EPOCH: 11, Train [Loss: 0.548, Accuracy: 0.733], Valid [Loss: 0.538, Accuracy: 0.776]\n",
      "EPOCH: 12, Train [Loss: 0.551, Accuracy: 0.743], Valid [Loss: 0.579, Accuracy: 0.709]\n",
      "EPOCH: 13, Train [Loss: 0.514, Accuracy: 0.767], Valid [Loss: 0.525, Accuracy: 0.770]\n",
      "EPOCH: 14, Train [Loss: 0.511, Accuracy: 0.763], Valid [Loss: 0.528, Accuracy: 0.758]\n",
      "EPOCH: 15, Train [Loss: 0.487, Accuracy: 0.769], Valid [Loss: 0.537, Accuracy: 0.777]\n",
      "EPOCH: 16, Train [Loss: 0.504, Accuracy: 0.766], Valid [Loss: 0.529, Accuracy: 0.769]\n",
      "EPOCH: 17, Train [Loss: 0.487, Accuracy: 0.767], Valid [Loss: 0.511, Accuracy: 0.755]\n",
      "EPOCH: 18, Train [Loss: 0.489, Accuracy: 0.774], Valid [Loss: 0.519, Accuracy: 0.743]\n",
      "EPOCH: 19, Train [Loss: 0.526, Accuracy: 0.744], Valid [Loss: 0.491, Accuracy: 0.782]\n",
      "EPOCH: 20, Train [Loss: 0.484, Accuracy: 0.783], Valid [Loss: 0.488, Accuracy: 0.779]\n",
      "EPOCH: 21, Train [Loss: 0.529, Accuracy: 0.748], Valid [Loss: 0.487, Accuracy: 0.770]\n",
      "EPOCH: 22, Train [Loss: 0.484, Accuracy: 0.773], Valid [Loss: 0.515, Accuracy: 0.767]\n",
      "EPOCH: 23, Train [Loss: 0.496, Accuracy: 0.775], Valid [Loss: 0.533, Accuracy: 0.754]\n",
      "EPOCH: 24, Train [Loss: 0.511, Accuracy: 0.767], Valid [Loss: 0.511, Accuracy: 0.766]\n",
      "EPOCH: 25, Train [Loss: 1.220, Accuracy: 0.619], Valid [Loss: 0.865, Accuracy: 0.693]\n",
      "EPOCH: 26, Train [Loss: 0.640, Accuracy: 0.722], Valid [Loss: 0.530, Accuracy: 0.742]\n",
      "EPOCH: 27, Train [Loss: 0.502, Accuracy: 0.767], Valid [Loss: 0.516, Accuracy: 0.769]\n",
      "EPOCH: 28, Train [Loss: 0.492, Accuracy: 0.773], Valid [Loss: 0.502, Accuracy: 0.764]\n",
      "EPOCH: 29, Train [Loss: 0.484, Accuracy: 0.772], Valid [Loss: 0.504, Accuracy: 0.781]\n",
      "EPOCH: 30, Train [Loss: 0.495, Accuracy: 0.768], Valid [Loss: 0.545, Accuracy: 0.765]\n",
      "EPOCH: 31, Train [Loss: 0.526, Accuracy: 0.753], Valid [Loss: 0.594, Accuracy: 0.718]\n",
      "EPOCH: 32, Train [Loss: 0.566, Accuracy: 0.763], Valid [Loss: 0.589, Accuracy: 0.652]\n",
      "EPOCH: 33, Train [Loss: 2.397, Accuracy: 0.610], Valid [Loss: 0.561, Accuracy: 0.726]\n",
      "EPOCH: 34, Train [Loss: 0.567, Accuracy: 0.731], Valid [Loss: 0.513, Accuracy: 0.726]\n",
      "EPOCH: 35, Train [Loss: 0.569, Accuracy: 0.722], Valid [Loss: 0.579, Accuracy: 0.762]\n",
      "EPOCH: 36, Train [Loss: 0.543, Accuracy: 0.743], Valid [Loss: 0.531, Accuracy: 0.735]\n",
      "EPOCH: 37, Train [Loss: 0.489, Accuracy: 0.764], Valid [Loss: 0.526, Accuracy: 0.775]\n",
      "EPOCH: 38, Train [Loss: 0.491, Accuracy: 0.768], Valid [Loss: 0.460, Accuracy: 0.780]\n",
      "EPOCH: 39, Train [Loss: 0.489, Accuracy: 0.770], Valid [Loss: 0.499, Accuracy: 0.768]\n",
      "EPOCH: 40, Train [Loss: 0.576, Accuracy: 0.720], Valid [Loss: 0.835, Accuracy: 0.748]\n",
      "EPOCH: 41, Train [Loss: 0.877, Accuracy: 0.628], Valid [Loss: 0.814, Accuracy: 0.606]\n",
      "EPOCH: 42, Train [Loss: 0.818, Accuracy: 0.614], Valid [Loss: 1.369, Accuracy: 0.755]\n",
      "EPOCH: 43, Train [Loss: 0.795, Accuracy: 0.647], Valid [Loss: 0.672, Accuracy: 0.560]\n",
      "EPOCH: 44, Train [Loss: 1.013, Accuracy: 0.664], Valid [Loss: 0.710, Accuracy: 0.548]\n",
      "EPOCH: 45, Train [Loss: 0.654, Accuracy: 0.668], Valid [Loss: 0.623, Accuracy: 0.746]\n",
      "EPOCH: 46, Train [Loss: 0.641, Accuracy: 0.681], Valid [Loss: 0.588, Accuracy: 0.738]\n",
      "EPOCH: 47, Train [Loss: 0.595, Accuracy: 0.695], Valid [Loss: 0.573, Accuracy: 0.726]\n",
      "EPOCH: 48, Train [Loss: 0.631, Accuracy: 0.707], Valid [Loss: 1.301, Accuracy: 0.478]\n",
      "EPOCH: 49, Train [Loss: 1.320, Accuracy: 0.630], Valid [Loss: 1.392, Accuracy: 0.538]\n"
     ]
    }
   ],
   "source": [
    "n_epoches = 50\n",
    "for epoch in range(n_epoches):\n",
    "    losses_train = []\n",
    "    losses_valid = []\n",
    "    # Train\n",
    "    optimizer.step()\n",
    "    model.train()\n",
    "    n_train = 0\n",
    "    acc_train = 0\n",
    "    for x, y in dataloader_train:\n",
    "        n_train += y.size()[0]\n",
    "        model.zero_grad()  # 勾配の初期化\n",
    "        x = x.to(device)  # テンソルをGPUに移動\n",
    "        y = y.to(device)\n",
    "        output = model.forward(x)  # 順伝播\n",
    "        loss = loss_function(output, y)  # 誤差(クロスエントロピー誤差関数)の計算\n",
    "        loss.backward()  # 誤差の逆伝播\n",
    "        optimizer.step()  # パラメータの更新\n",
    "        pred = output.argmax(1)  # 最大値を取るラベルを予測ラベルとする\n",
    "        acc_train += (pred == y).float().sum().item()\n",
    "        losses_train.append(loss.tolist())\n",
    "    # Evaluate\n",
    "    model.eval()\n",
    "    n_val = 0\n",
    "    acc_val = 0\n",
    "    for x, y in dataloader_valid:\n",
    "        n_val += y.size()[0]\n",
    "        x = x.to(device)  # テンソルをGPUに移動\n",
    "        y = y.to(device)\n",
    "        output = model.forward(x)  # 順伝播\n",
    "        loss = loss_function(output, y)  # 誤差(クロスエントロピー誤差関数)の計算\n",
    "        pred = output.argmax(1)  # 最大値を取るラベルを予測ラベルとする\n",
    "        acc_val += (pred == y).float().sum().item()\n",
    "        losses_valid.append(loss.tolist())\n",
    "    scheduler.step()\n",
    "    # Visualize loss & accuracy    \n",
    "    losstrain.append(np.mean(losses_train))\n",
    "    Accuracytrain.append(acc_train/n_train)\n",
    "    lossvalid.append(np.mean(losses_train))\n",
    "    Accuracyvalid.append(acc_val/n_val)\n",
    "    print('EPOCH: {}, Train [Loss: {:.3f}, Accuracy: {:.3f}], Valid [Loss: {:.3f}, Accuracy: {:.3f}]'\n",
    "          .format(epoch,np.mean(losses_train),acc_train/n_train,np.mean(losses_valid),acc_val/n_val))"
   ]
  },
  {
   "cell_type": "code",
   "execution_count": 54,
   "metadata": {},
   "outputs": [
    {
     "data": {
      "image/png": "[encoded data removed]",
      "text/plain": [
       "<Figure size 432x288 with 1 Axes>"
      ]
     },
     "metadata": {
      "needs_background": "light"
     },
     "output_type": "display_data"
    },
    {
     "data": {
      "text/plain": [
       "<Figure size 432x288 with 0 Axes>"
      ]
     },
     "metadata": {},
     "output_type": "display_data"
    }
   ],
   "source": [
    "# train processing plot\n",
    "n_epoches = 100\n",
    "epochs=range(1,n_epoches+1)\n",
    "plt.ylim(0,1.0)\n",
    "plt.plot(epochs,Accuracytrain,'b',label='Training accuracy')  \n",
    "plt.plot(epochs, Accuracyvalid,'r',label='Validation accuracy')\n",
    "plt.title('Training and Validation accuracy')\n",
    "plt.legend()\n",
    "plt.figure()\n",
    "plt.show()"
   ]
  },
  {
   "cell_type": "markdown",
   "metadata": {},
   "source": [
    "# test with testdata"
   ]
  },
  {
   "cell_type": "code",
   "execution_count": 55,
   "metadata": {},
   "outputs": [
    {
     "name": "stdout",
     "output_type": "stream",
     "text": [
      "accuracy_score: 0.557\n"
     ]
    }
   ],
   "source": [
    "# Test\n",
    "total = 0\n",
    "acc_test = 0\n",
    "y_ture = []\n",
    "y_pred = []\n",
    "out_pred = []\n",
    "\n",
    "model.eval()\n",
    "for x, y in dataloader_test:\n",
    "    total += y.size()[0]\n",
    "    x = x.to(device)\n",
    "    y = y.to(device)\n",
    "    output = model(x)\n",
    "    pred = output.argmax(1)\n",
    "    acc_test += (pred == y).float().sum().item()\n",
    "#     for i in range(y.size()[0]):\n",
    "#         y_pred.append(pred[i])\n",
    "#         y_ture.append(y[i])\n",
    "#         out_pred.append(output[i,1])\n",
    "\n",
    "\n",
    "\n",
    "print('accuracy_score: {:.3f}'.format(acc_test/total))\n",
    "# y_ture = np.array(y_ture)\n",
    "# y_pred = np.array(y_pred)\n",
    "# out_pred = np.array(out_pred)\n",
    "# print(\"total_test: {:}\" .format(total))\n",
    "# print('accuracy_score: {:.3f}'.format(accuracy_score(y_ture, y_pred)))\n",
    "# print('precision_score: {:.3f}'.format(precision_score(y_ture, y_pred)))\n",
    "# print('roc_auc_score: {:.3f}'.format(roc_auc_score(y_ture, out_pred)))\n",
    "\n",
    "# fpr, tpr, thresholds = roc_curve(y_true, out_pred,drop_intermediate=True)\n",
    "# plt.plot(fpr, tpr, marker='.')\n",
    "# plt.xlabel('FPR: False positive rate')\n",
    "# plt.ylabel('TPR: True positive rate')\n",
    "# plt.grid()"
   ]
  },
  {
   "cell_type": "markdown",
   "metadata": {},
   "source": [
    "# Feature Detection"
   ]
  },
  {
   "cell_type": "code",
   "execution_count": 56,
   "metadata": {},
   "outputs": [],
   "source": [
    "# 定义钩子函数，获取指定层名称的特征\n",
    "feature_activation = {} # 保存获取的输出\n",
    "def get_activation(name):\n",
    "    def hook(model, input, output):\n",
    "        feature_activation[name] = output.detach()\n",
    "    return hook"
   ]
  },
  {
   "cell_type": "code",
   "execution_count": 57,
   "metadata": {},
   "outputs": [],
   "source": [
    "def predict(model, input_img, label):\n",
    "    transform = transforms.Compose([transforms.ToTensor()])\n",
    "    input_tensor = transform(input_img).unsqueeze(0).to(device)\n",
    "    output = model(input_tensor)\n",
    "    y = output.argmax(1).cpu().item()\n",
    "    return y==label, y\n",
    "        \n",
    "def get_feature(model, input_img, target_layer):\n",
    "    for name, layer in model.named_modules():\n",
    "        layer.register_forward_hook(get_activation(name))\n",
    "    transform = transforms.Compose([transforms.ToTensor()])\n",
    "    input_tensor = transform(input_img).unsqueeze(0).to(device)\n",
    "    output = model(input_tensor)\n",
    "    # plot each layer result\n",
    "    for key in [target_layer]:\n",
    "        bn = feature_activation[key].cpu()\n",
    "    return bn[0,0,:,:]"
   ]
  },
  {
   "cell_type": "code",
   "execution_count": 94,
   "metadata": {},
   "outputs": [
    {
     "data": {
      "image/png": "[encoded data removed]",
      "text/plain": [
       "<Figure size 432x288 with 1 Axes>"
      ]
     },
     "metadata": {
      "needs_background": "light"
     },
     "output_type": "display_data"
    },
    {
     "name": "stdout",
     "output_type": "stream",
     "text": [
      "max: 7.469, min: 1.150\n",
      "max: 255, min: 39\n"
     ]
    },
    {
     "data": {
      "image/png": "[encoded data removed]",
      "text/plain": [
       "<Figure size 432x288 with 1 Axes>"
      ]
     },
     "metadata": {
      "needs_background": "light"
     },
     "output_type": "display_data"
    }
   ],
   "source": [
    "target_layers = [\"module.last_layer.3\"]\n",
    "label = 1\n",
    "\n",
    "if label == 1:\n",
    "    img = Data_02Nami[1]\n",
    "else:\n",
    "    img = Data_01[1]\n",
    "\n",
    "for name, layer in model.named_modules():\n",
    "        layer.register_forward_hook(get_activation(name))\n",
    "transform = transforms.Compose([transforms.ToTensor()])\n",
    "input_tensor = transform(img).unsqueeze(0).to(device)\n",
    "output = model(input_tensor)\n",
    "y = output.argmax(1).cpu().item()\n",
    "plt.title(y==label)\n",
    "plt.imshow(img/np.amax(img))\n",
    "plt.axis(\"off\")\n",
    "plt.show()\n",
    "\n",
    "i=1\n",
    "for key in target_layers:\n",
    "    bn = feature_activation[key].cpu()[0,0,:,:]\n",
    "    print('max: {:.3f}, min: {:.3f}'.format(torch.amax(bn),torch.amin(bn)))\n",
    "    bn = (bn*(255/torch.amax(bn))).to(torch.int64)\n",
    "    print('max: {:}, min: {:}'.format(torch.amax(bn),torch.amin(bn)))\n",
    "    plt.title(key)\n",
    "    plt.axis(\"off\")\n",
    "    plt.imshow(bn)\n",
    "    i+=1"
   ]
  },
  {
   "cell_type": "code",
   "execution_count": 86,
   "metadata": {},
   "outputs": [
    {
     "data": {
      "text/plain": [
       "tensor(1.5144)"
      ]
     },
     "execution_count": 86,
     "metadata": {},
     "output_type": "execute_result"
    }
   ],
   "source": [
    "bn[50,50]"
   ]
  },
  {
   "cell_type": "code",
   "execution_count": 78,
   "metadata": {},
   "outputs": [
    {
     "name": "stdout",
     "output_type": "stream",
     "text": [
      "module.pre_layer.0  :  torch.Size([1, 64, 100, 100])\n",
      "module.pre_layer.1  :  torch.Size([1, 64, 100, 100])\n",
      "module.pre_layer  :  torch.Size([1, 64, 100, 100])\n",
      "module.residual_layer.0.residualblock.0  :  torch.Size([1, 64, 100, 100])\n",
      "module.residual_layer.0.residualblock.1  :  torch.Size([1, 64, 100, 100])\n",
      "module.residual_layer.0.residualblock.2  :  torch.Size([1, 64, 100, 100])\n",
      "module.residual_layer.0.residualblock.3  :  torch.Size([1, 64, 100, 100])\n",
      "module.residual_layer.0.residualblock.4  :  torch.Size([1, 64, 100, 100])\n",
      "module.residual_layer.0.residualblock.5  :  torch.Size([1, 64, 100, 100])\n",
      "module.residual_layer.0.residualblock.6  :  torch.Size([1, 64, 100, 100])\n",
      "module.residual_layer.0.residualblock.7  :  torch.Size([1, 64, 100, 100])\n",
      "module.residual_layer.0.residualblock  :  torch.Size([1, 64, 100, 100])\n",
      "module.residual_layer.0  :  torch.Size([1, 64, 100, 100])\n",
      "module.residual_layer.1.residualblock.0  :  torch.Size([1, 64, 100, 100])\n",
      "module.residual_layer.1.residualblock.1  :  torch.Size([1, 64, 100, 100])\n",
      "module.residual_layer.1.residualblock.2  :  torch.Size([1, 64, 100, 100])\n",
      "module.residual_layer.1.residualblock.3  :  torch.Size([1, 64, 100, 100])\n",
      "module.residual_layer.1.residualblock.4  :  torch.Size([1, 64, 100, 100])\n",
      "module.residual_layer.1.residualblock.5  :  torch.Size([1, 64, 100, 100])\n",
      "module.residual_layer.1.residualblock.6  :  torch.Size([1, 64, 100, 100])\n",
      "module.residual_layer.1.residualblock.7  :  torch.Size([1, 64, 100, 100])\n",
      "module.residual_layer.1.residualblock  :  torch.Size([1, 64, 100, 100])\n",
      "module.residual_layer.1  :  torch.Size([1, 64, 100, 100])\n",
      "module.residual_layer.2.residualblock.0  :  torch.Size([1, 64, 100, 100])\n",
      "module.residual_layer.2.residualblock.1  :  torch.Size([1, 64, 100, 100])\n",
      "module.residual_layer.2.residualblock.2  :  torch.Size([1, 64, 100, 100])\n",
      "module.residual_layer.2.residualblock.3  :  torch.Size([1, 64, 100, 100])\n",
      "module.residual_layer.2.residualblock.4  :  torch.Size([1, 64, 100, 100])\n",
      "module.residual_layer.2.residualblock.5  :  torch.Size([1, 64, 100, 100])\n",
      "module.residual_layer.2.residualblock.6  :  torch.Size([1, 64, 100, 100])\n",
      "module.residual_layer.2.residualblock.7  :  torch.Size([1, 64, 100, 100])\n",
      "module.residual_layer.2.residualblock  :  torch.Size([1, 64, 100, 100])\n",
      "module.residual_layer.2  :  torch.Size([1, 64, 100, 100])\n",
      "module.residual_layer  :  torch.Size([1, 64, 100, 100])\n",
      "module.last_layer.0  :  torch.Size([1, 16, 100, 100])\n",
      "module.last_layer.1  :  torch.Size([1, 16, 100, 100])\n",
      "module.last_layer.2  :  torch.Size([1, 16, 100, 100])\n",
      "module.last_layer.3  :  torch.Size([1, 1, 100, 100])\n",
      "module.last_layer.4  :  torch.Size([1, 1, 100, 100])\n",
      "module.last_layer  :  torch.Size([1, 1, 100, 100])\n",
      "module.dense_layer.0  :  torch.Size([1, 10000])\n",
      "module.dense_layer.1  :  torch.Size([1, 2])\n",
      "module.dense_layer  :  torch.Size([1, 2])\n",
      "module  :  torch.Size([1, 2])\n",
      "  :  torch.Size([1, 2])\n"
     ]
    }
   ],
   "source": [
    "for key in feature_activation:\n",
    "    bn = feature_activation[key].cpu()\n",
    "    print(key,\" : \",bn.shape)"
   ]
  },
  {
   "cell_type": "code",
   "execution_count": null,
   "metadata": {},
   "outputs": [],
   "source": []
  },
  {
   "cell_type": "markdown",
   "metadata": {},
   "source": [
    "# save model"
   ]
  },
  {
   "cell_type": "code",
   "execution_count": 96,
   "metadata": {},
   "outputs": [],
   "source": [
    "# for param in model.parameters():\n",
    "#     param.requires_grad = True\n",
    "# torch.save(model,\"Feactor.pkl\")"
   ]
  },
  {
   "cell_type": "code",
   "execution_count": null,
   "metadata": {},
   "outputs": [],
   "source": []
  }
 ],
 "metadata": {
  "accelerator": "GPU",
  "colab": {
   "collapsed_sections": [],
   "name": "KIMIA_CNN.ipynb",
   "provenance": []
  },
  "kernelspec": {
   "display_name": "Python 3 (ipykernel)",
   "language": "python",
   "name": "python3"
  },
  "language_info": {
   "codemirror_mode": {
    "name": "ipython",
    "version": 3
   },
   "file_extension": ".py",
   "mimetype": "text/x-python",
   "name": "python",
   "nbconvert_exporter": "python",
   "pygments_lexer": "ipython3",
   "version": "3.7.13"
  },
  "toc": {
   "base_numbering": 1,
   "nav_menu": {},
   "number_sections": true,
   "sideBar": true,
   "skip_h1_title": false,
   "title_cell": "Table of Contents",
   "title_sidebar": "Contents",
   "toc_cell": false,
   "toc_position": {},
   "toc_section_display": true,
   "toc_window_display": false
  }
 },
 "nbformat": 4,
 "nbformat_minor": 1
}
