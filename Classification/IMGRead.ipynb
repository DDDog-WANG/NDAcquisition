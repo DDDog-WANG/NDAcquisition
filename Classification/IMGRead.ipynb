{
 "cells": [
  {
   "cell_type": "code",
   "execution_count": 1,
   "id": "72475bb6",
   "metadata": {},
   "outputs": [],
   "source": [
    "import cv2,os\n",
    "import numpy as np\n",
    "from tqdm import tqdm \n",
    "from matplotlib import pyplot as plt"
   ]
  },
  {
   "cell_type": "code",
   "execution_count": 6,
   "id": "4383a3ea",
   "metadata": {},
   "outputs": [
    {
     "data": {
      "text/plain": [
       "{'a': 1, 'b': 2}"
      ]
     },
     "execution_count": 6,
     "metadata": {},
     "output_type": "execute_result"
    }
   ],
   "source": [
    "tinydict = {'a': 1, 'b': 2}\n",
    "tinydict"
   ]
  },
  {
   "cell_type": "code",
   "execution_count": 7,
   "id": "76156b1c",
   "metadata": {},
   "outputs": [],
   "source": [
    "tinydict['b']=10"
   ]
  },
  {
   "cell_type": "code",
   "execution_count": 8,
   "id": "554e45d6",
   "metadata": {},
   "outputs": [
    {
     "data": {
      "text/plain": [
       "{'a': 1, 'b': 10}"
      ]
     },
     "execution_count": 8,
     "metadata": {},
     "output_type": "execute_result"
    }
   ],
   "source": [
    "tinydict"
   ]
  },
  {
   "cell_type": "markdown",
   "id": "85837501",
   "metadata": {},
   "source": [
    "# Read Path "
   ]
  },
  {
   "cell_type": "code",
   "execution_count": 2,
   "id": "a6ec0ab3",
   "metadata": {},
   "outputs": [],
   "source": [
    "root = \"../../Datasets/NDAcquisition/Cells/\"\n",
    "classes = [\"NDAcquisition-01\",\"NDAcquisition-01x40\",\"NDAcquisition-02Nami_x20\",\"NDAcquisition-02Nami_x40\"]\n",
    "path01x20 = root+classes[0]\n",
    "path02Namix20 = root+classes[2]\n",
    "path01x40 = root+classes[1]\n",
    "path02Namix40 = root+classes[3]"
   ]
  },
  {
   "cell_type": "code",
   "execution_count": 3,
   "id": "2f7b67c6",
   "metadata": {},
   "outputs": [
    {
     "name": "stdout",
     "output_type": "stream",
     "text": [
      "len(DataPath_01x20): 45723\n",
      "len(DataPath_02Namix20): 9096\n"
     ]
    }
   ],
   "source": [
    "DataPath_01x20=[]\n",
    "\n",
    "for root,dirs,files in os.walk(path01x20):\n",
    "    for file_name in files:\n",
    "        path = os.path.join(root,file_name)\n",
    "        label = os.path.join(file_name)\n",
    "        DataPath_01x20.append(path)\n",
    "        \n",
    "print(\"len(DataPath_01x20):\",len(DataPath_01x20))\n",
    "\n",
    "############################################################\n",
    "\n",
    "DataPath_02Namix20=[]\n",
    "\n",
    "for root,dirs,files in os.walk(path02Namix20):\n",
    "    for file_name in files:\n",
    "        path = os.path.join(root,file_name)\n",
    "        label = os.path.join(file_name)\n",
    "        DataPath_02Namix20.append(path)\n",
    "        \n",
    "print(\"len(DataPath_02Namix20):\",len(DataPath_02Namix20))"
   ]
  },
  {
   "cell_type": "code",
   "execution_count": 4,
   "id": "389164ab",
   "metadata": {},
   "outputs": [
    {
     "name": "stdout",
     "output_type": "stream",
     "text": [
      "len(DataPath_01x40): 130092\n",
      "len(DataPath_02Namix40): 4236\n"
     ]
    }
   ],
   "source": [
    "DataPath_01x40=[]\n",
    "\n",
    "for root,dirs,files in os.walk(path01x40):\n",
    "    for file_name in files:\n",
    "        path = os.path.join(root,file_name)\n",
    "        label = os.path.join(file_name)\n",
    "        DataPath_01x40.append(path)\n",
    "        \n",
    "print(\"len(DataPath_01x40):\",len(DataPath_01x40))\n",
    "\n",
    "############################################################\n",
    "DataPath_02Namix40=[]\n",
    "\n",
    "for root,dirs,files in os.walk(path02Namix40):\n",
    "    for file_name in files:\n",
    "        path = os.path.join(root,file_name)\n",
    "        label = os.path.join(file_name)\n",
    "        DataPath_02Namix40.append(path)\n",
    "        \n",
    "print(\"len(DataPath_02Namix40):\",len(DataPath_02Namix40))"
   ]
  },
  {
   "cell_type": "markdown",
   "id": "95f33734",
   "metadata": {},
   "source": [
    "*********"
   ]
  },
  {
   "cell_type": "markdown",
   "id": "4b0d4f3f",
   "metadata": {},
   "source": [
    "# Read Image"
   ]
  },
  {
   "cell_type": "code",
   "execution_count": 5,
   "id": "17846ac2",
   "metadata": {},
   "outputs": [
    {
     "name": "stderr",
     "output_type": "stream",
     "text": [
      "100%|██████████| 45723/45723 [19:38<00:00, 38.81it/s]  \n",
      "/home/acd13264yb/jupyter_env/lib/python3.6/site-packages/ipykernel_launcher.py:6: VisibleDeprecationWarning: Creating an ndarray from ragged nested sequences (which is a list-or-tuple of lists-or-tuples-or ndarrays with different lengths or shapes) is deprecated. If you meant to do this, you must specify 'dtype=object' when creating the ndarray\n",
      "  \n"
     ]
    }
   ],
   "source": [
    "imread_01x20=[]\n",
    "for i in tqdm(range(len(DataPath_01x20))):\n",
    "    img = cv2.imread(DataPath_01x20[i])\n",
    "    imread_01x20.append(img)\n",
    "    \n",
    "imread_01x20=np.array(imread_01x20)\n",
    "np.save(\"imread_01x20_mask.npy\",imread_01x20,'dtype=object')"
   ]
  },
  {
   "cell_type": "code",
   "execution_count": 6,
   "id": "348a9ae0",
   "metadata": {},
   "outputs": [
    {
     "name": "stderr",
     "output_type": "stream",
     "text": [
      "100%|██████████| 9096/9096 [05:49<00:00, 26.02it/s]\n",
      "/home/acd13264yb/jupyter_env/lib/python3.6/site-packages/ipykernel_launcher.py:6: VisibleDeprecationWarning: Creating an ndarray from ragged nested sequences (which is a list-or-tuple of lists-or-tuples-or ndarrays with different lengths or shapes) is deprecated. If you meant to do this, you must specify 'dtype=object' when creating the ndarray\n",
      "  \n"
     ]
    }
   ],
   "source": [
    "imread_02Namix20=[]\n",
    "for i in tqdm(range(len(DataPath_02Namix20))):\n",
    "    img = cv2.imread(DataPath_02Namix20[i])\n",
    "    imread_02Namix20.append(img)\n",
    "    \n",
    "imread_02Namix20=np.array(imread_02Namix20)\n",
    "np.save(\"imread_02Namix20_mask.npy\",imread_02Namix20,'dtype=object')"
   ]
  },
  {
   "cell_type": "code",
   "execution_count": 8,
   "id": "6b086995",
   "metadata": {},
   "outputs": [
    {
     "name": "stderr",
     "output_type": "stream",
     "text": [
      "100%|██████████| 130092/130092 [1:33:56<00:00, 23.08it/s]  \n",
      "/home/acd13264yb/jupyter_env/lib/python3.6/site-packages/ipykernel_launcher.py:6: VisibleDeprecationWarning: Creating an ndarray from ragged nested sequences (which is a list-or-tuple of lists-or-tuples-or ndarrays with different lengths or shapes) is deprecated. If you meant to do this, you must specify 'dtype=object' when creating the ndarray\n",
      "  \n"
     ]
    }
   ],
   "source": [
    "imread_01x40=[]\n",
    "for i in tqdm(range(len(DataPath_01x40))):\n",
    "    img = cv2.imread(DataPath_01x40[i])\n",
    "    imread_01x40.append(img)\n",
    "    \n",
    "imread_01x40=np.array(imread_01x40)\n",
    "np.save(\"imread_01x40_mask.npy\",imread_01x40,'dtype=object')"
   ]
  },
  {
   "cell_type": "code",
   "execution_count": 7,
   "id": "2a3cd8f5",
   "metadata": {},
   "outputs": [
    {
     "name": "stderr",
     "output_type": "stream",
     "text": [
      "100%|██████████| 4236/4236 [05:04<00:00, 13.89it/s]\n",
      "/home/acd13264yb/jupyter_env/lib/python3.6/site-packages/ipykernel_launcher.py:6: VisibleDeprecationWarning: Creating an ndarray from ragged nested sequences (which is a list-or-tuple of lists-or-tuples-or ndarrays with different lengths or shapes) is deprecated. If you meant to do this, you must specify 'dtype=object' when creating the ndarray\n",
      "  \n"
     ]
    }
   ],
   "source": [
    "imread_02Namix40=[]\n",
    "for i in tqdm(range(len(DataPath_02Namix40))):\n",
    "    img = cv2.imread(DataPath_02Namix40[i])\n",
    "    imread_02Namix40.append(img)\n",
    "    \n",
    "imread_02Namix40=np.array(imread_02Namix40)\n",
    "np.save(\"imread_02Namix40_mask.npy\",imread_02Namix40)"
   ]
  },
  {
   "cell_type": "markdown",
   "id": "8b3d5637",
   "metadata": {},
   "source": [
    "*********"
   ]
  },
  {
   "cell_type": "markdown",
   "id": "b065bb70",
   "metadata": {},
   "source": [
    "# Max_shape_0 , Max_shape_1\n",
    "\n",
    "\n",
    "### >> Cells \n",
    "\n",
    "    * 01x20\n",
    "        * Max_shape_0:  234\n",
    "        * Max_shape_1:  214\n",
    "\n",
    "    * 02Namix20\n",
    "        * Max_shape_0:  254\n",
    "        * Max_shape_1:  234\n",
    "\n",
    "    * 01x40\n",
    "        * Max_shape_0:  464\n",
    "        * Max_shape_1:  499\n",
    "\n",
    "    * 02Namix40\n",
    "        * Max_shape_0:  354\n",
    "        * Max_shape_1:  274"
   ]
  },
  {
   "cell_type": "code",
   "execution_count": 12,
   "id": "30bc7da3",
   "metadata": {},
   "outputs": [
    {
     "name": "stdout",
     "output_type": "stream",
     "text": [
      "Max_shape_0:  354\n",
      "Max_shape_1:  274\n"
     ]
    }
   ],
   "source": [
    "target = imread_02Namix40\n",
    "\n",
    "shape_0=0\n",
    "shape_1=0\n",
    "\n",
    "for i in range(len(target)):\n",
    "    imgSize = target[i].shape\n",
    "    if imgSize[0]>shape_0:\n",
    "        shape_0=imgSize[0]\n",
    "    if imgSize[1]>shape_1:\n",
    "        shape_1=imgSize[1]\n",
    "print(\"Max_shape_0: \", shape_0)\n",
    "print(\"Max_shape_1: \", shape_1)"
   ]
  },
  {
   "cell_type": "code",
   "execution_count": null,
   "id": "1a932e79",
   "metadata": {},
   "outputs": [],
   "source": []
  }
 ],
 "metadata": {
  "kernelspec": {
   "display_name": "Python 3",
   "language": "python",
   "name": "python3"
  },
  "language_info": {
   "codemirror_mode": {
    "name": "ipython",
    "version": 3
   },
   "file_extension": ".py",
   "mimetype": "text/x-python",
   "name": "python",
   "nbconvert_exporter": "python",
   "pygments_lexer": "ipython3",
   "version": "3.6.12"
  }
 },
 "nbformat": 4,
 "nbformat_minor": 5
}
