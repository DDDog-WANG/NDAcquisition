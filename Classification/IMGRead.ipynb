{
 "cells": [
  {
   "cell_type": "code",
   "execution_count": 1,
   "id": "72475bb6",
   "metadata": {},
   "outputs": [],
   "source": [
    "import cv2,os\n",
    "import numpy as np\n",
    "from tqdm import tqdm \n",
    "from matplotlib import pyplot as plt"
   ]
  },
  {
   "cell_type": "markdown",
   "id": "85837501",
   "metadata": {},
   "source": [
    "# Read Path "
   ]
  },
  {
   "cell_type": "code",
   "execution_count": 2,
   "id": "a6ec0ab3",
   "metadata": {},
   "outputs": [],
   "source": [
    "root = \"../../Datasets/211202NDAcquisition/CellSplit/\"\n",
    "classes = [\"NDAcquisition-01\",\"NDAcquisition-01x40\",\"NDAcquisition-02Nami_x20\",\"NDAcquisition-02Nami_x40\"]\n",
    "path01x20 = root+classes[0]\n",
    "path02Namix20 = root+classes[2]\n",
    "path01x40 = root+classes[1]\n",
    "path02Namix40 = root+classes[3]"
   ]
  },
  {
   "cell_type": "code",
   "execution_count": 3,
   "id": "2f7b67c6",
   "metadata": {},
   "outputs": [
    {
     "name": "stdout",
     "output_type": "stream",
     "text": [
      "len(DataPath_01x20): 0\n",
      "len(DataPath_02Namix20): 0\n"
     ]
    }
   ],
   "source": [
    "DataPath_01x20=[]\n",
    "\n",
    "for root,dirs,files in os.walk(path01x20):\n",
    "    for file_name in files:\n",
    "        path = os.path.join(root,file_name)\n",
    "        label = os.path.join(file_name)\n",
    "        DataPath_01x20.append(path)\n",
    "        \n",
    "print(\"len(DataPath_01x20):\",len(DataPath_01x20))\n",
    "\n",
    "############################################################\n",
    "\n",
    "DataPath_02Namix20=[]\n",
    "\n",
    "for root,dirs,files in os.walk(path02Namix20):\n",
    "    for file_name in files:\n",
    "        path = os.path.join(root,file_name)\n",
    "        label = os.path.join(file_name)\n",
    "        DataPath_02Namix20.append(path)\n",
    "        \n",
    "print(\"len(DataPath_02Namix20):\",len(DataPath_02Namix20))"
   ]
  },
  {
   "cell_type": "code",
   "execution_count": 4,
   "id": "389164ab",
   "metadata": {},
   "outputs": [
    {
     "name": "stdout",
     "output_type": "stream",
     "text": [
      "len(DataPath_01x40): 12149\n",
      "len(DataPath_02Namix40): 1741\n"
     ]
    }
   ],
   "source": [
    "DataPath_01x40=[]\n",
    "\n",
    "for root,dirs,files in os.walk(path01x40):\n",
    "    for file_name in files:\n",
    "        path = os.path.join(root,file_name)\n",
    "        label = os.path.join(file_name)\n",
    "        DataPath_01x40.append(path)\n",
    "        \n",
    "print(\"len(DataPath_01x40):\",len(DataPath_01x40))\n",
    "\n",
    "############################################################\n",
    "DataPath_02Namix40=[]\n",
    "\n",
    "for root,dirs,files in os.walk(path02Namix40):\n",
    "    for file_name in files:\n",
    "        path = os.path.join(root,file_name)\n",
    "        label = os.path.join(file_name)\n",
    "        DataPath_02Namix40.append(path)\n",
    "        \n",
    "print(\"len(DataPath_02Namix40):\",len(DataPath_02Namix40))"
   ]
  },
  {
   "cell_type": "markdown",
   "id": "95f33734",
   "metadata": {},
   "source": [
    "*********"
   ]
  },
  {
   "cell_type": "markdown",
   "id": "4b0d4f3f",
   "metadata": {},
   "source": [
    "# Read Image"
   ]
  },
  {
   "cell_type": "code",
   "execution_count": 9,
   "id": "17846ac2",
   "metadata": {},
   "outputs": [
    {
     "name": "stderr",
     "output_type": "stream",
     "text": [
      "0it [00:00, ?it/s]\n"
     ]
    }
   ],
   "source": [
    "imread_01x20=[]\n",
    "for i in tqdm(range(len(DataPath_01x20))):\n",
    "    img = cv2.imread(DataPath_01x20[i])\n",
    "    imread_01x20.append(img)\n",
    "    \n",
    "imread_01x20=np.array(imread_01x20)\n",
    "np.save(\"imread_01x20.npy\",imread_01x20,'dtype=object')"
   ]
  },
  {
   "cell_type": "code",
   "execution_count": 10,
   "id": "348a9ae0",
   "metadata": {},
   "outputs": [
    {
     "name": "stderr",
     "output_type": "stream",
     "text": [
      "0it [00:00, ?it/s]\n"
     ]
    }
   ],
   "source": [
    "imread_02Namix20=[]\n",
    "for i in tqdm(range(len(DataPath_02Namix20))):\n",
    "    img = cv2.imread(DataPath_02Namix20[i])\n",
    "    \n",
    "    imread_02Namix20.append(img)\n",
    "    \n",
    "imread_02Namix20=np.array(imread_02Namix20)\n",
    "np.save(\"imread_02Namix20.npy\",imread_02Namix20,'dtype=object')"
   ]
  },
  {
   "cell_type": "code",
   "execution_count": 29,
   "id": "6b086995",
   "metadata": {},
   "outputs": [
    {
     "name": "stderr",
     "output_type": "stream",
     "text": [
      "100%|██████████████████████████████████████████████████████| 12149/12149 [00:08<00:00, 1410.36it/s]\n",
      "/tmp/9883330.1.gpu/ipykernel_43855/1899761046.py:7: VisibleDeprecationWarning: Creating an ndarray from ragged nested sequences (which is a list-or-tuple of lists-or-tuples-or ndarrays with different lengths or shapes) is deprecated. If you meant to do this, you must specify 'dtype=object' when creating the ndarray.\n",
      "  imread_01x40=np.array(imread_01x40)\n"
     ]
    }
   ],
   "source": [
    "imread_01x40=[]\n",
    "for i in tqdm(range(len(DataPath_01x40))):\n",
    "    img = cv2.imread(DataPath_01x40[i])\n",
    "    if img.shape[0]<=100 and img.shape[1]<=100:\n",
    "        imread_01x40.append(img)\n",
    "    \n",
    "imread_01x40=np.array(imread_01x40)\n",
    "np.save(\"imread_01x40.npy\",imread_01x40,'dtype=object')"
   ]
  },
  {
   "cell_type": "code",
   "execution_count": 30,
   "id": "2a3cd8f5",
   "metadata": {},
   "outputs": [
    {
     "name": "stderr",
     "output_type": "stream",
     "text": [
      "100%|████████████████████████████████████████████████████████| 1741/1741 [00:01<00:00, 1437.09it/s]\n",
      "/tmp/9883330.1.gpu/ipykernel_43855/871532552.py:7: VisibleDeprecationWarning: Creating an ndarray from ragged nested sequences (which is a list-or-tuple of lists-or-tuples-or ndarrays with different lengths or shapes) is deprecated. If you meant to do this, you must specify 'dtype=object' when creating the ndarray.\n",
      "  imread_02Namix40=np.array(imread_02Namix40)\n"
     ]
    }
   ],
   "source": [
    "imread_02Namix40=[]\n",
    "for i in tqdm(range(len(DataPath_02Namix40))):\n",
    "    img = cv2.imread(DataPath_02Namix40[i])\n",
    "    if img.shape[0]<=100 and img.shape[1]<=100:\n",
    "        imread_02Namix40.append(img)\n",
    "    \n",
    "imread_02Namix40=np.array(imread_02Namix40)\n",
    "np.save(\"imread_02Namix40.npy\",imread_02Namix40)"
   ]
  },
  {
   "cell_type": "markdown",
   "id": "8b3d5637",
   "metadata": {},
   "source": [
    "*********"
   ]
  },
  {
   "cell_type": "markdown",
   "id": "b065bb70",
   "metadata": {},
   "source": [
    "# Max_shape_0 , Max_shape_1\n",
    "\n",
    "\n",
    "### >> Cells \n",
    "\n",
    "    * 01x20\n",
    "        * Max_shape_0:  234\n",
    "        * Max_shape_1:  214\n",
    "\n",
    "    * 02Namix20\n",
    "        * Max_shape_0:  254\n",
    "        * Max_shape_1:  234\n",
    "\n",
    "    * 01x40\n",
    "        * Max_shape_0:  464\n",
    "        * Max_shape_1:  499\n",
    "\n",
    "    * 02Namix40\n",
    "        * Max_shape_0:  354\n",
    "        * Max_shape_1:  274"
   ]
  },
  {
   "cell_type": "code",
   "execution_count": 31,
   "id": "d8d4d97d",
   "metadata": {},
   "outputs": [
    {
     "name": "stdout",
     "output_type": "stream",
     "text": [
      "Data_01.shape: (11990,)\n",
      "Data_02Nami.shape: (1738,)\n"
     ]
    }
   ],
   "source": [
    "Data_02Nami=np.load(\"data/imread_02Namix40.npy\",allow_pickle=True)\n",
    "Data_01=np.load(\"data/imread_01x40.npy\",allow_pickle=True)\n",
    "print(\"Data_01.shape:\", Data_01.shape)\n",
    "print(\"Data_02Nami.shape:\", Data_02Nami.shape)"
   ]
  },
  {
   "cell_type": "code",
   "execution_count": 32,
   "id": "1a932e79",
   "metadata": {},
   "outputs": [
    {
     "data": {
      "text/plain": [
       "<matplotlib.legend.Legend at 0x2b694a8c0c10>"
      ]
     },
     "execution_count": 32,
     "metadata": {},
     "output_type": "execute_result"
    },
    {
     "data": {
      "image/png": "[encoded data removed]",
      "text/plain": [
       "<Figure size 432x288 with 1 Axes>"
      ]
     },
     "metadata": {
      "needs_background": "light"
     },
     "output_type": "display_data"
    }
   ],
   "source": [
    "shapeX=[]\n",
    "shapeY=[]\n",
    "for i in range(len(Data_01)):\n",
    "    shapeX.append(Data_01[i].shape[0])\n",
    "    shapeY.append(Data_01[i].shape[1])    \n",
    "fig, ax = plt.subplots()\n",
    "ax.hist([shapeX,shapeY], label=[\"shapeX\", \"shapeY\"], color=[\"r\", \"g\"], ec=\"k\",range=[0,255])\n",
    "ax.legend()"
   ]
  },
  {
   "cell_type": "code",
   "execution_count": 33,
   "id": "657026ee",
   "metadata": {},
   "outputs": [
    {
     "data": {
      "text/plain": [
       "<matplotlib.legend.Legend at 0x2b694b9a2260>"
      ]
     },
     "execution_count": 33,
     "metadata": {},
     "output_type": "execute_result"
    },
    {
     "data": {
      "image/png": "[encoded data removed]",
      "text/plain": [
       "<Figure size 432x288 with 1 Axes>"
      ]
     },
     "metadata": {
      "needs_background": "light"
     },
     "output_type": "display_data"
    }
   ],
   "source": [
    "shapeX=[]\n",
    "shapeY=[]\n",
    "for i in range(len(Data_02Nami)):\n",
    "    shapeX.append(Data_02Nami[i].shape[0])\n",
    "    shapeY.append(Data_02Nami[i].shape[1])    \n",
    "fig, ax = plt.subplots()\n",
    "ax.hist([shapeX,shapeY], label=[\"shapeX\", \"shapeY\"], color=[\"r\", \"g\"], ec=\"k\",range=[0,255])\n",
    "ax.legend()"
   ]
  },
  {
   "cell_type": "code",
   "execution_count": 34,
   "id": "b77b7aab",
   "metadata": {},
   "outputs": [
    {
     "name": "stdout",
     "output_type": "stream",
     "text": [
      "11990\n",
      "1738\n"
     ]
    }
   ],
   "source": [
    "num=0\n",
    "for n in range(len(Data_01)):\n",
    "    img = Data_01[n]\n",
    "    if img.shape[0]<=100 and img.shape[1]<=100:\n",
    "        num+=1\n",
    "print(num)\n",
    "\n",
    "\n",
    "num=0\n",
    "for n in range(len(Data_02Nami)):\n",
    "    img = Data_01[n]\n",
    "    if img.shape[0]<=100 and img.shape[1]<=100:\n",
    "        num+=1\n",
    "print(num)"
   ]
  },
  {
   "cell_type": "code",
   "execution_count": null,
   "id": "2105db33",
   "metadata": {},
   "outputs": [],
   "source": []
  }
 ],
 "metadata": {
  "kernelspec": {
   "display_name": "Python 3",
   "language": "python",
   "name": "python3"
  },
  "language_info": {
   "codemirror_mode": {
    "name": "ipython",
    "version": 3
   },
   "file_extension": ".py",
   "mimetype": "text/x-python",
   "name": "python",
   "nbconvert_exporter": "python",
   "pygments_lexer": "ipython3",
   "version": "3.6.12"
  }
 },
 "nbformat": 4,
 "nbformat_minor": 5
}
