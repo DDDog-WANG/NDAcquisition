{
 "cells": [
  {
   "cell_type": "code",
   "execution_count": 29,
   "metadata": {},
   "outputs": [],
   "source": [
    "import cv2,os,math\n",
    "from PIL import Image\n",
    "import numpy as np\n",
    "from matplotlib import pyplot as plt\n",
    "from tqdm import tqdm_notebook as tqdm\n",
    "\n",
    "from sklearn.model_selection import train_test_split\n",
    "from sklearn.metrics import roc_auc_score,precision_score,accuracy_score,roc_curve\n",
    "import torch\n",
    "import torch.nn as nn\n",
    "import torch.nn.functional as F\n",
    "from torchvision import transforms\n",
    "from torchvision import datasets\n",
    "import torchvision.models as models\n",
    "from pytorch_grad_cam.utils.image import show_cam_on_image"
   ]
  },
  {
   "cell_type": "code",
   "execution_count": 30,
   "metadata": {},
   "outputs": [
    {
     "name": "stdout",
     "output_type": "stream",
     "text": [
      "torch.device(cuda)\n",
      "torch.cuda.device_count():  4\n",
      "Tesla V100-SXM2-16GB\n",
      "Tesla V100-SXM2-16GB\n",
      "Tesla V100-SXM2-16GB\n",
      "Tesla V100-SXM2-16GB\n",
      "torch.cuda.current_device() 0\n"
     ]
    }
   ],
   "source": [
    "if torch.cuda.is_available():\n",
    "    device = torch.device(\"cuda\")\n",
    "    print(\"torch.device(cuda)\")\n",
    "    print(\"torch.cuda.device_count(): \", torch.cuda.device_count())\n",
    "    for i in range(torch.cuda.device_count()):\n",
    "        print(torch.cuda.get_device_name())\n",
    "    print(\"torch.cuda.current_device()\", torch.cuda.current_device())\n",
    "else:\n",
    "    device = torch.device(\"cpu\")\n",
    "    print(\"torch.device(cpu)\")"
   ]
  },
  {
   "cell_type": "markdown",
   "metadata": {
    "id": "aJjxv_T_DNKk"
   },
   "source": [
    "# 1. Read data"
   ]
  },
  {
   "cell_type": "code",
   "execution_count": 62,
   "metadata": {},
   "outputs": [
    {
     "name": "stdout",
     "output_type": "stream",
     "text": [
      "untreaded_train.shape: (1000, 100, 100, 3)\n",
      "VPAtreaded_train.shape: (1000, 100, 100, 3)\n",
      "untreaded_test.shape: (210, 100, 100, 3)\n",
      "VPAtreaded_test.shape: (210, 100, 100, 3)\n"
     ]
    }
   ],
   "source": [
    "# Data(x)\n",
    "untreaded_train=np.load(\"../Classification/results2022/untreaded_train.npy\",allow_pickle=True)[:1000]\n",
    "# untreaded_train=np.load(\"../Classification/results2022/untreaded_train_all.npy\",allow_pickle=True)[:10000]\n",
    "VPAtreaded_train=np.load(\"../Classification/results2022/VPAtreaded_train.npy\",allow_pickle=True)[:1000]\n",
    "untreaded_test=np.load(\"../Classification/results2022/untreaded_test.npy\",allow_pickle=True)\n",
    "VPAtreaded_test=np.load(\"../Classification/results2022/VPAtreaded_test.npy\",allow_pickle=True)\n",
    "\n",
    "print(\"untreaded_train.shape:\", untreaded_train.shape)\n",
    "print(\"VPAtreaded_train.shape:\", VPAtreaded_train.shape)\n",
    "print(\"untreaded_test.shape:\", untreaded_test.shape)\n",
    "print(\"VPAtreaded_test.shape:\", VPAtreaded_test.shape)\n",
    "\n",
    "# Label(y)\n",
    "y_untreaded_train = torch.zeros(len(untreaded_train), dtype=torch.int64)\n",
    "y_VPAtreaded_train = torch.ones(len(VPAtreaded_train), dtype=torch.int64)\n",
    "y_untreaded_test = torch.zeros(len(untreaded_test), dtype=torch.int64)\n",
    "y_VPAtreaded_test = torch.ones(len(VPAtreaded_test), dtype=torch.int64)\n",
    "\n",
    "# concatenate x and y\n",
    "X_train, X_test = np.concatenate((untreaded_train, VPAtreaded_train), axis = 0), np.concatenate((untreaded_test, VPAtreaded_test), axis = 0)\n",
    "y_train, y_test = torch.cat((y_untreaded_train, y_VPAtreaded_train), 0), torch.cat((y_untreaded_test, y_VPAtreaded_test), 0)"
   ]
  },
  {
   "cell_type": "markdown",
   "metadata": {},
   "source": [
    "# 2. Data processing "
   ]
  },
  {
   "cell_type": "code",
   "execution_count": 93,
   "metadata": {},
   "outputs": [],
   "source": [
    "class cell_dataset(torch.utils.data.Dataset):\n",
    "    def __init__(self, x, y):\n",
    "        self.x = x\n",
    "        self.y = y\n",
    "        self.transform = transforms.ToTensor()\n",
    "    def __len__(self):\n",
    "        return len(self.x)\n",
    "    def __getitem__(self, idx):\n",
    "        return self.transform(self.x[idx]), F.one_hot(self.y[idx],num_classes=2).to(torch.float)\n",
    "\n",
    "# trainval_data = cell_dataset(X_train, y_train)\n",
    "train_data = cell_dataset(X_train, y_train)\n",
    "val_data = cell_dataset(X_test, y_test)\n",
    "\n",
    "batch_size = 32\n",
    "# val_size = int(len(trainval_data)*0.2)\n",
    "# train_size = len(trainval_data) - val_size\n",
    "\n",
    "# train_data, val_data = torch.utils.data.random_split(trainval_data, [train_size, val_size])\n",
    "dataloader_train = torch.utils.data.DataLoader(train_data, batch_size=batch_size, shuffle=True)\n",
    "dataloader_valid = torch.utils.data.DataLoader(val_data, batch_size=batch_size, shuffle=True)"
   ]
  },
  {
   "cell_type": "code",
   "execution_count": 94,
   "metadata": {},
   "outputs": [],
   "source": [
    "# train_data_01 = 0\n",
    "# train_size = len(train_data)\n",
    "# for i in range(train_size):\n",
    "#     train_data_01+=train_data[i][1].item()\n",
    "# print(\"Total number of train : \", train_size)\n",
    "# print(\"train_class_0: \", train_size-train_data_01)\n",
    "# print(\"train_class_1: \", train_data_01)\n",
    "\n",
    "# val_data_01 = 0\n",
    "# val_size = len(val_data)\n",
    "# for i in range(val_size):\n",
    "#     val_data_01+=val_data[i][1].item()\n",
    "# print(\"\\nTotal number of val : \", val_size)\n",
    "# print(\"val_class_0: \", val_size-val_data_01)\n",
    "# print(\"val_class_1: \", val_data_01)\n",
    "\n",
    "# test_00 = y_test.tolist().count(0)\n",
    "# test_01 = y_test.tolist().count(1)\n",
    "# print(\"\\nTotal number of test : \", len(y_test))\n",
    "# print(\"test_class_0 num : \", test_00)\n",
    "# print(\"test_class_1 num : \", test_01)"
   ]
  },
  {
   "cell_type": "markdown",
   "metadata": {
    "id": "-KBoEbEMDNKo"
   },
   "source": [
    "# 3. Build Model"
   ]
  },
  {
   "cell_type": "code",
   "execution_count": 105,
   "metadata": {},
   "outputs": [],
   "source": [
    "class ResNet(nn.Module):\n",
    "    def __init__(self):\n",
    "        super(ResNet,self).__init__()\n",
    "        self.resnet = models.resnet18(weights=True)\n",
    "#         self.resnet.layer3 = nn.Sequential()\n",
    "#         self.resnet.layer4 = nn.Sequential()\n",
    "        self.resnet.fc = nn.Linear(512, 2)\n",
    "        \n",
    "    def forward(self, x):\n",
    "        x = self.resnet(x)\n",
    "        x = nn.Softmax(dim=1)(x)\n",
    "        return x\n",
    "\n",
    "model = ResNet().to(device)"
   ]
  },
  {
   "cell_type": "code",
   "execution_count": 106,
   "metadata": {},
   "outputs": [],
   "source": [
    "ngpu = 4\n",
    "if (device.type == 'cuda') and (ngpu > 1):\n",
    "    model = nn.DataParallel(model, list(range(ngpu)))"
   ]
  },
  {
   "cell_type": "code",
   "execution_count": 107,
   "metadata": {},
   "outputs": [
    {
     "name": "stdout",
     "output_type": "stream",
     "text": [
      "torch.Size([1, 2])\n",
      "tensor([[0.1973, 0.8027]], device='cuda:0', grad_fn=<GatherBackward>)\n"
     ]
    }
   ],
   "source": [
    "image_size = 100\n",
    "test_input = torch.ones(1,3,image_size,image_size).to(device)\n",
    "print(model(test_input).size())\n",
    "print(model(test_input))"
   ]
  },
  {
   "cell_type": "code",
   "execution_count": 108,
   "metadata": {
    "id": "xs6IXgvsDNKp",
    "scrolled": false
   },
   "outputs": [],
   "source": [
    "# model = torch.load(\"Feactor.pkl\")\n",
    "\n",
    "# #Freeze model weights\n",
    "# for param in model.parameters():\n",
    "#     param.requires_grad = True\n",
    "# for param in model.fc.parameters():\n",
    "#     param.requires_grad = True"
   ]
  },
  {
   "cell_type": "code",
   "execution_count": 109,
   "metadata": {},
   "outputs": [],
   "source": [
    "model.avgpool = nn.AdaptiveAvgPool2d(1)\n",
    "loss_function = nn.BCELoss()\n",
    "\n",
    "optimizer = torch.optim.Adam(model.parameters(), lr=0.001)  # 定义优化器\n",
    "scheduler = torch.optim.lr_scheduler.ExponentialLR(optimizer, gamma=0.99) # 定义衰减策略"
   ]
  },
  {
   "cell_type": "code",
   "execution_count": 110,
   "metadata": {},
   "outputs": [],
   "source": [
    "losstrain=[]\n",
    "lossvalid=[]\n",
    "Accuracytrain=[]\n",
    "Accuracyvalid=[]"
   ]
  },
  {
   "cell_type": "code",
   "execution_count": 111,
   "metadata": {
    "scrolled": true
   },
   "outputs": [
    {
     "name": "stdout",
     "output_type": "stream",
     "text": [
      "EPOCH: 0, Train [Loss: 0.597, Accuracy: 0.749], Valid [Loss: 0.522, Accuracy: 0.752]\n",
      "EPOCH: 1, Train [Loss: 0.501, Accuracy: 0.771], Valid [Loss: 0.363, Accuracy: 0.831]\n",
      "EPOCH: 2, Train [Loss: 0.448, Accuracy: 0.810], Valid [Loss: 1.245, Accuracy: 0.655]\n",
      "EPOCH: 3, Train [Loss: 0.421, Accuracy: 0.818], Valid [Loss: 0.375, Accuracy: 0.857]\n",
      "EPOCH: 4, Train [Loss: 0.394, Accuracy: 0.832], Valid [Loss: 0.353, Accuracy: 0.860]\n",
      "EPOCH: 5, Train [Loss: 0.398, Accuracy: 0.836], Valid [Loss: 0.337, Accuracy: 0.864]\n",
      "EPOCH: 6, Train [Loss: 0.371, Accuracy: 0.845], Valid [Loss: 0.390, Accuracy: 0.833]\n",
      "EPOCH: 7, Train [Loss: 0.321, Accuracy: 0.870], Valid [Loss: 0.319, Accuracy: 0.890]\n",
      "EPOCH: 8, Train [Loss: 0.302, Accuracy: 0.865], Valid [Loss: 0.839, Accuracy: 0.800]\n",
      "EPOCH: 9, Train [Loss: 0.281, Accuracy: 0.884], Valid [Loss: 0.374, Accuracy: 0.857]\n",
      "EPOCH: 10, Train [Loss: 0.235, Accuracy: 0.905], Valid [Loss: 0.345, Accuracy: 0.876]\n",
      "EPOCH: 11, Train [Loss: 0.224, Accuracy: 0.921], Valid [Loss: 0.314, Accuracy: 0.886]\n",
      "EPOCH: 12, Train [Loss: 0.184, Accuracy: 0.931], Valid [Loss: 0.421, Accuracy: 0.829]\n",
      "EPOCH: 13, Train [Loss: 0.198, Accuracy: 0.932], Valid [Loss: 0.415, Accuracy: 0.864]\n",
      "EPOCH: 14, Train [Loss: 0.169, Accuracy: 0.934], Valid [Loss: 0.324, Accuracy: 0.902]\n",
      "EPOCH: 15, Train [Loss: 0.104, Accuracy: 0.966], Valid [Loss: 0.421, Accuracy: 0.869]\n",
      "EPOCH: 16, Train [Loss: 0.149, Accuracy: 0.943], Valid [Loss: 0.418, Accuracy: 0.855]\n",
      "EPOCH: 17, Train [Loss: 0.108, Accuracy: 0.963], Valid [Loss: 0.359, Accuracy: 0.888]\n",
      "EPOCH: 18, Train [Loss: 0.121, Accuracy: 0.961], Valid [Loss: 0.328, Accuracy: 0.869]\n",
      "EPOCH: 19, Train [Loss: 0.090, Accuracy: 0.968], Valid [Loss: 0.310, Accuracy: 0.905]\n",
      "EPOCH: 20, Train [Loss: 0.033, Accuracy: 0.990], Valid [Loss: 0.277, Accuracy: 0.905]\n"
     ]
    },
    {
     "ename": "KeyboardInterrupt",
     "evalue": "",
     "output_type": "error",
     "traceback": [
      "\u001b[0;31m---------------------------------------------------------------------------\u001b[0m",
      "\u001b[0;31mKeyboardInterrupt\u001b[0m                         Traceback (most recent call last)",
      "\u001b[0;32m/tmp/11175312.1.gpu/ipykernel_156229/674887446.py\u001b[0m in \u001b[0;36m<module>\u001b[0;34m\u001b[0m\n\u001b[1;32m     25\u001b[0m     \u001b[0;32mfor\u001b[0m \u001b[0mx\u001b[0m\u001b[0;34m,\u001b[0m \u001b[0my\u001b[0m \u001b[0;32min\u001b[0m \u001b[0mdataloader_valid\u001b[0m\u001b[0;34m:\u001b[0m\u001b[0;34m\u001b[0m\u001b[0;34m\u001b[0m\u001b[0m\n\u001b[1;32m     26\u001b[0m         \u001b[0mn_val\u001b[0m \u001b[0;34m+=\u001b[0m \u001b[0my\u001b[0m\u001b[0;34m.\u001b[0m\u001b[0msize\u001b[0m\u001b[0;34m(\u001b[0m\u001b[0;34m)\u001b[0m\u001b[0;34m[\u001b[0m\u001b[0;36m0\u001b[0m\u001b[0;34m]\u001b[0m\u001b[0;34m\u001b[0m\u001b[0;34m\u001b[0m\u001b[0m\n\u001b[0;32m---> 27\u001b[0;31m         \u001b[0mx\u001b[0m \u001b[0;34m=\u001b[0m \u001b[0mx\u001b[0m\u001b[0;34m.\u001b[0m\u001b[0mto\u001b[0m\u001b[0;34m(\u001b[0m\u001b[0mdevice\u001b[0m\u001b[0;34m)\u001b[0m  \u001b[0;31m# テンソルをGPUに移動\u001b[0m\u001b[0;34m\u001b[0m\u001b[0;34m\u001b[0m\u001b[0m\n\u001b[0m\u001b[1;32m     28\u001b[0m         \u001b[0my\u001b[0m \u001b[0;34m=\u001b[0m \u001b[0my\u001b[0m\u001b[0;34m.\u001b[0m\u001b[0mto\u001b[0m\u001b[0;34m(\u001b[0m\u001b[0mdevice\u001b[0m\u001b[0;34m)\u001b[0m\u001b[0;34m\u001b[0m\u001b[0;34m\u001b[0m\u001b[0m\n\u001b[1;32m     29\u001b[0m         \u001b[0moutput\u001b[0m \u001b[0;34m=\u001b[0m \u001b[0mmodel\u001b[0m\u001b[0;34m.\u001b[0m\u001b[0mforward\u001b[0m\u001b[0;34m(\u001b[0m\u001b[0mx\u001b[0m\u001b[0;34m)\u001b[0m  \u001b[0;31m# 順伝播\u001b[0m\u001b[0;34m\u001b[0m\u001b[0;34m\u001b[0m\u001b[0m\n",
      "\u001b[0;31mKeyboardInterrupt\u001b[0m: "
     ]
    }
   ],
   "source": [
    "n_epochs = 100\n",
    "for epoch in range(n_epochs):\n",
    "    losses_train = []\n",
    "    losses_valid = []\n",
    "    # Train\n",
    "    optimizer.step()\n",
    "    model.train()\n",
    "    n_train = 0\n",
    "    acc_train = 0\n",
    "    for x, y in dataloader_train:\n",
    "        n_train += y.size()[0]\n",
    "        model.zero_grad()  # 勾配の初期化\n",
    "        x = x.to(device)  # テンソルをGPUに移動\n",
    "        y = y.to(device)\n",
    "        output = model.forward(x)  # 順伝播\n",
    "        loss = loss_function(output, y)  # 誤差(クロスエントロピー誤差関数)の計算\n",
    "        loss.backward()  # 誤差の逆伝播\n",
    "        optimizer.step()  # パラメータの更新\n",
    "        acc_train += (output.argmax(1) == y[:,1]).float().sum().item()\n",
    "        losses_train.append(loss.tolist())\n",
    "    # Evaluate\n",
    "    model.eval()\n",
    "    n_val = 0\n",
    "    acc_val = 0\n",
    "    for x, y in dataloader_valid:\n",
    "        n_val += y.size()[0]\n",
    "        x = x.to(device)  # テンソルをGPUに移動\n",
    "        y = y.to(device)\n",
    "        output = model.forward(x)  # 順伝播\n",
    "        loss = loss_function(output, y)  # 誤差(クロスエントロピー誤差関数)の計算\n",
    "        acc_val += (output.argmax(1) == y[:,1]).float().sum().item()\n",
    "        losses_valid.append(loss.tolist())\n",
    "    scheduler.step()\n",
    "    # Visualize loss & accuracy    \n",
    "    losstrain.append(np.mean(losses_train))\n",
    "    Accuracytrain.append(acc_train/n_train)\n",
    "    lossvalid.append(np.mean(losses_valid))\n",
    "    Accuracyvalid.append(acc_val/n_val)\n",
    "    print('EPOCH: {}, Train [Loss: {:.3f}, Accuracy: {:.3f}], Valid [Loss: {:.3f}, Accuracy: {:.3f}]'\n",
    "          .format(epoch,np.mean(losses_train),acc_train/n_train,np.mean(losses_valid),acc_val/n_val))"
   ]
  },
  {
   "cell_type": "code",
   "execution_count": null,
   "metadata": {},
   "outputs": [],
   "source": [
    "# train processing plot\n",
    "n_epochs = 200\n",
    "epochs=range(1,n_epochs+1)\n",
    "plt.ylim(0,1.0)\n",
    "plt.plot(epochs,Accuracytrain,'b',label='Training accuracy')  \n",
    "plt.plot(epochs, Accuracyvalid,'r',label='Validation accuracy')\n",
    "plt.title('Training and Validation accuracy')\n",
    "plt.legend()\n",
    "plt.figure()\n",
    "plt.show()"
   ]
  },
  {
   "cell_type": "code",
   "execution_count": null,
   "metadata": {},
   "outputs": [],
   "source": []
  },
  {
   "cell_type": "markdown",
   "metadata": {},
   "source": [
    "# 4. Feature map"
   ]
  },
  {
   "cell_type": "code",
   "execution_count": 168,
   "metadata": {
    "scrolled": true
   },
   "outputs": [
    {
     "name": "stdout",
     "output_type": "stream",
     "text": [
      "\n",
      "module\n",
      "module.resnet\n",
      "module.resnet.conv1\n",
      "module.resnet.bn1\n",
      "module.resnet.relu\n",
      "module.resnet.maxpool\n",
      "module.resnet.layer1\n",
      "module.resnet.layer1.0\n",
      "module.resnet.layer1.0.conv1\n",
      "module.resnet.layer1.0.bn1\n",
      "module.resnet.layer1.0.relu\n",
      "module.resnet.layer1.0.conv2\n",
      "module.resnet.layer1.0.bn2\n",
      "module.resnet.layer1.1\n",
      "module.resnet.layer1.1.conv1\n",
      "module.resnet.layer1.1.bn1\n",
      "module.resnet.layer1.1.relu\n",
      "module.resnet.layer1.1.conv2\n",
      "module.resnet.layer1.1.bn2\n",
      "module.resnet.layer2\n",
      "module.resnet.layer2.0\n",
      "module.resnet.layer2.0.conv1\n",
      "module.resnet.layer2.0.bn1\n",
      "module.resnet.layer2.0.relu\n",
      "module.resnet.layer2.0.conv2\n",
      "module.resnet.layer2.0.bn2\n",
      "module.resnet.layer2.0.downsample\n",
      "module.resnet.layer2.0.downsample.0\n",
      "module.resnet.layer2.0.downsample.1\n",
      "module.resnet.layer2.1\n",
      "module.resnet.layer2.1.conv1\n",
      "module.resnet.layer2.1.bn1\n",
      "module.resnet.layer2.1.relu\n",
      "module.resnet.layer2.1.conv2\n",
      "module.resnet.layer2.1.bn2\n",
      "module.resnet.layer3\n",
      "module.resnet.layer4\n",
      "module.resnet.avgpool\n",
      "module.resnet.fc\n",
      "avgpool\n"
     ]
    }
   ],
   "source": [
    "# 定义钩子函数，获取指定层名称的特征\n",
    "feature_activation = {} # 保存获取的输出\n",
    "def get_activation(name):\n",
    "    def hook(model, input, output):\n",
    "        feature_activation[name] = output.detach()\n",
    "    return hook\n",
    "\n",
    "for name, layer in model.named_modules():\n",
    "    layer.register_forward_hook(get_activation(name))\n",
    "    print(name)"
   ]
  },
  {
   "cell_type": "code",
   "execution_count": 175,
   "metadata": {},
   "outputs": [
    {
     "name": "stdout",
     "output_type": "stream",
     "text": [
      "y is 0 ; pre is 0.0 => True\n"
     ]
    }
   ],
   "source": [
    "i = 1\n",
    "img = train_data[i][0].permute(1,2,0).numpy()\n",
    "label = train_data[i][1][1]\n",
    "input_tensor = train_data[i][0].unsqueeze(0).to(device)\n",
    "output = model(input_tensor)\n",
    "y = output.argmax(1).cpu().item()\n",
    "print(\"y is\",y , \"; pre is\", label.item(), \"=>\",y==label.item())"
   ]
  },
  {
   "cell_type": "code",
   "execution_count": 177,
   "metadata": {},
   "outputs": [
    {
     "name": "stdout",
     "output_type": "stream",
     "text": [
      "max: 98.611, min: -9.981\n",
      "max: 1.000, min: 0.000\n"
     ]
    },
    {
     "data": {
      "text/plain": [
       "<matplotlib.image.AxesImage at 0x2aaedbfab790>"
      ]
     },
     "execution_count": 177,
     "metadata": {},
     "output_type": "execute_result"
    },
    {
     "data": {
      "image/png": "[encoded data removed]",
      "text/plain": [
       "<Figure size 1440x1440 with 3 Axes>"
      ]
     },
     "metadata": {
      "needs_background": "light"
     },
     "output_type": "display_data"
    }
   ],
   "source": [
    "key = \"module.resnet.layer2.1.conv2\"\n",
    "plt.figure(figsize=(20,20))\n",
    "plt.subplot(1,3,1)\n",
    "plt.title(str(y==label)+\", Real: \"+str(label.item()))\n",
    "plt.imshow(img)\n",
    "\n",
    "bn = feature_activation[key].cpu()[0].mean(axis=0)\n",
    "print('max: {:.3f}, min: {:.3f}'.format(torch.amax(bn),torch.amin(bn)))\n",
    "bn = cv2.normalize(bn.numpy(), None, alpha=0,beta=1, norm_type=cv2.NORM_MINMAX)\n",
    "print('max: {:.3f}, min: {:.3f}'.format(np.amax(bn),np.amin(bn)))\n",
    "plt.subplot(1,3,2)\n",
    "plt.imshow(bn)\n",
    "\n",
    "plt.subplot(1,3,3)\n",
    "bn = cv2.resize(bn,(100,100))\n",
    "cam = show_cam_on_image(img, bn)\n",
    "plt.imshow(cam)"
   ]
  },
  {
   "cell_type": "code",
   "execution_count": 179,
   "metadata": {
    "scrolled": true
   },
   "outputs": [],
   "source": [
    "# num = feature_activation[key].cpu()[0].shape[0]\n",
    "# num = 10\n",
    "# for i in range(num):\n",
    "#     plt.figure(figsize=(10,10))\n",
    "#     plt.subplot(1,3,1)\n",
    "#     plt.title(y==label)\n",
    "#     plt.imshow(img/np.amax(img))\n",
    "    \n",
    "#     bn = feature_activation[key].cpu()[0][i]\n",
    "#     bn = cv2.normalize(bn.numpy(), None, alpha=0,beta=1, norm_type=cv2.NORM_MINMAX)\n",
    "#     plt.subplot(1,3,2)\n",
    "#     plt.title(key)\n",
    "#     plt.imshow(bn)\n",
    "    \n",
    "#     plt.subplot(1,3,3)\n",
    "#     plt.axis(\"off\")\n",
    "#     bn = cv2.merge([bn,bn,bn])\n",
    "#     cam = show_cam_on_image(img, bn)\n",
    "#     plt.imshow(cam)"
   ]
  },
  {
   "cell_type": "code",
   "execution_count": 174,
   "metadata": {
    "scrolled": true
   },
   "outputs": [
    {
     "name": "stdout",
     "output_type": "stream",
     "text": [
      "module.resnet.conv1  :  torch.Size([1, 64, 50, 50])\n",
      "module.resnet.bn1  :  torch.Size([1, 64, 50, 50])\n",
      "module.resnet.relu  :  torch.Size([1, 64, 50, 50])\n",
      "module.resnet.maxpool  :  torch.Size([1, 64, 25, 25])\n",
      "module.resnet.layer1.0.conv1  :  torch.Size([1, 64, 25, 25])\n",
      "module.resnet.layer1.0.bn1  :  torch.Size([1, 64, 25, 25])\n",
      "module.resnet.layer1.0.relu  :  torch.Size([1, 64, 25, 25])\n",
      "module.resnet.layer1.0.conv2  :  torch.Size([1, 64, 25, 25])\n",
      "module.resnet.layer1.0.bn2  :  torch.Size([1, 64, 25, 25])\n",
      "module.resnet.layer1.0  :  torch.Size([1, 64, 25, 25])\n",
      "module.resnet.layer1.1.conv1  :  torch.Size([1, 64, 25, 25])\n",
      "module.resnet.layer1.1.bn1  :  torch.Size([1, 64, 25, 25])\n",
      "module.resnet.layer1.1.relu  :  torch.Size([1, 64, 25, 25])\n",
      "module.resnet.layer1.1.conv2  :  torch.Size([1, 64, 25, 25])\n",
      "module.resnet.layer1.1.bn2  :  torch.Size([1, 64, 25, 25])\n",
      "module.resnet.layer1.1  :  torch.Size([1, 64, 25, 25])\n",
      "module.resnet.layer1  :  torch.Size([1, 64, 25, 25])\n",
      "module.resnet.layer2.0.conv1  :  torch.Size([1, 128, 13, 13])\n",
      "module.resnet.layer2.0.bn1  :  torch.Size([1, 128, 13, 13])\n",
      "module.resnet.layer2.0.relu  :  torch.Size([1, 128, 13, 13])\n",
      "module.resnet.layer2.0.conv2  :  torch.Size([1, 128, 13, 13])\n",
      "module.resnet.layer2.0.bn2  :  torch.Size([1, 128, 13, 13])\n",
      "module.resnet.layer2.0.downsample.0  :  torch.Size([1, 128, 13, 13])\n",
      "module.resnet.layer2.0.downsample.1  :  torch.Size([1, 128, 13, 13])\n",
      "module.resnet.layer2.0.downsample  :  torch.Size([1, 128, 13, 13])\n",
      "module.resnet.layer2.0  :  torch.Size([1, 128, 13, 13])\n",
      "module.resnet.layer2.1.conv1  :  torch.Size([1, 128, 13, 13])\n",
      "module.resnet.layer2.1.bn1  :  torch.Size([1, 128, 13, 13])\n",
      "module.resnet.layer2.1.relu  :  torch.Size([1, 128, 13, 13])\n",
      "module.resnet.layer2.1.conv2  :  torch.Size([1, 128, 13, 13])\n",
      "module.resnet.layer2.1.bn2  :  torch.Size([1, 128, 13, 13])\n",
      "module.resnet.layer2.1  :  torch.Size([1, 128, 13, 13])\n",
      "module.resnet.layer2  :  torch.Size([1, 128, 13, 13])\n",
      "module.resnet.layer3  :  torch.Size([1, 128, 13, 13])\n",
      "module.resnet.layer4  :  torch.Size([1, 128, 13, 13])\n",
      "module.resnet.avgpool  :  torch.Size([1, 128, 1, 1])\n",
      "module.resnet.fc  :  torch.Size([1, 2])\n",
      "module.resnet  :  torch.Size([1, 2])\n",
      "module  :  torch.Size([1, 2])\n",
      "  :  torch.Size([1, 2])\n"
     ]
    }
   ],
   "source": [
    "for key in feature_activation:\n",
    "    bn = feature_activation[key].cpu()\n",
    "    print(key,\" : \",bn.shape)"
   ]
  },
  {
   "cell_type": "markdown",
   "metadata": {},
   "source": [
    "# 5. GradCAM"
   ]
  },
  {
   "cell_type": "code",
   "execution_count": 180,
   "metadata": {},
   "outputs": [],
   "source": [
    "from pytorch_grad_cam import GradCAM, ScoreCAM, GradCAMPlusPlus, AblationCAM, XGradCAM, EigenCAM, FullGrad\n",
    "from pytorch_grad_cam.guided_backprop import GuidedBackpropReLUModel\n",
    "from pytorch_grad_cam.utils.model_targets import ClassifierOutputTarget\n",
    "from pytorch_grad_cam.utils.image import show_cam_on_image,deprocess_image,preprocess_image\n",
    "\n",
    "def gradcams(model,input_tensor,target_layers,imgpad,optioncam):\n",
    "    # GradCAM, ScoreCAM, GradCAMPlusPlus, AblationCAM, XGradCAM, EigenCAM, FullGrad\n",
    "    if optioncam==\"GradCAM\":\n",
    "        cam = GradCAM(model=model, target_layers=target_layers, use_cuda=True)\n",
    "    elif optioncam==\"ScoreCAM\":\n",
    "        cam = ScoreCAM(model=model, target_layers=target_layers, use_cuda=True)\n",
    "    elif optioncam==\"GradCAMPlusPlus\":\n",
    "        cam = GradCAMPlusPlus(model=model, target_layers=target_layers, use_cuda=True)\n",
    "    elif optioncam==\"AblationCAM\":\n",
    "        cam = AblationCAM(model=model, target_layers=target_layers, use_cuda=True)\n",
    "    elif optioncam==\"XGradCAM\":\n",
    "        cam = XGradCAM(model=model, target_layers=target_layers, use_cuda=True)\n",
    "    elif optioncam==\"EigenCAM\":\n",
    "        cam = EigenCAM(model=model, target_layers=target_layers, use_cuda=True)\n",
    "    elif optioncam==\"FullGrad\":\n",
    "        cam = FullGrad(model=model, target_layers=target_layers, use_cuda=True)\n",
    "    else:\n",
    "        return print(\"your option is not support\")\n",
    "    # Note: input_tensor can be a batch tensor with several images!\n",
    "    # If None, returns the map for the highest scoring category. \n",
    "    # Otherwise, targets the requested index. target_index = 1\n",
    "    targets = None\n",
    "    # You can also pass aug_smooth=True and eigen_smooth=True, to apply smoothing.\n",
    "#     grayscale_cam = cam(input_tensor=input_tensor,targets=targets,aug_smooth=True,eigen_smooth=True)\n",
    "    grayscale_cam = cam(input_tensor, targets)[0]\n",
    "    # In this example grayscale_cam has only one image in the batch:\n",
    "    visualization = show_cam_on_image(imgpad, grayscale_cam, use_rgb=True)\n",
    "    \n",
    "    # Guided-GradCAM\n",
    "    gb_model = GuidedBackpropReLUModel(model=model, use_cuda=True)\n",
    "    gb = gb_model(input_tensor, targets)\n",
    "#     if np.amax(gb)!=0:\n",
    "#         gb = np.maximum(gb,0)*(1/np.amax(gb))\n",
    "    cam_mask = cv2.merge([grayscale_cam, grayscale_cam, grayscale_cam])\n",
    "    cam_gb = cam_mask * gb\n",
    "    \n",
    "    return visualization,gb,cam_gb,cam_mask"
   ]
  },
  {
   "cell_type": "code",
   "execution_count": 184,
   "metadata": {},
   "outputs": [
    {
     "name": "stderr",
     "output_type": "stream",
     "text": [
      "Clipping input data to the valid range for imshow with RGB data ([0..1] for floats or [0..255] for integers).\n",
      "Clipping input data to the valid range for imshow with RGB data ([0..1] for floats or [0..255] for integers).\n"
     ]
    },
    {
     "name": "stdout",
     "output_type": "stream",
     "text": [
      "tensor(True)\n"
     ]
    },
    {
     "data": {
      "text/plain": [
       "<matplotlib.image.AxesImage at 0x2aaedd4c5050>"
      ]
     },
     "execution_count": 184,
     "metadata": {},
     "output_type": "execute_result"
    },
    {
     "data": {
      "image/png": "[encoded data removed]",
      "text/plain": [
       "<Figure size 1440x1440 with 4 Axes>"
      ]
     },
     "metadata": {
      "needs_background": "light"
     },
     "output_type": "display_data"
    }
   ],
   "source": [
    "target_layers = [model.module.resnet.layer2[0]]\n",
    "# cam's option: GradCAM, GradCAMPlusPlus, AblationCAM, XGradCAM, EigenCAM, ScoreCAM, FullGrad\n",
    "optioncam = \"GradCAM\"\n",
    "visualization,gb,cam_gb,cam = gradcams(model,input_tensor,target_layers,img,optioncam)\n",
    "print(y==label)\n",
    "plt.figure(figsize=(20,20))\n",
    "plt.subplot(1,4,1)\n",
    "plt.imshow(cam)\n",
    "plt.subplot(1,4,2)\n",
    "plt.imshow(visualization)\n",
    "plt.subplot(1,4,3)\n",
    "plt.imshow(gb)\n",
    "plt.subplot(1,4,4)\n",
    "plt.imshow(cam_gb)"
   ]
  },
  {
   "cell_type": "code",
   "execution_count": null,
   "metadata": {},
   "outputs": [],
   "source": []
  },
  {
   "cell_type": "code",
   "execution_count": null,
   "metadata": {},
   "outputs": [],
   "source": []
  },
  {
   "cell_type": "code",
   "execution_count": null,
   "metadata": {},
   "outputs": [],
   "source": []
  },
  {
   "cell_type": "code",
   "execution_count": null,
   "metadata": {},
   "outputs": [],
   "source": []
  },
  {
   "cell_type": "markdown",
   "metadata": {},
   "source": [
    "# 99. save model"
   ]
  },
  {
   "cell_type": "code",
   "execution_count": 18,
   "metadata": {},
   "outputs": [],
   "source": [
    "for param in model.parameters():\n",
    "    param.requires_grad = True\n",
    "torch.save(model,\"Feactor_220927.pkl\")"
   ]
  },
  {
   "cell_type": "code",
   "execution_count": null,
   "metadata": {},
   "outputs": [],
   "source": []
  }
 ],
 "metadata": {
  "accelerator": "GPU",
  "colab": {
   "collapsed_sections": [],
   "name": "KIMIA_CNN.ipynb",
   "provenance": []
  },
  "kernelspec": {
   "display_name": "Python 3 (ipykernel)",
   "language": "python",
   "name": "python3"
  },
  "language_info": {
   "codemirror_mode": {
    "name": "ipython",
    "version": 3
   },
   "file_extension": ".py",
   "mimetype": "text/x-python",
   "name": "python",
   "nbconvert_exporter": "python",
   "pygments_lexer": "ipython3",
   "version": "3.7.13"
  },
  "toc": {
   "base_numbering": 1,
   "nav_menu": {},
   "number_sections": true,
   "sideBar": true,
   "skip_h1_title": false,
   "title_cell": "Table of Contents",
   "title_sidebar": "Contents",
   "toc_cell": false,
   "toc_position": {},
   "toc_section_display": true,
   "toc_window_display": false
  }
 },
 "nbformat": 4,
 "nbformat_minor": 1
}
