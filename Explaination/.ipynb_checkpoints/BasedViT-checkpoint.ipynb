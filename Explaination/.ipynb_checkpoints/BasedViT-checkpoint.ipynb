{
 "cells": [
  {
   "cell_type": "markdown",
   "metadata": {},
   "source": [
    "# reference\n",
    "* [Vision Transformer](https://github.com/lucidrains/vit-pytorch#vision-transformer---pytorch)\n",
    "\n",
    "* `[Samira et al.arXiv 2020]` [Quantifying Attention Flow in Transformers](https://arxiv.org/abs/2005.00928) and  [Github](https://github.com/jacobgil/vit-explain)\n",
    "* `[Hila et al.arXiv 2021]` [Transformer Interpretability Beyond Attention Visualization](https://arxiv.org/abs/2012.09838) and [Github](https://github.com/hila-chefer/Transformer-Explainability)"
   ]
  },
  {
   "cell_type": "code",
   "execution_count": 1,
   "metadata": {},
   "outputs": [],
   "source": [
    "import cv2,os\n",
    "from PIL import Image\n",
    "import numpy as np\n",
    "from matplotlib import pyplot as plt\n",
    "from tqdm import tqdm_notebook as tqdm\n",
    "\n",
    "from sklearn.model_selection import train_test_split\n",
    "from sklearn.metrics import roc_auc_score,precision_score,accuracy_score,roc_curve\n",
    "import torch\n",
    "import torch.nn as nn\n",
    "\n",
    "from torchvision import transforms\n",
    "import torchvision.models as models\n",
    "\n",
    "from vit_pytorch import ViT\n",
    "from vit_pytorch.mobile_vit import MobileViT"
   ]
  },
  {
   "cell_type": "code",
   "execution_count": 2,
   "metadata": {},
   "outputs": [
    {
     "name": "stdout",
     "output_type": "stream",
     "text": [
      "torch.device(cuda)\n",
      "torch.cuda.device_count():  1\n",
      "Tesla V100-SXM2-16GB\n",
      "torch.cuda.current_device() 0\n"
     ]
    }
   ],
   "source": [
    "if torch.cuda.is_available():\n",
    "    device = torch.device(\"cuda\")\n",
    "    print(\"torch.device(cuda)\")\n",
    "    print(\"torch.cuda.device_count(): \", torch.cuda.device_count())\n",
    "    for i in range(torch.cuda.device_count()):\n",
    "        print(torch.cuda.get_device_name())\n",
    "    print(\"torch.cuda.current_device()\", torch.cuda.current_device())\n",
    "else:\n",
    "    device = torch.device(\"cpu\")\n",
    "    print(\"torch.device(cpu)\")"
   ]
  },
  {
   "cell_type": "markdown",
   "metadata": {
    "id": "aJjxv_T_DNKk"
   },
   "source": [
    "# 1. Read data"
   ]
  },
  {
   "cell_type": "code",
   "execution_count": 3,
   "metadata": {},
   "outputs": [
    {
     "name": "stdout",
     "output_type": "stream",
     "text": [
      "untreaded_train.shape: (3000, 100, 100, 3)\n",
      "VPAtreaded_train.shape: (3000, 100, 100, 3)\n",
      "untreaded_test.shape: (210, 100, 100, 3)\n",
      "VPAtreaded_test.shape: (210, 100, 100, 3)\n"
     ]
    }
   ],
   "source": [
    "# Data(x)\n",
    "untreaded_train=np.load(\"../Classification/results2022/untreaded_train.npy\",allow_pickle=True)\n",
    "# untreaded_train=np.load(\"../Classification/results2022/untreaded_train_all.npy\",allow_pickle=True)[:10000]\n",
    "VPAtreaded_train=np.load(\"../Classification/results2022/VPAtreaded_train.npy\",allow_pickle=True)\n",
    "untreaded_test=np.load(\"../Classification/results2022/untreaded_test.npy\",allow_pickle=True)\n",
    "VPAtreaded_test=np.load(\"../Classification/results2022/VPAtreaded_test.npy\",allow_pickle=True)\n",
    "\n",
    "print(\"untreaded_train.shape:\", untreaded_train.shape)\n",
    "print(\"VPAtreaded_train.shape:\", VPAtreaded_train.shape)\n",
    "print(\"untreaded_test.shape:\", untreaded_test.shape)\n",
    "print(\"VPAtreaded_test.shape:\", VPAtreaded_test.shape)\n",
    "\n",
    "# Label(y)\n",
    "y_untreaded_train = np.zeros(len(untreaded_train), dtype=np.int32)\n",
    "y_VPAtreaded_train = np.ones(len(VPAtreaded_train), dtype=np.int32)\n",
    "\n",
    "y_untreaded_test = np.zeros(len(untreaded_test), dtype=np.int32)\n",
    "y_VPAtreaded_test = np.ones(len(VPAtreaded_test), dtype=np.int32)\n",
    "\n",
    "# concatenate x and y\n",
    "X_train, X_test = np.concatenate((untreaded_train, VPAtreaded_train), axis = 0), np.concatenate((untreaded_test, VPAtreaded_test), axis = 0)\n",
    "y_train, y_test = np.concatenate((y_untreaded_train, y_VPAtreaded_train), axis = 0), np.concatenate((y_untreaded_test, y_VPAtreaded_test), axis = 0)"
   ]
  },
  {
   "cell_type": "markdown",
   "metadata": {
    "id": "qyvCoE-HDNKm"
   },
   "source": [
    "# 2. Data processing"
   ]
  },
  {
   "cell_type": "code",
   "execution_count": 4,
   "metadata": {
    "executionInfo": {
     "elapsed": 290,
     "status": "ok",
     "timestamp": 1627023529885,
     "user": {
      "displayName": "Yicheng Wang",
      "photoUrl": "https://lh3.googleusercontent.com/a-/AOh14GgziKLn_im8Zl7A_SAzLLRm66nioH7fG0xuCYpJYg=s64",
      "userId": "10487961361854797289"
     },
     "user_tz": -540
    },
    "id": "Fh058iRlDNKm"
   },
   "outputs": [],
   "source": [
    "class cell_dataset(torch.utils.data.Dataset):\n",
    "    def __init__(self, x, y):\n",
    "        self.x = x\n",
    "        self.y = y\n",
    "        self.transform = transforms.ToTensor()\n",
    "    def __len__(self):\n",
    "        return len(self.x)\n",
    "    def __getitem__(self, idx):\n",
    "        return self.transform(self.x[idx]), torch.tensor(self.y[idx], dtype=torch.long)\n",
    "\n",
    "# trainval_data = cell_dataset(X_train, y_train)\n",
    "train_data = cell_dataset(X_train, y_train)\n",
    "val_data = cell_dataset(X_test, y_test)"
   ]
  },
  {
   "cell_type": "code",
   "execution_count": 5,
   "metadata": {
    "executionInfo": {
     "elapsed": 325,
     "status": "ok",
     "timestamp": 1627023533467,
     "user": {
      "displayName": "Yicheng Wang",
      "photoUrl": "https://lh3.googleusercontent.com/a-/AOh14GgziKLn_im8Zl7A_SAzLLRm66nioH7fG0xuCYpJYg=s64",
      "userId": "10487961361854797289"
     },
     "user_tz": -540
    },
    "id": "xK5exWXUDNKn"
   },
   "outputs": [],
   "source": [
    "batch_size = 32\n",
    "\n",
    "# val_size = int(len(trainval_data)*0.2)\n",
    "# train_size = len(trainval_data) - val_size\n",
    "\n",
    "# train_data, val_data = torch.utils.data.random_split(trainval_data, [train_size, val_size])\n",
    "dataloader_train = torch.utils.data.DataLoader(train_data, batch_size=batch_size, shuffle=True)\n",
    "dataloader_valid = torch.utils.data.DataLoader(val_data, batch_size=batch_size, shuffle=True)"
   ]
  },
  {
   "cell_type": "code",
   "execution_count": 6,
   "metadata": {},
   "outputs": [
    {
     "name": "stdout",
     "output_type": "stream",
     "text": [
      "Total number of train :  6000\n",
      "train_class_0:  3000\n",
      "train_class_1:  3000\n",
      "\n",
      "Total number of val :  420\n",
      "val_class_0:  210\n",
      "val_class_1:  210\n",
      "\n",
      "Total number of test :  420\n",
      "test_class_0 num :  210\n",
      "test_class_1 num :  210\n"
     ]
    }
   ],
   "source": [
    "train_data_01 = 0\n",
    "train_size = len(train_data)\n",
    "for i in range(train_size):\n",
    "    train_data_01+=train_data[i][1].item()\n",
    "print(\"Total number of train : \", train_size)\n",
    "print(\"train_class_0: \", train_size-train_data_01)\n",
    "print(\"train_class_1: \", train_data_01)\n",
    "\n",
    "val_data_01 = 0\n",
    "val_size = len(val_data)\n",
    "for i in range(val_size):\n",
    "    val_data_01+=val_data[i][1].item()\n",
    "print(\"\\nTotal number of val : \", val_size)\n",
    "print(\"val_class_0: \", val_size-val_data_01)\n",
    "print(\"val_class_1: \", val_data_01)\n",
    "\n",
    "test_00 = y_test.tolist().count(0)\n",
    "test_01 = y_test.tolist().count(1)\n",
    "print(\"\\nTotal number of test : \", len(y_test))\n",
    "print(\"test_class_0 num : \", test_00)\n",
    "print(\"test_class_1 num : \", test_01)"
   ]
  },
  {
   "cell_type": "markdown",
   "metadata": {
    "id": "-KBoEbEMDNKo"
   },
   "source": [
    "# 3. Vision Transformer"
   ]
  },
  {
   "cell_type": "code",
   "execution_count": 7,
   "metadata": {
    "id": "VIwIc2BXDNKp",
    "scrolled": false
   },
   "outputs": [],
   "source": [
    "model = ViT(\n",
    "    image_size = 100,\n",
    "    patch_size = 4,\n",
    "    num_classes = 2,\n",
    "    dim = 1024,\n",
    "    depth = 2,\n",
    "    heads = 16,\n",
    "    mlp_dim = 2048,\n",
    "    dropout = 0.5,\n",
    "    emb_dropout = 0.5\n",
    ").to(device)\n",
    "if torch.cuda.device_count() > 1:\n",
    "    model = nn.DataParallel(model)"
   ]
  },
  {
   "cell_type": "code",
   "execution_count": 19,
   "metadata": {},
   "outputs": [],
   "source": [
    "# model = torch.load(\"SelfViT_221011.pkl\")"
   ]
  },
  {
   "cell_type": "code",
   "execution_count": 9,
   "metadata": {},
   "outputs": [],
   "source": [
    "# #Freeze model weights\n",
    "# for param in model.parameters():\n",
    "#     param.requires_grad = True\n",
    "# for param in model.fc.parameters():\n",
    "#     param.requires_grad = True"
   ]
  },
  {
   "cell_type": "code",
   "execution_count": 10,
   "metadata": {},
   "outputs": [
    {
     "name": "stdout",
     "output_type": "stream",
     "text": [
      "torch.Size([1, 2])\n"
     ]
    }
   ],
   "source": [
    "image_size = 100\n",
    "test_input = torch.ones(1,3,image_size,image_size).to(device)\n",
    "print(model(test_input).size())"
   ]
  },
  {
   "cell_type": "code",
   "execution_count": 11,
   "metadata": {},
   "outputs": [],
   "source": [
    "model.avgpool = nn.AdaptiveAvgPool2d(1)\n",
    "loss_func = nn.NLLLoss()\n",
    "\n",
    "# negative : ラベル0の数\n",
    "# positive : ラベル1の数\n",
    "# weight_for_0 : 1. / negative * (negative + positive)\n",
    "# weight_for_1 : 1. / positive * (negative + positive)\n",
    "# class_weight = {0 : weight_for_0, 1 : weight_for_1}\n",
    "weights = torch.tensor([(len(untreaded_train)+len(VPAtreaded_train))/len(untreaded_train), \n",
    "                        (len(untreaded_train)+len(VPAtreaded_train))/len(VPAtreaded_train)]).cuda()\n",
    "loss_function = nn.CrossEntropyLoss(weight=weights)\n",
    "\n",
    "optimizer = torch.optim.Adam(model.parameters(), lr=0.1)  # 定义优化器\n",
    "scheduler = torch.optim.lr_scheduler.ExponentialLR(optimizer, gamma=0.99) # 定义衰减策略\n",
    "\n",
    "\n",
    "# model = model.cuda()\n",
    "model.to(device)\n",
    "if torch.cuda.device_count() > 1:\n",
    "    model = nn.DataParallel(model)"
   ]
  },
  {
   "cell_type": "code",
   "execution_count": 12,
   "metadata": {},
   "outputs": [],
   "source": [
    "losstrain=[]\n",
    "lossvalid=[]\n",
    "Accuracytrain=[]\n",
    "Accuracyvalid=[]"
   ]
  },
  {
   "cell_type": "code",
   "execution_count": 13,
   "metadata": {
    "scrolled": true
   },
   "outputs": [
    {
     "name": "stdout",
     "output_type": "stream",
     "text": [
      "EPOCH: 0, Train [Loss: 3.145, Accuracy: 0.498], Valid [Loss: 0.741, Accuracy: 0.500]\n",
      "EPOCH: 1, Train [Loss: 0.864, Accuracy: 0.492], Valid [Loss: 0.758, Accuracy: 0.500]\n",
      "EPOCH: 2, Train [Loss: 0.888, Accuracy: 0.501], Valid [Loss: 0.770, Accuracy: 0.500]\n",
      "EPOCH: 3, Train [Loss: 0.813, Accuracy: 0.511], Valid [Loss: 0.742, Accuracy: 0.500]\n",
      "EPOCH: 4, Train [Loss: 0.913, Accuracy: 0.512], Valid [Loss: 0.774, Accuracy: 0.500]\n",
      "EPOCH: 5, Train [Loss: 0.890, Accuracy: 0.504], Valid [Loss: 1.093, Accuracy: 0.500]\n",
      "EPOCH: 6, Train [Loss: 0.914, Accuracy: 0.506], Valid [Loss: 1.612, Accuracy: 0.500]\n",
      "EPOCH: 7, Train [Loss: 1.040, Accuracy: 0.506], Valid [Loss: 0.701, Accuracy: 0.500]\n",
      "EPOCH: 8, Train [Loss: 1.069, Accuracy: 0.516], Valid [Loss: 0.976, Accuracy: 0.500]\n",
      "EPOCH: 9, Train [Loss: 0.969, Accuracy: 0.507], Valid [Loss: 0.753, Accuracy: 0.500]\n",
      "EPOCH: 10, Train [Loss: 0.869, Accuracy: 0.497], Valid [Loss: 0.958, Accuracy: 0.500]\n",
      "EPOCH: 11, Train [Loss: 0.909, Accuracy: 0.516], Valid [Loss: 1.022, Accuracy: 0.500]\n",
      "EPOCH: 12, Train [Loss: 0.933, Accuracy: 0.509], Valid [Loss: 0.928, Accuracy: 0.500]\n",
      "EPOCH: 13, Train [Loss: 1.001, Accuracy: 0.503], Valid [Loss: 1.765, Accuracy: 0.500]\n",
      "EPOCH: 14, Train [Loss: 0.995, Accuracy: 0.496], Valid [Loss: 0.719, Accuracy: 0.500]\n",
      "EPOCH: 15, Train [Loss: 0.955, Accuracy: 0.505], Valid [Loss: 1.232, Accuracy: 0.500]\n",
      "EPOCH: 16, Train [Loss: 1.168, Accuracy: 0.502], Valid [Loss: 0.777, Accuracy: 0.500]\n",
      "EPOCH: 17, Train [Loss: 0.913, Accuracy: 0.502], Valid [Loss: 0.735, Accuracy: 0.500]\n",
      "EPOCH: 18, Train [Loss: 0.922, Accuracy: 0.493], Valid [Loss: 0.714, Accuracy: 0.500]\n",
      "EPOCH: 19, Train [Loss: 0.987, Accuracy: 0.509], Valid [Loss: 1.276, Accuracy: 0.500]\n",
      "EPOCH: 20, Train [Loss: 0.864, Accuracy: 0.503], Valid [Loss: 0.981, Accuracy: 0.500]\n",
      "EPOCH: 21, Train [Loss: 0.897, Accuracy: 0.496], Valid [Loss: 0.797, Accuracy: 0.500]\n",
      "EPOCH: 22, Train [Loss: 0.942, Accuracy: 0.502], Valid [Loss: 0.821, Accuracy: 0.500]\n",
      "EPOCH: 23, Train [Loss: 0.927, Accuracy: 0.502], Valid [Loss: 0.800, Accuracy: 0.500]\n",
      "EPOCH: 24, Train [Loss: 0.863, Accuracy: 0.505], Valid [Loss: 0.694, Accuracy: 0.500]\n"
     ]
    },
    {
     "ename": "KeyboardInterrupt",
     "evalue": "",
     "output_type": "error",
     "traceback": [
      "\u001b[0;31m---------------------------------------------------------------------------\u001b[0m",
      "\u001b[0;31mKeyboardInterrupt\u001b[0m                         Traceback (most recent call last)",
      "\u001b[0;32m/tmp/10814766.1.gpu/ipykernel_147278/3501450877.py\u001b[0m in \u001b[0;36m<module>\u001b[0;34m\u001b[0m\n\u001b[1;32m     19\u001b[0m         \u001b[0moptimizer\u001b[0m\u001b[0;34m.\u001b[0m\u001b[0mstep\u001b[0m\u001b[0;34m(\u001b[0m\u001b[0;34m)\u001b[0m  \u001b[0;31m# パラメータの更新\u001b[0m\u001b[0;34m\u001b[0m\u001b[0;34m\u001b[0m\u001b[0m\n\u001b[1;32m     20\u001b[0m         \u001b[0mpred\u001b[0m \u001b[0;34m=\u001b[0m \u001b[0moutput\u001b[0m\u001b[0;34m.\u001b[0m\u001b[0margmax\u001b[0m\u001b[0;34m(\u001b[0m\u001b[0;36m1\u001b[0m\u001b[0;34m)\u001b[0m  \u001b[0;31m# 最大値を取るラベルを予測ラベルとする\u001b[0m\u001b[0;34m\u001b[0m\u001b[0;34m\u001b[0m\u001b[0m\n\u001b[0;32m---> 21\u001b[0;31m         \u001b[0macc_train\u001b[0m \u001b[0;34m+=\u001b[0m \u001b[0;34m(\u001b[0m\u001b[0mpred\u001b[0m \u001b[0;34m==\u001b[0m \u001b[0my\u001b[0m\u001b[0;34m)\u001b[0m\u001b[0;34m.\u001b[0m\u001b[0mfloat\u001b[0m\u001b[0;34m(\u001b[0m\u001b[0;34m)\u001b[0m\u001b[0;34m.\u001b[0m\u001b[0msum\u001b[0m\u001b[0;34m(\u001b[0m\u001b[0;34m)\u001b[0m\u001b[0;34m.\u001b[0m\u001b[0mitem\u001b[0m\u001b[0;34m(\u001b[0m\u001b[0;34m)\u001b[0m\u001b[0;34m\u001b[0m\u001b[0;34m\u001b[0m\u001b[0m\n\u001b[0m\u001b[1;32m     22\u001b[0m         \u001b[0mlosses_train\u001b[0m\u001b[0;34m.\u001b[0m\u001b[0mappend\u001b[0m\u001b[0;34m(\u001b[0m\u001b[0mloss\u001b[0m\u001b[0;34m.\u001b[0m\u001b[0mtolist\u001b[0m\u001b[0;34m(\u001b[0m\u001b[0;34m)\u001b[0m\u001b[0;34m)\u001b[0m\u001b[0;34m\u001b[0m\u001b[0;34m\u001b[0m\u001b[0m\n\u001b[1;32m     23\u001b[0m     \u001b[0;31m# Evaluate\u001b[0m\u001b[0;34m\u001b[0m\u001b[0;34m\u001b[0m\u001b[0;34m\u001b[0m\u001b[0m\n",
      "\u001b[0;31mKeyboardInterrupt\u001b[0m: "
     ]
    }
   ],
   "source": [
    "n_epochs = 100\n",
    "arr_max = 0.70\n",
    "for epoch in range(n_epochs):\n",
    "    losses_train = []\n",
    "    losses_valid = []\n",
    "    # Train\n",
    "    optimizer.step()\n",
    "    model.train()\n",
    "    n_train = 0\n",
    "    acc_train = 0\n",
    "    for x, y in dataloader_train:\n",
    "        n_train += y.size()[0]\n",
    "        model.zero_grad()  # 勾配の初期化\n",
    "        x = x.to(device)  # テンソルをGPUに移動\n",
    "        y = y.to(device)\n",
    "        output = model.forward(x)  # 順伝播\n",
    "        loss = loss_function(output, y)  # 誤差(クロスエントロピー誤差関数)の計算\n",
    "        loss.backward()  # 誤差の逆伝播\n",
    "        optimizer.step()  # パラメータの更新\n",
    "        pred = output.argmax(1)  # 最大値を取るラベルを予測ラベルとする\n",
    "        acc_train += (pred == y).float().sum().item()\n",
    "        losses_train.append(loss.tolist())\n",
    "    # Evaluate\n",
    "    model.eval()\n",
    "    n_val = 0\n",
    "    acc_val = 0\n",
    "    for x, y in dataloader_valid:\n",
    "        n_val += y.size()[0]\n",
    "        x = x.to(device)  # テンソルをGPUに移動\n",
    "        y = y.to(device)\n",
    "        output = model.forward(x)  # 順伝播\n",
    "        loss = loss_function(output, y)  # 誤差(クロスエントロピー誤差関数)の計算\n",
    "        pred = output.argmax(1)  # 最大値を取るラベルを予測ラベルとする\n",
    "        acc_val += (pred == y).float().sum().item()\n",
    "        losses_valid.append(loss.tolist())\n",
    "    scheduler.step()\n",
    "    \n",
    "    # Visualize loss & accuracy    \n",
    "    losstrain.append(np.mean(losses_train))\n",
    "    Accuracytrain.append(acc_train/n_train)\n",
    "    lossvalid.append(np.mean(losses_valid))\n",
    "    Accuracyvalid.append(acc_val/n_val)\n",
    "    print('EPOCH: {}, Train [Loss: {:.3f}, Accuracy: {:.3f}], Valid [Loss: {:.3f}, Accuracy: {:.3f}]'\n",
    "          .format(epoch,np.mean(losses_train),acc_train/n_train,np.mean(losses_valid),acc_val/n_val))\n",
    "    \n",
    "    # Save best model\n",
    "    if acc_train/n_train > arr_max:\n",
    "        arr_max = acc_train/n_train\n",
    "        torch.save(model,\"SelfViT.pkl\")\n",
    "\n",
    "print(\"Best accuracy is \", arr_max)"
   ]
  },
  {
   "cell_type": "code",
   "execution_count": 52,
   "metadata": {},
   "outputs": [
    {
     "data": {
      "image/png": "[encoded data removed]",
      "text/plain": [
       "<Figure size 432x288 with 1 Axes>"
      ]
     },
     "metadata": {
      "needs_background": "light"
     },
     "output_type": "display_data"
    },
    {
     "data": {
      "text/plain": [
       "<Figure size 432x288 with 0 Axes>"
      ]
     },
     "metadata": {},
     "output_type": "display_data"
    }
   ],
   "source": [
    "# train processing plot\n",
    "n_epochs = 300\n",
    "epochs=range(1,n_epochs+1)\n",
    "plt.ylim(0,1.0)\n",
    "plt.plot(epochs,Accuracytrain,'b',label='Training accuracy')  \n",
    "plt.plot(epochs, Accuracyvalid,'r',label='Validation accuracy')\n",
    "plt.title('Training and Validation accuracy')\n",
    "plt.legend()\n",
    "plt.figure()\n",
    "plt.show()"
   ]
  },
  {
   "cell_type": "code",
   "execution_count": null,
   "metadata": {},
   "outputs": [],
   "source": []
  },
  {
   "cell_type": "markdown",
   "metadata": {},
   "source": [
    "# 4. Attention Map"
   ]
  },
  {
   "cell_type": "code",
   "execution_count": 14,
   "metadata": {},
   "outputs": [],
   "source": [
    "from vit_explain.vit_grad_rollout import VITAttentionGradRollout\n",
    "from vit_explain.vit_rollout import VITAttentionRollout\n",
    "from pytorch_grad_cam.utils.image import show_cam_on_image"
   ]
  },
  {
   "cell_type": "code",
   "execution_count": null,
   "metadata": {},
   "outputs": [],
   "source": [
    "# model = torch.load(\"SelfViT_221011.pkl\")"
   ]
  },
  {
   "cell_type": "code",
   "execution_count": 22,
   "metadata": {},
   "outputs": [
    {
     "name": "stdout",
     "output_type": "stream",
     "text": [
      "y is 0 ; pre is 0 => True\n"
     ]
    },
    {
     "data": {
      "text/plain": [
       "<matplotlib.image.AxesImage at 0x2af939d6a850>"
      ]
     },
     "execution_count": 22,
     "metadata": {},
     "output_type": "execute_result"
    },
    {
     "data": {
      "image/png": "[encoded data removed]",
      "text/plain": [
       "<Figure size 432x288 with 1 Axes>"
      ]
     },
     "metadata": {
      "needs_background": "light"
     },
     "output_type": "display_data"
    }
   ],
   "source": [
    "n = 1\n",
    "img = train_data[n][0].permute(1,2,0).numpy()\n",
    "label = train_data[n][1]\n",
    "input_tensor = train_data[n][0].unsqueeze(0).to(device)\n",
    "output = model(input_tensor)\n",
    "y = output.argmax(1).cpu().item()\n",
    "print(\"y is\",y , \"; pre is\", label.item(), \"=>\",y==label.item())\n",
    "\n",
    "plt.title(\"min : {:.3f},  max : {:.3f}\".format(np.amin(img),np.amax(img)))\n",
    "plt.imshow(img)"
   ]
  },
  {
   "cell_type": "code",
   "execution_count": 30,
   "metadata": {
    "scrolled": false
   },
   "outputs": [
    {
     "name": "stdout",
     "output_type": "stream",
     "text": [
      ">>att_mask<<  min: 0.000,  max: 1.000\n",
      ">>grad_att_mask<<  min: 0.000,  max: 1.000\n"
     ]
    },
    {
     "data": {
      "text/plain": [
       "<matplotlib.image.AxesImage at 0x2af93a7bcfd0>"
      ]
     },
     "execution_count": 30,
     "metadata": {},
     "output_type": "execute_result"
    },
    {
     "data": {
      "image/png": "[encoded data removed]",
      "text/plain": [
       "<Figure size 720x720 with 3 Axes>"
      ]
     },
     "metadata": {
      "needs_background": "light"
     },
     "output_type": "display_data"
    },
    {
     "data": {
      "image/png": "[encoded data removed]",
      "text/plain": [
       "<Figure size 720x720 with 3 Axes>"
      ]
     },
     "metadata": {
      "needs_background": "light"
     },
     "output_type": "display_data"
    }
   ],
   "source": [
    "attention_layer_name='transformer.layers.1.0.fn.drop'\n",
    "\n",
    "rollout = VITAttentionRollout(model, attention_layer_name=attention_layer_name, discard_ratio=0.9)\n",
    "att, att_mask = rollout(input_tensor)\n",
    "grad_rollout = VITAttentionGradRollout(model, attention_layer_name=attention_layer_name, discard_ratio=0.9)\n",
    "grad_att, grad_att_mask = grad_rollout(input_tensor,label)\n",
    "\n",
    "print(\">>att_mask<<  min: {:.3f},  max: {:.3f}\".format(np.amin(att_mask),np.amax(att_mask)))\n",
    "print(\">>grad_att_mask<<  min: {:.3f},  max: {:.3f}\".format(np.amin(grad_att_mask),np.amax(grad_att_mask)))\n",
    "\n",
    "#interpolation=cv2.INTER_NEAREST\n",
    "att_mask = cv2.resize(att_mask, (100,100), interpolation=cv2.INTER_NEAREST)\n",
    "grad_att_mask = cv2.resize(grad_att_mask, (100,100), interpolation=cv2.INTER_NEAREST)\n",
    "mask = show_cam_on_image(img, att_mask, use_rgb=True)\n",
    "grad_mask = show_cam_on_image(img, grad_att_mask, use_rgb=True)\n",
    "\n",
    "\n",
    "plt.figure(figsize=(10,10))\n",
    "plt.subplot(1,3,1)\n",
    "plt.imshow(att[0])\n",
    "plt.subplot(1,3,2)\n",
    "plt.imshow(att_mask)\n",
    "plt.subplot(1,3,3)\n",
    "plt.imshow(mask)\n",
    "\n",
    "plt.figure(figsize=(10,10))\n",
    "plt.subplot(1,3,1)\n",
    "plt.imshow(grad_att[0])\n",
    "plt.subplot(1,3,2)\n",
    "plt.imshow(grad_att_mask)\n",
    "plt.subplot(1,3,3)\n",
    "plt.imshow(grad_mask)"
   ]
  },
  {
   "cell_type": "markdown",
   "metadata": {},
   "source": [
    "# 5. Feature map"
   ]
  },
  {
   "cell_type": "code",
   "execution_count": 36,
   "metadata": {
    "scrolled": true
   },
   "outputs": [
    {
     "name": "stdout",
     "output_type": "stream",
     "text": [
      "\n",
      "to_patch_embedding\n",
      "to_patch_embedding.0\n",
      "to_patch_embedding.1\n",
      "dropout\n",
      "transformer\n",
      "transformer.layers\n",
      "transformer.layers.0\n",
      "transformer.layers.0.0\n",
      "transformer.layers.0.0.norm\n",
      "transformer.layers.0.0.fn\n",
      "transformer.layers.0.0.fn.attend\n",
      "transformer.layers.0.0.fn.dropout\n",
      "transformer.layers.0.0.fn.to_qkv\n",
      "transformer.layers.0.0.fn.to_out\n",
      "transformer.layers.0.0.fn.to_out.0\n",
      "transformer.layers.0.0.fn.to_out.1\n",
      "transformer.layers.0.1\n",
      "transformer.layers.0.1.norm\n",
      "transformer.layers.0.1.fn\n",
      "transformer.layers.0.1.fn.net\n",
      "transformer.layers.0.1.fn.net.0\n",
      "transformer.layers.0.1.fn.net.1\n",
      "transformer.layers.0.1.fn.net.2\n",
      "transformer.layers.0.1.fn.net.3\n",
      "transformer.layers.0.1.fn.net.4\n",
      "transformer.layers.1\n",
      "transformer.layers.1.0\n",
      "transformer.layers.1.0.norm\n",
      "transformer.layers.1.0.fn\n",
      "transformer.layers.1.0.fn.attend\n",
      "transformer.layers.1.0.fn.dropout\n",
      "transformer.layers.1.0.fn.to_qkv\n",
      "transformer.layers.1.0.fn.to_out\n",
      "transformer.layers.1.0.fn.to_out.0\n",
      "transformer.layers.1.0.fn.to_out.1\n",
      "transformer.layers.1.1\n",
      "transformer.layers.1.1.norm\n",
      "transformer.layers.1.1.fn\n",
      "transformer.layers.1.1.fn.net\n",
      "transformer.layers.1.1.fn.net.0\n",
      "transformer.layers.1.1.fn.net.1\n",
      "transformer.layers.1.1.fn.net.2\n",
      "transformer.layers.1.1.fn.net.3\n",
      "transformer.layers.1.1.fn.net.4\n",
      "to_latent\n",
      "mlp_head\n",
      "mlp_head.0\n",
      "mlp_head.1\n",
      "avgpool\n"
     ]
    }
   ],
   "source": [
    "# 定义钩子函数，获取指定层名称的特征\n",
    "feature_activation = {} # 保存获取的输出\n",
    "def get_activation(name):\n",
    "    def hook(model, input, output):\n",
    "        feature_activation[name] = output.detach()\n",
    "    return hook\n",
    "\n",
    "for name, layer in model.named_modules():\n",
    "    layer.register_forward_hook(get_activation(name))\n",
    "    print(name)"
   ]
  },
  {
   "cell_type": "code",
   "execution_count": 37,
   "metadata": {},
   "outputs": [
    {
     "ename": "KeyError",
     "evalue": "'avgpool'",
     "output_type": "error",
     "traceback": [
      "\u001b[0;31m---------------------------------------------------------------------------\u001b[0m",
      "\u001b[0;31mKeyError\u001b[0m                                  Traceback (most recent call last)",
      "\u001b[0;32m/tmp/10814766.1.gpu/ipykernel_177051/1432100443.py\u001b[0m in \u001b[0;36m<module>\u001b[0;34m\u001b[0m\n\u001b[1;32m      2\u001b[0m \u001b[0;31m# key = \"transformer.layers.0.0.fn.attend\"\u001b[0m\u001b[0;34m\u001b[0m\u001b[0;34m\u001b[0m\u001b[0;34m\u001b[0m\u001b[0m\n\u001b[1;32m      3\u001b[0m \u001b[0;34m\u001b[0m\u001b[0m\n\u001b[0;32m----> 4\u001b[0;31m \u001b[0mbn\u001b[0m \u001b[0;34m=\u001b[0m \u001b[0mfeature_activation\u001b[0m\u001b[0;34m[\u001b[0m\u001b[0mkey\u001b[0m\u001b[0;34m]\u001b[0m\u001b[0;34m.\u001b[0m\u001b[0mcpu\u001b[0m\u001b[0;34m(\u001b[0m\u001b[0;34m)\u001b[0m\u001b[0;34m[\u001b[0m\u001b[0;36m0\u001b[0m\u001b[0;34m]\u001b[0m\u001b[0;34m.\u001b[0m\u001b[0mnumpy\u001b[0m\u001b[0;34m(\u001b[0m\u001b[0;34m)\u001b[0m\u001b[0;34m.\u001b[0m\u001b[0mmean\u001b[0m\u001b[0;34m(\u001b[0m\u001b[0maxis\u001b[0m\u001b[0;34m=\u001b[0m\u001b[0;36m0\u001b[0m\u001b[0;34m)\u001b[0m\u001b[0;34m\u001b[0m\u001b[0;34m\u001b[0m\u001b[0m\n\u001b[0m\u001b[1;32m      5\u001b[0m \u001b[0mprint\u001b[0m\u001b[0;34m(\u001b[0m\u001b[0mbn\u001b[0m\u001b[0;34m.\u001b[0m\u001b[0mshape\u001b[0m\u001b[0;34m)\u001b[0m\u001b[0;34m\u001b[0m\u001b[0;34m\u001b[0m\u001b[0m\n\u001b[1;32m      6\u001b[0m \u001b[0;34m\u001b[0m\u001b[0m\n",
      "\u001b[0;31mKeyError\u001b[0m: 'avgpool'"
     ]
    }
   ],
   "source": [
    "key = \"avgpool\"\n",
    "# key = \"transformer.layers.0.0.fn.attend\"\n",
    "\n",
    "bn = feature_activation[key].cpu()[0].numpy().mean(axis=0)\n",
    "print(bn.shape)\n",
    "\n",
    "plt.title(str(format(np.amax(bn)))+\" \"+str(format(np.amin(bn))))\n",
    "plt.axis(\"off\")\n",
    "plt.imshow(bn)"
   ]
  },
  {
   "cell_type": "code",
   "execution_count": 38,
   "metadata": {
    "scrolled": true
   },
   "outputs": [],
   "source": [
    "for key in feature_activation:\n",
    "    bn = feature_activation[key].cpu()\n",
    "    print(key,\" : \",bn.shape)"
   ]
  },
  {
   "cell_type": "code",
   "execution_count": null,
   "metadata": {},
   "outputs": [],
   "source": []
  },
  {
   "cell_type": "markdown",
   "metadata": {},
   "source": [
    "## 90. Model structure "
   ]
  },
  {
   "cell_type": "code",
   "execution_count": 22,
   "metadata": {},
   "outputs": [],
   "source": [
    "model = ViT(\n",
    "    image_size = 100,\n",
    "    patch_size = 10,\n",
    "    num_classes = 2,\n",
    "    dim = 32,\n",
    "    depth = 1,\n",
    "    heads = 4,\n",
    "    mlp_dim = 256,\n",
    "    dropout = 0.1,\n",
    "    emb_dropout = 0.1\n",
    ").to(device)"
   ]
  },
  {
   "cell_type": "code",
   "execution_count": 60,
   "metadata": {},
   "outputs": [
    {
     "name": "stdout",
     "output_type": "stream",
     "text": [
      "Sequential(\n",
      "  (0): Rearrange('b c (h p1) (w p2) -> b (h w) (p1 p2 c)', p1=10, p2=10)\n",
      "  (1): Linear(in_features=300, out_features=1024, bias=True)\n",
      ")\n",
      "torch.Size([1, 3, 100, 100])\n",
      "torch.Size([1, 100, 300])\n",
      "torch.Size([1, 100, 1024])\n",
      "torch.Size([1, 100, 1024])\n"
     ]
    }
   ],
   "source": [
    "print(model.to_patch_embedding)\n",
    "\n",
    "image_size = 100\n",
    "test_input = torch.ones(1,3,image_size,image_size).to(device)\n",
    "print(test_input.shape)\n",
    "x1 = model.to_patch_embedding[0](test_input)\n",
    "print(x1.shape)\n",
    "x2 = model.to_patch_embedding[1](x1)\n",
    "print(x2.shape)\n",
    "x3 = model.dropout(x2)\n",
    "print(x3.shape)"
   ]
  },
  {
   "cell_type": "code",
   "execution_count": 61,
   "metadata": {
    "scrolled": true
   },
   "outputs": [
    {
     "name": "stdout",
     "output_type": "stream",
     "text": [
      "PreNorm(\n",
      "  (norm): LayerNorm((1024,), eps=1e-05, elementwise_affine=True)\n",
      "  (fn): Attention(\n",
      "    (attend): Softmax(dim=-1)\n",
      "    (dropout): Dropout(p=0.1, inplace=False)\n",
      "    (to_qkv): Linear(in_features=1024, out_features=3072, bias=False)\n",
      "    (to_out): Sequential(\n",
      "      (0): Linear(in_features=1024, out_features=1024, bias=True)\n",
      "      (1): Dropout(p=0.1, inplace=False)\n",
      "    )\n",
      "  )\n",
      ")\n",
      "norm:  torch.Size([1, 100, 1024])\n",
      "attend:  torch.Size([1, 100, 1024])\n",
      "dropout:  torch.Size([1, 100, 1024])\n",
      "to_qkv:  torch.Size([1, 100, 3072])\n",
      "after_qkv:  torch.Size([1, 100, 1024])\n",
      "to_out:  torch.Size([1, 100, 1024])\n"
     ]
    }
   ],
   "source": [
    "print(model.transformer.layers[0][0])\n",
    "\n",
    "x4 = model.transformer.layers[0][0].norm(x3)\n",
    "print(\"norm: \",x4.shape)\n",
    "x5 = model.transformer.layers[0][0].fn.attend(x4)\n",
    "print(\"attend: \",x5.shape)\n",
    "x6 = model.transformer.layers[0][0].fn.dropout(x5)\n",
    "print(\"dropout: \",x6.shape)\n",
    "\n",
    "x7 = model.transformer.layers[0][0].fn.to_qkv(x6)\n",
    "print(\"to_qkv: \",x7.shape)\n",
    "dk = int(x7.shape[2]/3)\n",
    "Q = x7[:,:,:dk]\n",
    "K = x7[:,:,dk:dk*2]\n",
    "V = x7[:,:,dk*2:]\n",
    "x7 = torch.matmul(torch.matmul(Q, torch.transpose(K, 1,2))/np.sqrt(dk), V)\n",
    "print(\"after_qkv: \",x7.shape)\n",
    "\n",
    "x8 = model.transformer.layers[0][0].fn.to_out(x7)\n",
    "print(\"to_out: \",x8.shape)"
   ]
  },
  {
   "cell_type": "code",
   "execution_count": 62,
   "metadata": {},
   "outputs": [
    {
     "name": "stdout",
     "output_type": "stream",
     "text": [
      "PreNorm(\n",
      "  (norm): LayerNorm((1024,), eps=1e-05, elementwise_affine=True)\n",
      "  (fn): FeedForward(\n",
      "    (net): Sequential(\n",
      "      (0): Linear(in_features=1024, out_features=2048, bias=True)\n",
      "      (1): GELU(approximate=none)\n",
      "      (2): Dropout(p=0.1, inplace=False)\n",
      "      (3): Linear(in_features=2048, out_features=1024, bias=True)\n",
      "      (4): Dropout(p=0.1, inplace=False)\n",
      "    )\n",
      "  )\n",
      ")\n",
      "torch.Size([1, 100, 1024])\n"
     ]
    }
   ],
   "source": [
    "print(model.transformer.layers[0][1])\n",
    "\n",
    "x9 = model.transformer.layers[0][1](x6)\n",
    "print(x9.shape)"
   ]
  },
  {
   "cell_type": "markdown",
   "metadata": {},
   "source": [
    "# 99. Save model"
   ]
  },
  {
   "cell_type": "code",
   "execution_count": 16,
   "metadata": {},
   "outputs": [],
   "source": [
    "for param in model.parameters():\n",
    "    param.requires_grad = True\n",
    "torch.save(model,\"SelfViT.pkl\")"
   ]
  },
  {
   "cell_type": "code",
   "execution_count": null,
   "metadata": {},
   "outputs": [],
   "source": []
  },
  {
   "cell_type": "code",
   "execution_count": null,
   "metadata": {},
   "outputs": [],
   "source": []
  }
 ],
 "metadata": {
  "accelerator": "GPU",
  "colab": {
   "collapsed_sections": [],
   "name": "KIMIA_CNN.ipynb",
   "provenance": []
  },
  "kernelspec": {
   "display_name": "Python 3 (ipykernel)",
   "language": "python",
   "name": "python3"
  },
  "language_info": {
   "codemirror_mode": {
    "name": "ipython",
    "version": 3
   },
   "file_extension": ".py",
   "mimetype": "text/x-python",
   "name": "python",
   "nbconvert_exporter": "python",
   "pygments_lexer": "ipython3",
   "version": "3.7.13"
  },
  "toc": {
   "base_numbering": 1,
   "nav_menu": {},
   "number_sections": true,
   "sideBar": true,
   "skip_h1_title": false,
   "title_cell": "Table of Contents",
   "title_sidebar": "Contents",
   "toc_cell": false,
   "toc_position": {},
   "toc_section_display": true,
   "toc_window_display": false
  }
 },
 "nbformat": 4,
 "nbformat_minor": 1
}
