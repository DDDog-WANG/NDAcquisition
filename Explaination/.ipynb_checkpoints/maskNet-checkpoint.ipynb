{
 "cells": [
  {
   "cell_type": "code",
   "execution_count": 1,
   "metadata": {},
   "outputs": [],
   "source": [
    "import cv2,os,math\n",
    "from PIL import Image\n",
    "import numpy as np\n",
    "from matplotlib import pyplot as plt\n",
    "from tqdm import tqdm_notebook as tqdm\n",
    "\n",
    "from sklearn.model_selection import train_test_split\n",
    "from sklearn.metrics import roc_auc_score,precision_score,accuracy_score,roc_curve\n",
    "import torch\n",
    "import torch.nn as nn\n",
    "from torchvision import transforms\n",
    "from torchvision import datasets\n",
    "import torchvision.models as models\n",
    "from pytorch_grad_cam.utils.image import show_cam_on_image"
   ]
  },
  {
   "cell_type": "code",
   "execution_count": 2,
   "metadata": {},
   "outputs": [
    {
     "name": "stdout",
     "output_type": "stream",
     "text": [
      "torch.device(cuda)\n",
      "torch.cuda.device_count():  1\n",
      "Tesla V100-SXM2-16GB\n",
      "torch.cuda.current_device() 0\n"
     ]
    }
   ],
   "source": [
    "if torch.cuda.is_available():\n",
    "    device = torch.device(\"cuda\")\n",
    "    print(\"torch.device(cuda)\")\n",
    "    print(\"torch.cuda.device_count(): \", torch.cuda.device_count())\n",
    "    for i in range(torch.cuda.device_count()):\n",
    "        print(torch.cuda.get_device_name())\n",
    "    print(\"torch.cuda.current_device()\", torch.cuda.current_device())\n",
    "else:\n",
    "    device = torch.device(\"cpu\")\n",
    "    print(\"torch.device(cpu)\")"
   ]
  },
  {
   "cell_type": "markdown",
   "metadata": {
    "id": "aJjxv_T_DNKk"
   },
   "source": [
    "# 1. Read data"
   ]
  },
  {
   "cell_type": "code",
   "execution_count": 3,
   "metadata": {},
   "outputs": [
    {
     "name": "stdout",
     "output_type": "stream",
     "text": [
      "untreaded_train.shape: (3000, 100, 100, 3)\n",
      "VPAtreaded_train.shape: (3000, 100, 100, 3)\n",
      "untreaded_test.shape: (210, 100, 100, 3)\n",
      "VPAtreaded_test.shape: (210, 100, 100, 3)\n"
     ]
    }
   ],
   "source": [
    "# Data(x)\n",
    "untreaded_train=np.load(\"../Classification/results2022/untreaded_train.npy\",allow_pickle=True)\n",
    "# untreaded_train=np.load(\"../Classification/results2022/untreaded_train_all.npy\",allow_pickle=True)[:10000]\n",
    "VPAtreaded_train=np.load(\"../Classification/results2022/VPAtreaded_train.npy\",allow_pickle=True)\n",
    "untreaded_test=np.load(\"../Classification/results2022/untreaded_test.npy\",allow_pickle=True)\n",
    "VPAtreaded_test=np.load(\"../Classification/results2022/VPAtreaded_test.npy\",allow_pickle=True)\n",
    "\n",
    "print(\"untreaded_train.shape:\", untreaded_train.shape)\n",
    "print(\"VPAtreaded_train.shape:\", VPAtreaded_train.shape)\n",
    "print(\"untreaded_test.shape:\", untreaded_test.shape)\n",
    "print(\"VPAtreaded_test.shape:\", VPAtreaded_test.shape)\n",
    "\n",
    "# Label(y)\n",
    "y_untreaded_train = np.zeros(len(untreaded_train), dtype=np.int32)\n",
    "y_VPAtreaded_train = np.ones(len(VPAtreaded_train), dtype=np.int32)\n",
    "\n",
    "y_untreaded_test = np.zeros(len(untreaded_test), dtype=np.int32)\n",
    "y_VPAtreaded_test = np.ones(len(VPAtreaded_test), dtype=np.int32)\n",
    "\n",
    "# concatenate x and y\n",
    "X_train, X_test = np.concatenate((untreaded_train, VPAtreaded_train), axis = 0), np.concatenate((untreaded_test, VPAtreaded_test), axis = 0)\n",
    "y_train, y_test = np.concatenate((y_untreaded_train, y_VPAtreaded_train), axis = 0), np.concatenate((y_untreaded_test, y_VPAtreaded_test), axis = 0)"
   ]
  },
  {
   "cell_type": "markdown",
   "metadata": {},
   "source": [
    "# 2. Data processing "
   ]
  },
  {
   "cell_type": "code",
   "execution_count": 4,
   "metadata": {},
   "outputs": [],
   "source": [
    "class cell_dataset(torch.utils.data.Dataset):\n",
    "    def __init__(self, x, y):\n",
    "        self.x = x\n",
    "        self.y = y\n",
    "        self.transform = transforms.ToTensor()\n",
    "    def __len__(self):\n",
    "        return len(self.x)\n",
    "    def __getitem__(self, idx):\n",
    "        return self.transform(self.x[idx]), torch.tensor(self.y[idx], dtype=torch.long)\n",
    "\n",
    "# trainval_data = cell_dataset(X_train, y_train)\n",
    "train_data = cell_dataset(X_train, y_train)\n",
    "val_data = cell_dataset(X_test, y_test)\n",
    "\n",
    "batch_size = 64\n",
    "# val_size = int(len(trainval_data)*0.2)\n",
    "# train_size = len(trainval_data) - val_size\n",
    "\n",
    "# train_data, val_data = torch.utils.data.random_split(trainval_data, [train_size, val_size])\n",
    "dataloader_train = torch.utils.data.DataLoader(train_data, batch_size=batch_size, shuffle=True)\n",
    "dataloader_valid = torch.utils.data.DataLoader(val_data, batch_size=batch_size, shuffle=True)"
   ]
  },
  {
   "cell_type": "code",
   "execution_count": 5,
   "metadata": {},
   "outputs": [
    {
     "name": "stdout",
     "output_type": "stream",
     "text": [
      "Total number of train :  6000\n",
      "train_class_0:  3000\n",
      "train_class_1:  3000\n",
      "\n",
      "Total number of val :  420\n",
      "val_class_0:  210\n",
      "val_class_1:  210\n",
      "\n",
      "Total number of test :  420\n",
      "test_class_0 num :  210\n",
      "test_class_1 num :  210\n"
     ]
    }
   ],
   "source": [
    "train_data_01 = 0\n",
    "train_size = len(train_data)\n",
    "for i in range(train_size):\n",
    "    train_data_01+=train_data[i][1].item()\n",
    "print(\"Total number of train : \", train_size)\n",
    "print(\"train_class_0: \", train_size-train_data_01)\n",
    "print(\"train_class_1: \", train_data_01)\n",
    "\n",
    "val_data_01 = 0\n",
    "val_size = len(val_data)\n",
    "for i in range(val_size):\n",
    "    val_data_01+=val_data[i][1].item()\n",
    "print(\"\\nTotal number of val : \", val_size)\n",
    "print(\"val_class_0: \", val_size-val_data_01)\n",
    "print(\"val_class_1: \", val_data_01)\n",
    "\n",
    "test_00 = y_test.tolist().count(0)\n",
    "test_01 = y_test.tolist().count(1)\n",
    "print(\"\\nTotal number of test : \", len(y_test))\n",
    "print(\"test_class_0 num : \", test_00)\n",
    "print(\"test_class_1 num : \", test_01)"
   ]
  },
  {
   "cell_type": "markdown",
   "metadata": {
    "id": "-KBoEbEMDNKo"
   },
   "source": [
    "# 3. Build Model"
   ]
  },
  {
   "cell_type": "markdown",
   "metadata": {},
   "source": [
    "## maskUNet"
   ]
  },
  {
   "cell_type": "code",
   "execution_count": 122,
   "metadata": {},
   "outputs": [],
   "source": [
    "class DoubleConv(nn.Module):\n",
    "    def __init__(self, in_channels, out_channels):\n",
    "        super(DoubleConv, self).__init__()\n",
    "        self.double_conv = nn.Sequential(\n",
    "            nn.Conv2d(in_channels, out_channels, kernel_size=3, padding=1),\n",
    "            nn.BatchNorm2d(out_channels),\n",
    "            nn.ReLU(inplace=True),\n",
    "            nn.Conv2d(out_channels, out_channels, kernel_size=3, padding=1),\n",
    "            nn.BatchNorm2d(out_channels),\n",
    "            nn.ReLU(inplace=True),\n",
    "        )\n",
    "    def forward(self, x):\n",
    "        return self.double_conv(x)\n",
    "    \n",
    "    \n",
    "class DownBlock(nn.Module):\n",
    "    def __init__(self, in_channels, out_channels):\n",
    "        super(DownBlock, self).__init__()\n",
    "        self.double_conv = DoubleConv(in_channels, out_channels)\n",
    "        self.down_sample = nn.MaxPool2d(2)\n",
    "    def forward(self, x):\n",
    "        skip_out = self.double_conv(x)\n",
    "        down_out = self.down_sample(skip_out)\n",
    "        return (down_out, skip_out)\n",
    "\n",
    "class UpBlock(nn.Module):\n",
    "    def __init__(self, in_channels, out_channels, up_sample_mode):\n",
    "        super(UpBlock, self).__init__()\n",
    "        if up_sample_mode == 'conv_transpose':\n",
    "            self.up_sample = nn.ConvTranspose2d(in_channels-out_channels, in_channels-out_channels, kernel_size=2, stride=2)        \n",
    "        elif up_sample_mode == 'bilinear':\n",
    "            self.up_sample = nn.Upsample(scale_factor=2, mode='bilinear', align_corners=True)\n",
    "        else:\n",
    "            raise ValueError(\"Unsupported `up_sample_mode` (can take one of `conv_transpose` or `bilinear`)\")\n",
    "        self.double_conv = DoubleConv(in_channels, out_channels)\n",
    "    def forward(self, down_input, skip_input):\n",
    "        x = self.up_sample(down_input)\n",
    "        x = torch.cat([x, skip_input], dim=1)\n",
    "        return self.double_conv(x)"
   ]
  },
  {
   "cell_type": "code",
   "execution_count": 123,
   "metadata": {},
   "outputs": [],
   "source": [
    "class maskblock(nn.Module):\n",
    "    def __init__(self, in_channel):\n",
    "        super(maskblock,self).__init__()\n",
    "        self.maskblock = nn.Sequential(\n",
    "            nn.Conv2d(in_channel,3,kernel_size=1),\n",
    "            nn.BatchNorm2d(3),\n",
    "            nn.ReLU(),\n",
    "        )\n",
    "    def forward(self, x):\n",
    "        mask = self.maskblock(x)\n",
    "        return mask"
   ]
  },
  {
   "cell_type": "code",
   "execution_count": 124,
   "metadata": {},
   "outputs": [],
   "source": [
    "class maskUNet(nn.Module):\n",
    "    def __init__(self, up_sample_mode='conv_transpose'):\n",
    "        super(maskUNet, self).__init__()\n",
    "        self.up_sample_mode = up_sample_mode\n",
    "        # Downsampling Path\n",
    "        self.down_conv1 = DownBlock(3, 64)\n",
    "        self.down_conv2 = DownBlock(64, 128)\n",
    "        self.down_conv3 = DownBlock(128, 256)\n",
    "        self.down_conv4 = DownBlock(256, 512)\n",
    "        # Bottleneck\n",
    "        self.double_conv = DoubleConv(512, 1024)\n",
    "        # Upsampling Path\n",
    "        self.up_conv4 = UpBlock(512 + 1024, 512, self.up_sample_mode)\n",
    "        self.up_conv3 = UpBlock(256 + 512, 256, self.up_sample_mode)\n",
    "        self.up_conv2 = UpBlock(128 + 256, 128, self.up_sample_mode)\n",
    "        self.up_conv1 = UpBlock(64 + 128, 64, self.up_sample_mode)\n",
    "        # maskblock\n",
    "        self.mask_layer = nn.Sequential(\n",
    "            maskblock(64),\n",
    "        )\n",
    "        self.fc_layer=nn.Sequential(\n",
    "            nn.AdaptiveAvgPool2d((10)),\n",
    "            nn.Flatten(),\n",
    "            nn.Linear(10*10*3, 2),\n",
    "        )\n",
    "\n",
    "\n",
    "    def forward(self, input_image):\n",
    "        x, skip1_out = self.down_conv1(input_image)\n",
    "        x, skip2_out = self.down_conv2(x)\n",
    "        x, skip3_out = self.down_conv3(x)\n",
    "        x, skip4_out = self.down_conv4(x)\n",
    "        x = self.double_conv(x)\n",
    "        x = self.up_conv4(x, skip4_out)\n",
    "        x = self.up_conv3(x, skip3_out)\n",
    "        x = self.up_conv2(x, skip2_out)\n",
    "        x = self.up_conv1(x, skip1_out)\n",
    "        mask = self.mask_layer(x)\n",
    "        x = torch.multiply(mask, input_image)\n",
    "        output = self.fc_layer(x)\n",
    "        return output"
   ]
  },
  {
   "cell_type": "markdown",
   "metadata": {},
   "source": [
    "## maskFCN"
   ]
  },
  {
   "cell_type": "code",
   "execution_count": 125,
   "metadata": {},
   "outputs": [],
   "source": [
    "# class ResidualBlock(nn.Module):\n",
    "#     def __init__(self, input_channel):\n",
    "#         super(ResidualBlock,self).__init__()\n",
    "#         self.residualblock = nn.Sequential(\n",
    "#             nn.Conv2d(input_channel,input_channel,kernel_size=3,stride=1,padding=1),\n",
    "#             nn.BatchNorm2d(input_channel),\n",
    "#             nn.ReLU(),\n",
    "#             nn.Conv2d(input_channel,input_channel,kernel_size=3,stride=1,padding=1),\n",
    "#             nn.BatchNorm2d(input_channel),\n",
    "#             nn.ReLU(),\n",
    "#             nn.Conv2d(input_channel,input_channel,kernel_size=3,stride=1,padding=1),\n",
    "#             nn.BatchNorm2d(input_channel),\n",
    "#         )\n",
    "#     def forward(self, x):\n",
    "#         residual = self.residualblock(x)\n",
    "#         return x + residual\n",
    "\n",
    "# class DownsampleBlock(nn.Module):\n",
    "#     def __init__(self, input_channel):\n",
    "#         super(DownsampleBlock,self).__init__()\n",
    "#         self.DownsampleBlock = nn.Sequential(\n",
    "#             nn.Conv2d(input_channel,input_channel,kernel_size=3,stride=2,padding=0),\n",
    "#             nn.BatchNorm2d(input_channel),\n",
    "#         )\n",
    "#     def forward(self, x):\n",
    "#         output = self.DownsampleBlock(x)\n",
    "#         return output\n",
    "\n",
    "# class maskblock(nn.Module):\n",
    "#     def __init__(self, input_channel):\n",
    "#         super(maskblock,self).__init__()\n",
    "#         self.maskblock = nn.Sequential(\n",
    "#             nn.Conv2d(input_channel,3,kernel_size=1),\n",
    "#             nn.BatchNorm2d(3),\n",
    "#             nn.ReLU(),\n",
    "#         )\n",
    "#     def forward(self, x):\n",
    "#         mask = self.maskblock(x)\n",
    "# #         mask = transforms.functional.resize(mask,(100,100))\n",
    "#         return mask"
   ]
  },
  {
   "cell_type": "code",
   "execution_count": 126,
   "metadata": {},
   "outputs": [],
   "source": [
    "# class maskFCN(nn.Module):\n",
    "#     def __init__(self):\n",
    "#         super(maskFCN,self).__init__()\n",
    "#         self.pre_layer = nn.Sequential(\n",
    "#             nn.Conv2d(3,64,kernel_size=3,stride=1,padding=1),\n",
    "#             nn.BatchNorm2d(64),\n",
    "#             nn.ReLU()\n",
    "#         )\n",
    "#         self.residual_layer = nn.Sequential(\n",
    "#             ResidualBlock(64),\n",
    "# #             DownsampleBlock(64),\n",
    "#             ResidualBlock(64),\n",
    "# #             DownsampleBlock(64),\n",
    "#             ResidualBlock(64),\n",
    "#         )\n",
    "#         self.mask_layer = nn.Sequential(\n",
    "#             maskblock(64),\n",
    "#         )\n",
    "#         self.fc_layer=nn.Sequential(\n",
    "#             nn.AdaptiveAvgPool2d((10)),\n",
    "#             nn.Flatten(),\n",
    "#             nn.Linear(10*10*3, 2),\n",
    "#         )\n",
    "#     def forward(self, input_image):\n",
    "#         pre = self.pre_layer(input_image)\n",
    "#         res = self.residual_layer(pre)\n",
    "#         mask = self.mask_layer(res)\n",
    "#         mask_image = torch.multiply(mask,input_image)\n",
    "        \n",
    "#         output = self.fc_layer(mask_image)\n",
    "#         return output"
   ]
  },
  {
   "cell_type": "markdown",
   "metadata": {},
   "source": [
    "## linear"
   ]
  },
  {
   "cell_type": "code",
   "execution_count": 127,
   "metadata": {},
   "outputs": [],
   "source": [
    "# class Feactor(nn.Module):\n",
    "#     def __init__(self):\n",
    "#         super(Feactor,self).__init__()\n",
    "#         self.size = 100*100*1\n",
    "#         self.paralle_layer=nn.Sequential(\n",
    "#             nn.Flatten(),\n",
    "#             nn.Linear(self.size, self.size),\n",
    "#             nn.ReLU(),\n",
    "#             nn.Linear(self.size, self.size),\n",
    "#             nn.ReLU(),\n",
    "#             nn.Linear(self.size, self.size),\n",
    "#             nn.ReLU(),\n",
    "#         )\n",
    "#         self.last_layer=nn.Sequential(\n",
    "#             nn.Linear(self.size, 2),\n",
    "#         )\n",
    "#     def forward(self, input_image):\n",
    "#         paralle = self.paralle_layer(input_image)\n",
    "#         output = self.last_layer(paralle)\n",
    "#         return output\n",
    "\n",
    "# model = Feactor().to(device)"
   ]
  },
  {
   "cell_type": "markdown",
   "metadata": {},
   "source": [
    "## vgg16"
   ]
  },
  {
   "cell_type": "code",
   "execution_count": 128,
   "metadata": {},
   "outputs": [],
   "source": [
    "# model = models.vgg16(pretrained=True)\n",
    "\n",
    "# model.classifier = nn.Sequential(\n",
    "#     nn.Linear(25088, 2))\n",
    "\n",
    "# model = model.to(device)"
   ]
  },
  {
   "cell_type": "markdown",
   "metadata": {},
   "source": [
    "# 4. Train"
   ]
  },
  {
   "cell_type": "code",
   "execution_count": 129,
   "metadata": {},
   "outputs": [],
   "source": [
    "model = maskUNet().to(device)"
   ]
  },
  {
   "cell_type": "code",
   "execution_count": 130,
   "metadata": {},
   "outputs": [],
   "source": [
    "ngpu = 1\n",
    "if (device.type == 'cuda') and (ngpu > 1):\n",
    "    model = nn.DataParallel(model, list(range(ngpu)))"
   ]
  },
  {
   "cell_type": "code",
   "execution_count": 131,
   "metadata": {},
   "outputs": [
    {
     "ename": "RuntimeError",
     "evalue": "Sizes of tensors must match except in dimension 1. Expected size 24 but got size 25 for tensor number 1 in the list.",
     "output_type": "error",
     "traceback": [
      "\u001b[0;31m---------------------------------------------------------------------------\u001b[0m",
      "\u001b[0;31mRuntimeError\u001b[0m                              Traceback (most recent call last)",
      "\u001b[0;32m/tmp/10938804.1.gpu/ipykernel_85952/2826413289.py\u001b[0m in \u001b[0;36m<module>\u001b[0;34m\u001b[0m\n\u001b[1;32m      1\u001b[0m \u001b[0mimage_size\u001b[0m \u001b[0;34m=\u001b[0m \u001b[0;36m100\u001b[0m\u001b[0;34m\u001b[0m\u001b[0;34m\u001b[0m\u001b[0m\n\u001b[1;32m      2\u001b[0m \u001b[0mtest_input\u001b[0m \u001b[0;34m=\u001b[0m \u001b[0mtorch\u001b[0m\u001b[0;34m.\u001b[0m\u001b[0mones\u001b[0m\u001b[0;34m(\u001b[0m\u001b[0;36m1\u001b[0m\u001b[0;34m,\u001b[0m\u001b[0;36m3\u001b[0m\u001b[0;34m,\u001b[0m\u001b[0mimage_size\u001b[0m\u001b[0;34m,\u001b[0m\u001b[0mimage_size\u001b[0m\u001b[0;34m)\u001b[0m\u001b[0;34m.\u001b[0m\u001b[0mto\u001b[0m\u001b[0;34m(\u001b[0m\u001b[0mdevice\u001b[0m\u001b[0;34m)\u001b[0m\u001b[0;34m\u001b[0m\u001b[0;34m\u001b[0m\u001b[0m\n\u001b[0;32m----> 3\u001b[0;31m \u001b[0mmask\u001b[0m\u001b[0;34m,\u001b[0m \u001b[0my\u001b[0m \u001b[0;34m=\u001b[0m \u001b[0mmodel\u001b[0m\u001b[0;34m(\u001b[0m\u001b[0mtest_input\u001b[0m\u001b[0;34m)\u001b[0m\u001b[0;34m\u001b[0m\u001b[0;34m\u001b[0m\u001b[0m\n\u001b[0m\u001b[1;32m      4\u001b[0m \u001b[0mprint\u001b[0m\u001b[0;34m(\u001b[0m\u001b[0my\u001b[0m\u001b[0;34m.\u001b[0m\u001b[0msize\u001b[0m\u001b[0;34m(\u001b[0m\u001b[0;34m)\u001b[0m\u001b[0;34m)\u001b[0m\u001b[0;34m\u001b[0m\u001b[0;34m\u001b[0m\u001b[0m\n",
      "\u001b[0;32m~/python7_env/lib/python3.7/site-packages/torch/nn/modules/module.py\u001b[0m in \u001b[0;36m_call_impl\u001b[0;34m(self, *input, **kwargs)\u001b[0m\n\u001b[1;32m   1128\u001b[0m         if not (self._backward_hooks or self._forward_hooks or self._forward_pre_hooks or _global_backward_hooks\n\u001b[1;32m   1129\u001b[0m                 or _global_forward_hooks or _global_forward_pre_hooks):\n\u001b[0;32m-> 1130\u001b[0;31m             \u001b[0;32mreturn\u001b[0m \u001b[0mforward_call\u001b[0m\u001b[0;34m(\u001b[0m\u001b[0;34m*\u001b[0m\u001b[0minput\u001b[0m\u001b[0;34m,\u001b[0m \u001b[0;34m**\u001b[0m\u001b[0mkwargs\u001b[0m\u001b[0;34m)\u001b[0m\u001b[0;34m\u001b[0m\u001b[0;34m\u001b[0m\u001b[0m\n\u001b[0m\u001b[1;32m   1131\u001b[0m         \u001b[0;31m# Do not call functions when jit is used\u001b[0m\u001b[0;34m\u001b[0m\u001b[0;34m\u001b[0m\u001b[0;34m\u001b[0m\u001b[0m\n\u001b[1;32m   1132\u001b[0m         \u001b[0mfull_backward_hooks\u001b[0m\u001b[0;34m,\u001b[0m \u001b[0mnon_full_backward_hooks\u001b[0m \u001b[0;34m=\u001b[0m \u001b[0;34m[\u001b[0m\u001b[0;34m]\u001b[0m\u001b[0;34m,\u001b[0m \u001b[0;34m[\u001b[0m\u001b[0;34m]\u001b[0m\u001b[0;34m\u001b[0m\u001b[0;34m\u001b[0m\u001b[0m\n",
      "\u001b[0;32m/tmp/10938804.1.gpu/ipykernel_85952/4046554723.py\u001b[0m in \u001b[0;36mforward\u001b[0;34m(self, input_image)\u001b[0m\n\u001b[1;32m     33\u001b[0m         \u001b[0mx\u001b[0m \u001b[0;34m=\u001b[0m \u001b[0mself\u001b[0m\u001b[0;34m.\u001b[0m\u001b[0mdouble_conv\u001b[0m\u001b[0;34m(\u001b[0m\u001b[0mx\u001b[0m\u001b[0;34m)\u001b[0m\u001b[0;34m\u001b[0m\u001b[0;34m\u001b[0m\u001b[0m\n\u001b[1;32m     34\u001b[0m         \u001b[0mx\u001b[0m \u001b[0;34m=\u001b[0m \u001b[0mself\u001b[0m\u001b[0;34m.\u001b[0m\u001b[0mup_conv4\u001b[0m\u001b[0;34m(\u001b[0m\u001b[0mx\u001b[0m\u001b[0;34m,\u001b[0m \u001b[0mskip4_out\u001b[0m\u001b[0;34m)\u001b[0m\u001b[0;34m\u001b[0m\u001b[0;34m\u001b[0m\u001b[0m\n\u001b[0;32m---> 35\u001b[0;31m         \u001b[0mx\u001b[0m \u001b[0;34m=\u001b[0m \u001b[0mself\u001b[0m\u001b[0;34m.\u001b[0m\u001b[0mup_conv3\u001b[0m\u001b[0;34m(\u001b[0m\u001b[0mx\u001b[0m\u001b[0;34m,\u001b[0m \u001b[0mskip3_out\u001b[0m\u001b[0;34m)\u001b[0m\u001b[0;34m\u001b[0m\u001b[0;34m\u001b[0m\u001b[0m\n\u001b[0m\u001b[1;32m     36\u001b[0m         \u001b[0mx\u001b[0m \u001b[0;34m=\u001b[0m \u001b[0mself\u001b[0m\u001b[0;34m.\u001b[0m\u001b[0mup_conv2\u001b[0m\u001b[0;34m(\u001b[0m\u001b[0mx\u001b[0m\u001b[0;34m,\u001b[0m \u001b[0mskip2_out\u001b[0m\u001b[0;34m)\u001b[0m\u001b[0;34m\u001b[0m\u001b[0;34m\u001b[0m\u001b[0m\n\u001b[1;32m     37\u001b[0m         \u001b[0mx\u001b[0m \u001b[0;34m=\u001b[0m \u001b[0mself\u001b[0m\u001b[0;34m.\u001b[0m\u001b[0mup_conv1\u001b[0m\u001b[0;34m(\u001b[0m\u001b[0mx\u001b[0m\u001b[0;34m,\u001b[0m \u001b[0mskip1_out\u001b[0m\u001b[0;34m)\u001b[0m\u001b[0;34m\u001b[0m\u001b[0;34m\u001b[0m\u001b[0m\n",
      "\u001b[0;32m~/python7_env/lib/python3.7/site-packages/torch/nn/modules/module.py\u001b[0m in \u001b[0;36m_call_impl\u001b[0;34m(self, *input, **kwargs)\u001b[0m\n\u001b[1;32m   1128\u001b[0m         if not (self._backward_hooks or self._forward_hooks or self._forward_pre_hooks or _global_backward_hooks\n\u001b[1;32m   1129\u001b[0m                 or _global_forward_hooks or _global_forward_pre_hooks):\n\u001b[0;32m-> 1130\u001b[0;31m             \u001b[0;32mreturn\u001b[0m \u001b[0mforward_call\u001b[0m\u001b[0;34m(\u001b[0m\u001b[0;34m*\u001b[0m\u001b[0minput\u001b[0m\u001b[0;34m,\u001b[0m \u001b[0;34m**\u001b[0m\u001b[0mkwargs\u001b[0m\u001b[0;34m)\u001b[0m\u001b[0;34m\u001b[0m\u001b[0;34m\u001b[0m\u001b[0m\n\u001b[0m\u001b[1;32m   1131\u001b[0m         \u001b[0;31m# Do not call functions when jit is used\u001b[0m\u001b[0;34m\u001b[0m\u001b[0;34m\u001b[0m\u001b[0;34m\u001b[0m\u001b[0m\n\u001b[1;32m   1132\u001b[0m         \u001b[0mfull_backward_hooks\u001b[0m\u001b[0;34m,\u001b[0m \u001b[0mnon_full_backward_hooks\u001b[0m \u001b[0;34m=\u001b[0m \u001b[0;34m[\u001b[0m\u001b[0;34m]\u001b[0m\u001b[0;34m,\u001b[0m \u001b[0;34m[\u001b[0m\u001b[0;34m]\u001b[0m\u001b[0;34m\u001b[0m\u001b[0;34m\u001b[0m\u001b[0m\n",
      "\u001b[0;32m/tmp/10938804.1.gpu/ipykernel_85952/4171951174.py\u001b[0m in \u001b[0;36mforward\u001b[0;34m(self, down_input, skip_input)\u001b[0m\n\u001b[1;32m     36\u001b[0m     \u001b[0;32mdef\u001b[0m \u001b[0mforward\u001b[0m\u001b[0;34m(\u001b[0m\u001b[0mself\u001b[0m\u001b[0;34m,\u001b[0m \u001b[0mdown_input\u001b[0m\u001b[0;34m,\u001b[0m \u001b[0mskip_input\u001b[0m\u001b[0;34m)\u001b[0m\u001b[0;34m:\u001b[0m\u001b[0;34m\u001b[0m\u001b[0;34m\u001b[0m\u001b[0m\n\u001b[1;32m     37\u001b[0m         \u001b[0mx\u001b[0m \u001b[0;34m=\u001b[0m \u001b[0mself\u001b[0m\u001b[0;34m.\u001b[0m\u001b[0mup_sample\u001b[0m\u001b[0;34m(\u001b[0m\u001b[0mdown_input\u001b[0m\u001b[0;34m)\u001b[0m\u001b[0;34m\u001b[0m\u001b[0;34m\u001b[0m\u001b[0m\n\u001b[0;32m---> 38\u001b[0;31m         \u001b[0mx\u001b[0m \u001b[0;34m=\u001b[0m \u001b[0mtorch\u001b[0m\u001b[0;34m.\u001b[0m\u001b[0mcat\u001b[0m\u001b[0;34m(\u001b[0m\u001b[0;34m[\u001b[0m\u001b[0mx\u001b[0m\u001b[0;34m,\u001b[0m \u001b[0mskip_input\u001b[0m\u001b[0;34m]\u001b[0m\u001b[0;34m,\u001b[0m \u001b[0mdim\u001b[0m\u001b[0;34m=\u001b[0m\u001b[0;36m1\u001b[0m\u001b[0;34m)\u001b[0m\u001b[0;34m\u001b[0m\u001b[0;34m\u001b[0m\u001b[0m\n\u001b[0m\u001b[1;32m     39\u001b[0m         \u001b[0;32mreturn\u001b[0m \u001b[0mself\u001b[0m\u001b[0;34m.\u001b[0m\u001b[0mdouble_conv\u001b[0m\u001b[0;34m(\u001b[0m\u001b[0mx\u001b[0m\u001b[0;34m)\u001b[0m\u001b[0;34m\u001b[0m\u001b[0;34m\u001b[0m\u001b[0m\n",
      "\u001b[0;31mRuntimeError\u001b[0m: Sizes of tensors must match except in dimension 1. Expected size 24 but got size 25 for tensor number 1 in the list."
     ]
    }
   ],
   "source": [
    "image_size = 100\n",
    "test_input = torch.ones(1,3,image_size,image_size).to(device)\n",
    "mask, y = model(test_input)\n",
    "print(y.size())"
   ]
  },
  {
   "cell_type": "code",
   "execution_count": 43,
   "metadata": {
    "id": "xs6IXgvsDNKp",
    "scrolled": false
   },
   "outputs": [],
   "source": [
    "# model = torch.load(\"Feactor.pkl\")\n",
    "\n",
    "# #Freeze model weights\n",
    "# for param in model.parameters():\n",
    "#     param.requires_grad = True\n",
    "# for param in model.fc.parameters():\n",
    "#     param.requires_grad = True"
   ]
  },
  {
   "cell_type": "code",
   "execution_count": 44,
   "metadata": {},
   "outputs": [],
   "source": [
    "model.avgpool = nn.AdaptiveAvgPool2d(1)\n",
    "loss_function = nn.CrossEntropyLoss()\n",
    "\n",
    "optimizer = torch.optim.Adam(model.parameters(), lr=0.1)  # 定义优化器\n",
    "scheduler = torch.optim.lr_scheduler.ExponentialLR(optimizer, gamma=0.99) # 定义衰减策略"
   ]
  },
  {
   "cell_type": "code",
   "execution_count": 45,
   "metadata": {},
   "outputs": [],
   "source": [
    "losstrain=[]\n",
    "lossvalid=[]\n",
    "Accuracytrain=[]\n",
    "Accuracyvalid=[]"
   ]
  },
  {
   "cell_type": "code",
   "execution_count": 82,
   "metadata": {
    "scrolled": true
   },
   "outputs": [
    {
     "name": "stdout",
     "output_type": "stream",
     "text": [
      "EPOCH: 0, Train [Loss: 0.013, Accuracy: 0.997], Valid [Loss: 0.582, Accuracy: 0.886]\n"
     ]
    }
   ],
   "source": [
    "n_epochs = 1\n",
    "for epoch in range(n_epochs):\n",
    "    losses_train = []\n",
    "    losses_valid = []\n",
    "    # Train\n",
    "    optimizer.step()\n",
    "    model.train()\n",
    "    n_train = 0\n",
    "    acc_train = 0\n",
    "    for x, y in dataloader_train:\n",
    "        n_train += y.size()[0]\n",
    "        model.zero_grad()  # 勾配の初期化\n",
    "        x = x.to(device)  # テンソルをGPUに移動\n",
    "        y = y.to(device)\n",
    "        output = model.forward(x)  # 順伝播\n",
    "        loss = loss_function(output, y)  # 誤差(クロスエントロピー誤差関数)の計算\n",
    "        loss.backward()  # 誤差の逆伝播\n",
    "        optimizer.step()  # パラメータの更新\n",
    "        pred = output.argmax(1)  # 最大値を取るラベルを予測ラベルとする\n",
    "        acc_train += (pred == y).float().sum().item()\n",
    "        losses_train.append(loss.tolist())\n",
    "    # Evaluate\n",
    "    model.eval()\n",
    "    n_val = 0\n",
    "    acc_val = 0\n",
    "    for x, y in dataloader_valid:\n",
    "        n_val += y.size()[0]\n",
    "        x = x.to(device)  # テンソルをGPUに移動\n",
    "        y = y.to(device)\n",
    "        output = model.forward(x)  # 順伝播\n",
    "        loss = loss_function(output, y)  # 誤差(クロスエントロピー誤差関数)の計算\n",
    "        pred = output.argmax(1)  # 最大値を取るラベルを予測ラベルとする\n",
    "        acc_val += (pred == y).float().sum().item()\n",
    "        losses_valid.append(loss.tolist())\n",
    "    scheduler.step()\n",
    "    # Visualize loss & accuracy    \n",
    "    losstrain.append(np.mean(losses_train))\n",
    "    Accuracytrain.append(acc_train/n_train)\n",
    "    lossvalid.append(np.mean(losses_valid))\n",
    "    Accuracyvalid.append(acc_val/n_val)\n",
    "    print('EPOCH: {}, Train [Loss: {:.3f}, Accuracy: {:.3f}], Valid [Loss: {:.3f}, Accuracy: {:.3f}]'\n",
    "          .format(epoch,np.mean(losses_train),acc_train/n_train,np.mean(losses_valid),acc_val/n_val))"
   ]
  },
  {
   "cell_type": "code",
   "execution_count": 64,
   "metadata": {},
   "outputs": [
    {
     "data": {
      "image/png": "[encoded data removed]",
      "text/plain": [
       "<Figure size 432x288 with 1 Axes>"
      ]
     },
     "metadata": {
      "needs_background": "light"
     },
     "output_type": "display_data"
    },
    {
     "data": {
      "text/plain": [
       "<Figure size 432x288 with 0 Axes>"
      ]
     },
     "metadata": {},
     "output_type": "display_data"
    }
   ],
   "source": [
    "# train processing plot\n",
    "n_epochs = 300\n",
    "epochs=range(1,n_epochs+1)\n",
    "plt.ylim(0,1.0)\n",
    "plt.plot(epochs,Accuracytrain,'b',label='Training accuracy')  \n",
    "plt.plot(epochs, Accuracyvalid,'r',label='Validation accuracy')\n",
    "plt.title('Training and Validation accuracy')\n",
    "plt.legend()\n",
    "plt.figure()\n",
    "plt.show()"
   ]
  },
  {
   "cell_type": "code",
   "execution_count": null,
   "metadata": {},
   "outputs": [],
   "source": []
  },
  {
   "cell_type": "markdown",
   "metadata": {},
   "source": [
    "# 4. Feature map"
   ]
  },
  {
   "cell_type": "code",
   "execution_count": 65,
   "metadata": {
    "scrolled": false
   },
   "outputs": [
    {
     "name": "stdout",
     "output_type": "stream",
     "text": [
      "\n",
      "pre_layer\n",
      "pre_layer.0\n",
      "pre_layer.1\n",
      "pre_layer.2\n",
      "residual_layer\n",
      "residual_layer.0\n",
      "residual_layer.0.residualblock\n",
      "residual_layer.0.residualblock.0\n",
      "residual_layer.0.residualblock.1\n",
      "residual_layer.0.residualblock.2\n",
      "residual_layer.0.residualblock.3\n",
      "residual_layer.0.residualblock.4\n",
      "residual_layer.0.residualblock.5\n",
      "residual_layer.0.residualblock.6\n",
      "residual_layer.0.residualblock.7\n",
      "residual_layer.1\n",
      "residual_layer.1.residualblock\n",
      "residual_layer.1.residualblock.0\n",
      "residual_layer.1.residualblock.1\n",
      "residual_layer.1.residualblock.2\n",
      "residual_layer.1.residualblock.3\n",
      "residual_layer.1.residualblock.4\n",
      "residual_layer.1.residualblock.5\n",
      "residual_layer.1.residualblock.6\n",
      "residual_layer.1.residualblock.7\n",
      "residual_layer.2\n",
      "residual_layer.2.residualblock\n",
      "residual_layer.2.residualblock.0\n",
      "residual_layer.2.residualblock.1\n",
      "residual_layer.2.residualblock.2\n",
      "residual_layer.2.residualblock.3\n",
      "residual_layer.2.residualblock.4\n",
      "residual_layer.2.residualblock.5\n",
      "residual_layer.2.residualblock.6\n",
      "residual_layer.2.residualblock.7\n",
      "mask_layer\n",
      "mask_layer.0\n",
      "mask_layer.0.maskblock\n",
      "mask_layer.0.maskblock.0\n",
      "mask_layer.0.maskblock.1\n",
      "mask_layer.0.maskblock.2\n",
      "pool_layer\n",
      "pool_layer.0\n",
      "fc_layer\n",
      "fc_layer.0\n",
      "fc_layer.1\n",
      "avgpool\n"
     ]
    }
   ],
   "source": [
    "# 定义钩子函数，获取指定层名称的特征\n",
    "feature_activation = {} # 保存获取的输出\n",
    "def get_activation(name):\n",
    "    def hook(model, input, output):\n",
    "        feature_activation[name] = output.detach()\n",
    "    return hook\n",
    "\n",
    "for name, layer in model.named_modules():\n",
    "    layer.register_forward_hook(get_activation(name))\n",
    "    print(name)"
   ]
  },
  {
   "cell_type": "code",
   "execution_count": 78,
   "metadata": {},
   "outputs": [
    {
     "name": "stdout",
     "output_type": "stream",
     "text": [
      "y is 0 ; pre is 0 => True\n"
     ]
    }
   ],
   "source": [
    "i = 1000\n",
    "img = train_data[i][0].permute(1,2,0).numpy()\n",
    "label = train_data[i][1]\n",
    "input_tensor = train_data[i][0].unsqueeze(0).to(device)\n",
    "output = model(input_tensor)\n",
    "y = output.argmax(1).cpu().item()\n",
    "print(\"y is\",y , \"; pre is\", label.item(), \"=>\",y==label.item())"
   ]
  },
  {
   "cell_type": "code",
   "execution_count": 79,
   "metadata": {
    "scrolled": true
   },
   "outputs": [],
   "source": [
    "# for name, layer in model.named_modules():\n",
    "#     bn = feature_activation[name].cpu()[0]\n",
    "#     print('max: {:.3f}, min: {:.3f}'.format(torch.amax(bn),torch.amin(bn)))\n",
    "#     if bn.shape[0]==10000:\n",
    "#         bn = bn.reshape(100,100)\n",
    "#         plt.title(name)\n",
    "#         plt.imshow(bn)\n",
    "#         plt.show()"
   ]
  },
  {
   "cell_type": "code",
   "execution_count": 80,
   "metadata": {},
   "outputs": [
    {
     "name": "stdout",
     "output_type": "stream",
     "text": [
      "max: 15.391, min: 0.000\n"
     ]
    },
    {
     "data": {
      "text/plain": [
       "<matplotlib.image.AxesImage at 0x2b8feeb29510>"
      ]
     },
     "execution_count": 80,
     "metadata": {},
     "output_type": "execute_result"
    },
    {
     "data": {
      "image/png": "[encoded data removed]",
      "text/plain": [
       "<Figure size 1440x1440 with 3 Axes>"
      ]
     },
     "metadata": {
      "needs_background": "light"
     },
     "output_type": "display_data"
    }
   ],
   "source": [
    "key = \"mask_layer\"\n",
    "plt.figure(figsize=(20,20))\n",
    "plt.subplot(1,3,1)\n",
    "plt.title(str(y==label)+\", Real: \"+str(label.item()))\n",
    "plt.imshow(img)\n",
    "\n",
    "mask = feature_activation[key].cpu()[0].mean(axis=0)\n",
    "print('max: {:.3f}, min: {:.3f}'.format(torch.amax(mask),torch.amin(mask)))\n",
    "mask = cv2.normalize(mask.numpy(), None, alpha=0,beta=1, norm_type=cv2.NORM_MINMAX)\n",
    "plt.subplot(1,3,2)\n",
    "plt.imshow(mask)\n",
    "\n",
    "plt.subplot(1,3,3)\n",
    "cam = show_cam_on_image(img, mask, True)\n",
    "plt.imshow(cam)"
   ]
  },
  {
   "cell_type": "code",
   "execution_count": 146,
   "metadata": {
    "scrolled": true
   },
   "outputs": [],
   "source": [
    "# num = feature_activation[key].cpu()[0].shape[0]\n",
    "# num = 10\n",
    "# for i in range(num):\n",
    "#     plt.figure(figsize=(10,10))\n",
    "#     plt.subplot(1,3,1)\n",
    "#     plt.title(y==label)\n",
    "#     plt.imshow(img/np.amax(img))\n",
    "    \n",
    "#     bn = feature_activation[key].cpu()[0][i]\n",
    "#     bn = cv2.normalize(bn.numpy(), None, alpha=0,beta=1, norm_type=cv2.NORM_MINMAX)\n",
    "#     plt.subplot(1,3,2)\n",
    "#     plt.title(key)\n",
    "#     plt.imshow(bn)\n",
    "    \n",
    "#     plt.subplot(1,3,3)\n",
    "#     plt.axis(\"off\")\n",
    "#     bn = cv2.merge([bn,bn,bn])\n",
    "#     cam = show_cam_on_image(img, bn)\n",
    "#     plt.imshow(cam)"
   ]
  },
  {
   "cell_type": "code",
   "execution_count": 62,
   "metadata": {
    "scrolled": true
   },
   "outputs": [
    {
     "name": "stdout",
     "output_type": "stream",
     "text": [
      "pre_layer.0  :  torch.Size([1, 64, 100, 100])\n",
      "pre_layer.1  :  torch.Size([1, 64, 100, 100])\n",
      "pre_layer.2  :  torch.Size([1, 64, 100, 100])\n",
      "pre_layer  :  torch.Size([1, 64, 100, 100])\n",
      "residual_layer.0.residualblock.0  :  torch.Size([1, 64, 100, 100])\n",
      "residual_layer.0.residualblock.1  :  torch.Size([1, 64, 100, 100])\n",
      "residual_layer.0.residualblock.2  :  torch.Size([1, 64, 100, 100])\n",
      "residual_layer.0.residualblock.3  :  torch.Size([1, 64, 100, 100])\n",
      "residual_layer.0.residualblock.4  :  torch.Size([1, 64, 100, 100])\n",
      "residual_layer.0.residualblock.5  :  torch.Size([1, 64, 100, 100])\n",
      "residual_layer.0.residualblock.6  :  torch.Size([1, 64, 100, 100])\n",
      "residual_layer.0.residualblock.7  :  torch.Size([1, 64, 100, 100])\n",
      "residual_layer.0.residualblock  :  torch.Size([1, 64, 100, 100])\n",
      "residual_layer.0  :  torch.Size([1, 64, 100, 100])\n",
      "residual_layer.1.residualblock.0  :  torch.Size([1, 64, 100, 100])\n",
      "residual_layer.1.residualblock.1  :  torch.Size([1, 64, 100, 100])\n",
      "residual_layer.1.residualblock.2  :  torch.Size([1, 64, 100, 100])\n",
      "residual_layer.1.residualblock.3  :  torch.Size([1, 64, 100, 100])\n",
      "residual_layer.1.residualblock.4  :  torch.Size([1, 64, 100, 100])\n",
      "residual_layer.1.residualblock.5  :  torch.Size([1, 64, 100, 100])\n",
      "residual_layer.1.residualblock.6  :  torch.Size([1, 64, 100, 100])\n",
      "residual_layer.1.residualblock.7  :  torch.Size([1, 64, 100, 100])\n",
      "residual_layer.1.residualblock  :  torch.Size([1, 64, 100, 100])\n",
      "residual_layer.1  :  torch.Size([1, 64, 100, 100])\n",
      "residual_layer.2.residualblock.0  :  torch.Size([1, 64, 100, 100])\n",
      "residual_layer.2.residualblock.1  :  torch.Size([1, 64, 100, 100])\n",
      "residual_layer.2.residualblock.2  :  torch.Size([1, 64, 100, 100])\n",
      "residual_layer.2.residualblock.3  :  torch.Size([1, 64, 100, 100])\n",
      "residual_layer.2.residualblock.4  :  torch.Size([1, 64, 100, 100])\n",
      "residual_layer.2.residualblock.5  :  torch.Size([1, 64, 100, 100])\n",
      "residual_layer.2.residualblock.6  :  torch.Size([1, 64, 100, 100])\n",
      "residual_layer.2.residualblock.7  :  torch.Size([1, 64, 100, 100])\n",
      "residual_layer.2.residualblock  :  torch.Size([1, 64, 100, 100])\n",
      "residual_layer.2  :  torch.Size([1, 64, 100, 100])\n",
      "residual_layer  :  torch.Size([1, 64, 100, 100])\n",
      "mask_layer.0.maskblock.0  :  torch.Size([1, 3, 100, 100])\n",
      "mask_layer.0.maskblock.1  :  torch.Size([1, 3, 100, 100])\n",
      "mask_layer.0.maskblock.2  :  torch.Size([1, 3, 100, 100])\n",
      "mask_layer.0.maskblock  :  torch.Size([1, 3, 100, 100])\n",
      "mask_layer.0  :  torch.Size([1, 3, 100, 100])\n",
      "mask_layer  :  torch.Size([1, 3, 100, 100])\n",
      "pool_layer.0  :  torch.Size([1, 3, 10, 10])\n",
      "pool_layer  :  torch.Size([1, 3, 10, 10])\n",
      "fc_layer.0  :  torch.Size([1, 300])\n",
      "fc_layer.1  :  torch.Size([1, 2])\n",
      "fc_layer  :  torch.Size([1, 2])\n",
      "  :  torch.Size([1, 2])\n"
     ]
    }
   ],
   "source": [
    "for key in feature_activation:\n",
    "    bn = feature_activation[key].cpu()\n",
    "    print(key,\" : \",bn.shape)"
   ]
  },
  {
   "cell_type": "markdown",
   "metadata": {},
   "source": [
    "# 5. GradCAM"
   ]
  },
  {
   "cell_type": "code",
   "execution_count": 128,
   "metadata": {},
   "outputs": [],
   "source": [
    "from pytorch_grad_cam import GradCAM, ScoreCAM, GradCAMPlusPlus, AblationCAM, XGradCAM, EigenCAM, FullGrad\n",
    "from pytorch_grad_cam.guided_backprop import GuidedBackpropReLUModel\n",
    "from pytorch_grad_cam.utils.model_targets import ClassifierOutputTarget\n",
    "from pytorch_grad_cam.utils.image import show_cam_on_image,deprocess_image,preprocess_image\n",
    "\n",
    "def gradcams(model,input_tensor,target_layers,imgpad,optioncam):\n",
    "    # GradCAM, ScoreCAM, GradCAMPlusPlus, AblationCAM, XGradCAM, EigenCAM, FullGrad\n",
    "    if optioncam==\"GradCAM\":\n",
    "        cam = GradCAM(model=model, target_layers=target_layers, use_cuda=True)\n",
    "    elif optioncam==\"ScoreCAM\":\n",
    "        cam = ScoreCAM(model=model, target_layers=target_layers, use_cuda=True)\n",
    "    elif optioncam==\"GradCAMPlusPlus\":\n",
    "        cam = GradCAMPlusPlus(model=model, target_layers=target_layers, use_cuda=True)\n",
    "    elif optioncam==\"AblationCAM\":\n",
    "        cam = AblationCAM(model=model, target_layers=target_layers, use_cuda=True)\n",
    "    elif optioncam==\"XGradCAM\":\n",
    "        cam = XGradCAM(model=model, target_layers=target_layers, use_cuda=True)\n",
    "    elif optioncam==\"EigenCAM\":\n",
    "        cam = EigenCAM(model=model, target_layers=target_layers, use_cuda=True)\n",
    "    elif optioncam==\"FullGrad\":\n",
    "        cam = FullGrad(model=model, target_layers=target_layers, use_cuda=True)\n",
    "    else:\n",
    "        return print(\"your option is not support\")\n",
    "    # Note: input_tensor can be a batch tensor with several images!\n",
    "    # If None, returns the map for the highest scoring category. \n",
    "    # Otherwise, targets the requested index. target_index = 1\n",
    "    targets = None\n",
    "    # You can also pass aug_smooth=True and eigen_smooth=True, to apply smoothing.\n",
    "#     grayscale_cam = cam(input_tensor=input_tensor,targets=targets,aug_smooth=True,eigen_smooth=True)\n",
    "    grayscale_cam = cam(input_tensor, targets)[0]\n",
    "    # In this example grayscale_cam has only one image in the batch:\n",
    "    visualization = show_cam_on_image(imgpad, grayscale_cam, use_rgb=True)\n",
    "    \n",
    "    # Guided-GradCAM\n",
    "    gb_model = GuidedBackpropReLUModel(model=model, use_cuda=True)\n",
    "    gb = gb_model(input_tensor, targets)\n",
    "#     if np.amax(gb)!=0:\n",
    "#         gb = np.maximum(gb,0)*(1/np.amax(gb))\n",
    "    cam_mask = cv2.merge([grayscale_cam, grayscale_cam, grayscale_cam])\n",
    "    cam_gb = cam_mask * gb\n",
    "    \n",
    "    return visualization,gb,cam_gb,cam_mask"
   ]
  },
  {
   "cell_type": "code",
   "execution_count": 203,
   "metadata": {},
   "outputs": [
    {
     "name": "stdout",
     "output_type": "stream",
     "text": [
      "tensor(True)\n"
     ]
    },
    {
     "data": {
      "text/plain": [
       "<matplotlib.image.AxesImage at 0x2ac4f2099c90>"
      ]
     },
     "execution_count": 203,
     "metadata": {},
     "output_type": "execute_result"
    },
    {
     "data": {
      "image/png": "[encoded data removed]",
      "text/plain": [
       "<Figure size 1440x1440 with 4 Axes>"
      ]
     },
     "metadata": {
      "needs_background": "light"
     },
     "output_type": "display_data"
    }
   ],
   "source": [
    "target_layers = [model.last_layer[0]]\n",
    "# cam's option: GradCAM, GradCAMPlusPlus, AblationCAM, XGradCAM, EigenCAM, ScoreCAM, FullGrad\n",
    "optioncam = \"GradCAM\"\n",
    "visualization,gb,cam_gb,cam = gradcams(model,input_tensor,target_layers,img,optioncam)\n",
    "print(y==label)\n",
    "plt.figure(figsize=(20,20))\n",
    "plt.subplot(1,4,1)\n",
    "plt.imshow(cam)\n",
    "plt.subplot(1,4,2)\n",
    "plt.imshow(visualization)\n",
    "plt.subplot(1,4,3)\n",
    "plt.imshow(gb)\n",
    "plt.subplot(1,4,4)\n",
    "plt.imshow(cam_gb)"
   ]
  },
  {
   "cell_type": "code",
   "execution_count": null,
   "metadata": {},
   "outputs": [],
   "source": []
  },
  {
   "cell_type": "code",
   "execution_count": null,
   "metadata": {},
   "outputs": [],
   "source": []
  },
  {
   "cell_type": "code",
   "execution_count": null,
   "metadata": {},
   "outputs": [],
   "source": []
  },
  {
   "cell_type": "code",
   "execution_count": null,
   "metadata": {},
   "outputs": [],
   "source": []
  },
  {
   "cell_type": "markdown",
   "metadata": {},
   "source": [
    "# 99. save model"
   ]
  },
  {
   "cell_type": "code",
   "execution_count": 85,
   "metadata": {},
   "outputs": [],
   "source": [
    "for param in model.parameters():\n",
    "    param.requires_grad = True\n",
    "torch.save(model.state_dict(),\"maskNet_FCN.pkl\")"
   ]
  },
  {
   "cell_type": "code",
   "execution_count": null,
   "metadata": {},
   "outputs": [],
   "source": []
  }
 ],
 "metadata": {
  "accelerator": "GPU",
  "colab": {
   "collapsed_sections": [],
   "name": "KIMIA_CNN.ipynb",
   "provenance": []
  },
  "kernelspec": {
   "display_name": "Python 3 (ipykernel)",
   "language": "python",
   "name": "python3"
  },
  "language_info": {
   "codemirror_mode": {
    "name": "ipython",
    "version": 3
   },
   "file_extension": ".py",
   "mimetype": "text/x-python",
   "name": "python",
   "nbconvert_exporter": "python",
   "pygments_lexer": "ipython3",
   "version": "3.7.13"
  },
  "toc": {
   "base_numbering": 1,
   "nav_menu": {},
   "number_sections": true,
   "sideBar": true,
   "skip_h1_title": false,
   "title_cell": "Table of Contents",
   "title_sidebar": "Contents",
   "toc_cell": false,
   "toc_position": {},
   "toc_section_display": true,
   "toc_window_display": false
  }
 },
 "nbformat": 4,
 "nbformat_minor": 1
}
